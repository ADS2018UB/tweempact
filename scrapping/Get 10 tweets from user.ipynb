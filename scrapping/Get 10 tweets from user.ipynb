{
 "cells": [
  {
   "cell_type": "code",
   "execution_count": 24,
   "metadata": {
    "collapsed": true
   },
   "outputs": [],
   "source": [
    "import json\n",
    "import pymongo\n",
    "import tweepy\n",
    "\n",
    "with open('consumer_key.txt', 'r') as f:\n",
    "    consumer_key =  f.read()\n",
    "f.closed\n",
    "\n",
    "with open('consumer_secret.txt', 'r') as f:\n",
    "    consumer_secret = f.read()\n",
    "f.closed\n",
    "\n",
    "with open('access_key.txt', 'r') as f:\n",
    "    access_key = f.read()\n",
    "f.closed\n",
    "\n",
    "with open('access_secret.txt', 'r') as f:\n",
    "     access_secret = f.read()\n",
    "f.closed\n",
    "\n",
    "# Authentication\n",
    "auth = tweepy.OAuthHandler(consumer_key[:-1], consumer_secret[:-1])\n",
    "auth.set_access_token(access_key[:-1], access_secret[:-1])\n",
    "api = tweepy.API(auth)"
   ]
  },
  {
   "cell_type": "code",
   "execution_count": 25,
   "metadata": {},
   "outputs": [
    {
     "name": "stdout",
     "output_type": "stream",
     "text": [
      "1\n",
      "10\n"
     ]
    }
   ],
   "source": [
    "def get_10tweets(username):\n",
    "    \n",
    "    tweets_10 = []\n",
    "    count = 10\n",
    "    \n",
    "    while len(tweets_10) < 10:\n",
    "        \n",
    "        try:\n",
    "            tweets = api.user_timeline(screen_name=username, count=count)\n",
    "        except tweepy.TweepError:\n",
    "            return 0, tweets_10\n",
    "        \n",
    "        for tweet in tweets:\n",
    "            doc = tweet._json\n",
    "            doc['id'] = str(doc['id'])\n",
    "            \n",
    "            if doc not in tweets_10 and not doc['text'].startswith('RT '):\n",
    "                tweets_10.append(doc)\n",
    "            else:\n",
    "                count += 1\n",
    "            \n",
    "            if len(tweets_10) == 10:\n",
    "                break\n",
    "        \n",
    "    return 1, tweets_10\n",
    "    \n",
    "status, tweets = get_10tweets('nurietta_17')\n",
    "\n",
    "print(status)\n",
    "print(len(tweets))"
   ]
  },
  {
   "cell_type": "code",
   "execution_count": null,
   "metadata": {
    "collapsed": true
   },
   "outputs": [],
   "source": []
  }
 ],
 "metadata": {
  "kernelspec": {
   "display_name": "Python 3",
   "language": "python",
   "name": "python3"
  },
  "language_info": {
   "codemirror_mode": {
    "name": "ipython",
    "version": 3
   },
   "file_extension": ".py",
   "mimetype": "text/x-python",
   "name": "python",
   "nbconvert_exporter": "python",
   "pygments_lexer": "ipython3",
   "version": "3.6.3"
  }
 },
 "nbformat": 4,
 "nbformat_minor": 2
}
