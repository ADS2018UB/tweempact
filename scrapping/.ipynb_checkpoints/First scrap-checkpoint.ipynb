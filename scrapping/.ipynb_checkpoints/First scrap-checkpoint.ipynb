{
 "cells": [
  {
   "cell_type": "code",
   "execution_count": 1,
   "metadata": {
    "collapsed": true
   },
   "outputs": [],
   "source": [
    "import json\n",
    "import pymongo\n",
    "import tweepy\n",
    "\n",
    "with open('consumer_key.txt', 'r') as f:\n",
    "    consumer_key =  f.read()\n",
    "f.closed\n",
    "\n",
    "with open('consumer_secret.txt', 'r') as f:\n",
    "    consumer_secret = f.read()\n",
    "f.closed\n",
    "\n",
    "with open('access_key.txt', 'r') as f:\n",
    "    access_key = f.read()\n",
    "f.closed\n",
    "\n",
    "with open('access_secret.txt', 'r') as f:\n",
    "     access_secret = f.read()\n",
    "f.closed\n",
    "\n",
    "# Authentication\n",
    "auth = tweepy.OAuthHandler(consumer_key[:-1], consumer_secret[:-1])\n",
    "auth.set_access_token(access_key[:-1], access_secret[:-1])\n",
    "api = tweepy.API(auth)"
   ]
  },
  {
   "cell_type": "code",
   "execution_count": 2,
   "metadata": {},
   "outputs": [
    {
     "name": "stdout",
     "output_type": "stream",
     "text": [
      "VALAR MORGHULIS\n"
     ]
    }
   ],
   "source": [
    "# Test access\n",
    "\n",
    "USER_NAME = \"nurietta_17\"\n",
    "user = api.get_user(id=USER_NAME)\n",
    "print (user.description)"
   ]
  },
  {
   "cell_type": "code",
   "execution_count": 49,
   "metadata": {},
   "outputs": [
    {
     "name": "stdout",
     "output_type": "stream",
     "text": [
      "Connected successfully!!!\n"
     ]
    }
   ],
   "source": [
    "# Connect with mongodb\n",
    "\n",
    "try:\n",
    "    with open(\"credentials.txt\", 'r', encoding='utf-8') as f:\n",
    "        [name,password,url,dbname]=f.read().splitlines()\n",
    "        conn=pymongo.MongoClient(\"mongodb://{}:{}@{}/{}\".format(name,password,url,dbname))\n",
    "    print (\"Connected successfully!!!\")\n",
    "except pymongo.errors.ConnectionFailure as e:\n",
    "    print (\"Could not connect to MongoDB: %s\" % e) \n",
    "    \n",
    "\n",
    "    \n",
    "db = conn['tweempact']\n",
    "collection = db['tweets']"
   ]
  },
  {
   "cell_type": "code",
   "execution_count": 43,
   "metadata": {},
   "outputs": [
    {
     "name": "stdout",
     "output_type": "stream",
     "text": [
      "100\n",
      "100\n"
     ]
    }
   ],
   "source": [
    "# Find 100 actual tweets located in Spain to store its user in mlab\n",
    "\n",
    "collection = db['tweet_users']\n",
    "    \n",
    "search_results =api.search(q='*', geocode='39.3262345,-4.8380649,750km', count=100, lang='es')\n",
    "\n",
    "json_users = []\n",
    "print(len(search_results))\n",
    "for i in search_results:\n",
    "    document = i._json\n",
    "    collection.insert_one(document)\n",
    "    document['_id'] = str(document['_id'])\n",
    "    json_users.append(document)\n",
    "    \n",
    "print(len(json_users))"
   ]
  },
  {
   "cell_type": "code",
   "execution_count": 27,
   "metadata": {},
   "outputs": [
    {
     "name": "stdout",
     "output_type": "stream",
     "text": [
      "289\n"
     ]
    }
   ],
   "source": [
    "\n",
    "new_users = new_users + json_users\n",
    "print(len(new_users))"
   ]
  },
  {
   "cell_type": "code",
   "execution_count": 27,
   "metadata": {},
   "outputs": [
    {
     "name": "stdout",
     "output_type": "stream",
     "text": [
      "<pymongo.cursor.Cursor object at 0x7f4e25bc5d68>\n"
     ]
    }
   ],
   "source": [
    "# Get all the tweets stored in the collection \"tweet_users\" in mlab\n",
    "\n",
    "cursor = collection.find()\n",
    "print(cursor)\n",
    "\n",
    "# Obtain json \n",
    "json_docs = []\n",
    "for doc in cursor:\n",
    "    doc['_id'] = str(doc['_id'])\n",
    "    json_docs.append(doc)"
   ]
  },
  {
   "cell_type": "code",
   "execution_count": 28,
   "metadata": {},
   "outputs": [
    {
     "name": "stdout",
     "output_type": "stream",
     "text": [
      "[\n",
      "    {\n",
      "        \"_id\":\"5bd4a79db4c0e32bc7f902b1\",\n",
      "        \"contributors\":null,\n",
      "        \"coordinates\":null,\n",
      "        \"created_at\":\"Sat Oct 27 17:59:42 +0000 2018\",\n",
      "        \"entities\":{\n",
      "            \"hashtags\":[],\n",
      "            \"symbols\":[],\n",
      "            \"urls\":[],\n",
      "            \"user_mentions\":[\n",
      "                {\n",
      "                    \"id\":1031950877387620358,\n",
      "                    \"id_str\":\"1031950877387620358\",\n",
      "                    \"indices\":[\n",
      "                        0,\n",
      "                        11\n",
      "                    ],\n",
      "                    \"name\":\"spooky yume\\ud83d\\udd77\",\n",
      "                    \"screen_name\":\"__yumecchi\"\n",
      "                }\n",
      "            ]\n",
      "        },\n",
      "        \"favorite_count\":0,\n",
      "        \"favorited\":false,\n",
      "        \"geo\":null,\n",
      "        \"id\":1056244057838641152,\n",
      "        \"id_str\":\"1056244057838641152\",\n",
      "        \"in_reply_to_screen_name\":\"__yumecchi\",\n",
      "        \"in_reply_to_status_id\":1056234978965626881,\n",
      "        \"in_reply_to_status_id_str\":\"1056234978965626881\",\n",
      "        \"in_reply_to_user_id\":1031950877387620358,\n",
      "        \"in_reply_to_user_id_str\":\"1031950877387620358\",\n",
      "        \"is_quote_status\":false,\n",
      "        \"lang\":\"es\",\n",
      "        \"metadata\":{\n",
      "            \"iso_language_code\":\"es\",\n",
      "            \"result_type\":\"recent\"\n",
      "        },\n",
      "        \"place\":null,\n",
      "        \"retweet_count\":0,\n",
      "        \"retweeted\":false,\n",
      "        \"source\":\"<a href=\\\"http://twitter.com\\\" rel=\\\"nofollow\\\">Twitter Web Client</a>\",\n",
      "        \"text\":\"@__yumecchi si q morbo\",\n",
      "        \"truncated\":false,\n",
      "        \"user\":{\n",
      "            \"contributors_enabled\":false,\n",
      "            \"created_at\":\"Tue Oct 28 16:21:57 +0000 2014\",\n",
      "            \"default_profile\":false,\n",
      "            \"default_profile_image\":false,\n",
      "            \"description\":\"\\u26a7 \\ud835\\udd24\\ud835\\udd2c\\ud835\\udd2c\\ud835\\udd21 \\ud835\\udd23\\ud835\\udd2c\\ud835\\udd2f \\ud835\\udd36\\ud835\\udd2c\\ud835\\udd32 \\u02d7\\u02cf\\u02cb @uglygothwannabe \\u02ce\\u02ca\\u02d7 \\ud83d\\udce8: dantedelosheros@gmail.com \\u3164\\u3164\",\n",
      "            \"entities\":{\n",
      "                \"description\":{\n",
      "                    \"urls\":[]\n",
      "                },\n",
      "                \"url\":{\n",
      "                    \"urls\":[\n",
      "                        {\n",
      "                            \"display_url\":\"listography.com/htgaywm\",\n",
      "                            \"expanded_url\":\"http://listography.com/htgaywm\",\n",
      "                            \"indices\":[\n",
      "                                0,\n",
      "                                23\n",
      "                            ],\n",
      "                            \"url\":\"https://t.co/QneVjDdjrv\"\n",
      "                        }\n",
      "                    ]\n",
      "                }\n",
      "            },\n",
      "            \"favourites_count\":30971,\n",
      "            \"follow_request_sent\":false,\n",
      "            \"followers_count\":369,\n",
      "            \"following\":false,\n",
      "            \"friends_count\":147,\n",
      "            \"geo_enabled\":false,\n",
      "            \"has_extended_profile\":true,\n",
      "            \"id\":2848383333,\n",
      "            \"id_str\":\"2848383333\",\n",
      "            \"is_translation_enabled\":false,\n",
      "            \"is_translator\":false,\n",
      "            \"lang\":\"es\",\n",
      "            \"listed_count\":11,\n",
      "            \"location\":\"Granada, Espa\\u00f1a\",\n",
      "            \"name\":\"dante\",\n",
      "            \"notifications\":false,\n",
      "            \"profile_background_color\":\"FFFFFF\",\n",
      "            \"profile_background_image_url\":\"http://abs.twimg.com/images/themes/theme1/bg.png\",\n",
      "            \"profile_background_image_url_https\":\"https://abs.twimg.com/images/themes/theme1/bg.png\",\n",
      "            \"profile_background_tile\":true,\n",
      "            \"profile_banner_url\":\"https://pbs.twimg.com/profile_banners/2848383333/1538994569\",\n",
      "            \"profile_image_url\":\"http://pbs.twimg.com/profile_images/1049245284495179776/Wvb4-JsG_normal.jpg\",\n",
      "            \"profile_image_url_https\":\"https://pbs.twimg.com/profile_images/1049245284495179776/Wvb4-JsG_normal.jpg\",\n",
      "            \"profile_link_color\":\"9E8FA5\",\n",
      "            \"profile_sidebar_border_color\":\"000000\",\n",
      "            \"profile_sidebar_fill_color\":\"000000\",\n",
      "            \"profile_text_color\":\"000000\",\n",
      "            \"profile_use_background_image\":true,\n",
      "            \"protected\":false,\n",
      "            \"screen_name\":\"deadzino\",\n",
      "            \"statuses_count\":24534,\n",
      "            \"time_zone\":null,\n",
      "            \"translator_type\":\"regular\",\n",
      "            \"url\":\"https://t.co/QneVjDdjrv\",\n",
      "            \"utc_offset\":null,\n",
      "            \"verified\":false\n",
      "        }\n",
      "    }\n",
      "]\n"
     ]
    }
   ],
   "source": [
    "# Data format (uploaded to mlab in \"tweet_users\" collection)\n",
    "\n",
    "print(json.dumps([json_docs[0]], sort_keys=True, indent=4, separators=(',',':')))"
   ]
  },
  {
   "cell_type": "code",
   "execution_count": 45,
   "metadata": {
    "collapsed": true
   },
   "outputs": [],
   "source": [
    "# Get all the usernames\n",
    "\n",
    "user_names = []\n",
    "\n",
    "for doc in json_users:\n",
    "    user_names.append(doc['user']['screen_name'])"
   ]
  },
  {
   "cell_type": "code",
   "execution_count": 46,
   "metadata": {},
   "outputs": [
    {
     "name": "stdout",
     "output_type": "stream",
     "text": [
      "100\n"
     ]
    }
   ],
   "source": [
    "print(len(user_names))"
   ]
  },
  {
   "cell_type": "code",
   "execution_count": 30,
   "metadata": {},
   "outputs": [
    {
     "name": "stdout",
     "output_type": "stream",
     "text": [
      "278\n"
     ]
    }
   ],
   "source": [
    "# Number of unique users found\n",
    "\n",
    "import numpy as np\n",
    "\n",
    "user_names = set(user_names)\n",
    "print(len(user_names))"
   ]
  },
  {
   "cell_type": "code",
   "execution_count": 47,
   "metadata": {
    "scrolled": true
   },
   "outputs": [
    {
     "name": "stdout",
     "output_type": "stream",
     "text": [
      "antpogar\n",
      "DarylMaldonado\n",
      "menesess_pau\n",
      "Ura2019\n",
      "commiesans\n",
      "Yerbaalawita\n",
      "Kaytxar\n",
      "I3Aunizar\n",
      "GracielaLpez5\n",
      "Nurya1952\n",
      "Angelmg90\n",
      "_asgxv\n",
      "AlvatrosPubli\n",
      "thefromthetree\n",
      "irinaa_ce\n",
      "AlfredoRstrepo\n",
      "annasazzle\n",
      "EfectoCognitivo\n",
      "morbologo75\n",
      "igsan_madr\n",
      "gabinavarros\n",
      "cmnoya60\n",
      "gp_victor89\n",
      "salvaglnet\n",
      "Mildred12279353\n",
      "ElChikitoGH\n",
      "MonWoW_\n",
      "FerreroEU\n",
      "ciudadanodmund\n",
      "angelapeke16\n",
      "minnervaa\n",
      "chag_hai\n",
      "LeiretxoP\n",
      "firecrackerx\n",
      "AnaJorgegon\n",
      "Jusesantos28\n",
      "RotaDatos\n",
      "victordejotamar\n",
      "Postematico\n",
      "JaraTirado\n",
      "cristinetavg\n",
      "Nutriguia\n",
      "Victor_Corso\n",
      "CarolinaSarrion\n",
      "luciagarcia02\n",
      "aragonradio\n",
      "juanflm\n",
      "AjXirivella\n",
      "inmaCR\n",
      "AngelLargo1970\n",
      "Bea_sotelo\n",
      "ShadowsNessa\n",
      "Infinito81\n",
      "DiscosRuidosos\n",
      "pato_albert\n",
      "mercedesslopez8\n",
      "pipio44\n",
      "vmezadelc\n",
      "KateAusten5\n",
      "Egarcamp111\n",
      "InboxPublicitat\n",
      "esguilu\n",
      "SoniaGonzlezSa2\n",
      "anndrxa_\n",
      "angusticlavio\n",
      "elvictorjuan\n",
      "COMENTANDOGHVI2\n",
      "Salem_Lombardi\n",
      "liberal_mirada\n",
      "anaisleali\n",
      "LaNaveMadrid\n",
      "negociosyempren\n",
      "Themeele\n",
      "jpa1968fr\n",
      "jaimitollamas\n",
      "EJASOabogados\n",
      "AEHCOS\n",
      "firelovesrain\n",
      "JoseLui24493852\n",
      "cafes_eguia\n",
      "ElChikitoGH\n",
      "SenorSherry\n",
      "JAMonzon\n",
      "GigioGFX\n",
      "TCATCMAH\n",
      "Irekofitness\n",
      "vamp_rook\n",
      "nocuenhistorias\n",
      "KKanibal_\n",
      "monisotoc_\n",
      "farafiuu\n",
      "SraFloripondia\n",
      "dansanphoto\n",
      "Varvara_98\n",
      "UtreraPodemos\n",
      "Egarcamp111\n",
      "Carlos_BF_\n",
      "oneliaso\n",
      "democraticwines\n",
      "giselaro55\n"
     ]
    }
   ],
   "source": [
    "# Get 25 tweets of each user until 30th of September of 2018\n",
    "\n",
    "import time\n",
    "\n",
    "#MAX_ID = 1046439836939415562 # 30 of September\n",
    "MAX_ID = 1055786926802898945 # 26 of October\n",
    "\n",
    "all_tweets = []\n",
    "\n",
    "for user in user_names:\n",
    "    \n",
    "    try:\n",
    "        new_tweets = api.user_timeline(screen_name=user, count=25, max_id = MAX_ID)\n",
    "        \n",
    "    except tweepy.RateLimitError:\n",
    "        print('Rate limit error with user: %s' % user)\n",
    "        time.sleep(120)\n",
    "        continue\n",
    "    \n",
    "    except tweepy.TweepError:\n",
    "        print('Tweep error with user: %s' % user)\n",
    "        time.sleep(60)\n",
    "        continue\n",
    "        \n",
    "    print(user)\n",
    "        \n",
    "    all_tweets.extend(new_tweets)\n",
    "    \n",
    "    time.sleep(60)\n",
    "   "
   ]
  },
  {
   "cell_type": "code",
   "execution_count": 48,
   "metadata": {},
   "outputs": [
    {
     "name": "stdout",
     "output_type": "stream",
     "text": [
      "2353\n"
     ]
    }
   ],
   "source": [
    "# Number of tweets from users located in Spain until 30th of September of 2018\n",
    "\n",
    "print(len(all_tweets))    "
   ]
  },
  {
   "cell_type": "code",
   "execution_count": 33,
   "metadata": {},
   "outputs": [
    {
     "name": "stdout",
     "output_type": "stream",
     "text": [
      "1059964276847337472\n",
      "Wed Nov 07 00:22:31 +0000 2018\n",
      "1059947383663067137\n",
      "Tue Nov 06 23:15:23 +0000 2018\n",
      "1059910388463079424\n",
      "Tue Nov 06 20:48:23 +0000 2018\n",
      "1058155246130749442\n",
      "Fri Nov 02 00:34:04 +0000 2018\n",
      "1057010726768910338\n",
      "Mon Oct 29 20:46:10 +0000 2018\n",
      "1056665912684806144\n",
      "Sun Oct 28 21:56:00 +0000 2018\n",
      "1056665156338495488\n",
      "Sun Oct 28 21:52:59 +0000 2018\n",
      "1056510174675025920\n",
      "Sun Oct 28 11:37:09 +0000 2018\n",
      "1056176058700042240\n",
      "Sat Oct 27 13:29:29 +0000 2018\n",
      "1056175305965166592\n",
      "Sat Oct 27 13:26:30 +0000 2018\n",
      "1055940103296741378\n",
      "Fri Oct 26 21:51:53 +0000 2018\n",
      "1055917265902804992\n",
      "Fri Oct 26 20:21:08 +0000 2018\n",
      "1055916951208366081\n",
      "Fri Oct 26 20:19:53 +0000 2018\n",
      "1055787168700993536\n",
      "Fri Oct 26 11:44:11 +0000 2018\n",
      "1055786926802898945\n",
      "Fri Oct 26 11:43:13 +0000 2018\n",
      "1055105876091158528\n",
      "Wed Oct 24 14:36:58 +0000 2018\n",
      "1055105362272096257\n",
      "Wed Oct 24 14:34:55 +0000 2018\n",
      "1054799457617956865\n",
      "Tue Oct 23 18:19:22 +0000 2018\n",
      "1054306255496531969\n",
      "Mon Oct 22 09:39:34 +0000 2018\n",
      "1054107552743604225\n",
      "Sun Oct 21 20:29:59 +0000 2018\n",
      "1053992725614419968\n",
      "Sun Oct 21 12:53:42 +0000 2018\n",
      "1053644056314736640\n",
      "Sat Oct 20 13:48:13 +0000 2018\n",
      "1053644008260599810\n",
      "Sat Oct 20 13:48:01 +0000 2018\n",
      "1052616735277371392\n",
      "Wed Oct 17 17:46:01 +0000 2018\n",
      "1052096078668029953\n",
      "Tue Oct 16 07:17:06 +0000 2018\n",
      "1051878715523764227\n",
      "Mon Oct 15 16:53:23 +0000 2018\n",
      "1051487626757324802\n",
      "Sun Oct 14 14:59:20 +0000 2018\n",
      "1051470851944697856\n",
      "Sun Oct 14 13:52:41 +0000 2018\n",
      "1051144290045440000\n",
      "Sat Oct 13 16:15:02 +0000 2018\n",
      "1051135861465722880\n",
      "Sat Oct 13 15:41:33 +0000 2018\n"
     ]
    }
   ],
   "source": [
    "# Get tweet id from a known date\n",
    "\n",
    "n = api.user_timeline(screen_name='nachomartin83', count=30)\n",
    "for tweet in n:\n",
    "    print(tweet._json['id'])\n",
    "    print(tweet._json['created_at'])"
   ]
  },
  {
   "cell_type": "code",
   "execution_count": 50,
   "metadata": {},
   "outputs": [],
   "source": [
    "# Store all tweets found in mlab \"tweets\" collection\n",
    "\n",
    "collection = db['tweets']\n",
    "\n",
    "#all_tweets = all_tweets[3000:]\n",
    "\n",
    "for tweet in all_tweets:\n",
    "    collection.insert_one(tweet._json)"
   ]
  },
  {
   "cell_type": "code",
   "execution_count": null,
   "metadata": {
    "collapsed": true
   },
   "outputs": [],
   "source": []
  }
 ],
 "metadata": {
  "kernelspec": {
   "display_name": "Python 3",
   "language": "python",
   "name": "python3"
  },
  "language_info": {
   "codemirror_mode": {
    "name": "ipython",
    "version": 3
   },
   "file_extension": ".py",
   "mimetype": "text/x-python",
   "name": "python",
   "nbconvert_exporter": "python",
   "pygments_lexer": "ipython3",
   "version": "3.6.3"
  }
 },
 "nbformat": 4,
 "nbformat_minor": 2
}
