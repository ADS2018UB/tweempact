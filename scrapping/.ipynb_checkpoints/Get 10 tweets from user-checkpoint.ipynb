{
 "cells": [
  {
   "cell_type": "code",
<<<<<<< HEAD
   "execution_count": 2,
   "metadata": {
    "collapsed": true
   },
=======
   "execution_count": 58,
   "metadata": {},
>>>>>>> 84090a0b05a6563514e908b0baf12e268f23ec5a
   "outputs": [],
   "source": [
    "import json\n",
    "import pymongo\n",
    "import tweepy\n",
    "\n",
    "with open('consumer_key.txt', 'r') as f:\n",
    "    consumer_key =  f.read()\n",
    "f.closed\n",
    "\n",
    "with open('consumer_secret.txt', 'r') as f:\n",
    "    consumer_secret = f.read()\n",
    "f.closed\n",
    "\n",
    "with open('access_key.txt', 'r') as f:\n",
    "    access_key = f.read()\n",
    "f.closed\n",
    "\n",
    "with open('access_secret.txt', 'r') as f:\n",
    "     access_secret = f.read()\n",
    "f.closed\n",
    "\n",
    "# Authentication\n",
    "auth = tweepy.OAuthHandler(consumer_key[:-1], consumer_secret[:-1])\n",
    "auth.set_access_token(access_key[:-1], access_secret[:-1])\n",
    "api = tweepy.API(auth)"
   ]
  },
  {
   "cell_type": "code",
<<<<<<< HEAD
   "execution_count": 3,
   "metadata": {},
   "outputs": [
    {
     "name": "stdout",
     "output_type": "stream",
     "text": [
      "1\n",
      "[{'created_at': 'Sun Oct 07 12:52:56 +0000 2018', 'id': '1048919100423118848', 'id_str': '1048919100423118848', 'text': '@BasquetManresa @Penya1930 Inacceptable la decisió arbitral en aquesta jugada... Que això és ACB...', 'truncated': False, 'entities': {'hashtags': [], 'symbols': [], 'user_mentions': [{'screen_name': 'BasquetManresa', 'name': 'BAXI Manresa', 'id': 191111959, 'id_str': '191111959', 'indices': [0, 15]}, {'screen_name': 'Penya1930', 'name': 'Divina Seguros Joventut', 'id': 249090832, 'id_str': '249090832', 'indices': [16, 26]}], 'urls': []}, 'source': '<a href=\"http://twitter.com/download/android\" rel=\"nofollow\">Twitter for Android</a>', 'in_reply_to_status_id': 1048913161632538625, 'in_reply_to_status_id_str': '1048913161632538625', 'in_reply_to_user_id': 191111959, 'in_reply_to_user_id_str': '191111959', 'in_reply_to_screen_name': 'BasquetManresa', 'user': {'id': 715324579, 'id_str': '715324579', 'name': 'Nuria Valls', 'screen_name': 'nurietta_17', 'location': '', 'description': 'VALAR MORGHULIS', 'url': None, 'entities': {'description': {'urls': []}}, 'protected': False, 'followers_count': 38, 'friends_count': 59, 'listed_count': 0, 'created_at': 'Wed Jul 25 02:31:32 +0000 2012', 'favourites_count': 24, 'utc_offset': None, 'time_zone': None, 'geo_enabled': True, 'verified': False, 'statuses_count': 531, 'lang': 'es', 'contributors_enabled': False, 'is_translator': False, 'is_translation_enabled': False, 'profile_background_color': 'B2DFDA', 'profile_background_image_url': 'http://abs.twimg.com/images/themes/theme13/bg.gif', 'profile_background_image_url_https': 'https://abs.twimg.com/images/themes/theme13/bg.gif', 'profile_background_tile': True, 'profile_image_url': 'http://pbs.twimg.com/profile_images/3321183210/d02603880fd76d98c971ac36d8d39bdc_normal.jpeg', 'profile_image_url_https': 'https://pbs.twimg.com/profile_images/3321183210/d02603880fd76d98c971ac36d8d39bdc_normal.jpeg', 'profile_banner_url': 'https://pbs.twimg.com/profile_banners/715324579/1391523665', 'profile_link_color': '93A644', 'profile_sidebar_border_color': 'EEEEEE', 'profile_sidebar_fill_color': 'FFFFFF', 'profile_text_color': '333333', 'profile_use_background_image': True, 'has_extended_profile': False, 'default_profile': False, 'default_profile_image': False, 'following': False, 'follow_request_sent': False, 'notifications': False, 'translator_type': 'none'}, 'geo': None, 'coordinates': None, 'place': {'id': 'c396c282250e2106', 'url': 'https://api.twitter.com/1.1/geo/id/c396c282250e2106.json', 'place_type': 'city', 'name': 'Manresa', 'full_name': 'Manresa, España', 'country_code': 'ES', 'country': 'España', 'contained_within': [], 'bounding_box': {'type': 'Polygon', 'coordinates': [[[1.7695235, 41.6881293], [1.8750019, 41.6881293], [1.8750019, 41.7583308], [1.7695235, 41.7583308]]]}, 'attributes': {}}, 'contributors': None, 'is_quote_status': False, 'retweet_count': 0, 'favorite_count': 1, 'favorited': False, 'retweeted': False, 'lang': 'ca'}, {'created_at': 'Sun Sep 30 16:41:13 +0000 2018', 'id': '1046439836939415562', 'id_str': '1046439836939415562', 'text': 'Testing twitter scrapping 🙊 #BCN', 'truncated': False, 'entities': {'hashtags': [{'text': 'BCN', 'indices': [28, 32]}], 'symbols': [], 'user_mentions': [], 'urls': []}, 'source': '<a href=\"http://twitter.com/download/android\" rel=\"nofollow\">Twitter for Android</a>', 'in_reply_to_status_id': None, 'in_reply_to_status_id_str': None, 'in_reply_to_user_id': None, 'in_reply_to_user_id_str': None, 'in_reply_to_screen_name': None, 'user': {'id': 715324579, 'id_str': '715324579', 'name': 'Nuria Valls', 'screen_name': 'nurietta_17', 'location': '', 'description': 'VALAR MORGHULIS', 'url': None, 'entities': {'description': {'urls': []}}, 'protected': False, 'followers_count': 38, 'friends_count': 59, 'listed_count': 0, 'created_at': 'Wed Jul 25 02:31:32 +0000 2012', 'favourites_count': 24, 'utc_offset': None, 'time_zone': None, 'geo_enabled': True, 'verified': False, 'statuses_count': 531, 'lang': 'es', 'contributors_enabled': False, 'is_translator': False, 'is_translation_enabled': False, 'profile_background_color': 'B2DFDA', 'profile_background_image_url': 'http://abs.twimg.com/images/themes/theme13/bg.gif', 'profile_background_image_url_https': 'https://abs.twimg.com/images/themes/theme13/bg.gif', 'profile_background_tile': True, 'profile_image_url': 'http://pbs.twimg.com/profile_images/3321183210/d02603880fd76d98c971ac36d8d39bdc_normal.jpeg', 'profile_image_url_https': 'https://pbs.twimg.com/profile_images/3321183210/d02603880fd76d98c971ac36d8d39bdc_normal.jpeg', 'profile_banner_url': 'https://pbs.twimg.com/profile_banners/715324579/1391523665', 'profile_link_color': '93A644', 'profile_sidebar_border_color': 'EEEEEE', 'profile_sidebar_fill_color': 'FFFFFF', 'profile_text_color': '333333', 'profile_use_background_image': True, 'has_extended_profile': False, 'default_profile': False, 'default_profile_image': False, 'following': False, 'follow_request_sent': False, 'notifications': False, 'translator_type': 'none'}, 'geo': None, 'coordinates': None, 'place': {'id': 'f3e29c4c744f3625', 'url': 'https://api.twitter.com/1.1/geo/id/f3e29c4c744f3625.json', 'place_type': 'admin', 'name': 'Barcelona', 'full_name': 'Barcelona, Cataluña', 'country_code': 'ES', 'country': 'España', 'contained_within': [], 'bounding_box': {'type': 'Polygon', 'coordinates': [[[1.3606178, 41.1927266], [2.7779504, 41.1927266], [2.7779504, 42.3234491], [1.3606178, 42.3234491]]]}, 'attributes': {}}, 'contributors': None, 'is_quote_status': False, 'retweet_count': 0, 'favorite_count': 2, 'favorited': False, 'retweeted': False, 'lang': 'en'}, {'created_at': 'Sun Sep 30 16:36:07 +0000 2018', 'id': '1046438550655389698', 'id_str': '1046438550655389698', 'text': 'Agile data science is fun :D ! #BCN', 'truncated': False, 'entities': {'hashtags': [{'text': 'BCN', 'indices': [31, 35]}], 'symbols': [], 'user_mentions': [], 'urls': []}, 'source': '<a href=\"http://twitter.com/download/android\" rel=\"nofollow\">Twitter for Android</a>', 'in_reply_to_status_id': None, 'in_reply_to_status_id_str': None, 'in_reply_to_user_id': None, 'in_reply_to_user_id_str': None, 'in_reply_to_screen_name': None, 'user': {'id': 715324579, 'id_str': '715324579', 'name': 'Nuria Valls', 'screen_name': 'nurietta_17', 'location': '', 'description': 'VALAR MORGHULIS', 'url': None, 'entities': {'description': {'urls': []}}, 'protected': False, 'followers_count': 38, 'friends_count': 59, 'listed_count': 0, 'created_at': 'Wed Jul 25 02:31:32 +0000 2012', 'favourites_count': 24, 'utc_offset': None, 'time_zone': None, 'geo_enabled': True, 'verified': False, 'statuses_count': 531, 'lang': 'es', 'contributors_enabled': False, 'is_translator': False, 'is_translation_enabled': False, 'profile_background_color': 'B2DFDA', 'profile_background_image_url': 'http://abs.twimg.com/images/themes/theme13/bg.gif', 'profile_background_image_url_https': 'https://abs.twimg.com/images/themes/theme13/bg.gif', 'profile_background_tile': True, 'profile_image_url': 'http://pbs.twimg.com/profile_images/3321183210/d02603880fd76d98c971ac36d8d39bdc_normal.jpeg', 'profile_image_url_https': 'https://pbs.twimg.com/profile_images/3321183210/d02603880fd76d98c971ac36d8d39bdc_normal.jpeg', 'profile_banner_url': 'https://pbs.twimg.com/profile_banners/715324579/1391523665', 'profile_link_color': '93A644', 'profile_sidebar_border_color': 'EEEEEE', 'profile_sidebar_fill_color': 'FFFFFF', 'profile_text_color': '333333', 'profile_use_background_image': True, 'has_extended_profile': False, 'default_profile': False, 'default_profile_image': False, 'following': False, 'follow_request_sent': False, 'notifications': False, 'translator_type': 'none'}, 'geo': None, 'coordinates': None, 'place': {'id': 'f3e29c4c744f3625', 'url': 'https://api.twitter.com/1.1/geo/id/f3e29c4c744f3625.json', 'place_type': 'admin', 'name': 'Barcelona', 'full_name': 'Barcelona, Cataluña', 'country_code': 'ES', 'country': 'España', 'contained_within': [], 'bounding_box': {'type': 'Polygon', 'coordinates': [[[1.3606178, 41.1927266], [2.7779504, 41.1927266], [2.7779504, 42.3234491], [1.3606178, 42.3234491]]]}, 'attributes': {}}, 'contributors': None, 'is_quote_status': False, 'retweet_count': 0, 'favorite_count': 0, 'favorited': False, 'retweeted': False, 'lang': 'en'}, {'created_at': 'Mon Apr 27 10:00:14 +0000 2015', 'id': '592629318645350400', 'id_str': '592629318645350400', 'text': 'Els fantasmes son amics! :D #postureoprog @elnacabot10 @MrsRendezvous @RuruMarru', 'truncated': False, 'entities': {'hashtags': [{'text': 'postureoprog', 'indices': [28, 41]}], 'symbols': [], 'user_mentions': [{'screen_name': 'RuruMarru', 'name': 'ruru Marru', 'id': 3114437055, 'id_str': '3114437055', 'indices': [70, 80]}], 'urls': []}, 'source': '<a href=\"http://twitter.com/download/android\" rel=\"nofollow\">Twitter for Android</a>', 'in_reply_to_status_id': None, 'in_reply_to_status_id_str': None, 'in_reply_to_user_id': None, 'in_reply_to_user_id_str': None, 'in_reply_to_screen_name': None, 'user': {'id': 715324579, 'id_str': '715324579', 'name': 'Nuria Valls', 'screen_name': 'nurietta_17', 'location': '', 'description': 'VALAR MORGHULIS', 'url': None, 'entities': {'description': {'urls': []}}, 'protected': False, 'followers_count': 38, 'friends_count': 59, 'listed_count': 0, 'created_at': 'Wed Jul 25 02:31:32 +0000 2012', 'favourites_count': 24, 'utc_offset': None, 'time_zone': None, 'geo_enabled': True, 'verified': False, 'statuses_count': 531, 'lang': 'es', 'contributors_enabled': False, 'is_translator': False, 'is_translation_enabled': False, 'profile_background_color': 'B2DFDA', 'profile_background_image_url': 'http://abs.twimg.com/images/themes/theme13/bg.gif', 'profile_background_image_url_https': 'https://abs.twimg.com/images/themes/theme13/bg.gif', 'profile_background_tile': True, 'profile_image_url': 'http://pbs.twimg.com/profile_images/3321183210/d02603880fd76d98c971ac36d8d39bdc_normal.jpeg', 'profile_image_url_https': 'https://pbs.twimg.com/profile_images/3321183210/d02603880fd76d98c971ac36d8d39bdc_normal.jpeg', 'profile_banner_url': 'https://pbs.twimg.com/profile_banners/715324579/1391523665', 'profile_link_color': '93A644', 'profile_sidebar_border_color': 'EEEEEE', 'profile_sidebar_fill_color': 'FFFFFF', 'profile_text_color': '333333', 'profile_use_background_image': True, 'has_extended_profile': False, 'default_profile': False, 'default_profile_image': False, 'following': False, 'follow_request_sent': False, 'notifications': False, 'translator_type': 'none'}, 'geo': None, 'coordinates': None, 'place': None, 'contributors': None, 'is_quote_status': False, 'retweet_count': 0, 'favorite_count': 1, 'favorited': False, 'retweeted': False, 'lang': 'ca'}, {'created_at': 'Thu Mar 26 10:48:20 +0000 2015', 'id': '581045009140563968', 'id_str': '581045009140563968', 'text': '@RuruMarru #ruruswag 👌👌', 'truncated': False, 'entities': {'hashtags': [{'text': 'ruruswag', 'indices': [11, 20]}], 'symbols': [], 'user_mentions': [{'screen_name': 'RuruMarru', 'name': 'ruru Marru', 'id': 3114437055, 'id_str': '3114437055', 'indices': [0, 10]}], 'urls': []}, 'source': '<a href=\"http://twitter.com/download/android\" rel=\"nofollow\">Twitter for Android</a>', 'in_reply_to_status_id': 581044877170982913, 'in_reply_to_status_id_str': '581044877170982913', 'in_reply_to_user_id': 3114437055, 'in_reply_to_user_id_str': '3114437055', 'in_reply_to_screen_name': 'RuruMarru', 'user': {'id': 715324579, 'id_str': '715324579', 'name': 'Nuria Valls', 'screen_name': 'nurietta_17', 'location': '', 'description': 'VALAR MORGHULIS', 'url': None, 'entities': {'description': {'urls': []}}, 'protected': False, 'followers_count': 38, 'friends_count': 59, 'listed_count': 0, 'created_at': 'Wed Jul 25 02:31:32 +0000 2012', 'favourites_count': 24, 'utc_offset': None, 'time_zone': None, 'geo_enabled': True, 'verified': False, 'statuses_count': 531, 'lang': 'es', 'contributors_enabled': False, 'is_translator': False, 'is_translation_enabled': False, 'profile_background_color': 'B2DFDA', 'profile_background_image_url': 'http://abs.twimg.com/images/themes/theme13/bg.gif', 'profile_background_image_url_https': 'https://abs.twimg.com/images/themes/theme13/bg.gif', 'profile_background_tile': True, 'profile_image_url': 'http://pbs.twimg.com/profile_images/3321183210/d02603880fd76d98c971ac36d8d39bdc_normal.jpeg', 'profile_image_url_https': 'https://pbs.twimg.com/profile_images/3321183210/d02603880fd76d98c971ac36d8d39bdc_normal.jpeg', 'profile_banner_url': 'https://pbs.twimg.com/profile_banners/715324579/1391523665', 'profile_link_color': '93A644', 'profile_sidebar_border_color': 'EEEEEE', 'profile_sidebar_fill_color': 'FFFFFF', 'profile_text_color': '333333', 'profile_use_background_image': True, 'has_extended_profile': False, 'default_profile': False, 'default_profile_image': False, 'following': False, 'follow_request_sent': False, 'notifications': False, 'translator_type': 'none'}, 'geo': None, 'coordinates': None, 'place': None, 'contributors': None, 'is_quote_status': False, 'retweet_count': 0, 'favorite_count': 0, 'favorited': False, 'retweeted': False, 'lang': 'und'}, {'created_at': 'Wed Mar 25 11:43:44 +0000 2015', 'id': '580696565729402880', 'id_str': '580696565729402880', 'text': \"Uuuuh @RuruMarru 's attack #begins\", 'truncated': False, 'entities': {'hashtags': [{'text': 'begins', 'indices': [27, 34]}], 'symbols': [], 'user_mentions': [{'screen_name': 'RuruMarru', 'name': 'ruru Marru', 'id': 3114437055, 'id_str': '3114437055', 'indices': [6, 16]}], 'urls': []}, 'source': '<a href=\"http://twitter.com/download/android\" rel=\"nofollow\">Twitter for Android</a>', 'in_reply_to_status_id': 580693485747093505, 'in_reply_to_status_id_str': '580693485747093505', 'in_reply_to_user_id': 3114437055, 'in_reply_to_user_id_str': '3114437055', 'in_reply_to_screen_name': 'RuruMarru', 'user': {'id': 715324579, 'id_str': '715324579', 'name': 'Nuria Valls', 'screen_name': 'nurietta_17', 'location': '', 'description': 'VALAR MORGHULIS', 'url': None, 'entities': {'description': {'urls': []}}, 'protected': False, 'followers_count': 38, 'friends_count': 59, 'listed_count': 0, 'created_at': 'Wed Jul 25 02:31:32 +0000 2012', 'favourites_count': 24, 'utc_offset': None, 'time_zone': None, 'geo_enabled': True, 'verified': False, 'statuses_count': 531, 'lang': 'es', 'contributors_enabled': False, 'is_translator': False, 'is_translation_enabled': False, 'profile_background_color': 'B2DFDA', 'profile_background_image_url': 'http://abs.twimg.com/images/themes/theme13/bg.gif', 'profile_background_image_url_https': 'https://abs.twimg.com/images/themes/theme13/bg.gif', 'profile_background_tile': True, 'profile_image_url': 'http://pbs.twimg.com/profile_images/3321183210/d02603880fd76d98c971ac36d8d39bdc_normal.jpeg', 'profile_image_url_https': 'https://pbs.twimg.com/profile_images/3321183210/d02603880fd76d98c971ac36d8d39bdc_normal.jpeg', 'profile_banner_url': 'https://pbs.twimg.com/profile_banners/715324579/1391523665', 'profile_link_color': '93A644', 'profile_sidebar_border_color': 'EEEEEE', 'profile_sidebar_fill_color': 'FFFFFF', 'profile_text_color': '333333', 'profile_use_background_image': True, 'has_extended_profile': False, 'default_profile': False, 'default_profile_image': False, 'following': False, 'follow_request_sent': False, 'notifications': False, 'translator_type': 'none'}, 'geo': None, 'coordinates': None, 'place': None, 'contributors': None, 'is_quote_status': False, 'retweet_count': 0, 'favorite_count': 0, 'favorited': False, 'retweeted': False, 'lang': 'en'}, {'created_at': 'Wed Mar 25 11:30:26 +0000 2015', 'id': '580693217932419072', 'id_str': '580693217932419072', 'text': '@RuruMarru finally #ruruintwitter :D #ruruislove 👌', 'truncated': False, 'entities': {'hashtags': [{'text': 'ruruintwitter', 'indices': [19, 33]}, {'text': 'ruruislove', 'indices': [37, 48]}], 'symbols': [], 'user_mentions': [{'screen_name': 'RuruMarru', 'name': 'ruru Marru', 'id': 3114437055, 'id_str': '3114437055', 'indices': [0, 10]}], 'urls': []}, 'source': '<a href=\"http://twitter.com/download/android\" rel=\"nofollow\">Twitter for Android</a>', 'in_reply_to_status_id': 580692668189138944, 'in_reply_to_status_id_str': '580692668189138944', 'in_reply_to_user_id': 3114437055, 'in_reply_to_user_id_str': '3114437055', 'in_reply_to_screen_name': 'RuruMarru', 'user': {'id': 715324579, 'id_str': '715324579', 'name': 'Nuria Valls', 'screen_name': 'nurietta_17', 'location': '', 'description': 'VALAR MORGHULIS', 'url': None, 'entities': {'description': {'urls': []}}, 'protected': False, 'followers_count': 38, 'friends_count': 59, 'listed_count': 0, 'created_at': 'Wed Jul 25 02:31:32 +0000 2012', 'favourites_count': 24, 'utc_offset': None, 'time_zone': None, 'geo_enabled': True, 'verified': False, 'statuses_count': 531, 'lang': 'es', 'contributors_enabled': False, 'is_translator': False, 'is_translation_enabled': False, 'profile_background_color': 'B2DFDA', 'profile_background_image_url': 'http://abs.twimg.com/images/themes/theme13/bg.gif', 'profile_background_image_url_https': 'https://abs.twimg.com/images/themes/theme13/bg.gif', 'profile_background_tile': True, 'profile_image_url': 'http://pbs.twimg.com/profile_images/3321183210/d02603880fd76d98c971ac36d8d39bdc_normal.jpeg', 'profile_image_url_https': 'https://pbs.twimg.com/profile_images/3321183210/d02603880fd76d98c971ac36d8d39bdc_normal.jpeg', 'profile_banner_url': 'https://pbs.twimg.com/profile_banners/715324579/1391523665', 'profile_link_color': '93A644', 'profile_sidebar_border_color': 'EEEEEE', 'profile_sidebar_fill_color': 'FFFFFF', 'profile_text_color': '333333', 'profile_use_background_image': True, 'has_extended_profile': False, 'default_profile': False, 'default_profile_image': False, 'following': False, 'follow_request_sent': False, 'notifications': False, 'translator_type': 'none'}, 'geo': None, 'coordinates': None, 'place': None, 'contributors': None, 'is_quote_status': False, 'retweet_count': 0, 'favorite_count': 0, 'favorited': False, 'retweeted': False, 'lang': 'en'}, {'created_at': 'Thu Mar 19 08:40:51 +0000 2015', 'id': '578476214337335296', 'id_str': '578476214337335296', 'text': '#LaMartaNoSap', 'truncated': False, 'entities': {'hashtags': [{'text': 'LaMartaNoSap', 'indices': [0, 13]}], 'symbols': [], 'user_mentions': [], 'urls': []}, 'source': '<a href=\"http://twitter.com/download/android\" rel=\"nofollow\">Twitter for Android</a>', 'in_reply_to_status_id': None, 'in_reply_to_status_id_str': None, 'in_reply_to_user_id': None, 'in_reply_to_user_id_str': None, 'in_reply_to_screen_name': None, 'user': {'id': 715324579, 'id_str': '715324579', 'name': 'Nuria Valls', 'screen_name': 'nurietta_17', 'location': '', 'description': 'VALAR MORGHULIS', 'url': None, 'entities': {'description': {'urls': []}}, 'protected': False, 'followers_count': 38, 'friends_count': 59, 'listed_count': 0, 'created_at': 'Wed Jul 25 02:31:32 +0000 2012', 'favourites_count': 24, 'utc_offset': None, 'time_zone': None, 'geo_enabled': True, 'verified': False, 'statuses_count': 531, 'lang': 'es', 'contributors_enabled': False, 'is_translator': False, 'is_translation_enabled': False, 'profile_background_color': 'B2DFDA', 'profile_background_image_url': 'http://abs.twimg.com/images/themes/theme13/bg.gif', 'profile_background_image_url_https': 'https://abs.twimg.com/images/themes/theme13/bg.gif', 'profile_background_tile': True, 'profile_image_url': 'http://pbs.twimg.com/profile_images/3321183210/d02603880fd76d98c971ac36d8d39bdc_normal.jpeg', 'profile_image_url_https': 'https://pbs.twimg.com/profile_images/3321183210/d02603880fd76d98c971ac36d8d39bdc_normal.jpeg', 'profile_banner_url': 'https://pbs.twimg.com/profile_banners/715324579/1391523665', 'profile_link_color': '93A644', 'profile_sidebar_border_color': 'EEEEEE', 'profile_sidebar_fill_color': 'FFFFFF', 'profile_text_color': '333333', 'profile_use_background_image': True, 'has_extended_profile': False, 'default_profile': False, 'default_profile_image': False, 'following': False, 'follow_request_sent': False, 'notifications': False, 'translator_type': 'none'}, 'geo': None, 'coordinates': None, 'place': None, 'contributors': None, 'is_quote_status': False, 'retweet_count': 0, 'favorite_count': 1, 'favorited': False, 'retweeted': False, 'lang': 'und'}, {'created_at': 'Thu Mar 19 08:40:19 +0000 2015', 'id': '578476077447806977', 'id_str': '578476077447806977', 'text': '#GuillhegoCono #JordàMooh', 'truncated': False, 'entities': {'hashtags': [{'text': 'GuillhegoCono', 'indices': [0, 14]}, {'text': 'JordàMooh', 'indices': [15, 25]}], 'symbols': [], 'user_mentions': [], 'urls': []}, 'source': '<a href=\"http://twitter.com/download/android\" rel=\"nofollow\">Twitter for Android</a>', 'in_reply_to_status_id': None, 'in_reply_to_status_id_str': None, 'in_reply_to_user_id': None, 'in_reply_to_user_id_str': None, 'in_reply_to_screen_name': None, 'user': {'id': 715324579, 'id_str': '715324579', 'name': 'Nuria Valls', 'screen_name': 'nurietta_17', 'location': '', 'description': 'VALAR MORGHULIS', 'url': None, 'entities': {'description': {'urls': []}}, 'protected': False, 'followers_count': 38, 'friends_count': 59, 'listed_count': 0, 'created_at': 'Wed Jul 25 02:31:32 +0000 2012', 'favourites_count': 24, 'utc_offset': None, 'time_zone': None, 'geo_enabled': True, 'verified': False, 'statuses_count': 531, 'lang': 'es', 'contributors_enabled': False, 'is_translator': False, 'is_translation_enabled': False, 'profile_background_color': 'B2DFDA', 'profile_background_image_url': 'http://abs.twimg.com/images/themes/theme13/bg.gif', 'profile_background_image_url_https': 'https://abs.twimg.com/images/themes/theme13/bg.gif', 'profile_background_tile': True, 'profile_image_url': 'http://pbs.twimg.com/profile_images/3321183210/d02603880fd76d98c971ac36d8d39bdc_normal.jpeg', 'profile_image_url_https': 'https://pbs.twimg.com/profile_images/3321183210/d02603880fd76d98c971ac36d8d39bdc_normal.jpeg', 'profile_banner_url': 'https://pbs.twimg.com/profile_banners/715324579/1391523665', 'profile_link_color': '93A644', 'profile_sidebar_border_color': 'EEEEEE', 'profile_sidebar_fill_color': 'FFFFFF', 'profile_text_color': '333333', 'profile_use_background_image': True, 'has_extended_profile': False, 'default_profile': False, 'default_profile_image': False, 'following': False, 'follow_request_sent': False, 'notifications': False, 'translator_type': 'none'}, 'geo': None, 'coordinates': None, 'place': None, 'contributors': None, 'is_quote_status': False, 'retweet_count': 0, 'favorite_count': 0, 'favorited': False, 'retweeted': False, 'lang': 'und'}, {'created_at': 'Wed Feb 11 09:18:20 +0000 2015', 'id': '565439683220766721', 'id_str': '565439683220766721', 'text': '@elnacabot10 @MrsRendezvous @woogey23 @pedro_lahoz @Alba_Ibanyez #NOPENOPENOPE', 'truncated': False, 'entities': {'hashtags': [{'text': 'NOPENOPENOPE', 'indices': [65, 78]}], 'symbols': [], 'user_mentions': [{'screen_name': 'woogey23', 'name': 'Àlex', 'id': 444054204, 'id_str': '444054204', 'indices': [28, 37]}, {'screen_name': 'Alba_Ibanyez', 'name': 'Alba Ibànyez', 'id': 755671202, 'id_str': '755671202', 'indices': [51, 64]}], 'urls': []}, 'source': '<a href=\"http://twitter.com/download/android\" rel=\"nofollow\">Twitter for Android</a>', 'in_reply_to_status_id': None, 'in_reply_to_status_id_str': None, 'in_reply_to_user_id': None, 'in_reply_to_user_id_str': None, 'in_reply_to_screen_name': None, 'user': {'id': 715324579, 'id_str': '715324579', 'name': 'Nuria Valls', 'screen_name': 'nurietta_17', 'location': '', 'description': 'VALAR MORGHULIS', 'url': None, 'entities': {'description': {'urls': []}}, 'protected': False, 'followers_count': 38, 'friends_count': 59, 'listed_count': 0, 'created_at': 'Wed Jul 25 02:31:32 +0000 2012', 'favourites_count': 24, 'utc_offset': None, 'time_zone': None, 'geo_enabled': True, 'verified': False, 'statuses_count': 531, 'lang': 'es', 'contributors_enabled': False, 'is_translator': False, 'is_translation_enabled': False, 'profile_background_color': 'B2DFDA', 'profile_background_image_url': 'http://abs.twimg.com/images/themes/theme13/bg.gif', 'profile_background_image_url_https': 'https://abs.twimg.com/images/themes/theme13/bg.gif', 'profile_background_tile': True, 'profile_image_url': 'http://pbs.twimg.com/profile_images/3321183210/d02603880fd76d98c971ac36d8d39bdc_normal.jpeg', 'profile_image_url_https': 'https://pbs.twimg.com/profile_images/3321183210/d02603880fd76d98c971ac36d8d39bdc_normal.jpeg', 'profile_banner_url': 'https://pbs.twimg.com/profile_banners/715324579/1391523665', 'profile_link_color': '93A644', 'profile_sidebar_border_color': 'EEEEEE', 'profile_sidebar_fill_color': 'FFFFFF', 'profile_text_color': '333333', 'profile_use_background_image': True, 'has_extended_profile': False, 'default_profile': False, 'default_profile_image': False, 'following': False, 'follow_request_sent': False, 'notifications': False, 'translator_type': 'none'}, 'geo': None, 'coordinates': None, 'place': None, 'contributors': None, 'is_quote_status': False, 'retweet_count': 0, 'favorite_count': 1, 'favorited': False, 'retweeted': False, 'lang': 'und'}]\n"
     ]
    }
   ],
   "source": [
    "def get_10tweets(username):\n",
=======
   "execution_count": 72,
   "metadata": {},
   "outputs": [],
   "source": [
    "def get_10tweets(username):\n",
    "    import pandas as pd\n",
    "    import numpy as np\n",
>>>>>>> 84090a0b05a6563514e908b0baf12e268f23ec5a
    "    \n",
    "    tweets_10 = []\n",
    "    count = 10\n",
    "    \n",
    "    while len(tweets_10) < 10:\n",
    "        \n",
    "        try:\n",
    "            tweets = api.user_timeline(screen_name=username, count=count)\n",
    "        except tweepy.TweepError:\n",
    "            return 0, tweets_10\n",
    "        \n",
    "        for tweet in tweets:\n",
    "            doc = tweet._json\n",
    "            doc['id'] = str(doc['id'])\n",
    "            \n",
    "            if doc not in tweets_10 and not doc['text'].startswith('RT '):\n",
    "                tweets_10.append(doc)\n",
    "            else:\n",
    "                count += 1\n",
    "            \n",
    "            if len(tweets_10) == 10:\n",
    "                break\n",
<<<<<<< HEAD
    "        \n",
    "    return 1, tweets_10\n",
    "    \n",
    "status, tweets = get_10tweets('nurietta_17')\n",
    "\n",
    "print(status)\n",
    "print(tweets)"
=======
    "    \n",
    "    out = pd.DataFrame()\n",
    "    t = pd.DataFrame(tweets_10)\n",
    "    \n",
    "    mean_FC_last10, sd_FC = np.mean(t[\"favorite_count\"]), np.std(t[\"favorite_count\"])\n",
    "    mean_RT_last10, sd_RT = np.mean(t[\"retweet_count\"]), np.std(t[\"retweet_count\"])\n",
    "    \n",
    "    out[\"j_user\"]=t[\"user\"][-1:]\n",
    "    out[\"RT_l10\"]=mean_RT_last10\n",
    "    out[\"sd_RT\"]=sd_RT\n",
    "    out[\"FC_l10\"]=mean_FC_last10\n",
    "    out[\"sd_FC\"]=sd_FC\n",
    "    out = out.reset_index(drop=True)\n",
    "    return out\n",
    "    \n",
    "tweets = get_10tweets('albertpm6')"
   ]
  },
  {
   "cell_type": "code",
   "execution_count": 73,
   "metadata": {},
   "outputs": [],
   "source": [
    "tweets = get_10tweets(\"albertpm6\")"
   ]
  },
  {
   "cell_type": "code",
   "execution_count": 74,
   "metadata": {},
   "outputs": [
    {
     "data": {
      "text/plain": [
       "2.5"
      ]
     },
     "execution_count": 74,
     "metadata": {},
     "output_type": "execute_result"
    }
   ],
   "source": [
    "tweets[\"FC_l10\"][0]"
>>>>>>> 84090a0b05a6563514e908b0baf12e268f23ec5a
   ]
  },
  {
   "cell_type": "code",
   "execution_count": null,
<<<<<<< HEAD
   "metadata": {
    "collapsed": true
   },
=======
   "metadata": {},
>>>>>>> 84090a0b05a6563514e908b0baf12e268f23ec5a
   "outputs": [],
   "source": []
  }
 ],
 "metadata": {
  "kernelspec": {
   "display_name": "Python 3",
   "language": "python",
   "name": "python3"
  },
  "language_info": {
   "codemirror_mode": {
    "name": "ipython",
    "version": 3
   },
   "file_extension": ".py",
   "mimetype": "text/x-python",
   "name": "python",
   "nbconvert_exporter": "python",
   "pygments_lexer": "ipython3",
<<<<<<< HEAD
   "version": "3.6.3"
=======
   "version": "3.6.5"
>>>>>>> 84090a0b05a6563514e908b0baf12e268f23ec5a
  }
 },
 "nbformat": 4,
 "nbformat_minor": 2
}
