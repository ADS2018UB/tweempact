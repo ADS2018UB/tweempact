{
 "cells": [
  {
   "cell_type": "code",
   "execution_count": 58,
   "metadata": {},
   "outputs": [],
   "source": [
    "import json\n",
    "import pymongo\n",
    "import tweepy\n",
    "\n",
    "with open('consumer_key.txt', 'r') as f:\n",
    "    consumer_key =  f.read()\n",
    "f.closed\n",
    "\n",
    "with open('consumer_secret.txt', 'r') as f:\n",
    "    consumer_secret = f.read()\n",
    "f.closed\n",
    "\n",
    "with open('access_key.txt', 'r') as f:\n",
    "    access_key = f.read()\n",
    "f.closed\n",
    "\n",
    "with open('access_secret.txt', 'r') as f:\n",
    "     access_secret = f.read()\n",
    "f.closed\n",
    "\n",
    "# Authentication\n",
    "auth = tweepy.OAuthHandler(consumer_key[:-1], consumer_secret[:-1])\n",
    "auth.set_access_token(access_key[:-1], access_secret[:-1])\n",
    "api = tweepy.API(auth)"
   ]
  },
  {
   "cell_type": "code",
   "execution_count": 72,
   "metadata": {},
   "outputs": [],
   "source": [
    "def get_10tweets(username):\n",
    "    import pandas as pd\n",
    "    import numpy as np\n",
    "    \n",
    "    tweets_10 = []\n",
    "    count = 10\n",
    "    \n",
    "    while len(tweets_10) < 10:\n",
    "        \n",
    "        try:\n",
    "            tweets = api.user_timeline(screen_name=username, count=count)\n",
    "        except tweepy.TweepError:\n",
    "            return 0, tweets_10\n",
    "        \n",
    "        for tweet in tweets:\n",
    "            doc = tweet._json\n",
    "            doc['id'] = str(doc['id'])\n",
    "            \n",
    "            if doc not in tweets_10 and not doc['text'].startswith('RT '):\n",
    "                tweets_10.append(doc)\n",
    "            else:\n",
    "                count += 1\n",
    "            \n",
    "            if len(tweets_10) == 10:\n",
    "                break\n",
    "    \n",
    "    out = pd.DataFrame()\n",
    "    t = pd.DataFrame(tweets_10)\n",
    "    \n",
    "    mean_FC_last10, sd_FC = np.mean(t[\"favorite_count\"]), np.std(t[\"favorite_count\"])\n",
    "    mean_RT_last10, sd_RT = np.mean(t[\"retweet_count\"]), np.std(t[\"retweet_count\"])\n",
    "    \n",
    "    out[\"j_user\"]=t[\"user\"][-1:]\n",
    "    out[\"RT_l10\"]=mean_RT_last10\n",
    "    out[\"sd_RT\"]=sd_RT\n",
    "    out[\"FC_l10\"]=mean_FC_last10\n",
    "    out[\"sd_FC\"]=sd_FC\n",
    "    out = out.reset_index(drop=True)\n",
    "    return out\n",
    "    \n",
    "tweets = get_10tweets('albertpm6')"
   ]
  },
  {
   "cell_type": "code",
   "execution_count": 73,
   "metadata": {},
   "outputs": [],
   "source": [
    "tweets = get_10tweets(\"albertpm6\")"
   ]
  },
  {
   "cell_type": "code",
   "execution_count": 74,
   "metadata": {},
   "outputs": [
    {
     "data": {
      "text/plain": [
       "2.5"
      ]
     },
     "execution_count": 74,
     "metadata": {},
     "output_type": "execute_result"
    }
   ],
   "source": [
    "tweets[\"FC_l10\"][0]"
   ]
  },
  {
   "cell_type": "code",
   "execution_count": null,
   "metadata": {},
   "outputs": [],
   "source": []
  }
 ],
 "metadata": {
  "kernelspec": {
   "display_name": "Python 3",
   "language": "python",
   "name": "python3"
  },
  "language_info": {
   "codemirror_mode": {
    "name": "ipython",
    "version": 3
   },
   "file_extension": ".py",
   "mimetype": "text/x-python",
   "name": "python",
   "nbconvert_exporter": "python",
   "pygments_lexer": "ipython3",
   "version": "3.6.5"
  }
 },
 "nbformat": 4,
 "nbformat_minor": 2
}
