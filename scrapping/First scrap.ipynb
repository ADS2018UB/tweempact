{
 "cells": [
  {
   "cell_type": "code",
   "execution_count": 1,
   "metadata": {
    "collapsed": true
   },
   "outputs": [],
   "source": [
    "import json\n",
    "import pymongo\n",
    "import tweepy\n",
    "\n",
    "with open('consumer_key.txt', 'r') as f:\n",
    "    consumer_key =  f.read()\n",
    "f.closed\n",
    "\n",
    "with open('consumer_secret.txt', 'r') as f:\n",
    "    consumer_secret = f.read()\n",
    "f.closed\n",
    "\n",
    "with open('access_key.txt', 'r') as f:\n",
    "    access_key = f.read()\n",
    "f.closed\n",
    "\n",
    "with open('access_secret.txt', 'r') as f:\n",
    "     access_secret = f.read()\n",
    "f.closed\n",
    "\n",
    "# Authentication\n",
    "auth = tweepy.OAuthHandler(consumer_key[:-1], consumer_secret[:-1])\n",
    "auth.set_access_token(access_key[:-1], access_secret[:-1])\n",
    "api = tweepy.API(auth)"
   ]
  },
  {
   "cell_type": "code",
   "execution_count": 2,
   "metadata": {},
   "outputs": [
    {
     "name": "stdout",
     "output_type": "stream",
     "text": [
      "False\n"
     ]
    }
   ],
   "source": [
    "# Test access\n",
    "\n",
    "USER_NAME = \"nurietta_17\"\n",
    "user = api.get_user(id=USER_NAME)\n",
    "user = user._json\n",
    "print (user['verified'])\n",
    "#print(json.dumps([user._json], sort_keys=True, indent=4, separators=(',',':')))"
   ]
  },
  {
   "cell_type": "code",
   "execution_count": 20,
   "metadata": {},
   "outputs": [
    {
     "name": "stdout",
     "output_type": "stream",
     "text": [
      "Connected successfully!!!\n"
     ]
    }
   ],
   "source": [
    "# Connect with mongodb\n",
    "\n",
    "try:\n",
    "    with open(\"credentials.txt\", 'r', encoding='utf-8') as f:\n",
    "        [name,password,url,dbname]=f.read().splitlines()\n",
    "        conn=pymongo.MongoClient(\"mongodb://{}:{}@{}/{}\".format(name,password,url,dbname))\n",
    "    print (\"Connected successfully!!!\")\n",
    "except pymongo.errors.ConnectionFailure as e:\n",
    "    print (\"Could not connect to MongoDB: %s\" % e) \n",
    "    \n",
    "\n",
    "    \n",
    "db = conn['tweempact']\n",
    "collection = db['tweets']"
   ]
  },
  {
   "cell_type": "code",
   "execution_count": 11,
   "metadata": {},
   "outputs": [
    {
     "name": "stdout",
     "output_type": "stream",
     "text": [
      "98\n",
      "98\n"
     ]
    }
   ],
   "source": [
    "# Find 100 actual tweets located in Spain to store its user in mlab\n",
    "\n",
    "#collection = db['tweet_users']\n",
    "    \n",
    "search_results =api.search(q='*', geocode='39.3262345,-4.8380649,750km', count=100, lang='es')\n",
    "\n",
    "json_users = []\n",
    "print(len(search_results))\n",
    "for i in search_results:\n",
    "    document = i._json\n",
    "    #collection.insert_one(document)\n",
    "    document['id'] = str(document['id'])\n",
    "    json_users.append(document)\n",
    "    \n",
    "print(len(json_users))"
   ]
  },
  {
   "cell_type": "code",
   "execution_count": 12,
   "metadata": {},
   "outputs": [
    {
     "ename": "NameError",
     "evalue": "name 'new_users' is not defined",
     "output_type": "error",
     "traceback": [
      "\u001b[0;31m---------------------------------------------------------------------------\u001b[0m",
      "\u001b[0;31mNameError\u001b[0m                                 Traceback (most recent call last)",
      "\u001b[0;32m<ipython-input-12-f82f0ad77d07>\u001b[0m in \u001b[0;36m<module>\u001b[0;34m()\u001b[0m\n\u001b[1;32m      1\u001b[0m \u001b[0;34m\u001b[0m\u001b[0m\n\u001b[0;32m----> 2\u001b[0;31m \u001b[0mnew_users\u001b[0m \u001b[0;34m=\u001b[0m \u001b[0mnew_users\u001b[0m \u001b[0;34m+\u001b[0m \u001b[0mjson_users\u001b[0m\u001b[0;34m\u001b[0m\u001b[0m\n\u001b[0m\u001b[1;32m      3\u001b[0m \u001b[0mprint\u001b[0m\u001b[0;34m(\u001b[0m\u001b[0mlen\u001b[0m\u001b[0;34m(\u001b[0m\u001b[0mnew_users\u001b[0m\u001b[0;34m)\u001b[0m\u001b[0;34m)\u001b[0m\u001b[0;34m\u001b[0m\u001b[0m\n",
      "\u001b[0;31mNameError\u001b[0m: name 'new_users' is not defined"
     ]
    }
   ],
   "source": [
    "\n",
    "new_users = new_users + json_users\n",
    "print(len(new_users))"
   ]
  },
  {
   "cell_type": "code",
   "execution_count": 27,
   "metadata": {},
   "outputs": [
    {
     "name": "stdout",
     "output_type": "stream",
     "text": [
      "<pymongo.cursor.Cursor object at 0x7f4e25bc5d68>\n"
     ]
    }
   ],
   "source": [
    "# Get all the tweets stored in the collection \"tweet_users\" in mlab\n",
    "\n",
    "cursor = collection.find()\n",
    "print(cursor)\n",
    "\n",
    "# Obtain json \n",
    "json_docs = []\n",
    "for doc in cursor:\n",
    "    doc['_id'] = str(doc['_id'])\n",
    "    json_docs.append(doc)"
   ]
  },
  {
   "cell_type": "code",
   "execution_count": 28,
   "metadata": {},
   "outputs": [
    {
     "name": "stdout",
     "output_type": "stream",
     "text": [
      "[\n",
      "    {\n",
      "        \"_id\":\"5bd4a79db4c0e32bc7f902b1\",\n",
      "        \"contributors\":null,\n",
      "        \"coordinates\":null,\n",
      "        \"created_at\":\"Sat Oct 27 17:59:42 +0000 2018\",\n",
      "        \"entities\":{\n",
      "            \"hashtags\":[],\n",
      "            \"symbols\":[],\n",
      "            \"urls\":[],\n",
      "            \"user_mentions\":[\n",
      "                {\n",
      "                    \"id\":1031950877387620358,\n",
      "                    \"id_str\":\"1031950877387620358\",\n",
      "                    \"indices\":[\n",
      "                        0,\n",
      "                        11\n",
      "                    ],\n",
      "                    \"name\":\"spooky yume\\ud83d\\udd77\",\n",
      "                    \"screen_name\":\"__yumecchi\"\n",
      "                }\n",
      "            ]\n",
      "        },\n",
      "        \"favorite_count\":0,\n",
      "        \"favorited\":false,\n",
      "        \"geo\":null,\n",
      "        \"id\":1056244057838641152,\n",
      "        \"id_str\":\"1056244057838641152\",\n",
      "        \"in_reply_to_screen_name\":\"__yumecchi\",\n",
      "        \"in_reply_to_status_id\":1056234978965626881,\n",
      "        \"in_reply_to_status_id_str\":\"1056234978965626881\",\n",
      "        \"in_reply_to_user_id\":1031950877387620358,\n",
      "        \"in_reply_to_user_id_str\":\"1031950877387620358\",\n",
      "        \"is_quote_status\":false,\n",
      "        \"lang\":\"es\",\n",
      "        \"metadata\":{\n",
      "            \"iso_language_code\":\"es\",\n",
      "            \"result_type\":\"recent\"\n",
      "        },\n",
      "        \"place\":null,\n",
      "        \"retweet_count\":0,\n",
      "        \"retweeted\":false,\n",
      "        \"source\":\"<a href=\\\"http://twitter.com\\\" rel=\\\"nofollow\\\">Twitter Web Client</a>\",\n",
      "        \"text\":\"@__yumecchi si q morbo\",\n",
      "        \"truncated\":false,\n",
      "        \"user\":{\n",
      "            \"contributors_enabled\":false,\n",
      "            \"created_at\":\"Tue Oct 28 16:21:57 +0000 2014\",\n",
      "            \"default_profile\":false,\n",
      "            \"default_profile_image\":false,\n",
      "            \"description\":\"\\u26a7 \\ud835\\udd24\\ud835\\udd2c\\ud835\\udd2c\\ud835\\udd21 \\ud835\\udd23\\ud835\\udd2c\\ud835\\udd2f \\ud835\\udd36\\ud835\\udd2c\\ud835\\udd32 \\u02d7\\u02cf\\u02cb @uglygothwannabe \\u02ce\\u02ca\\u02d7 \\ud83d\\udce8: dantedelosheros@gmail.com \\u3164\\u3164\",\n",
      "            \"entities\":{\n",
      "                \"description\":{\n",
      "                    \"urls\":[]\n",
      "                },\n",
      "                \"url\":{\n",
      "                    \"urls\":[\n",
      "                        {\n",
      "                            \"display_url\":\"listography.com/htgaywm\",\n",
      "                            \"expanded_url\":\"http://listography.com/htgaywm\",\n",
      "                            \"indices\":[\n",
      "                                0,\n",
      "                                23\n",
      "                            ],\n",
      "                            \"url\":\"https://t.co/QneVjDdjrv\"\n",
      "                        }\n",
      "                    ]\n",
      "                }\n",
      "            },\n",
      "            \"favourites_count\":30971,\n",
      "            \"follow_request_sent\":false,\n",
      "            \"followers_count\":369,\n",
      "            \"following\":false,\n",
      "            \"friends_count\":147,\n",
      "            \"geo_enabled\":false,\n",
      "            \"has_extended_profile\":true,\n",
      "            \"id\":2848383333,\n",
      "            \"id_str\":\"2848383333\",\n",
      "            \"is_translation_enabled\":false,\n",
      "            \"is_translator\":false,\n",
      "            \"lang\":\"es\",\n",
      "            \"listed_count\":11,\n",
      "            \"location\":\"Granada, Espa\\u00f1a\",\n",
      "            \"name\":\"dante\",\n",
      "            \"notifications\":false,\n",
      "            \"profile_background_color\":\"FFFFFF\",\n",
      "            \"profile_background_image_url\":\"http://abs.twimg.com/images/themes/theme1/bg.png\",\n",
      "            \"profile_background_image_url_https\":\"https://abs.twimg.com/images/themes/theme1/bg.png\",\n",
      "            \"profile_background_tile\":true,\n",
      "            \"profile_banner_url\":\"https://pbs.twimg.com/profile_banners/2848383333/1538994569\",\n",
      "            \"profile_image_url\":\"http://pbs.twimg.com/profile_images/1049245284495179776/Wvb4-JsG_normal.jpg\",\n",
      "            \"profile_image_url_https\":\"https://pbs.twimg.com/profile_images/1049245284495179776/Wvb4-JsG_normal.jpg\",\n",
      "            \"profile_link_color\":\"9E8FA5\",\n",
      "            \"profile_sidebar_border_color\":\"000000\",\n",
      "            \"profile_sidebar_fill_color\":\"000000\",\n",
      "            \"profile_text_color\":\"000000\",\n",
      "            \"profile_use_background_image\":true,\n",
      "            \"protected\":false,\n",
      "            \"screen_name\":\"deadzino\",\n",
      "            \"statuses_count\":24534,\n",
      "            \"time_zone\":null,\n",
      "            \"translator_type\":\"regular\",\n",
      "            \"url\":\"https://t.co/QneVjDdjrv\",\n",
      "            \"utc_offset\":null,\n",
      "            \"verified\":false\n",
      "        }\n",
      "    }\n",
      "]\n"
     ]
    }
   ],
   "source": [
    "# Data format (uploaded to mlab in \"tweet_users\" collection)\n",
    "\n",
    "print(json.dumps([json_docs[0]], sort_keys=True, indent=4, separators=(',',':')))"
   ]
  },
  {
   "cell_type": "code",
   "execution_count": 45,
   "metadata": {
    "collapsed": true
   },
   "outputs": [],
   "source": [
    "# Get all the usernames\n",
    "\n",
    "user_names = []\n",
    "\n",
    "for doc in json_users:\n",
    "    user_names.append(doc['user']['screen_name'])"
   ]
  },
  {
   "cell_type": "code",
   "execution_count": 46,
   "metadata": {},
   "outputs": [
    {
     "name": "stdout",
     "output_type": "stream",
     "text": [
      "100\n"
     ]
    }
   ],
   "source": [
    "print(len(user_names))"
   ]
  },
  {
   "cell_type": "code",
   "execution_count": 30,
   "metadata": {},
   "outputs": [
    {
     "name": "stdout",
     "output_type": "stream",
     "text": [
      "278\n"
     ]
    }
   ],
   "source": [
    "# Number of unique users found\n",
    "\n",
    "import numpy as np\n",
    "\n",
    "user_names = set(user_names)\n",
    "print(len(user_names))"
   ]
  },
  {
   "cell_type": "code",
   "execution_count": 47,
   "metadata": {
    "scrolled": true
   },
   "outputs": [
    {
     "name": "stdout",
     "output_type": "stream",
     "text": [
      "antpogar\n",
      "DarylMaldonado\n",
      "menesess_pau\n",
      "Ura2019\n",
      "commiesans\n",
      "Yerbaalawita\n",
      "Kaytxar\n",
      "I3Aunizar\n",
      "GracielaLpez5\n",
      "Nurya1952\n",
      "Angelmg90\n",
      "_asgxv\n",
      "AlvatrosPubli\n",
      "thefromthetree\n",
      "irinaa_ce\n",
      "AlfredoRstrepo\n",
      "annasazzle\n",
      "EfectoCognitivo\n",
      "morbologo75\n",
      "igsan_madr\n",
      "gabinavarros\n",
      "cmnoya60\n",
      "gp_victor89\n",
      "salvaglnet\n",
      "Mildred12279353\n",
      "ElChikitoGH\n",
      "MonWoW_\n",
      "FerreroEU\n",
      "ciudadanodmund\n",
      "angelapeke16\n",
      "minnervaa\n",
      "chag_hai\n",
      "LeiretxoP\n",
      "firecrackerx\n",
      "AnaJorgegon\n",
      "Jusesantos28\n",
      "RotaDatos\n",
      "victordejotamar\n",
      "Postematico\n",
      "JaraTirado\n",
      "cristinetavg\n",
      "Nutriguia\n",
      "Victor_Corso\n",
      "CarolinaSarrion\n",
      "luciagarcia02\n",
      "aragonradio\n",
      "juanflm\n",
      "AjXirivella\n",
      "inmaCR\n",
      "AngelLargo1970\n",
      "Bea_sotelo\n",
      "ShadowsNessa\n",
      "Infinito81\n",
      "DiscosRuidosos\n",
      "pato_albert\n",
      "mercedesslopez8\n",
      "pipio44\n",
      "vmezadelc\n",
      "KateAusten5\n",
      "Egarcamp111\n",
      "InboxPublicitat\n",
      "esguilu\n",
      "SoniaGonzlezSa2\n",
      "anndrxa_\n",
      "angusticlavio\n",
      "elvictorjuan\n",
      "COMENTANDOGHVI2\n",
      "Salem_Lombardi\n",
      "liberal_mirada\n",
      "anaisleali\n",
      "LaNaveMadrid\n",
      "negociosyempren\n",
      "Themeele\n",
      "jpa1968fr\n",
      "jaimitollamas\n",
      "EJASOabogados\n",
      "AEHCOS\n",
      "firelovesrain\n",
      "JoseLui24493852\n",
      "cafes_eguia\n",
      "ElChikitoGH\n",
      "SenorSherry\n",
      "JAMonzon\n",
      "GigioGFX\n",
      "TCATCMAH\n",
      "Irekofitness\n",
      "vamp_rook\n",
      "nocuenhistorias\n",
      "KKanibal_\n",
      "monisotoc_\n",
      "farafiuu\n",
      "SraFloripondia\n",
      "dansanphoto\n",
      "Varvara_98\n",
      "UtreraPodemos\n",
      "Egarcamp111\n",
      "Carlos_BF_\n",
      "oneliaso\n",
      "democraticwines\n",
      "giselaro55\n"
     ]
    }
   ],
   "source": [
    "# Get 25 tweets of each user until 30th of September of 2018\n",
    "\n",
    "import time\n",
    "\n",
    "#MAX_ID = 1046439836939415562 # 30 of September\n",
    "MAX_ID = 1055786926802898945 # 26 of October\n",
    "\n",
    "all_tweets = []\n",
    "\n",
    "for user in user_names:\n",
    "    \n",
    "    try:\n",
    "        new_tweets = api.user_timeline(screen_name=user, count=25, max_id = MAX_ID)\n",
    "        \n",
    "    except tweepy.RateLimitError:\n",
    "        print('Rate limit error with user: %s' % user)\n",
    "        time.sleep(120)\n",
    "        continue\n",
    "    \n",
    "    except tweepy.TweepError:\n",
    "        print('Tweep error with user: %s' % user)\n",
    "        time.sleep(60)\n",
    "        continue\n",
    "        \n",
    "    print(user)\n",
    "        \n",
    "    all_tweets.extend(new_tweets)\n",
    "    \n",
    "    time.sleep(60)\n",
    "   "
   ]
  },
  {
   "cell_type": "code",
   "execution_count": 48,
   "metadata": {},
   "outputs": [
    {
     "name": "stdout",
     "output_type": "stream",
     "text": [
      "2353\n"
     ]
    }
   ],
   "source": [
    "# Number of tweets from users located in Spain until 30th of September of 2018\n",
    "\n",
    "print(len(all_tweets))    "
   ]
  },
  {
   "cell_type": "code",
   "execution_count": 6,
   "metadata": {},
   "outputs": [
    {
     "name": "stdout",
     "output_type": "stream",
     "text": [
      "1061533081197195265\n",
      "Sun Nov 11 08:16:23 +0000 2018\n",
      "1061298282637520896\n",
      "Sat Nov 10 16:43:23 +0000 2018\n",
      "1061052676283105281\n",
      "Sat Nov 10 00:27:26 +0000 2018\n",
      "1060997519805681664\n",
      "Fri Nov 09 20:48:15 +0000 2018\n",
      "1060987545213898752\n",
      "Fri Nov 09 20:08:37 +0000 2018\n",
      "1060976558532427778\n",
      "Fri Nov 09 19:24:58 +0000 2018\n",
      "1060517801033641984\n",
      "Thu Nov 08 13:02:01 +0000 2018\n",
      "1060292664665432065\n",
      "Wed Nov 07 22:07:25 +0000 2018\n",
      "1060292451523534848\n",
      "Wed Nov 07 22:06:34 +0000 2018\n",
      "1060267026424496128\n",
      "Wed Nov 07 20:25:32 +0000 2018\n",
      "1060262520341045248\n",
      "Wed Nov 07 20:07:38 +0000 2018\n",
      "1059964276847337472\n",
      "Wed Nov 07 00:22:31 +0000 2018\n",
      "1059947383663067137\n",
      "Tue Nov 06 23:15:23 +0000 2018\n",
      "1059910388463079424\n",
      "Tue Nov 06 20:48:23 +0000 2018\n",
      "1058155246130749442\n",
      "Fri Nov 02 00:34:04 +0000 2018\n",
      "1057010726768910338\n",
      "Mon Oct 29 20:46:10 +0000 2018\n",
      "1056665912684806144\n",
      "Sun Oct 28 21:56:00 +0000 2018\n",
      "1056665156338495488\n",
      "Sun Oct 28 21:52:59 +0000 2018\n",
      "1056510174675025920\n",
      "Sun Oct 28 11:37:09 +0000 2018\n",
      "1056176058700042240\n",
      "Sat Oct 27 13:29:29 +0000 2018\n",
      "1056175305965166592\n",
      "Sat Oct 27 13:26:30 +0000 2018\n",
      "1055940103296741378\n",
      "Fri Oct 26 21:51:53 +0000 2018\n",
      "1055917265902804992\n",
      "Fri Oct 26 20:21:08 +0000 2018\n",
      "1055916951208366081\n",
      "Fri Oct 26 20:19:53 +0000 2018\n",
      "1055787168700993536\n",
      "Fri Oct 26 11:44:11 +0000 2018\n",
      "1055786926802898945\n",
      "Fri Oct 26 11:43:13 +0000 2018\n",
      "1055105876091158528\n",
      "Wed Oct 24 14:36:58 +0000 2018\n",
      "1055105362272096257\n",
      "Wed Oct 24 14:34:55 +0000 2018\n",
      "1054799457617956865\n",
      "Tue Oct 23 18:19:22 +0000 2018\n",
      "1054306255496531969\n",
      "Mon Oct 22 09:39:34 +0000 2018\n"
     ]
    }
   ],
   "source": [
    "# Get tweet id from a known date\n",
    "\n",
    "n = api.user_timeline(screen_name='nachomartin83', count=30)\n",
    "for tweet in n:\n",
    "    print(tweet._json['id'])\n",
    "    print(tweet._json['created_at'])"
   ]
  },
  {
   "cell_type": "code",
   "execution_count": 50,
   "metadata": {
    "collapsed": true
   },
   "outputs": [],
   "source": [
    "# Store all tweets found in mlab \"tweets\" collection\n",
    "\n",
    "collection = db['tweets']\n",
    "\n",
    "for tweet in all_tweets:\n",
    "    collection.insert_one(tweet._json)"
   ]
  },
  {
   "cell_type": "code",
   "execution_count": 4,
   "metadata": {
    "collapsed": true
   },
   "outputs": [],
   "source": [
    "# ************************************************************************************************************\n",
    "\n",
    "# Scrapping actual tweets to get some usernames:\n",
    "\n",
    "some_tweets = []\n",
    "import time"
   ]
  },
  {
   "cell_type": "code",
   "execution_count": 5,
   "metadata": {
    "collapsed": true
   },
   "outputs": [],
   "source": [
    "for i in range(100):\n",
    "    search_results =api.search(q='*', geocode='39.3262345,-4.8380649,750km', count=100, lang='es')\n",
    "\n",
    "    for i in search_results:\n",
    "        document = i._json\n",
    "        document['id'] = str(document['id'])\n",
    "        some_tweets.append(document)\n",
    "    \n",
    "    time.sleep(10)"
   ]
  },
  {
   "cell_type": "code",
   "execution_count": 6,
   "metadata": {},
   "outputs": [
    {
     "name": "stdout",
     "output_type": "stream",
     "text": [
      "9879\n"
     ]
    }
   ],
   "source": [
    "print(len(some_tweets))"
   ]
  },
  {
   "cell_type": "code",
   "execution_count": 10,
   "metadata": {
    "collapsed": true
   },
   "outputs": [],
   "source": [
    "user_names = []\n",
    "verified = []"
   ]
  },
  {
   "cell_type": "code",
   "execution_count": 11,
   "metadata": {
    "collapsed": true
   },
   "outputs": [],
   "source": [
    "for doc in some_tweets:\n",
    "    user_names.append(doc['user']['screen_name'])\n",
    "    if doc['user']['followers_count'] > 5000 and doc['user']['followers_count'] < 100000:\n",
    "        verified.append(doc['user']['screen_name'])"
   ]
  },
  {
   "cell_type": "code",
   "execution_count": 12,
   "metadata": {},
   "outputs": [
    {
     "name": "stdout",
     "output_type": "stream",
     "text": [
      "9879\n",
      "1056\n"
     ]
    }
   ],
   "source": [
    "print(len(user_names))\n",
    "print(len(verified))"
   ]
  },
  {
   "cell_type": "code",
   "execution_count": 70,
   "metadata": {},
   "outputs": [
    {
     "name": "stdout",
     "output_type": "stream",
     "text": [
      "7841\n"
     ]
    }
   ],
   "source": [
    "set_user_names = set(user_names)\n",
    "print(len(set_user_names))"
   ]
  },
  {
   "cell_type": "code",
   "execution_count": 13,
   "metadata": {},
   "outputs": [
    {
     "name": "stdout",
     "output_type": "stream",
     "text": [
      "675\n"
     ]
    }
   ],
   "source": [
    "set_verified = set(verified)\n",
    "print(len(set_verified))"
   ]
  },
  {
   "cell_type": "code",
   "execution_count": 14,
   "metadata": {
    "collapsed": true
   },
   "outputs": [],
   "source": [
    "def get_10tweets(username):\n",
    "    \n",
    "    tweets_10 = []\n",
    "    count = 11\n",
    "    MAX_ID = 1061533081197195265 #11 November\n",
    "    aux = 0\n",
    "    \n",
    "    while len(tweets_10) < 11:\n",
    "        print('.', end='')\n",
    "        try:\n",
    "            tweets = api.user_timeline(screen_name=username, count=count, max_id = MAX_ID)\n",
    "        except tweepy.TweepError:\n",
    "            return 0, tweets_10\n",
    "        \n",
    "        for tweet in tweets:\n",
    "            doc = tweet._json\n",
    "            doc['id'] = str(doc['id'])\n",
    "            \n",
    "            if doc not in tweets_10 and not doc['text'].startswith('RT '):\n",
    "                tweets_10.append(doc)\n",
    "            else:\n",
    "                MAX_ID = doc['id']\n",
    "            \n",
    "            if len(tweets_10) == 11:\n",
    "                break\n",
    "        if aux > 10:\n",
    "            return 2, tweets_10\n",
    "        aux += 1\n",
    "    \n",
    "    return 1, tweets_10"
   ]
  },
  {
   "cell_type": "code",
   "execution_count": 48,
   "metadata": {
    "collapsed": true
   },
   "outputs": [],
   "source": [
    "#user_names = user_names[0:5]"
   ]
  },
  {
   "cell_type": "code",
   "execution_count": 15,
   "metadata": {},
   "outputs": [
    {
     "name": "stdout",
     "output_type": "stream",
     "text": [
      "675\n"
     ]
    }
   ],
   "source": [
    "set_user_names = set_verified\n",
    "print(len(set_user_names))"
   ]
  },
  {
   "cell_type": "code",
   "execution_count": 16,
   "metadata": {
    "collapsed": true
   },
   "outputs": [],
   "source": [
    "collection = db['users_noRT']\n",
    "cursor = collection.find()\n",
    "\n",
    "set_new_users = []\n",
    "repeated = []\n",
    "\n",
    "for doc in cursor:\n",
    "    if doc['name'] in set_user_names:\n",
    "        repeated.append(doc['name'])\n",
    "\n",
    "for u in set_verified:\n",
    "    if u not in repeated:\n",
    "        set_new_users.append(u)"
   ]
  },
  {
   "cell_type": "code",
   "execution_count": 17,
   "metadata": {},
   "outputs": [
    {
     "name": "stdout",
     "output_type": "stream",
     "text": [
      "633\n",
      "['aplausos', 'photoespana', 'Toliol', 'jgarciabuitron', 'CE4reputation', 'madresfera', 'pacomeroo', 'CarrascoAntonia', 'alfredo15489', 'robertobgdoc', 'Ainhoa_superman', '24clm', 'PedroBDonoso', 'AytoAlcalaH', 'MariaTabarnia', 'CoroBrothers', 'finect', 'IPesqueras', 'Lady_Madrid1978', 'BenetBeca', 'AwesomeeIris', 'christinalosada', 'dondeestawally7', 'TNOradio', 'marcgarrigasait', 'NotaVeraz', 'MissMacGuffin', 'fray_fanatic', 'jxvig', 'VMatterfilm', 'huelvaya', 'gilstefania', 'BuddhaSeeds', 'Albiazules', 'pprimor', 'novelasHispania', 'geologoenapuros', 'inesluis', 'LuisDeveraux', 'electo_mania', 'Autores_noveles', 'CENIEH', 'ciospain', 'veredes', 'GrupoEnergia16', 'ITReseller_ITDM', 'JordiEstradaB', 'devilishgames', 'gasteizhoy', 'aragonradio', 'RecruitErasmus', 'batiralibex35', 'Daurmith', 'CorunaNoticias', 'enfermeratweet', 'Laura0Garcia', 'Sergio_Cala', 'METALOCUS', 'UNICEFAndalucia', 'brunoalemany', 'matiasjurisich', 'RollingStonx', 'ByGamerEspHD', 'silviaalava', 'NuriaCSopena', 'DiarioPalentino', 'canteradelezama', 'emilio_delrio', 'abc_deportes', 'kolontai1959', 'SEUR_responde', 'TianRiba', 'El_Distrito', 'sergimiquel', 'UniversiParty', 'CsHospitalet', 'LibreriaCalamo', 'Siempree_Racing', 'wikiCR', 'plazadeportiva_', 'DMHobby', 'antonioperal', 'nanaactitud', 'mapaone', 'gominolasdpetro', 'PepeluArteSacro', 'LaRedRevela', 'lavozdealmeria', 'MiguelRevelles', 'diariodeburgos', 'anisalud', 'CostaCadiz_', 'Forbes_es', 'mirrocafort', 'Ship2B', 'diegoojeda85', 'Magisnet', 'CinePerello', 'CristinaSegui_', 'ZenqiuTech', 'libroscom', 'fPlantas', 'MiercolesRepub1', 'bibliovirtual', 'avalmadrid', 'LaRegion', 'U_Explorers', 'ReasonW', 'Teaming', 'consaludmental', 'UAM_Madrid', 'adsuara', 'PerisMencheta', 'univcadiz', 'billiesastre', 'marfilmanzana6', 'UnaVidaTatuada', 'andaluciainf', 'Ferrol360', 'almantor', 'leonoticias_', 'diasextoreturns', 'ideagro', 'anaoromi', 'WeLoversize', 'holesec', 'nanilabraDoor', 'carlosparra650', 'Value_school', 'Creativolandia', 'EFE_estilo', '360_Hardware', 'librotea', 'xaviborrell', 'InstitutoRoche', 'LaMaribe_', 'Junta_Ex', 'delikatissen', 'victor3000obst', 'SandraCabeza', '_liberales', 'JuanitoLibritos', 'fernandot', 'ALTER_info', 'EADABusiness', 'LuisMenotti78', 'PilarConesa', 'angel_rivera8', 'elcorreogallego', 'filmax', 'VAVELcom', 'Lupe_', 'AragonEMPRESA', 'gppmur', 'noticiasmadrid', 'tesseracthor', 'CustomTechES', 'toniaira', 'IzcaNacional', 'BuzzFeedEspana', 'zanguanga', 'GuardiaDigital', 'evasanagustin', 'UniversiToro', 'marubimo', 'aaronasenciofer', 'ceutaldia', 'SanGomezLopez', 'SilkenAlAndalus', 'IAB_Spain', 'cielikolindo', 'KacoForns', 'cronicaglobal', 'Pableineken', 'Pepelias17_', 'yosoynaranjito_', 'SergioRomeroJ', 'salvasalva9', 'Enteremonos', 'dearquitectos', 'WinyFog', 'cinacio06', 'ClinicaCEMTRO', 'AunCLICdelasTIC', 'pitiklinov', 'infoSCQ', 'valenciaplaza', 'portaltaurino', 'planetacb', 'economicreativa', 'DiarioDAlmeria', 'bellaindomita', 'DIRyGE', 'rebeldesonline', 'teatenerife', 'Muy_Mascotas', 'Donutsholeband', 'ODValencia', 'JRMelara_ITDM', 'UOCuniversidad', 'Ediciones_Urano', 'equomadrid', 'RJBOTANICO', 'AS_Motor', 'AytoMurcia', 'AndreGuilhoto94', 'JenMakeUpGlam', 'sergioantillano', 'DominaZara', 'redrunacional', 'zaragozaencomun', 'DarKohCR', 'francesca_borgo', 'navarra_com', 'Eldiadigital_es', 'Yurena_', 'JimmyJazzGz', 'AnaCarrasco_22', 'bcntechcity', 'migquintana', 'futmondo', 'RogerDomingo', 'antoral', 'la_ferrer', 'CJPampliega', 'ConMovimientos', 'libreriapraga', 'superwomanroja', 'AlcalaYmas', 'Tesa29053098', 'Tuitiritero', 'cvc_cervantes', 'inosenada', 'EcodeTeruel', 'dev_es', 'QDfotos', 'ugtcatalunya', 'AytoAviles', 'jfh2651', 'simaexpo', 'Estetic_es', 'ATQaTuCorazon', 'conecta', 'fempcomunica', 'vai3333', 'loretoochando', 'NoticiasdeAita', 'DbenavidesMReal', 'Educo_ONG', 'LKhyal', 'CooperacionESP', 'YoEstoyEnMadrid', 'CtoValencia', 'elpublicistacom', 'basquetcoruna', 'Mariagtriana', 'CobasFunds', 'Cantabria24h', 'MuyComputerPRO', 'NoSoyLaGente', 'ViuValencia', 'semfyc', 'aovecarrasqueno', 'segurostv', 'AeasAgua', 'Recuerdos_Mo', 'emulenews', 'FundATRESMEDIA', 'teoleongross', 'elenay29', 'JapanEmb_Spain', 'ComputerworldES', 'PepeGalleta60', 'Cambio16', 'ChristiansCCR', 'ChiringuitoMeg', 'PlatInvestUCM', 'AntonioJHF', 'JavierMonzon2', 'monasterioR', 'tererecetas', 'CAC_Fnac_ESP', 'paradigma_media', 'MarianaEguaras', 'DealerWorldes', 'ftomillo', 'odonelorza2011', 'FPilares', 'hoyalicante', 'utopic_us', 'CLM_Podemos', 'Theanswer83', 'AbrahamPriego96', 'aedv_es', 'correaturitmo', 'empremadrimasd', 'Alcazabaalmeria', 'csaune', 'PSOEMadridAyto', 'pelumixsw', 'lariojaturismo', 'AquestFrederic', 'chary_serrano', 'Albertoflorenzo', 'mati_creainnova', 'LNFS89', 'mariola_fuentes', 'MaesePads', 'ithotelero', 'Parainmigrantes', 'portaldecadiz', 'DiadeValladolid', 'cordopolis_es', 'Euroinnova', 'minte1974', 'myaLogistica', 'infoVLL', 'tazodemew', 'Reale_Seguros', 'la_oveja_negra', 'asammajadahonda', 'pita1917malaga', 'chupchupchup', 'elisadelanuez', 'satorilibros', 'Rubilla25', 'UmiAmaiOfficial', 'AmazonModaMujer', 'Ecoteuve', 'PatriHorrillo', 'LibertoPalauSer', 'LucreciaBorgia2', 'millanfernandez', 'UniversidadeUSC', 'UJCE', 'tabakalera', 'erreuvedos', 'prensaCEE', 'planvex', 'flipped_primary', 'mkalicante', 'pitudedeu', 'rabillodelojo', 'Gadabarthes', 'Servigroup', 'accionpsoriasis', 'Davellanedar', 'amandolacocina', 'Ayto_SS', 'XerezCD_OFICIAL', 'iNnFeR_HD', 'allneedfeminist', 'juanlarzabal', 'CeutaTV', 'estefaniaaa00', 'APAFCV', 'Kifkif_iguales', 'radioarlanzon', 'Minuto90com', 'vozpontevedra', 'ManuelRevilla57', 'InformaticoTota', 'isa_iglesias_al', 'BuenosDiasTM', 'CuadraUni', 'Lainalovicht', 'RamonRomanR', 'dxtcampeon', 'feriavalladolid', 'ElPayPay', 'jcaahg', 'JulioBasulto_DN', 'niallsxndrome', 'Plenainclusion', 'johntones', 'IreneGallardo67', 'AlrevesEditor', 'DexeusMujer', 'DiarideTerrassa', 'AgroActualidad', 'museupicasso', 'ICEXArgelia', 'MiguelAlcalaP', 'Darwiniano', 'CNTA_CIT', 'lmonterorguez', 'nomarbcn', 'Jbelli59', 'taponceteveloz', 'navarromoralesa', 'madridista_lov3', 'caioalves_12', 'Uhandrea', 'uniovi_info', 'EU_IPO', 'Relatofeminista', 'Segoviaaldia', 'Junta_Educacion', '_indiference_', 'Nopanaden', 'CAvilesPhoto', 'CorreosExpress', 'HellyonWhite', 'ORMurcia', 'ra_LA_me', 'nicolasmsarries', 'mcantalapiedra', 'GentedePaz1940', 'Circuito_Jarama', 'marigelpellin', 'periodicoclm', 'TeamDUXGaming', 'DaniAlvarezEiTB', 'InstaSamer', 'ReligionDigit', 'Pamplonajoven', 'albertarranz', 'PPRMurcia', 'Cepyme_Emprende', 'citmarbella', 'daviiiiiiii8', 'SECCIF', 'jmgilt', 'ConNdeNegrito', 'ConnyRACING', 'CanalMalagaRTV', 'MontserratLpez8', 'InjuveSpain', 'museobilbao', 'PijusMagnificvs', 'Pecoseta56', 'RaiolaNetworks', 'PactoMundial', 'okokitsme', 'enrilink', 'hoysevilla', 'nosolomanga', 'alvaro7carvajal', 'carolacaracola5', 'Guadanews_es', 'LGTBNews', 'AntonioNonato28', 'Nil_AG1', 'layetano10', 'Mrjorgetorre', '_adunti_net_', 'hospitaldelmar', 'TICsyFormacion', 'love_valencia', 'sara_heba', 'pikaramagazine', 'JuntaEx_Empleo', 'echarameli', 'tweetzurigorri', 'Fycma', 'republicaclm', 'hogarmania', 'kicoes', 'Informatico_ZGZ', 'movilonia', 'TonichanPiedra', 'attacespana', 'bromera', 'elnacionalcat_e', 'PABLOROBLEDO_', 'PopularesJerez', 'JosemiGamesYT', 'GuerraDeMedios', 'canalls77', 'ArcadeNoeSevill', 'SusodeToro1', 'GerardoCebrian', 'Ayto_Coslada', 'carmensuisse', 'Hayunaautopista', 'TCalderonVLL', 'MalagaJunta', 'EmpleoSevilla_', 'GrupoTalia', 'Sanfermin00', 'noticiascyl', 'PuertadelaNoche', 'Per_Energia', 'crisalvap', 'zaidacastillo51', 'Club_Ecommerce', 'JaimeBN1987', 'RadioMariaSpain', 'Voldage', 'huerta_digital', 'Cinemascomics', 'mamparasblau', 'itziarwxst', 'KikeMlaga', 'SigueLumen', 'onthespot', 'cruzdeguiaser', 'RMadridistaReal', 'CajaGranadaOBS', 'TosfritOficial', 'cocinadeenloqui', 'epmediterraneo', 'DuroBelinda', 'SaraHispania', 'Nortexpres', 'Innobasque', 'JoanSeguidor', 'VBegoa', 'podemosmurcia', 'AVEBIOM', 'dinahosting', 'CartagenaFS', 'lapaseata', 'learningenlish', 'frmat', 'olliver2013', 'poilemutawi', 'sorianoticias', 'baratukin', 'c_Emprende_Alc', 'DefensorAndaluz', 'cristinabosca', 'uvemayuscula', 'mundoficcion', 'ProfdonPardino', 'locosxlosviajes', 'RS_Gimnastica', 'cla1112', 'gamificatuaula', 'SanlucarInfo', 'EduardoBandera1', 'exp_ecodigital', 'BCD_barcelona', 'jatirado', 'Fromerofoto', 'CiudadDBadajoz', 'jaime_delbarrio', 'Esp_Marvelita', 'enisa', 'santiagonavajas', 'patriziamiani', 'HollyMolly', 'Legalitas_ES', 'HoffmannMethod', 'JordiVillalobo', 'tthisisanna', 'ViveLaBolsa', 'clubbing_spain', 'JoveSocialistes', 'LaTribunaCR', 'casanovafoto', 'SantiCamach0', 'machadodz', 'Navarroantolin', 'masque_sonrisas', 'elmundocultura', 'maximors45', 'campussanofi', 'FloresAaroon', 'UGT_Comunica', 'UNIRuniversidad', 'edugaresp', 'RaimonDuran', 'eldiarioclm', 'Beticismo', '7canibales', 'feministaHarta', 'RafaLagoon', 'OMP_ES', 'ignaciopeyro', 'FLMadrid', 'javimonsalupe', 'SURDeporte', 'AgronewsCyL', 'AndromedasPop', 'Locaxlostacones', 'manubenas', 'Malaga_Sensual', 'Top_Restaurante', 'telemadrid', 'malorenzo', 'TVGalicia', '_CENTAC_', 'OED_Olivenza', 'ValenciansxTU', 'attacmadrid', 'CondondeJaen', 'Difusion365', 'deLectorALector', 'EntidadDigital', 'intermediae', 'PlenaMadrid', 'Inforesidencias', 'Rankia', 'Esri_Spain', 'SpanishFher', 'IDCSpain', 'duduipa', 'charlygp', 'Sandra_Cum', 'Marialovessea', 'je_pala', 'liopardo', 'madridactual', 'Busqueda_Empleo', 'HAUPOLD', 'MedionIberia', 'PsicologoMurcia', 'PalmaFutsal', 'MovilZona', 'KrITIK4L', 'Ieticiatorres', 'davidroig1', 'tonix65', 'TerritorioH', 'EnLuchaMujeres', 'mcarmenjuan', 'AresCases', 'SuperTrinos', 'PodemosCMadrid', 'LuciaDelgado04', 'Mangeles_HM', 'PerezMaura', 'mallorcadiario', 'alvientooo', 'Mamis_AM', 'AS_Ciclismo', 'PacoGrandeTVE', 'FundCreate', 'healthdevice', 'PodiumPodcast', 'ElislotedeCaro', 'EquidistanteZen']\n"
     ]
    }
   ],
   "source": [
    "print(len(set_new_users))\n",
    "print(set_new_users)"
   ]
  },
  {
   "cell_type": "code",
   "execution_count": 18,
   "metadata": {
    "collapsed": true
   },
   "outputs": [],
   "source": [
    "list_of_tweets = []\n",
    "status_0_users = []\n",
    "status_2_users = []"
   ]
  },
  {
   "cell_type": "code",
   "execution_count": 19,
   "metadata": {
    "scrolled": true
   },
   "outputs": [
    {
     "name": "stdout",
     "output_type": "stream",
     "text": [
      "aplausos\n",
      "..photoespana\n",
      "..Toliol\n",
      "..jgarciabuitron\n",
      "..CE4reputation\n",
      "..madresfera\n",
      "...pacomeroo\n",
      "......CarrascoAntonia\n",
      "...alfredo15489\n",
      "..robertobgdoc\n",
      "...Ainhoa_superman\n",
      "..24clm\n",
      "..PedroBDonoso\n",
      ".AytoAlcalaH\n",
      "..MariaTabarnia\n",
      "..CoroBrothers\n",
      "..finect\n",
      ".IPesqueras\n",
      ".Lady_Madrid1978\n",
      ".BenetBeca\n",
      "............Status : 2\n",
      "AwesomeeIris\n",
      "............Status : 2\n",
      "christinalosada\n",
      ".......dondeestawally7\n",
      ".TNOradio\n",
      ".marcgarrigasait\n",
      "..NotaVeraz\n",
      "............Status : 2\n",
      "MissMacGuffin\n",
      ".fray_fanatic\n",
      "...jxvig\n",
      ".VMatterfilm\n",
      "......huelvaya\n",
      ".gilstefania\n",
      ".BuddhaSeeds\n",
      "..Albiazules\n",
      "..pprimor\n",
      "....novelasHispania\n",
      "..geologoenapuros\n",
      ".inesluis\n",
      "............Status : 2\n",
      "LuisDeveraux\n",
      ".electo_mania\n",
      "..Autores_noveles\n",
      "..CENIEH\n",
      "......ciospain\n",
      ".......veredes\n",
      "......GrupoEnergia16\n",
      ".ITReseller_ITDM\n",
      "..JordiEstradaB\n",
      "..devilishgames\n",
      "....gasteizhoy\n",
      ".aragonradio\n",
      ".RecruitErasmus\n",
      ".batiralibex35\n",
      "...Daurmith\n",
      "..CorunaNoticias\n",
      ".enfermeratweet\n",
      ".Laura0Garcia\n",
      "..Sergio_Cala\n",
      "...........METALOCUS\n",
      "..UNICEFAndalucia\n",
      "..brunoalemany\n",
      "..matiasjurisich\n",
      ".RollingStonx\n",
      ".......ByGamerEspHD\n",
      "..silviaalava\n",
      "....NuriaCSopena\n",
      ".........DiarioPalentino\n",
      ".canteradelezama\n",
      "..emilio_delrio\n",
      ".abc_deportes\n",
      ".kolontai1959\n",
      "...SEUR_responde\n",
      ".TianRiba\n",
      "............Status : 2\n",
      "El_Distrito\n",
      "...sergimiquel\n",
      "..UniversiParty\n",
      "..CsHospitalet\n",
      "..LibreriaCalamo\n",
      "..Siempree_Racing\n",
      "..wikiCR\n",
      ".......plazadeportiva_\n",
      ".DMHobby\n",
      "...antonioperal\n",
      "...nanaactitud\n",
      "....mapaone\n",
      "....gominolasdpetro\n",
      "..PepeluArteSacro\n",
      "............Status : 2\n",
      "LaRedRevela\n",
      "............Status : 2\n",
      "lavozdealmeria\n",
      ".MiguelRevelles\n",
      "...diariodeburgos\n",
      ".anisalud\n",
      "....CostaCadiz_\n",
      "...Forbes_es\n",
      "..mirrocafort\n",
      "............Status : 2\n",
      "Ship2B\n",
      ".diegoojeda85\n",
      "..Magisnet\n",
      "..CinePerello\n",
      ".CristinaSegui_\n",
      "..ZenqiuTech\n",
      "...........libroscom\n",
      "..fPlantas\n",
      ".MiercolesRepub1\n",
      "....bibliovirtual\n",
      "...avalmadrid\n",
      ".LaRegion\n",
      ".U_Explorers\n",
      "..ReasonW\n",
      ".Teaming\n",
      "...consaludmental\n",
      "...UAM_Madrid\n",
      ".adsuara\n",
      ".PerisMencheta\n",
      "..univcadiz\n",
      "..billiesastre\n",
      "...marfilmanzana6\n",
      ".UnaVidaTatuada\n",
      "....andaluciainf\n",
      ".Ferrol360\n",
      ".almantor\n",
      ".leonoticias_\n",
      ".diasextoreturns\n",
      "...ideagro\n",
      "...anaoromi\n",
      "............Status : 2\n",
      "WeLoversize\n",
      "..holesec\n",
      "...nanilabraDoor\n",
      "...carlosparra650\n",
      ".....Value_school\n",
      "..Creativolandia\n",
      "...EFE_estilo\n",
      ".360_Hardware\n",
      ".librotea\n",
      ".xaviborrell\n",
      "..InstitutoRoche\n",
      "..LaMaribe_\n",
      "..Junta_Ex\n",
      ".delikatissen\n",
      ".victor3000obst\n",
      "..SandraCabeza\n",
      ".._liberales\n",
      "............Status : 2\n",
      "JuanitoLibritos\n",
      "..fernandot\n",
      "..ALTER_info\n",
      "....EADABusiness\n",
      "..LuisMenotti78\n",
      "...PilarConesa\n",
      "....angel_rivera8\n",
      "..elcorreogallego\n",
      ".filmax\n",
      "..VAVELcom\n",
      "..Lupe_\n",
      "...AragonEMPRESA\n",
      "...gppmur\n",
      "..noticiasmadrid\n",
      ".tesseracthor\n",
      "..CustomTechES\n",
      ".toniaira\n",
      "..IzcaNacional\n",
      "............Status : 2\n",
      "BuzzFeedEspana\n",
      ".zanguanga\n",
      "..GuardiaDigital\n",
      "............Status : 2\n",
      "evasanagustin\n",
      "..UniversiToro\n",
      "..marubimo\n",
      ".......aaronasenciofer\n",
      "..ceutaldia\n",
      "..SanGomezLopez\n",
      "...SilkenAlAndalus\n",
      ".IAB_Spain\n",
      "..cielikolindo\n",
      "...KacoForns\n",
      "..cronicaglobal\n",
      ".Pableineken\n",
      "..Pepelias17_\n",
      "..yosoynaranjito_\n",
      "......SergioRomeroJ\n",
      "....salvasalva9\n",
      "............Status : 2\n",
      "Enteremonos\n",
      "............Status : 2\n",
      "dearquitectos\n",
      "..WinyFog\n",
      ".cinacio06\n",
      "..ClinicaCEMTRO\n",
      "..AunCLICdelasTIC\n",
      ".pitiklinov\n",
      "..infoSCQ\n",
      "..valenciaplaza\n",
      ".portaltaurino\n",
      "..planetacb\n",
      ".economicreativa\n",
      ".DiarioDAlmeria\n",
      ".bellaindomita\n",
      "..DIRyGE\n",
      ".rebeldesonline\n",
      ".teatenerife\n",
      "..Muy_Mascotas\n",
      ".Donutsholeband\n",
      "....ODValencia\n",
      ".JRMelara_ITDM\n",
      "..UOCuniversidad\n",
      "..Ediciones_Urano\n",
      "...equomadrid\n",
      "....RJBOTANICO\n",
      "....AS_Motor\n",
      ".AytoMurcia\n",
      "...AndreGuilhoto94\n",
      ".JenMakeUpGlam\n",
      ".sergioantillano\n",
      ".......DominaZara\n",
      "...redrunacional\n",
      "..zaragozaencomun\n",
      "....DarKohCR\n",
      "..francesca_borgo\n",
      ".navarra_com\n",
      ".Eldiadigital_es\n",
      ".Yurena_\n",
      "...JimmyJazzGz\n",
      "......AnaCarrasco_22\n",
      "..bcntechcity\n",
      "...migquintana\n",
      "..futmondo\n",
      ".RogerDomingo\n",
      "..antoral\n",
      "..la_ferrer\n",
      ".......CJPampliega\n",
      "..ConMovimientos\n",
      "......libreriapraga\n",
      "..superwomanroja\n",
      "..AlcalaYmas\n",
      "..Tesa29053098\n",
      "............Status : 2\n",
      "Tuitiritero\n",
      ".........cvc_cervantes\n",
      "...inosenada\n",
      ".EcodeTeruel\n",
      ".dev_es\n",
      "............Status : 2\n",
      "QDfotos\n",
      "..ugtcatalunya\n",
      "...AytoAviles\n",
      "..jfh2651\n",
      "..........simaexpo\n",
      "..Estetic_es\n",
      ".ATQaTuCorazon\n",
      "......conecta\n",
      ".fempcomunica\n",
      "..vai3333\n",
      "..loretoochando\n",
      "....NoticiasdeAita\n",
      "...DbenavidesMReal\n",
      ".....Educo_ONG\n",
      "....LKhyal\n",
      "..CooperacionESP\n",
      ".......YoEstoyEnMadrid\n",
      ".CtoValencia\n",
      "..elpublicistacom\n",
      "....basquetcoruna\n",
      "...Mariagtriana\n",
      "............Status : 2\n",
      "CobasFunds\n",
      "...Cantabria24h\n",
      ".MuyComputerPRO\n",
      ".NoSoyLaGente\n",
      "..ViuValencia\n",
      "..semfyc\n",
      "..aovecarrasqueno\n",
      ".segurostv\n",
      ".AeasAgua\n",
      "...Recuerdos_Mo\n",
      "...emulenews\n",
      "...FundATRESMEDIA\n",
      "..teoleongross\n",
      "...elenay29\n",
      "............Status : 2\n",
      "JapanEmb_Spain\n",
      "..ComputerworldES\n",
      "...PepeGalleta60\n",
      "......Cambio16\n",
      ".ChristiansCCR\n",
      "............Status : 2\n",
      "ChiringuitoMeg\n",
      "..PlatInvestUCM\n",
      "...AntonioJHF\n",
      ".JavierMonzon2\n",
      "...monasterioR\n",
      "....tererecetas\n",
      "..CAC_Fnac_ESP\n",
      ".paradigma_media\n",
      "...MarianaEguaras\n",
      "..DealerWorldes\n",
      ".....ftomillo\n",
      ".....odonelorza2011\n",
      "...FPilares\n",
      "...hoyalicante\n",
      "...utopic_us\n",
      "..CLM_Podemos\n",
      ".......Theanswer83\n",
      "..AbrahamPriego96\n",
      "............Status : 2\n",
      "aedv_es\n",
      "...correaturitmo\n",
      "...empremadrimasd\n",
      "...Alcazabaalmeria\n",
      ".csaune\n",
      "...PSOEMadridAyto\n",
      "..pelumixsw\n",
      ".lariojaturismo\n",
      "...AquestFrederic\n",
      "............Status : 2\n",
      "chary_serrano\n",
      "...Albertoflorenzo\n",
      ".....mati_creainnova\n",
      "...LNFS89\n",
      ".mariola_fuentes\n",
      "............Status : 2\n",
      "MaesePads\n",
      "...ithotelero\n",
      "...Parainmigrantes\n",
      ".portaldecadiz\n",
      ".DiadeValladolid\n",
      ".cordopolis_es\n",
      ".Euroinnova\n",
      "...minte1974\n",
      "...myaLogistica\n",
      "..infoVLL\n",
      ".tazodemew\n",
      "..Reale_Seguros\n",
      "..la_oveja_negra\n",
      "..asammajadahonda\n",
      "...........pita1917malaga\n",
      "...chupchupchup\n",
      "..elisadelanuez\n",
      "..........satorilibros\n",
      "..Rubilla25\n",
      "............Status : 2\n",
      "UmiAmaiOfficial\n",
      "..AmazonModaMujer\n",
      "............Status : 2\n",
      "Ecoteuve\n",
      ".PatriHorrillo\n",
      "....LibertoPalauSer\n",
      "............Status : 2\n",
      "LucreciaBorgia2\n",
      "...millanfernandez\n",
      "....UniversidadeUSC\n",
      "...UJCE\n",
      "..........tabakalera\n",
      ".erreuvedos\n",
      "..prensaCEE\n",
      "..planvex\n",
      ".flipped_primary\n",
      "....mkalicante\n",
      "..pitudedeu\n",
      "......rabillodelojo\n",
      "..Gadabarthes\n",
      "..Servigroup\n",
      "..accionpsoriasis\n",
      "..Davellanedar\n",
      "..amandolacocina\n",
      "....Ayto_SS\n",
      "..XerezCD_OFICIAL\n",
      ".iNnFeR_HD\n",
      "..allneedfeminist\n",
      "............Status : 2\n",
      "juanlarzabal\n",
      "...CeutaTV\n",
      ".estefaniaaa00\n",
      "...APAFCV\n",
      ".Kifkif_iguales\n",
      "...radioarlanzon\n",
      "...Minuto90com\n",
      ".vozpontevedra\n",
      ".ManuelRevilla57\n",
      "...InformaticoTota\n",
      ".isa_iglesias_al\n",
      "..BuenosDiasTM\n",
      ".CuadraUni\n",
      ".Lainalovicht\n",
      ".....RamonRomanR\n",
      ".......dxtcampeon\n",
      ".....feriavalladolid\n",
      "............Status : 2\n",
      "ElPayPay\n",
      "..jcaahg\n",
      "............Status : 2\n",
      "JulioBasulto_DN\n",
      ".....niallsxndrome\n",
      "..Plenainclusion\n",
      "..johntones\n",
      "...IreneGallardo67\n",
      "......AlrevesEditor\n",
      "...DexeusMujer\n",
      "..DiarideTerrassa\n",
      ".AgroActualidad\n",
      "....museupicasso\n",
      ".ICEXArgelia\n",
      "..MiguelAlcalaP\n",
      "..Darwiniano\n",
      "...CNTA_CIT\n",
      "..lmonterorguez\n",
      ".nomarbcn\n",
      "............Status : 2\n",
      "Jbelli59\n",
      "...taponceteveloz\n",
      ".Status : 0\n",
      "navarromoralesa\n",
      ".Status : 0\n",
      "madridista_lov3\n",
      ".Status : 0\n",
      "caioalves_12\n",
      ".Status : 0\n",
      "Uhandrea\n",
      ".Status : 0\n",
      "uniovi_info\n",
      ".Status : 0\n",
      "EU_IPO\n",
      ".Relatofeminista\n",
      "..Segoviaaldia\n",
      ".Junta_Educacion\n",
      "...._indiference_\n",
      "...Nopanaden\n",
      "..CAvilesPhoto\n",
      "...CorreosExpress\n",
      ".HellyonWhite\n",
      "..ORMurcia\n",
      ".ra_LA_me\n",
      "..nicolasmsarries\n",
      "..mcantalapiedra\n",
      "..GentedePaz1940\n",
      "..Circuito_Jarama\n",
      "..marigelpellin\n",
      ".periodicoclm\n",
      "...TeamDUXGaming\n",
      "..DaniAlvarezEiTB\n",
      "..InstaSamer\n",
      "..ReligionDigit\n",
      "..Pamplonajoven\n",
      "...albertarranz\n",
      "..PPRMurcia\n",
      "...Cepyme_Emprende\n",
      "..citmarbella\n",
      "..daviiiiiiii8\n",
      "......SECCIF\n",
      "..jmgilt\n",
      "...ConNdeNegrito\n",
      "..ConnyRACING\n",
      ".CanalMalagaRTV\n",
      "..MontserratLpez8\n",
      "...InjuveSpain\n",
      "..museobilbao\n",
      ".PijusMagnificvs\n",
      "..Pecoseta56\n",
      "............Status : 2\n",
      "RaiolaNetworks\n",
      "...PactoMundial\n",
      "..okokitsme\n",
      ".........enrilink\n",
      "...hoysevilla\n",
      "..nosolomanga\n",
      "...alvaro7carvajal\n",
      "...carolacaracola5\n",
      "............Status : 2\n",
      "Guadanews_es\n",
      ".LGTBNews\n",
      "..AntonioNonato28\n",
      ".Nil_AG1\n",
      "....layetano10\n",
      ".....Mrjorgetorre\n",
      "._adunti_net_\n",
      "..hospitaldelmar\n",
      "..TICsyFormacion\n",
      ".love_valencia\n",
      ".sara_heba\n",
      "....pikaramagazine\n",
      "..JuntaEx_Empleo\n",
      "..echarameli\n",
      "..tweetzurigorri\n",
      "..Fycma\n",
      "..republicaclm\n",
      "............Status : 2\n",
      "hogarmania\n",
      "..kicoes\n",
      "...Informatico_ZGZ\n",
      "............Status : 2\n",
      "movilonia\n",
      "...TonichanPiedra\n",
      ".attacespana\n",
      "...bromera\n",
      "...elnacionalcat_e\n",
      "..PABLOROBLEDO_\n",
      "............Status : 2\n",
      "PopularesJerez\n",
      "....JosemiGamesYT\n",
      "..GuerraDeMedios\n",
      "..canalls77\n",
      ".....ArcadeNoeSevill\n",
      ".SusodeToro1\n",
      "......GerardoCebrian\n",
      "..Ayto_Coslada\n",
      "..carmensuisse\n",
      "..Hayunaautopista\n",
      "............Status : 2\n",
      "TCalderonVLL\n",
      "..MalagaJunta\n",
      ".....EmpleoSevilla_\n",
      ".GrupoTalia\n",
      "...Sanfermin00\n",
      "............Status : 2\n",
      "noticiascyl\n",
      ".PuertadelaNoche\n",
      "....Per_Energia\n",
      ".crisalvap\n",
      "...zaidacastillo51\n",
      "............Status : 2\n",
      "Club_Ecommerce\n",
      "..JaimeBN1987\n",
      "..RadioMariaSpain\n",
      "..Voldage\n",
      ".huerta_digital\n",
      ".....Cinemascomics\n"
     ]
    },
    {
     "name": "stdout",
     "output_type": "stream",
     "text": [
      "..mamparasblau\n",
      ".itziarwxst\n",
      "..KikeMlaga\n",
      "........SigueLumen\n",
      "....onthespot\n",
      "..cruzdeguiaser\n",
      ".RMadridistaReal\n",
      "...CajaGranadaOBS\n",
      "..TosfritOficial\n",
      ".cocinadeenloqui\n",
      ".epmediterraneo\n",
      "...DuroBelinda\n",
      "............Status : 2\n",
      "SaraHispania\n",
      "............Status : 2\n",
      "Nortexpres\n",
      ".Innobasque\n",
      "...JoanSeguidor\n",
      "..VBegoa\n",
      "..podemosmurcia\n",
      "....AVEBIOM\n",
      "...dinahosting\n",
      "..CartagenaFS\n",
      "..lapaseata\n",
      "............Status : 2\n",
      "learningenlish\n",
      "............Status : 2\n",
      "frmat\n",
      "........olliver2013\n",
      "............Status : 2\n",
      "poilemutawi\n",
      "...sorianoticias\n",
      ".baratukin\n",
      ".c_Emprende_Alc\n",
      "..DefensorAndaluz\n",
      ".cristinabosca\n",
      "...uvemayuscula\n",
      "..mundoficcion\n",
      "....ProfdonPardino\n",
      "..locosxlosviajes\n",
      "..RS_Gimnastica\n",
      "............Status : 2\n",
      "cla1112\n",
      "............Status : 2\n",
      "gamificatuaula\n",
      "....SanlucarInfo\n",
      ".EduardoBandera1\n",
      "..exp_ecodigital\n",
      ".BCD_barcelona\n",
      ".jatirado\n",
      "............Status : 2\n",
      "Fromerofoto\n",
      "..CiudadDBadajoz\n",
      "..jaime_delbarrio\n",
      "...........Esp_Marvelita\n",
      ".enisa\n",
      ".santiagonavajas\n",
      ".patriziamiani\n",
      "............Status : 2\n",
      "HollyMolly\n",
      ".Legalitas_ES\n",
      ".HoffmannMethod\n",
      "....JordiVillalobo\n",
      "..tthisisanna\n",
      "............Status : 2\n",
      "ViveLaBolsa\n",
      ".clubbing_spain\n",
      ".JoveSocialistes\n",
      "..LaTribunaCR\n",
      ".casanovafoto\n",
      "..SantiCamach0\n",
      "...machadodz\n",
      "....Navarroantolin\n",
      "......masque_sonrisas\n",
      "...elmundocultura\n",
      "...maximors45\n",
      "............Status : 2\n",
      "campussanofi\n",
      "..FloresAaroon\n",
      "..UGT_Comunica\n",
      "....UNIRuniversidad\n",
      "..edugaresp\n",
      ".....RaimonDuran\n",
      "...eldiarioclm\n",
      ".Beticismo\n",
      "..7canibales\n",
      "..feministaHarta\n",
      "............Status : 2\n",
      "RafaLagoon\n",
      "..OMP_ES\n",
      "...ignaciopeyro\n",
      "...FLMadrid\n",
      "..javimonsalupe\n",
      "..SURDeporte\n",
      "..AgronewsCyL\n",
      ".AndromedasPop\n",
      ".Locaxlostacones\n",
      "..manubenas\n",
      "...Malaga_Sensual\n",
      "..Top_Restaurante\n",
      ".telemadrid\n",
      ".malorenzo\n",
      "..TVGalicia\n",
      "._CENTAC_\n",
      "...OED_Olivenza\n",
      ".ValenciansxTU\n",
      "..attacmadrid\n",
      "...CondondeJaen\n",
      "...Difusion365\n",
      "............Status : 2\n",
      "deLectorALector\n",
      "..EntidadDigital\n",
      "............Status : 2\n",
      "intermediae\n",
      "..PlenaMadrid\n",
      "...Inforesidencias\n",
      "..Rankia\n",
      ".Esri_Spain\n",
      "...SpanishFher\n",
      "..IDCSpain\n",
      "..duduipa\n",
      "...charlygp\n",
      "..Sandra_Cum\n",
      ".Marialovessea\n",
      "............Status : 2\n",
      "je_pala\n",
      "....liopardo\n",
      ".madridactual\n",
      ".Busqueda_Empleo\n",
      ".HAUPOLD\n",
      "............Status : 2\n",
      "MedionIberia\n",
      "..PsicologoMurcia\n",
      "..PalmaFutsal\n",
      ".MovilZona\n",
      "..KrITIK4L\n",
      "..Ieticiatorres\n",
      "..davidroig1\n",
      "..tonix65\n",
      "............Status : 2\n",
      "TerritorioH\n",
      "..EnLuchaMujeres\n",
      ".....mcarmenjuan\n",
      "..AresCases\n",
      "..SuperTrinos\n",
      "............Status : 2\n",
      "PodemosCMadrid\n",
      "...LuciaDelgado04\n",
      "....Mangeles_HM\n",
      "..PerezMaura\n",
      "...mallorcadiario\n",
      ".alvientooo\n",
      "...Mamis_AM\n",
      ".....AS_Ciclismo\n",
      ".PacoGrandeTVE\n",
      ".....FundCreate\n",
      "....healthdevice\n",
      "............Status : 2\n",
      "PodiumPodcast\n",
      "....ElislotedeCaro\n",
      "....EquidistanteZen\n",
      "......."
     ]
    }
   ],
   "source": [
    "import time\n",
    "for name in set_new_users:\n",
    "    print(name)\n",
    "    status, tweets = get_10tweets(name)\n",
    "    time.sleep(30)\n",
    "    if status == 1:\n",
    "        list_of_tweets.extend(tweets)\n",
    "    elif status == 0:\n",
    "        print(\"Status : 0\")\n",
    "        status_0_users.append(name)\n",
    "    else:\n",
    "        print(\"Status : 2\")\n",
    "        status_2_users.append(name)\n",
    "        list_of_tweets.extend(tweets)"
   ]
  },
  {
   "cell_type": "code",
   "execution_count": 21,
   "metadata": {},
   "outputs": [
    {
     "name": "stdout",
     "output_type": "stream",
     "text": [
      "6487\n"
     ]
    }
   ],
   "source": [
    "print(len(list_of_tweets))"
   ]
  },
  {
   "cell_type": "code",
   "execution_count": 22,
   "metadata": {
    "collapsed": true
   },
   "outputs": [],
   "source": [
    "collection = db['users_noRT']\n",
    "for name in set_new_users:\n",
    "    doc = {}\n",
    "    doc['name'] = name\n",
    "    collection.insert_one(doc)"
   ]
  },
  {
   "cell_type": "code",
   "execution_count": 23,
   "metadata": {
    "collapsed": true
   },
   "outputs": [],
   "source": [
    "collection = db['tweets_noRT']\n",
    "for tweet in list_of_tweets:\n",
    "    collection.insert_one(tweet)"
   ]
  },
  {
   "cell_type": "code",
   "execution_count": 124,
   "metadata": {
    "collapsed": true
   },
   "outputs": [],
   "source": [
    "set_usernames_1 = set_user_names"
   ]
  },
  {
   "cell_type": "code",
   "execution_count": 125,
   "metadata": {},
   "outputs": [
    {
     "name": "stdout",
     "output_type": "stream",
     "text": [
      "486\n"
     ]
    }
   ],
   "source": [
    "print(len(set_usernames_1))"
   ]
  },
  {
   "cell_type": "code",
   "execution_count": 165,
   "metadata": {
    "collapsed": true
   },
   "outputs": [],
   "source": [
    "set_tweets_1 = list_of_tweets"
   ]
  },
  {
   "cell_type": "code",
   "execution_count": 166,
   "metadata": {},
   "outputs": [
    {
     "name": "stdout",
     "output_type": "stream",
     "text": [
      "3927\n"
     ]
    }
   ],
   "source": [
    "print(len(set_tweets_1))"
   ]
  },
  {
   "cell_type": "code",
   "execution_count": 181,
   "metadata": {
    "collapsed": true
   },
   "outputs": [],
   "source": [
    "set_usernames_2 = []"
   ]
  },
  {
   "cell_type": "code",
   "execution_count": 182,
   "metadata": {
    "collapsed": true
   },
   "outputs": [],
   "source": [
    "for name in set_user_names:\n",
    "    if name not in set_usernames_1:\n",
    "        set_usernames_2.append(name)"
   ]
  },
  {
   "cell_type": "code",
   "execution_count": 183,
   "metadata": {},
   "outputs": [
    {
     "name": "stdout",
     "output_type": "stream",
     "text": [
      "1035\n"
     ]
    }
   ],
   "source": [
    "print(len(set_usernames_2))"
   ]
  },
  {
   "cell_type": "code",
   "execution_count": 185,
   "metadata": {
    "collapsed": true
   },
   "outputs": [],
   "source": [
    "collection = db['users_noRT']\n",
    "for name in set_usernames_2:\n",
    "    doc = {}\n",
    "    doc['name'] = name\n",
    "    collection.insert_one(doc)"
   ]
  },
  {
   "cell_type": "code",
   "execution_count": 186,
   "metadata": {
    "collapsed": true
   },
   "outputs": [],
   "source": [
    "set_tweets_2 = []"
   ]
  },
  {
   "cell_type": "code",
   "execution_count": 187,
   "metadata": {
    "collapsed": true
   },
   "outputs": [],
   "source": [
    "for tweet in list_of_tweets:\n",
    "    if tweet not in set_tweets_1:\n",
    "        set_tweets_2.append(tweet)"
   ]
  },
  {
   "cell_type": "code",
   "execution_count": 188,
   "metadata": {},
   "outputs": [
    {
     "name": "stdout",
     "output_type": "stream",
     "text": [
      "6679\n"
     ]
    }
   ],
   "source": [
    "print(len(set_tweets_2))"
   ]
  },
  {
   "cell_type": "code",
   "execution_count": 189,
   "metadata": {
    "collapsed": true
   },
   "outputs": [],
   "source": [
    "collection = db['tweets_noRT']\n",
    "for tweet in set_tweets_2:\n",
    "    collection.insert_one(tweet)"
   ]
  },
  {
   "cell_type": "code",
   "execution_count": 190,
   "metadata": {
    "collapsed": true
   },
   "outputs": [],
   "source": [
    "collection = db['users_noRT']\n",
    "cursor = collection.find()\n",
    "\n",
    "for doc in cursor:\n",
    "    if doc['name'] in status_0_users:\n",
    "        collection.delete_one({'name': doc['name']})"
   ]
  },
  {
   "cell_type": "code",
   "execution_count": 191,
   "metadata": {},
   "outputs": [
    {
     "name": "stdout",
     "output_type": "stream",
     "text": [
      "46\n"
     ]
    }
   ],
   "source": [
    "print(len(status_0_users))"
   ]
  },
  {
   "cell_type": "code",
   "execution_count": 192,
   "metadata": {},
   "outputs": [
    {
     "name": "stdout",
     "output_type": "stream",
     "text": [
      "537\n"
     ]
    }
   ],
   "source": [
    "print(len(status_2_users))"
   ]
  },
  {
   "cell_type": "code",
   "execution_count": 8,
   "metadata": {
    "collapsed": true
   },
   "outputs": [],
   "source": [
    "#************************************************************************************\n",
    "# Scrap some verified users\n",
    "set_new_users = []"
   ]
  },
  {
   "cell_type": "code",
   "execution_count": 9,
   "metadata": {
    "collapsed": true
   },
   "outputs": [],
   "source": [
    "with open('verified-users.txt') as f:\n",
    "    lines = f.readlines()\n",
    "    for line in lines:\n",
    "        line = line.strip()\n",
    "        set_new_users.append(line)\n",
    "        "
   ]
  },
  {
   "cell_type": "code",
   "execution_count": 10,
   "metadata": {},
   "outputs": [
    {
     "name": "stdout",
     "output_type": "stream",
     "text": [
      "199\n"
     ]
    }
   ],
   "source": [
    "print(len(set_new_users))"
   ]
  },
  {
   "cell_type": "code",
   "execution_count": null,
   "metadata": {
    "collapsed": true
   },
   "outputs": [],
   "source": []
  }
 ],
 "metadata": {
  "kernelspec": {
   "display_name": "Python 3",
   "language": "python",
   "name": "python3"
  },
  "language_info": {
   "codemirror_mode": {
    "name": "ipython",
    "version": 3
   },
   "file_extension": ".py",
   "mimetype": "text/x-python",
   "name": "python",
   "nbconvert_exporter": "python",
   "pygments_lexer": "ipython3",
   "version": "3.6.3"
  }
 },
 "nbformat": 4,
 "nbformat_minor": 2
}
