{
 "cells": [
  {
   "cell_type": "code",
   "execution_count": 1,
   "metadata": {},
   "outputs": [],
   "source": [
    "import pymongo\n",
    "import numpy as np\n",
    "import pandas as pd\n",
    "import datetime,time"
   ]
  },
  {
   "cell_type": "code",
   "execution_count": 2,
   "metadata": {},
   "outputs": [
    {
     "name": "stdout",
     "output_type": "stream",
     "text": [
      "Connected successfully!!!\n"
     ]
    }
   ],
   "source": [
    "# Connect with mongodb\n",
    "\n",
    "try:\n",
    "    with open(\"credentials.txt\", 'r', encoding='utf-8') as f:\n",
    "        [name,password,url,dbname]=f.read().splitlines()\n",
    "        conn=pymongo.MongoClient(\"mongodb://{}:{}@{}/{}\".format(name,password,url,dbname))\n",
    "    print (\"Connected successfully!!!\")\n",
    "except pymongo.errors.ConnectionFailure as e:\n",
    "    print (\"Could not connect to MongoDB: %s\" % e) \n",
    "    \n",
    "\n",
    "    \n",
    "db = conn['tweempact']\n",
    "collection = db['tweets']"
   ]
  },
  {
   "cell_type": "code",
   "execution_count": 3,
   "metadata": {},
   "outputs": [
    {
     "name": "stderr",
     "output_type": "stream",
     "text": [
      "C:\\Users\\Albert Prat\\Anaconda3\\lib\\site-packages\\ipykernel_launcher.py:1: DeprecationWarning: collection_names is deprecated. Use list_collection_names instead.\n",
      "  \"\"\"Entry point for launching an IPython kernel.\n"
     ]
    },
    {
     "data": {
      "text/plain": [
       "['system.indexes', 'some-tweets', 'tweets', 'tweet_users']"
      ]
     },
     "execution_count": 3,
     "metadata": {},
     "output_type": "execute_result"
    }
   ],
   "source": [
    "db.collection_names()"
   ]
  },
  {
   "cell_type": "code",
   "execution_count": 3,
   "metadata": {},
   "outputs": [],
   "source": [
    "def read_mongo(db, collection, query={}, host='localhost', port=27017, username=None, password=None, no_id=True):\n",
    "    \"\"\" Read from Mongo and Store into DataFrame \"\"\"\n",
    "    \n",
    "    # Make a query to the specific DB and Collection\n",
    "    cursor = db[collection].find(query)\n",
    "\n",
    "    # Expand the cursor and construct the DataFrame\n",
    "    df =  pd.DataFrame(list(cursor))\n",
    "\n",
    "    # Delete the _id\n",
    "    if no_id:\n",
    "        del df['_id']\n",
    "    return df"
   ]
  },
  {
   "cell_type": "code",
   "execution_count": 4,
   "metadata": {},
   "outputs": [],
   "source": [
    "df = read_mongo(db, \"tweets\")"
   ]
  },
  {
   "cell_type": "code",
   "execution_count": 6,
   "metadata": {},
   "outputs": [
    {
     "data": {
      "text/plain": [
       "7480"
      ]
     },
     "execution_count": 6,
     "metadata": {},
     "output_type": "execute_result"
    }
   ],
   "source": [
    "len(df)"
   ]
  },
  {
   "cell_type": "code",
   "execution_count": 7,
   "metadata": {},
   "outputs": [],
   "source": [
    " def author_dataset_conversion(df):   \n",
    "    import time\n",
    "    import numpy as np\n",
    "    import pandas as pd\n",
    "\n",
    "    cleaned = df[[\"id\", \"created_at\",\"entities\", \"extended_entities\",\"favorite_count\",\"retweet_count\",\"source\",\"text\", \"truncated\",\"user\",\"quoted_status_id\"]]\n",
    "    ids = [user[\"id\"] for user in cleaned[\"user\"]]\n",
    "    cleaned[\"id_num\"] = ids\n",
    "\n",
    "    #preparing output variables\n",
    "    output = pd.DataFrame()\n",
    "    users = []\n",
    "    mean_RT_last10,mean_FC_last10 = [],[]\n",
    "    sd_RT,sd_FC  = [],[]\n",
    "    y1,y2=[],[]\n",
    "\n",
    "    for _id in np.unique(ids):\n",
    "        subset = cleaned[cleaned[\"id_num\"]==_id].reset_index(drop=True)\n",
    "\n",
    "        #filtering tweets from all tweets and RT\n",
    "        l = list(subset[\"text\"])\n",
    "        filtr = [\"RT\" not in i for i in l]\n",
    "        subset = subset[pd.Series(filtr)]\n",
    "        if len(subset)>=11:\n",
    "            reindexed = subset[\"created_at\"].reset_index(drop=True)\n",
    "            #convert tweet date into python date\n",
    "            subset[\"created_at_pydate\"] = [time.strftime('%Y-%m-%d %H:%M:%S', time.strptime(reindexed[i],'%a %b %d %H:%M:%S +0000 %Y'))for i in range(0,len(reindexed))]\n",
    "            subset = subset.sort_values(by=\"created_at_pydate\").reset_index(drop=True)\n",
    "\n",
    "            last10_tweets = subset[-11:-1]\n",
    "            last_tweet = subset[-1:]\n",
    "            #RT parameters last 10 tweets\n",
    "            mean_RT_last10.append(np.mean(last10_tweets[\"retweet_count\"]))\n",
    "            sd_RT.append(np.std(last10_tweets[\"retweet_count\"]))\n",
    "            #FC parameters last 10 tweets\n",
    "            mean_FC_last10.append(np.mean(last10_tweets[\"favorite_count\"]))\n",
    "            sd_FC.append(np.std(last10_tweets[\"favorite_count\"]))\n",
    "            #take json user\n",
    "            j_user = subset[-1:][\"user\"].reset_index(drop=True)[0]\n",
    "            users.append(j_user)\n",
    "            #parameters of last tweet\n",
    "            y1.append(np.mean(last_tweet[\"favorite_count\"]))\n",
    "            y2.append(np.mean(last_tweet[\"retweet_count\"]))\n",
    "    output[\"j_user\"]=users\n",
    "    output[\"RT_l10\"]=mean_RT_last10\n",
    "    output[\"sd_RT\"]=sd_RT\n",
    "    output[\"FC_l10\"]=mean_FC_last10\n",
    "    output[\"sd_FC\"]=sd_FC\n",
    "    output[\"FC\"]=y1\n",
    "    output[\"RT\"]=y2\n",
    "    return output"
   ]
  },
  {
   "cell_type": "code",
   "execution_count": 8,
   "metadata": {},
   "outputs": [
    {
     "name": "stderr",
     "output_type": "stream",
     "text": [
      "C:\\Users\\Albert Prat\\Anaconda3\\lib\\site-packages\\ipykernel_launcher.py:8: SettingWithCopyWarning: \n",
      "A value is trying to be set on a copy of a slice from a DataFrame.\n",
      "Try using .loc[row_indexer,col_indexer] = value instead\n",
      "\n",
      "See the caveats in the documentation: http://pandas.pydata.org/pandas-docs/stable/indexing.html#indexing-view-versus-copy\n",
      "  \n"
     ]
    }
   ],
   "source": [
    "output = author_dataset_conversion(df)"
   ]
  },
  {
   "cell_type": "code",
   "execution_count": 11,
   "metadata": {},
   "outputs": [],
   "source": [
    "pd.DataFrame.to_csv(output, \"C:/Users/Albert Prat/Documents/tweempact/datasets/author.csv\")"
   ]
  },
  {
   "cell_type": "code",
   "execution_count": 411,
   "metadata": {},
   "outputs": [
    {
     "data": {
      "text/plain": [
       "'hi        my names'"
      ]
     },
     "execution_count": 411,
     "metadata": {},
     "output_type": "execute_result"
    }
   ],
   "source": [
    "re.sub(\"[(\\n)(\\r)]\", \" \", t)"
   ]
  },
  {
   "cell_type": "code",
   "execution_count": 12,
   "metadata": {},
   "outputs": [],
   "source": [
    "def text_dataset(df):\n",
    "    import re\n",
    "    import pandas as pd\n",
    "    l = list(df[\"text\"])\n",
    "    filtr = [\"RT\" not in i for i in l]\n",
    "    df = df[filtr].reset_index(drop=True)\n",
    "    \n",
    "    Tweet =[re.sub(\"[(\\n)(\\r)]\",\" \",tweet) for tweet in df[\"text\"]]\n",
    "    entities = [tweet for tweet in df[\"entities\"]]\n",
    "    FC = [tweet for tweet in df[\"favorite_count\"]]\n",
    "    RT = [tweet for tweet in df[\"retweet_count\"]]\n",
    "    id_ = [tweet for tweet in df[\"id\"]]\n",
    "    \n",
    "    CA = df[\"created_at\"]\n",
    "    CA_l = [time.strftime('%Y-%m-%d %H:%M:%S', time.strptime(CA[i],'%a %b %d %H:%M:%S +0000 %Y'))for i in range(0,len(CA))]\n",
    "    \n",
    "    output = pd.DataFrame([id_,Tweet,CA_l,entities,FC,RT]).T\n",
    "    output.reset_index(drop=True)\n",
    "    output.columns = [\"id\", \"Tweet\", \"created_at\", \"entities\", \"FC\", \"RT\"]\n",
    "    return output"
   ]
  },
  {
   "cell_type": "code",
   "execution_count": 13,
   "metadata": {},
   "outputs": [],
   "source": [
    "output2 = text_dataset(df)"
   ]
  },
  {
   "cell_type": "code",
   "execution_count": 15,
   "metadata": {},
   "outputs": [
    {
     "data": {
      "text/plain": [
       "3331"
      ]
     },
     "execution_count": 15,
     "metadata": {},
     "output_type": "execute_result"
    }
   ],
   "source": [
    "len(output2)"
   ]
  },
  {
   "cell_type": "code",
   "execution_count": 16,
   "metadata": {},
   "outputs": [],
   "source": [
    "pd.DataFrame.to_csv(output2, \"C:/Users/Albert Prat/Documents/tweempact/datasets/tweet.csv\")"
   ]
  },
  {
   "cell_type": "code",
   "execution_count": null,
   "metadata": {},
   "outputs": [],
   "source": []
  }
 ],
 "metadata": {
  "kernelspec": {
   "display_name": "Python 3",
   "language": "python",
   "name": "python3"
  },
  "language_info": {
   "codemirror_mode": {
    "name": "ipython",
    "version": 3
   },
   "file_extension": ".py",
   "mimetype": "text/x-python",
   "name": "python",
   "nbconvert_exporter": "python",
   "pygments_lexer": "ipython3",
   "version": "3.6.5"
  }
 },
 "nbformat": 4,
 "nbformat_minor": 2
}
