{
 "cells": [
  {
   "cell_type": "code",
   "execution_count": 52,
   "metadata": {},
   "outputs": [],
   "source": [
    "import pandas as pd\n",
    "import numpy as np\n",
    "import tweepy\n",
    "import time\n",
    "\n",
    "def get_10tweets(username, n_tweets = 10, dash = False):\n",
    "    \n",
    "    with open('consumer_key.txt', 'r') as f:\n",
    "        consumer_key =  f.read()\n",
    "    f.closed\n",
    "    \n",
    "    with open('consumer_secret.txt', 'r') as f:\n",
    "        consumer_secret = f.read()\n",
    "    f.closed\n",
    "    \n",
    "    with open('access_key.txt', 'r') as f:\n",
    "        access_key = f.read()\n",
    "    f.closed\n",
    "    \n",
    "    with open('access_secret.txt', 'r') as f:\n",
    "         access_secret = f.read()\n",
    "    f.closed\n",
    "    \n",
    "    \n",
    "    #Authentication\n",
    "    auth = tweepy.OAuthHandler(consumer_key, consumer_secret)\n",
    "    auth.set_access_token(access_key, access_secret)\n",
    "    api = tweepy.API(auth)\n",
    "\n",
    "    tweets_10 = []\n",
    "    count = 10\n",
    "    \n",
    "    while len(tweets_10) < 10:\n",
    "        \n",
    "        try:\n",
    "            tweets = api.user_timeline(screen_name=username, count=count)\n",
    "        except tweepy.TweepError:\n",
    "            return 0, tweets_10\n",
    "        \n",
    "        for tweet in tweets:\n",
    "            doc = tweet._json\n",
    "            doc['id'] = str(doc['id'])\n",
    "            \n",
    "            if doc not in tweets_10 and not doc['text'].startswith('RT '):\n",
    "                tweets_10.append(doc)\n",
    "            else:\n",
    "                count += 1\n",
    "            \n",
    "            if len(tweets_10) == 10:\n",
    "                break\n",
    "\n",
    "    out = pd.DataFrame()\n",
    "    t = pd.DataFrame(tweets_10)\n",
    "    \n",
    "    if dash == False:\n",
    "        mean_FC_last10, sd_FC = np.mean(t[\"favorite_count\"]), np.std(t[\"favorite_count\"])\n",
    "        mean_RT_last10, sd_RT = np.mean(t[\"retweet_count\"]), np.std(t[\"retweet_count\"])\n",
    "\n",
    "        out[\"j_user\"]=t[\"user\"][-1:]\n",
    "        out[\"RT_l10\"]=mean_RT_last10\n",
    "        out[\"sd_RT\"]=sd_RT\n",
    "        out[\"FC_l10\"]=mean_FC_last10\n",
    "        out[\"sd_FC\"]=sd_FC\n",
    "        out = out.reset_index(drop=True)  \n",
    "        return out\n",
    "    \n",
    "    if dash:\n",
    "        t1 = t[[\"text\", \"favorite_count\", \"retweet_count\"]]\n",
    "        CA = t[\"created_at\"]\n",
    "        CA_l = [time.strftime('%Y-%m-%d %H:%M:%S', time.strptime(CA[i],'%a %b %d %H:%M:%S +0000 %Y'))for i in range(0,len(CA))]\n",
    "        t1[\"created_at\"] = CA_l\n",
    "        return t1"
   ]
  },
  {
   "cell_type": "code",
   "execution_count": 55,
   "metadata": {},
   "outputs": [],
   "source": [
    "out = get_10tweets(\"albertpm6\")"
   ]
  },
  {
   "cell_type": "code",
   "execution_count": 56,
   "metadata": {},
   "outputs": [
    {
     "data": {
      "text/html": [
       "<div>\n",
       "<style scoped>\n",
       "    .dataframe tbody tr th:only-of-type {\n",
       "        vertical-align: middle;\n",
       "    }\n",
       "\n",
       "    .dataframe tbody tr th {\n",
       "        vertical-align: top;\n",
       "    }\n",
       "\n",
       "    .dataframe thead th {\n",
       "        text-align: right;\n",
       "    }\n",
       "</style>\n",
       "<table border=\"1\" class=\"dataframe\">\n",
       "  <thead>\n",
       "    <tr style=\"text-align: right;\">\n",
       "      <th></th>\n",
       "      <th>j_user</th>\n",
       "      <th>RT_l10</th>\n",
       "      <th>sd_RT</th>\n",
       "      <th>FC_l10</th>\n",
       "      <th>sd_FC</th>\n",
       "    </tr>\n",
       "  </thead>\n",
       "  <tbody>\n",
       "    <tr>\n",
       "      <th>0</th>\n",
       "      <td>{'id': 2866256950, 'id_str': '2866256950', 'na...</td>\n",
       "      <td>0.0</td>\n",
       "      <td>0.0</td>\n",
       "      <td>2.2</td>\n",
       "      <td>1.939072</td>\n",
       "    </tr>\n",
       "  </tbody>\n",
       "</table>\n",
       "</div>"
      ],
      "text/plain": [
       "                                              j_user  RT_l10  sd_RT  FC_l10  \\\n",
       "0  {'id': 2866256950, 'id_str': '2866256950', 'na...     0.0    0.0     2.2   \n",
       "\n",
       "      sd_FC  \n",
       "0  1.939072  "
      ]
     },
     "execution_count": 56,
     "metadata": {},
     "output_type": "execute_result"
    }
   ],
   "source": [
    "out"
   ]
  },
  {
   "cell_type": "code",
   "execution_count": null,
   "metadata": {},
   "outputs": [],
   "source": []
  }
 ],
 "metadata": {
  "kernelspec": {
   "display_name": "Python 3",
   "language": "python",
   "name": "python3"
  },
  "language_info": {
   "codemirror_mode": {
    "name": "ipython",
    "version": 3
   },
   "file_extension": ".py",
   "mimetype": "text/x-python",
   "name": "python",
   "nbconvert_exporter": "python",
   "pygments_lexer": "ipython3",
   "version": "3.6.5"
  }
 },
 "nbformat": 4,
 "nbformat_minor": 2
}
