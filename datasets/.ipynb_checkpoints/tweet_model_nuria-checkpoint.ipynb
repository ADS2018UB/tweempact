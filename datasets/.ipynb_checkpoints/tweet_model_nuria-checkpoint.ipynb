{
 "cells": [
  {
   "cell_type": "code",
   "execution_count": 2,
   "metadata": {},
   "outputs": [],
   "source": [
    "import pandas as pd\n",
    "import numpy as np\n",
    "import matplotlib.pyplot as plt\n",
    "\n",
    "from sklearn import model_selection, linear_model, ensemble, svm, tree, metrics\n",
    "from sklearn.ensemble import RandomForestClassifier\n",
    "from sklearn.preprocessing import StandardScaler\n",
    "from sklearn.naive_bayes import BernoulliNB\n",
    "from sklearn.naive_bayes import GaussianNB\n",
    "from sklearn import neighbors\n",
    "from sklearn.ensemble import ExtraTreesClassifier\n",
    "from sklearn.ensemble import AdaBoostClassifier\n",
    "from sklearn.ensemble import GradientBoostingClassifier\n",
    "from sklearn.ensemble import GradientBoostingRegressor\n",
    "from sklearn.cluster import KMeans\n",
    "from sklearn.neural_network import MLPClassifier"
   ]
  },
  {
   "cell_type": "code",
   "execution_count": 3,
   "metadata": {},
   "outputs": [],
   "source": [
    "X = pd.read_csv(\"X_tweet_nuria.csv\")\n",
    "y_fc = pd.read_csv(\"y_fc_tweet_nuria.csv\", header = None)\n",
    "y_rt = pd.read_csv(\"y_rt_tweet_nuria.csv\", header = None)"
   ]
  },
  {
   "cell_type": "code",
   "execution_count": 4,
   "metadata": {},
   "outputs": [],
   "source": [
    "y_fc = np.array(y_fc)\n",
    "y_rt = np.array(y_rt)\n",
    "X = np.array(X)"
   ]
  },
  {
   "cell_type": "code",
   "execution_count": 5,
   "metadata": {},
   "outputs": [
    {
     "name": "stdout",
     "output_type": "stream",
     "text": [
      "[18  0  4 ...  6 11  0]\n",
      "[4 0 2 ... 1 1 0]\n"
     ]
    }
   ],
   "source": [
    "y_fc = np.concatenate(y_fc)\n",
    "y_rt = np.concatenate(y_rt)\n",
    "print(y_fc)\n",
    "print(y_rt)"
   ]
  },
  {
   "cell_type": "code",
   "execution_count": 8,
   "metadata": {},
   "outputs": [],
   "source": [
    "cv = model_selection.KFold(n_splits = 10, shuffle=True, random_state=42)\n",
    "cv.get_n_splits(X)\n",
    "\n",
    "acc_rt = np.zeros((10,7))\n",
    "acc_fc = np.zeros((10,2))\n",
    "\n",
    "# Models que millors resultats donen son els seguents:\n",
    "nn10 = neighbors.KNeighborsClassifier(n_neighbors=10) #rt\n",
    "nn12 = neighbors.KNeighborsClassifier(n_neighbors=12) #rt\n",
    "abc100 = AdaBoostClassifier(n_estimators=100)  #rt i fc\n",
    "\n",
    "#Afegim tambe:\n",
    "nn9 = neighbors.KNeighborsClassifier(n_neighbors=9) #rt\n",
    "nn11 = neighbors.KNeighborsClassifier(n_neighbors=11) #rt\n",
    "nn13 = neighbors.KNeighborsClassifier(n_neighbors=13) #rt\n",
    "abc50 = AdaBoostClassifier()  #rt i fc"
   ]
  },
  {
   "cell_type": "code",
   "execution_count": 9,
   "metadata": {},
   "outputs": [
    {
     "name": "stdout",
     "output_type": "stream",
     "text": [
      "[[0.5034965  0.5034965 ]\n",
      " [0.46386946 0.46386946]\n",
      " [0.45454545 0.45454545]\n",
      " [0.5011655  0.5011655 ]\n",
      " [0.46853147 0.47086247]\n",
      " [0.45687646 0.45454545]\n",
      " [0.48717949 0.48951049]\n",
      " [0.5011655  0.5011655 ]\n",
      " [0.46153846 0.46153846]\n",
      " [0.49299065 0.49299065]]\n"
     ]
    },
    {
     "data": {
      "image/png": "[encoded data removed]",
      "text/plain": [
       "<Figure size 432x288 with 1 Axes>"
      ]
     },
     "metadata": {},
     "output_type": "display_data"
    }
   ],
   "source": [
    "i = 0\n",
    "for train_idx, test_idx in cv.split(X):\n",
    "    X_train,y_train = X[train_idx,:],y_fc[train_idx]\n",
    "    X_test,y_test = X[test_idx,:],y_fc[test_idx]\n",
    "    \n",
    "    scaler = StandardScaler()\n",
    "    X_train_scaled=scaler.fit_transform(X_train)\n",
    "    X_test_scaled = scaler.transform(X_test)\n",
    "    \n",
    "    #abc50\n",
    "    abc50.fit(X_train_scaled,y_train)\n",
    "    yhat_abc50 = abc50.predict(X_test_scaled).reshape(-1,1)\n",
    "    acc_fc[i,0] = metrics.accuracy_score(y_test,yhat_abc50)\n",
    "    \n",
    "    #abc100\n",
    "    abc100.fit(X_train_scaled,y_train)\n",
    "    yhat_abc100 = abc100.predict(X_test_scaled).reshape(-1,1)\n",
    "    acc_fc[i,1] = metrics.accuracy_score(y_test,yhat_abc100)\n",
    "\n",
    "\n",
    "    i = i+1\n",
    "    \n",
    "fig = plt.figure()\n",
    "plt.boxplot(acc_fc)\n",
    "print(acc_fc)"
   ]
  },
  {
   "cell_type": "code",
   "execution_count": 11,
   "metadata": {},
   "outputs": [
    {
     "name": "stdout",
     "output_type": "stream",
     "text": [
      "[[0.78787879 0.78787879 0.78787879 0.78787879 0.78787879 0.78787879\n",
      "  0.78321678]\n",
      " [0.78554779 0.78321678 0.78321678 0.78321678 0.78321678 0.78321678\n",
      "  0.78321678]\n",
      " [0.79254079 0.79254079 0.79254079 0.79254079 0.79254079 0.79254079\n",
      "  0.79254079]\n",
      " [0.78088578 0.78088578 0.78088578 0.78088578 0.78088578 0.78088578\n",
      "  0.78088578]\n",
      " [0.76923077 0.76689977 0.76689977 0.76689977 0.76689977 0.76689977\n",
      "  0.76689977]\n",
      " [0.75990676 0.75990676 0.75990676 0.75990676 0.75990676 0.75757576\n",
      "  0.75990676]\n",
      " [0.79254079 0.79254079 0.79254079 0.79254079 0.79254079 0.79487179\n",
      "  0.79254079]\n",
      " [0.7995338  0.7995338  0.7995338  0.7995338  0.7995338  0.7972028\n",
      "  0.7972028 ]\n",
      " [0.79487179 0.79254079 0.79487179 0.79487179 0.79487179 0.79254079\n",
      "  0.79254079]\n",
      " [0.77570093 0.77570093 0.77570093 0.77570093 0.77570093 0.77336449\n",
      "  0.77336449]]\n"
     ]
    },
    {
     "data": {
      "image/png": "[encoded data removed]",
      "text/plain": [
       "<Figure size 432x288 with 1 Axes>"
      ]
     },
     "metadata": {},
     "output_type": "display_data"
    }
   ],
   "source": [
    "i = 0\n",
    "for train_idx, test_idx in cv.split(X):\n",
    "    X_train,y_train = X[train_idx,:],y_rt[train_idx]\n",
    "    X_test,y_test = X[test_idx,:],y_rt[test_idx]\n",
    "    \n",
    "    scaler = StandardScaler()\n",
    "    X_train_scaled=scaler.fit_transform(X_train)\n",
    "    \n",
    "    nn9.fit(X_train_scaled,y_train)\n",
    "    nn10.fit(X_train_scaled,y_train)\n",
    "    nn11.fit(X_train_scaled,y_train)\n",
    "    nn12.fit(X_train_scaled,y_train)\n",
    "    nn13.fit(X_train_scaled,y_train)\n",
    "    abc50.fit(X_train_scaled,y_train)\n",
    "    abc100.fit(X_train_scaled,y_train)\n",
    "    \n",
    "    X_test_scaled = scaler.transform(X_test)\n",
    "    yhat_nn9 = nn9.predict(X_test_scaled).reshape(-1,1)\n",
    "    yhat_nn10 = nn10.predict(X_test_scaled).reshape(-1,1)\n",
    "    yhat_nn11 = nn11.predict(X_test_scaled).reshape(-1,1)\n",
    "    yhat_nn12 = nn12.predict(X_test_scaled).reshape(-1,1)\n",
    "    yhat_nn13 = nn13.predict(X_test_scaled).reshape(-1,1)\n",
    "    yhat_abc50 = abc50.predict(X_test_scaled).reshape(-1,1)\n",
    "    yhat_abc100 = abc100.predict(X_test_scaled).reshape(-1,1)\n",
    "    \n",
    "    \n",
    "    acc_rt[i,0] = metrics.accuracy_score(y_test,yhat_nn9)\n",
    "    acc_rt[i,1] = metrics.accuracy_score(y_test,yhat_nn10)\n",
    "    acc_rt[i,2] = metrics.accuracy_score(y_test,yhat_nn11)\n",
    "    acc_rt[i,3] = metrics.accuracy_score(y_test,yhat_nn12)\n",
    "    acc_rt[i,4] = metrics.accuracy_score(y_test,yhat_nn13)\n",
    "    acc_rt[i,5] = metrics.accuracy_score(y_test,yhat_abc50)\n",
    "    acc_rt[i,6] = metrics.accuracy_score(y_test,yhat_abc100)\n",
    "    \n",
    "    i = i+1\n",
    "    \n",
    "    \n",
    "fig = plt.figure()\n",
    "plt.boxplot(acc_rt)\n",
    "print(acc_rt)"
   ]
  },
  {
   "cell_type": "code",
   "execution_count": null,
   "metadata": {},
   "outputs": [],
   "source": []
  }
 ],
 "metadata": {
  "kernelspec": {
   "display_name": "Python 3",
   "language": "python",
   "name": "python3"
  },
  "language_info": {
   "codemirror_mode": {
    "name": "ipython",
    "version": 3
   },
   "file_extension": ".py",
   "mimetype": "text/x-python",
   "name": "python",
   "nbconvert_exporter": "python",
   "pygments_lexer": "ipython3",
   "version": "3.6.5"
  }
 },
 "nbformat": 4,
 "nbformat_minor": 2
}
