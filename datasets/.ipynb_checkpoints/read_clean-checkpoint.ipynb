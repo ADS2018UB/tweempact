{
 "cells": [
  {
   "cell_type": "code",
   "execution_count": 1,
   "metadata": {},
   "outputs": [],
   "source": [
    "import pandas as pd\n",
    "import numpy as np\n",
    "import ast\n",
    "\n",
    "file = pd.read_csv(\"author.csv\")"
   ]
  },
  {
   "cell_type": "code",
   "execution_count": 2,
   "metadata": {},
   "outputs": [
    {
     "data": {
      "text/html": [
       "<div>\n",
       "<style scoped>\n",
       "    .dataframe tbody tr th:only-of-type {\n",
       "        vertical-align: middle;\n",
       "    }\n",
       "\n",
       "    .dataframe tbody tr th {\n",
       "        vertical-align: top;\n",
       "    }\n",
       "\n",
       "    .dataframe thead th {\n",
       "        text-align: right;\n",
       "    }\n",
       "</style>\n",
       "<table border=\"1\" class=\"dataframe\">\n",
       "  <thead>\n",
       "    <tr style=\"text-align: right;\">\n",
       "      <th></th>\n",
       "      <th>Unnamed: 0</th>\n",
       "      <th>j_user</th>\n",
       "      <th>RT_l10</th>\n",
       "      <th>sd_RT</th>\n",
       "      <th>FC_l10</th>\n",
       "      <th>sd_FC</th>\n",
       "      <th>FC</th>\n",
       "      <th>RT</th>\n",
       "    </tr>\n",
       "  </thead>\n",
       "  <tbody>\n",
       "    <tr>\n",
       "      <th>0</th>\n",
       "      <td>0</td>\n",
       "      <td>{'id': 2107671, 'id_str': '2107671', 'name': '...</td>\n",
       "      <td>0.4</td>\n",
       "      <td>0.489898</td>\n",
       "      <td>1.7</td>\n",
       "      <td>3.796051</td>\n",
       "      <td>0.0</td>\n",
       "      <td>0.0</td>\n",
       "    </tr>\n",
       "    <tr>\n",
       "      <th>1</th>\n",
       "      <td>1</td>\n",
       "      <td>{'id': 4869021, 'id_str': '4869021', 'name': '...</td>\n",
       "      <td>8.4</td>\n",
       "      <td>16.805951</td>\n",
       "      <td>76.1</td>\n",
       "      <td>127.668673</td>\n",
       "      <td>25.0</td>\n",
       "      <td>3.0</td>\n",
       "    </tr>\n",
       "    <tr>\n",
       "      <th>2</th>\n",
       "      <td>2</td>\n",
       "      <td>{'id': 14206520, 'id_str': '14206520', 'name':...</td>\n",
       "      <td>0.2</td>\n",
       "      <td>0.400000</td>\n",
       "      <td>2.5</td>\n",
       "      <td>3.442383</td>\n",
       "      <td>0.0</td>\n",
       "      <td>0.0</td>\n",
       "    </tr>\n",
       "    <tr>\n",
       "      <th>3</th>\n",
       "      <td>3</td>\n",
       "      <td>{'id': 22317044, 'id_str': '22317044', 'name':...</td>\n",
       "      <td>0.0</td>\n",
       "      <td>0.000000</td>\n",
       "      <td>0.3</td>\n",
       "      <td>0.458258</td>\n",
       "      <td>0.0</td>\n",
       "      <td>0.0</td>\n",
       "    </tr>\n",
       "    <tr>\n",
       "      <th>4</th>\n",
       "      <td>4</td>\n",
       "      <td>{'id': 22935720, 'id_str': '22935720', 'name':...</td>\n",
       "      <td>3.6</td>\n",
       "      <td>6.711185</td>\n",
       "      <td>2.8</td>\n",
       "      <td>5.015974</td>\n",
       "      <td>0.0</td>\n",
       "      <td>1.0</td>\n",
       "    </tr>\n",
       "  </tbody>\n",
       "</table>\n",
       "</div>"
      ],
      "text/plain": [
       "   Unnamed: 0                                             j_user  RT_l10  \\\n",
       "0           0  {'id': 2107671, 'id_str': '2107671', 'name': '...     0.4   \n",
       "1           1  {'id': 4869021, 'id_str': '4869021', 'name': '...     8.4   \n",
       "2           2  {'id': 14206520, 'id_str': '14206520', 'name':...     0.2   \n",
       "3           3  {'id': 22317044, 'id_str': '22317044', 'name':...     0.0   \n",
       "4           4  {'id': 22935720, 'id_str': '22935720', 'name':...     3.6   \n",
       "\n",
       "       sd_RT  FC_l10       sd_FC    FC   RT  \n",
       "0   0.489898     1.7    3.796051   0.0  0.0  \n",
       "1  16.805951    76.1  127.668673  25.0  3.0  \n",
       "2   0.400000     2.5    3.442383   0.0  0.0  \n",
       "3   0.000000     0.3    0.458258   0.0  0.0  \n",
       "4   6.711185     2.8    5.015974   0.0  1.0  "
      ]
     },
     "execution_count": 2,
     "metadata": {},
     "output_type": "execute_result"
    }
   ],
   "source": [
    "file.head()"
   ]
  },
  {
   "cell_type": "code",
   "execution_count": 3,
   "metadata": {},
   "outputs": [],
   "source": [
    "file.drop('Unnamed: 0',axis=1,inplace=True)"
   ]
  },
  {
   "cell_type": "code",
   "execution_count": 4,
   "metadata": {},
   "outputs": [
    {
     "data": {
      "text/html": [
       "<div>\n",
       "<style scoped>\n",
       "    .dataframe tbody tr th:only-of-type {\n",
       "        vertical-align: middle;\n",
       "    }\n",
       "\n",
       "    .dataframe tbody tr th {\n",
       "        vertical-align: top;\n",
       "    }\n",
       "\n",
       "    .dataframe thead th {\n",
       "        text-align: right;\n",
       "    }\n",
       "</style>\n",
       "<table border=\"1\" class=\"dataframe\">\n",
       "  <thead>\n",
       "    <tr style=\"text-align: right;\">\n",
       "      <th></th>\n",
       "      <th>j_user</th>\n",
       "      <th>RT_l10</th>\n",
       "      <th>sd_RT</th>\n",
       "      <th>FC_l10</th>\n",
       "      <th>sd_FC</th>\n",
       "      <th>FC</th>\n",
       "      <th>RT</th>\n",
       "    </tr>\n",
       "  </thead>\n",
       "  <tbody>\n",
       "    <tr>\n",
       "      <th>0</th>\n",
       "      <td>{'id': 2107671, 'id_str': '2107671', 'name': '...</td>\n",
       "      <td>0.4</td>\n",
       "      <td>0.489898</td>\n",
       "      <td>1.7</td>\n",
       "      <td>3.796051</td>\n",
       "      <td>0.0</td>\n",
       "      <td>0.0</td>\n",
       "    </tr>\n",
       "    <tr>\n",
       "      <th>1</th>\n",
       "      <td>{'id': 4869021, 'id_str': '4869021', 'name': '...</td>\n",
       "      <td>8.4</td>\n",
       "      <td>16.805951</td>\n",
       "      <td>76.1</td>\n",
       "      <td>127.668673</td>\n",
       "      <td>25.0</td>\n",
       "      <td>3.0</td>\n",
       "    </tr>\n",
       "    <tr>\n",
       "      <th>2</th>\n",
       "      <td>{'id': 14206520, 'id_str': '14206520', 'name':...</td>\n",
       "      <td>0.2</td>\n",
       "      <td>0.400000</td>\n",
       "      <td>2.5</td>\n",
       "      <td>3.442383</td>\n",
       "      <td>0.0</td>\n",
       "      <td>0.0</td>\n",
       "    </tr>\n",
       "    <tr>\n",
       "      <th>3</th>\n",
       "      <td>{'id': 22317044, 'id_str': '22317044', 'name':...</td>\n",
       "      <td>0.0</td>\n",
       "      <td>0.000000</td>\n",
       "      <td>0.3</td>\n",
       "      <td>0.458258</td>\n",
       "      <td>0.0</td>\n",
       "      <td>0.0</td>\n",
       "    </tr>\n",
       "    <tr>\n",
       "      <th>4</th>\n",
       "      <td>{'id': 22935720, 'id_str': '22935720', 'name':...</td>\n",
       "      <td>3.6</td>\n",
       "      <td>6.711185</td>\n",
       "      <td>2.8</td>\n",
       "      <td>5.015974</td>\n",
       "      <td>0.0</td>\n",
       "      <td>1.0</td>\n",
       "    </tr>\n",
       "  </tbody>\n",
       "</table>\n",
       "</div>"
      ],
      "text/plain": [
       "                                              j_user  RT_l10      sd_RT  \\\n",
       "0  {'id': 2107671, 'id_str': '2107671', 'name': '...     0.4   0.489898   \n",
       "1  {'id': 4869021, 'id_str': '4869021', 'name': '...     8.4  16.805951   \n",
       "2  {'id': 14206520, 'id_str': '14206520', 'name':...     0.2   0.400000   \n",
       "3  {'id': 22317044, 'id_str': '22317044', 'name':...     0.0   0.000000   \n",
       "4  {'id': 22935720, 'id_str': '22935720', 'name':...     3.6   6.711185   \n",
       "\n",
       "   FC_l10       sd_FC    FC   RT  \n",
       "0     1.7    3.796051   0.0  0.0  \n",
       "1    76.1  127.668673  25.0  3.0  \n",
       "2     2.5    3.442383   0.0  0.0  \n",
       "3     0.3    0.458258   0.0  0.0  \n",
       "4     2.8    5.015974   0.0  1.0  "
      ]
     },
     "execution_count": 4,
     "metadata": {},
     "output_type": "execute_result"
    }
   ],
   "source": [
    "file.head()"
   ]
  },
  {
   "cell_type": "code",
   "execution_count": 5,
   "metadata": {},
   "outputs": [
    {
     "data": {
      "text/plain": [
       "\"{'id': 2107671, 'id_str': '2107671', 'name': 'Gabriel Navarro', 'screen_name': 'gabinavarros', 'location': 'Murcia, Spain', 'description': '#Comunicación #Digital #Pymes. Licenciado en #Economía (@EconomicasUMU) y Graduado en #Filosofía (@FacFilosoMurcia) por la @UMU.', 'url': 'https://t.co/hWz3N9kxZM', 'entities': {'url': {'urls': [{'url': 'https://t.co/hWz3N9kxZM', 'expanded_url': 'http://about.me/gabinavarro', 'display_url': 'about.me/gabinavarro', 'indices': [0, 23]}]}, 'description': {'urls': []}}, 'protected': False, 'followers_count': 5386, 'friends_count': 3861, 'listed_count': 304, 'created_at': 'Sat Mar 24 14:28:53 +0000 2007', 'favourites_count': 15325, 'utc_offset': None, 'time_zone': None, 'geo_enabled': True, 'verified': False, 'statuses_count': 85493, 'lang': 'es', 'contributors_enabled': False, 'is_translator': False, 'is_translation_enabled': False, 'profile_background_color': 'FFFFFF', 'profile_background_image_url': 'http://abs.twimg.com/images/themes/theme13/bg.gif', 'profile_background_image_url_https': 'https://abs.twimg.com/images/themes/theme13/bg.gif', 'profile_background_tile': False, 'profile_image_url': 'http://pbs.twimg.com/profile_images/1059181678755831808/CDqXOZGB_normal.jpg', 'profile_image_url_https': 'https://pbs.twimg.com/profile_images/1059181678755831808/CDqXOZGB_normal.jpg', 'profile_banner_url': 'https://pbs.twimg.com/profile_banners/2107671/1540285952', 'profile_link_color': '0084B4', 'profile_sidebar_border_color': 'BDDCAD', 'profile_sidebar_fill_color': 'DDFFCD', 'profile_text_color': '333333', 'profile_use_background_image': True, 'has_extended_profile': True, 'default_profile': False, 'default_profile_image': False, 'following': False, 'follow_request_sent': False, 'notifications': False, 'translator_type': 'none'}\""
      ]
     },
     "execution_count": 5,
     "metadata": {},
     "output_type": "execute_result"
    }
   ],
   "source": [
    "file['j_user'][0] ### aquesta es la info que se'ns proporciona de cada usuari\n",
    "#coses importants pel num de likes (de moment):\n",
    "#protected\n",
    "#followers_count\n",
    "#friends_count\n",
    "#listed_count (contains the number of public lists that this user is a member of.)\n",
    "#favourites_count\n",
    "#statuses_count"
   ]
  },
  {
   "cell_type": "code",
   "execution_count": 6,
   "metadata": {},
   "outputs": [
    {
     "name": "stdout",
     "output_type": "stream",
     "text": [
      "<class 'str'>\n",
      "<class 'dict'>\n"
     ]
    }
   ],
   "source": [
    "print(type(file['j_user'][0])) #es una string, ho convertim a dict per fer-ho més manejable\n",
    "fila0 =ast.literal_eval(file['j_user'][0])\n",
    "print(type(fila0))"
   ]
  },
  {
   "cell_type": "code",
   "execution_count": 7,
   "metadata": {},
   "outputs": [],
   "source": [
    "numl = len(file.index.values)\n",
    "file['protected']=np.zeros(numl)\n",
    "file['followers_count']=np.zeros(numl)\n",
    "file['friends_count']=np.zeros(numl)\n",
    "file['listed_count']=np.zeros(numl)\n",
    "file['favourites_count']=np.zeros(numl)\n",
    "file['statuses_count']=np.zeros(numl)"
   ]
  },
  {
   "cell_type": "code",
   "execution_count": 8,
   "metadata": {},
   "outputs": [
    {
     "name": "stderr",
     "output_type": "stream",
     "text": [
      "C:\\Users\\Nuria\\Anaconda3\\lib\\site-packages\\ipykernel_launcher.py:2: SettingWithCopyWarning: \n",
      "A value is trying to be set on a copy of a slice from a DataFrame\n",
      "\n",
      "See the caveats in the documentation: http://pandas.pydata.org/pandas-docs/stable/indexing.html#indexing-view-versus-copy\n",
      "  \n",
      "C:\\Users\\Nuria\\Anaconda3\\lib\\site-packages\\ipykernel_launcher.py:6: SettingWithCopyWarning: \n",
      "A value is trying to be set on a copy of a slice from a DataFrame\n",
      "\n",
      "See the caveats in the documentation: http://pandas.pydata.org/pandas-docs/stable/indexing.html#indexing-view-versus-copy\n",
      "  \n",
      "C:\\Users\\Nuria\\Anaconda3\\lib\\site-packages\\ipykernel_launcher.py:8: SettingWithCopyWarning: \n",
      "A value is trying to be set on a copy of a slice from a DataFrame\n",
      "\n",
      "See the caveats in the documentation: http://pandas.pydata.org/pandas-docs/stable/indexing.html#indexing-view-versus-copy\n",
      "  \n",
      "C:\\Users\\Nuria\\Anaconda3\\lib\\site-packages\\ipykernel_launcher.py:10: SettingWithCopyWarning: \n",
      "A value is trying to be set on a copy of a slice from a DataFrame\n",
      "\n",
      "See the caveats in the documentation: http://pandas.pydata.org/pandas-docs/stable/indexing.html#indexing-view-versus-copy\n",
      "  # Remove the CWD from sys.path while we load stuff.\n",
      "C:\\Users\\Nuria\\Anaconda3\\lib\\site-packages\\ipykernel_launcher.py:12: SettingWithCopyWarning: \n",
      "A value is trying to be set on a copy of a slice from a DataFrame\n",
      "\n",
      "See the caveats in the documentation: http://pandas.pydata.org/pandas-docs/stable/indexing.html#indexing-view-versus-copy\n",
      "  if sys.path[0] == '':\n",
      "C:\\Users\\Nuria\\Anaconda3\\lib\\site-packages\\ipykernel_launcher.py:14: SettingWithCopyWarning: \n",
      "A value is trying to be set on a copy of a slice from a DataFrame\n",
      "\n",
      "See the caveats in the documentation: http://pandas.pydata.org/pandas-docs/stable/indexing.html#indexing-view-versus-copy\n",
      "  \n",
      "C:\\Users\\Nuria\\Anaconda3\\lib\\site-packages\\ipykernel_launcher.py:16: SettingWithCopyWarning: \n",
      "A value is trying to be set on a copy of a slice from a DataFrame\n",
      "\n",
      "See the caveats in the documentation: http://pandas.pydata.org/pandas-docs/stable/indexing.html#indexing-view-versus-copy\n",
      "  app.launch_new_instance()\n"
     ]
    }
   ],
   "source": [
    "for line in range(numl):\n",
    "    file['j_user'][line] =ast.literal_eval(file['j_user'][line])\n",
    "    if (file['j_user'][line]['protected']=='True'):\n",
    "        file['protected'][line] = 1\n",
    "    else:\n",
    "        file['protected'][line] = 0\n",
    "        \n",
    "    file['followers_count'][line] = int(file['j_user'][line]['followers_count'])\n",
    "    \n",
    "    file['friends_count'][line] = int(file['j_user'][line]['friends_count'])\n",
    "    \n",
    "    file['listed_count'][line] = int(file['j_user'][line]['listed_count'])\n",
    "\n",
    "    file['favourites_count'][line] = int(file['j_user'][line]['favourites_count'])\n",
    "    \n",
    "    file['statuses_count'][line] = int(file['j_user'][line]['statuses_count'])"
   ]
  },
  {
   "cell_type": "code",
   "execution_count": 9,
   "metadata": {},
   "outputs": [],
   "source": [
    "file.drop('j_user',axis=1,inplace=True)"
   ]
  },
  {
   "cell_type": "code",
   "execution_count": 10,
   "metadata": {},
   "outputs": [],
   "source": [
    "file.to_csv('clean_authors.csv')"
   ]
  },
  {
   "cell_type": "code",
   "execution_count": 11,
   "metadata": {},
   "outputs": [
    {
     "data": {
      "text/html": [
       "<div>\n",
       "<style scoped>\n",
       "    .dataframe tbody tr th:only-of-type {\n",
       "        vertical-align: middle;\n",
       "    }\n",
       "\n",
       "    .dataframe tbody tr th {\n",
       "        vertical-align: top;\n",
       "    }\n",
       "\n",
       "    .dataframe thead th {\n",
       "        text-align: right;\n",
       "    }\n",
       "</style>\n",
       "<table border=\"1\" class=\"dataframe\">\n",
       "  <thead>\n",
       "    <tr style=\"text-align: right;\">\n",
       "      <th></th>\n",
       "      <th>RT_l10</th>\n",
       "      <th>sd_RT</th>\n",
       "      <th>FC_l10</th>\n",
       "      <th>sd_FC</th>\n",
       "      <th>FC</th>\n",
       "      <th>RT</th>\n",
       "      <th>protected</th>\n",
       "      <th>followers_count</th>\n",
       "      <th>friends_count</th>\n",
       "      <th>listed_count</th>\n",
       "      <th>favourites_count</th>\n",
       "      <th>statuses_count</th>\n",
       "    </tr>\n",
       "  </thead>\n",
       "  <tbody>\n",
       "    <tr>\n",
       "      <th>0</th>\n",
       "      <td>0.4</td>\n",
       "      <td>0.489898</td>\n",
       "      <td>1.7</td>\n",
       "      <td>3.796051</td>\n",
       "      <td>0.0</td>\n",
       "      <td>0.0</td>\n",
       "      <td>0.0</td>\n",
       "      <td>5386.0</td>\n",
       "      <td>3861.0</td>\n",
       "      <td>304.0</td>\n",
       "      <td>15325.0</td>\n",
       "      <td>85493.0</td>\n",
       "    </tr>\n",
       "    <tr>\n",
       "      <th>1</th>\n",
       "      <td>8.4</td>\n",
       "      <td>16.805951</td>\n",
       "      <td>76.1</td>\n",
       "      <td>127.668673</td>\n",
       "      <td>25.0</td>\n",
       "      <td>3.0</td>\n",
       "      <td>0.0</td>\n",
       "      <td>24075.0</td>\n",
       "      <td>100.0</td>\n",
       "      <td>96.0</td>\n",
       "      <td>20991.0</td>\n",
       "      <td>10496.0</td>\n",
       "    </tr>\n",
       "    <tr>\n",
       "      <th>2</th>\n",
       "      <td>0.2</td>\n",
       "      <td>0.400000</td>\n",
       "      <td>2.5</td>\n",
       "      <td>3.442383</td>\n",
       "      <td>0.0</td>\n",
       "      <td>0.0</td>\n",
       "      <td>0.0</td>\n",
       "      <td>297.0</td>\n",
       "      <td>190.0</td>\n",
       "      <td>9.0</td>\n",
       "      <td>6257.0</td>\n",
       "      <td>28572.0</td>\n",
       "    </tr>\n",
       "    <tr>\n",
       "      <th>3</th>\n",
       "      <td>0.0</td>\n",
       "      <td>0.000000</td>\n",
       "      <td>0.3</td>\n",
       "      <td>0.458258</td>\n",
       "      <td>0.0</td>\n",
       "      <td>0.0</td>\n",
       "      <td>0.0</td>\n",
       "      <td>557.0</td>\n",
       "      <td>650.0</td>\n",
       "      <td>19.0</td>\n",
       "      <td>6218.0</td>\n",
       "      <td>5983.0</td>\n",
       "    </tr>\n",
       "    <tr>\n",
       "      <th>4</th>\n",
       "      <td>3.6</td>\n",
       "      <td>6.711185</td>\n",
       "      <td>2.8</td>\n",
       "      <td>5.015974</td>\n",
       "      <td>0.0</td>\n",
       "      <td>1.0</td>\n",
       "      <td>0.0</td>\n",
       "      <td>54626.0</td>\n",
       "      <td>4640.0</td>\n",
       "      <td>1646.0</td>\n",
       "      <td>405.0</td>\n",
       "      <td>70865.0</td>\n",
       "    </tr>\n",
       "  </tbody>\n",
       "</table>\n",
       "</div>"
      ],
      "text/plain": [
       "   RT_l10      sd_RT  FC_l10       sd_FC    FC   RT  protected  \\\n",
       "0     0.4   0.489898     1.7    3.796051   0.0  0.0        0.0   \n",
       "1     8.4  16.805951    76.1  127.668673  25.0  3.0        0.0   \n",
       "2     0.2   0.400000     2.5    3.442383   0.0  0.0        0.0   \n",
       "3     0.0   0.000000     0.3    0.458258   0.0  0.0        0.0   \n",
       "4     3.6   6.711185     2.8    5.015974   0.0  1.0        0.0   \n",
       "\n",
       "   followers_count  friends_count  listed_count  favourites_count  \\\n",
       "0           5386.0         3861.0         304.0           15325.0   \n",
       "1          24075.0          100.0          96.0           20991.0   \n",
       "2            297.0          190.0           9.0            6257.0   \n",
       "3            557.0          650.0          19.0            6218.0   \n",
       "4          54626.0         4640.0        1646.0             405.0   \n",
       "\n",
       "   statuses_count  \n",
       "0         85493.0  \n",
       "1         10496.0  \n",
       "2         28572.0  \n",
       "3          5983.0  \n",
       "4         70865.0  "
      ]
     },
     "execution_count": 11,
     "metadata": {},
     "output_type": "execute_result"
    }
   ],
   "source": [
    "file.head()"
   ]
  },
  {
   "cell_type": "code",
   "execution_count": 12,
   "metadata": {},
   "outputs": [],
   "source": [
    "Y_FC = pd.Series.to_frame(file['FC'])\n",
    "Y_RT = pd.Series.to_frame(file['RT'])\n",
    "\n",
    "X = file\n",
    "X.drop('FC',axis=1,inplace=True)\n",
    "X.drop('RT',axis=1,inplace=True)"
   ]
  },
  {
   "cell_type": "code",
   "execution_count": 13,
   "metadata": {},
   "outputs": [
    {
     "name": "stderr",
     "output_type": "stream",
     "text": [
      "C:\\Users\\Nuria\\Anaconda3\\lib\\site-packages\\sklearn\\model_selection\\_split.py:2026: FutureWarning: From version 0.21, test_size will always complement train_size unless both are specified.\n",
      "  FutureWarning)\n"
     ]
    }
   ],
   "source": [
    "from sklearn import model_selection\n",
    "\n",
    "X_train_fc, X_test_fc, y_train_fc, y_test_fc = model_selection.train_test_split(X, Y_FC, train_size = 0.7, random_state = 42)\n",
    "X_train_rt, X_test_rt, y_train_rt, y_test_rt = model_selection.train_test_split(X, Y_RT, train_size = 0.7, random_state = 42)"
   ]
  },
  {
   "cell_type": "code",
   "execution_count": 14,
   "metadata": {},
   "outputs": [
    {
     "name": "stderr",
     "output_type": "stream",
     "text": [
      "C:\\Users\\Nuria\\Anaconda3\\lib\\site-packages\\sklearn\\utils\\validation.py:578: DataConversionWarning: A column-vector y was passed when a 1d array was expected. Please change the shape of y to (n_samples, ), for example using ravel().\n",
      "  y = column_or_1d(y, warn=True)\n"
     ]
    },
    {
     "name": "stdout",
     "output_type": "stream",
     "text": [
      "FC:\n",
      "\n",
      "classification accuracy: 0.4642857142857143\n",
      "Classification Report:\n",
      "             precision    recall  f1-score   support\n",
      "\n",
      "        0.0       1.00      0.46      0.63        56\n",
      "        1.0       0.00      0.00      0.00         0\n",
      "        2.0       0.00      0.00      0.00         0\n",
      "        3.0       0.00      0.00      0.00         0\n",
      "        4.0       0.00      0.00      0.00         0\n",
      "        5.0       0.00      0.00      0.00         0\n",
      "        6.0       0.00      0.00      0.00         0\n",
      "        8.0       0.00      0.00      0.00         0\n",
      "\n",
      "avg / total       1.00      0.46      0.63        56\n",
      "\n",
      "\n",
      "RT:\n",
      "\n",
      "classification accuracy: 0.7678571428571429\n",
      "Classification Report:\n",
      "             precision    recall  f1-score   support\n",
      "\n",
      "        0.0       1.00      0.77      0.87        56\n",
      "        1.0       0.00      0.00      0.00         0\n",
      "        2.0       0.00      0.00      0.00         0\n",
      "        3.0       0.00      0.00      0.00         0\n",
      "        4.0       0.00      0.00      0.00         0\n",
      "       11.0       0.00      0.00      0.00         0\n",
      "\n",
      "avg / total       1.00      0.77      0.87        56\n",
      "\n"
     ]
    },
    {
     "name": "stderr",
     "output_type": "stream",
     "text": [
      "C:\\Users\\Nuria\\Anaconda3\\lib\\site-packages\\sklearn\\metrics\\classification.py:1137: UndefinedMetricWarning: Recall and F-score are ill-defined and being set to 0.0 in labels with no true samples.\n",
      "  'recall', 'true', average, warn_for)\n"
     ]
    }
   ],
   "source": [
    "# Let us tokenize the data\n",
    "from sklearn.naive_bayes import BernoulliNB\n",
    "nb = BernoulliNB()\n",
    "nb.fit(X_train_fc,y_train_fc)\n",
    "\n",
    "y_hat_fc = nb.predict(X_test_fc)\n",
    "from sklearn import metrics   \n",
    "print('FC:\\n')   \n",
    "print (\"classification accuracy:\", metrics.accuracy_score(y_hat_fc, y_test_fc))\n",
    "print (\"Classification Report:\")\n",
    "print (metrics.classification_report(y_hat_fc,np.array(y_test_fc)))\n",
    "\n",
    "nb = BernoulliNB()\n",
    "nb.fit(X_train_rt,y_train_rt)\n",
    "\n",
    "y_hat_rt = nb.predict(X_test_rt)\n",
    "from sklearn import metrics   \n",
    "\n",
    "print('\\nRT:\\n')\n",
    "print (\"classification accuracy:\", metrics.accuracy_score(y_hat_rt, y_test_rt))\n",
    "print (\"Classification Report:\")\n",
    "print (metrics.classification_report(y_hat_rt,np.array(y_test_rt)))"
   ]
  },
  {
   "cell_type": "code",
   "execution_count": null,
   "metadata": {},
   "outputs": [],
   "source": []
  }
 ],
 "metadata": {
  "kernelspec": {
   "display_name": "Python 3",
   "language": "python",
   "name": "python3"
  },
  "language_info": {
   "codemirror_mode": {
    "name": "ipython",
    "version": 3
   },
   "file_extension": ".py",
   "mimetype": "text/x-python",
   "name": "python",
   "nbconvert_exporter": "python",
   "pygments_lexer": "ipython3",
   "version": "3.6.5"
  }
 },
 "nbformat": 4,
 "nbformat_minor": 2
}
