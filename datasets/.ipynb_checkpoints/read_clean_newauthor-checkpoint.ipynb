{
 "cells": [
  {
   "cell_type": "code",
   "execution_count": 15,
   "metadata": {},
   "outputs": [],
   "source": [
    "import pandas as pd\n",
    "import numpy as np\n",
    "import ast"
   ]
  },
  {
   "cell_type": "code",
   "execution_count": 16,
   "metadata": {},
   "outputs": [],
   "source": [
    "file = pd.read_csv(\"author.csv\")"
   ]
  },
  {
   "cell_type": "code",
   "execution_count": 17,
   "metadata": {},
   "outputs": [
    {
     "data": {
      "text/html": [
       "<div>\n",
       "<style scoped>\n",
       "    .dataframe tbody tr th:only-of-type {\n",
       "        vertical-align: middle;\n",
       "    }\n",
       "\n",
       "    .dataframe tbody tr th {\n",
       "        vertical-align: top;\n",
       "    }\n",
       "\n",
       "    .dataframe thead th {\n",
       "        text-align: right;\n",
       "    }\n",
       "</style>\n",
       "<table border=\"1\" class=\"dataframe\">\n",
       "  <thead>\n",
       "    <tr style=\"text-align: right;\">\n",
       "      <th></th>\n",
       "      <th>j_user</th>\n",
       "      <th>RT_l10</th>\n",
       "      <th>sd_RT</th>\n",
       "      <th>FC_l10</th>\n",
       "      <th>sd_FC</th>\n",
       "      <th>FC</th>\n",
       "      <th>RT</th>\n",
       "    </tr>\n",
       "  </thead>\n",
       "  <tbody>\n",
       "    <tr>\n",
       "      <th>0</th>\n",
       "      <td>{'id': 756431, 'id_str': '756431', 'name': 'Ar...</td>\n",
       "      <td>2.4</td>\n",
       "      <td>3.929377</td>\n",
       "      <td>15.5</td>\n",
       "      <td>32.022648</td>\n",
       "      <td>0.0</td>\n",
       "      <td>0.0</td>\n",
       "    </tr>\n",
       "    <tr>\n",
       "      <th>1</th>\n",
       "      <td>{'id': 1622441, 'id_str': '1622441', 'name': '...</td>\n",
       "      <td>0.2</td>\n",
       "      <td>0.600000</td>\n",
       "      <td>0.8</td>\n",
       "      <td>0.979796</td>\n",
       "      <td>1.0</td>\n",
       "      <td>0.0</td>\n",
       "    </tr>\n",
       "    <tr>\n",
       "      <th>2</th>\n",
       "      <td>{'id': 1770311, 'id_str': '1770311', 'name': '...</td>\n",
       "      <td>17.9</td>\n",
       "      <td>13.626812</td>\n",
       "      <td>37.2</td>\n",
       "      <td>40.931162</td>\n",
       "      <td>21.0</td>\n",
       "      <td>10.0</td>\n",
       "    </tr>\n",
       "    <tr>\n",
       "      <th>3</th>\n",
       "      <td>{'id': 2107671, 'id_str': '2107671', 'name': '...</td>\n",
       "      <td>0.4</td>\n",
       "      <td>0.489898</td>\n",
       "      <td>1.7</td>\n",
       "      <td>3.796051</td>\n",
       "      <td>0.0</td>\n",
       "      <td>0.0</td>\n",
       "    </tr>\n",
       "    <tr>\n",
       "      <th>4</th>\n",
       "      <td>{'id': 3127331, 'id_str': '3127331', 'name': '...</td>\n",
       "      <td>2.3</td>\n",
       "      <td>5.216321</td>\n",
       "      <td>3.4</td>\n",
       "      <td>6.545227</td>\n",
       "      <td>0.0</td>\n",
       "      <td>0.0</td>\n",
       "    </tr>\n",
       "  </tbody>\n",
       "</table>\n",
       "</div>"
      ],
      "text/plain": [
       "                                              j_user  RT_l10      sd_RT  \\\n",
       "0  {'id': 756431, 'id_str': '756431', 'name': 'Ar...     2.4   3.929377   \n",
       "1  {'id': 1622441, 'id_str': '1622441', 'name': '...     0.2   0.600000   \n",
       "2  {'id': 1770311, 'id_str': '1770311', 'name': '...    17.9  13.626812   \n",
       "3  {'id': 2107671, 'id_str': '2107671', 'name': '...     0.4   0.489898   \n",
       "4  {'id': 3127331, 'id_str': '3127331', 'name': '...     2.3   5.216321   \n",
       "\n",
       "   FC_l10      sd_FC    FC    RT  \n",
       "0    15.5  32.022648   0.0   0.0  \n",
       "1     0.8   0.979796   1.0   0.0  \n",
       "2    37.2  40.931162  21.0  10.0  \n",
       "3     1.7   3.796051   0.0   0.0  \n",
       "4     3.4   6.545227   0.0   0.0  "
      ]
     },
     "execution_count": 17,
     "metadata": {},
     "output_type": "execute_result"
    }
   ],
   "source": [
    "file.drop('Unnamed: 0',axis=1,inplace=True)\n",
    "file.head()"
   ]
  },
  {
   "cell_type": "code",
   "execution_count": 18,
   "metadata": {},
   "outputs": [
    {
     "data": {
      "text/plain": [
       "\"{'id': 756431, 'id_str': '756431', 'name': 'Arturo Paniagua', 'screen_name': 'ajpaniagua', 'location': 'Madrid, España', 'description': 'Music First! Periodista. Presento #SesionesMovistarPlus, conciertos y entrevistas musicales los viernes en @movistarplus / Comentarista  #LatinGrammy en España', 'url': 'https://t.co/8qWJU8MxWg', 'entities': {'url': {'urls': [{'url': 'https://t.co/8qWJU8MxWg', 'expanded_url': 'http://www.arturopaniagua.com', 'display_url': 'arturopaniagua.com', 'indices': [0, 23]}]}, 'description': {'urls': []}}, 'protected': False, 'followers_count': 19645, 'friends_count': 949, 'listed_count': 662, 'created_at': 'Wed Feb 07 23:43:33 +0000 2007', 'favourites_count': 12334, 'utc_offset': None, 'time_zone': None, 'geo_enabled': True, 'verified': True, 'statuses_count': 55829, 'lang': 'es', 'contributors_enabled': False, 'is_translator': False, 'is_translation_enabled': False, 'profile_background_color': 'F5F9FA', 'profile_background_image_url': 'http://abs.twimg.com/images/themes/theme15/bg.png', 'profile_background_image_url_https': 'https://abs.twimg.com/images/themes/theme15/bg.png', 'profile_background_tile': False, 'profile_image_url': 'http://pbs.twimg.com/profile_images/1060162470126514176/OYV6PDd-_normal.jpg', 'profile_image_url_https': 'https://pbs.twimg.com/profile_images/1060162470126514176/OYV6PDd-_normal.jpg', 'profile_banner_url': 'https://pbs.twimg.com/profile_banners/756431/1540462452', 'profile_link_color': 'DD2E44', 'profile_sidebar_border_color': 'FFFFFF', 'profile_sidebar_fill_color': 'C0DFEC', 'profile_text_color': '333333', 'profile_use_background_image': False, 'has_extended_profile': False, 'default_profile': False, 'default_profile_image': False, 'following': False, 'follow_request_sent': False, 'notifications': False, 'translator_type': 'regular'}\""
      ]
     },
     "execution_count": 18,
     "metadata": {},
     "output_type": "execute_result"
    }
   ],
   "source": [
    "file['j_user'][0] ### aquesta es la info que se'ns proporciona de cada usuari\n",
    "#coses importants pel num de likes (de moment)(tambe les escullo perque son numeriques):\n",
    "#protected\n",
    "#followers_count\n",
    "#friends_count\n",
    "#listed_count (contains the number of public lists that this user is a member of.)\n",
    "#favourites_count\n",
    "#statuses_count\n",
    "\n",
    "#afegeixo noves:\n",
    "#geo_enabled\n",
    "#verified\n",
    "#contributors_enabled\n",
    "#is_translator\n",
    "#is_translation_enabled\n",
    "#profile_background_tile\n",
    "#profile_use_background_image\n",
    "#has_extended_profile\n",
    "#default_profile\n",
    "#default_profile_image\n"
   ]
  },
  {
   "cell_type": "code",
   "execution_count": 19,
   "metadata": {},
   "outputs": [
    {
     "name": "stdout",
     "output_type": "stream",
     "text": [
      "2378\n"
     ]
    }
   ],
   "source": [
    "numl = len(file.index.values) #1592 (before) #2378 (now)\n",
    "print(numl)"
   ]
  },
  {
   "cell_type": "code",
   "execution_count": 20,
   "metadata": {},
   "outputs": [
    {
     "name": "stderr",
     "output_type": "stream",
     "text": [
      "/anaconda3/lib/python3.6/site-packages/ipykernel_launcher.py:13: SettingWithCopyWarning: \n",
      "A value is trying to be set on a copy of a slice from a DataFrame\n",
      "\n",
      "See the caveats in the documentation: http://pandas.pydata.org/pandas-docs/stable/indexing.html#indexing-view-versus-copy\n",
      "  del sys.path[0]\n",
      "/anaconda3/lib/python3.6/site-packages/ipykernel_launcher.py:15: SettingWithCopyWarning: \n",
      "A value is trying to be set on a copy of a slice from a DataFrame\n",
      "\n",
      "See the caveats in the documentation: http://pandas.pydata.org/pandas-docs/stable/indexing.html#indexing-view-versus-copy\n",
      "  from ipykernel import kernelapp as app\n"
     ]
    }
   ],
   "source": [
    "cols_num = ['followers_count','friends_count','listed_count','favourites_count','statuses_count']\n",
    "#cols_TF = ['protected','geo_enabled','verified','contributors_enabled','is_translator','is_translation_enabled',\n",
    "#        'profile_background_tile','profile_use_background_image','has_extended_profile','default_profile',\n",
    "#        'is_translator','is_translation_enabled','default_profile_image']\n",
    "\n",
    "#in the model_newauthor notebook it was seen that only the cols_num variables were useful\n",
    "\n",
    "#for col in np.r_[cols_num,cols_TF]:\n",
    "for col in cols_num:\n",
    "    file[col]=np.zeros(numl)\n",
    "\n",
    "for line in range(numl):\n",
    "    file['j_user'][line] =ast.literal_eval(file['j_user'][line])\n",
    "    for col in cols_num:\n",
    "        file[col][line] = int(file['j_user'][line][col])\n",
    "    #for col in cols_TF:\n",
    "    #    if (file['j_user'][line][col]=='True'):\n",
    "    #        file[col][line] = 1\n",
    "    #    else:\n",
    "    #        file[col][line] = 0\n",
    "        \n",
    "    "
   ]
  },
  {
   "cell_type": "code",
   "execution_count": 21,
   "metadata": {},
   "outputs": [
    {
     "data": {
      "text/html": [
       "<div>\n",
       "<style scoped>\n",
       "    .dataframe tbody tr th:only-of-type {\n",
       "        vertical-align: middle;\n",
       "    }\n",
       "\n",
       "    .dataframe tbody tr th {\n",
       "        vertical-align: top;\n",
       "    }\n",
       "\n",
       "    .dataframe thead th {\n",
       "        text-align: right;\n",
       "    }\n",
       "</style>\n",
       "<table border=\"1\" class=\"dataframe\">\n",
       "  <thead>\n",
       "    <tr style=\"text-align: right;\">\n",
       "      <th></th>\n",
       "      <th>RT_l10</th>\n",
       "      <th>sd_RT</th>\n",
       "      <th>FC_l10</th>\n",
       "      <th>sd_FC</th>\n",
       "      <th>FC</th>\n",
       "      <th>RT</th>\n",
       "      <th>followers_count</th>\n",
       "      <th>friends_count</th>\n",
       "      <th>listed_count</th>\n",
       "      <th>favourites_count</th>\n",
       "      <th>statuses_count</th>\n",
       "    </tr>\n",
       "  </thead>\n",
       "  <tbody>\n",
       "    <tr>\n",
       "      <th>0</th>\n",
       "      <td>2.4</td>\n",
       "      <td>3.929377</td>\n",
       "      <td>15.5</td>\n",
       "      <td>32.022648</td>\n",
       "      <td>0.0</td>\n",
       "      <td>0.0</td>\n",
       "      <td>19645.0</td>\n",
       "      <td>949.0</td>\n",
       "      <td>662.0</td>\n",
       "      <td>12334.0</td>\n",
       "      <td>55829.0</td>\n",
       "    </tr>\n",
       "    <tr>\n",
       "      <th>1</th>\n",
       "      <td>0.2</td>\n",
       "      <td>0.600000</td>\n",
       "      <td>0.8</td>\n",
       "      <td>0.979796</td>\n",
       "      <td>1.0</td>\n",
       "      <td>0.0</td>\n",
       "      <td>4221.0</td>\n",
       "      <td>281.0</td>\n",
       "      <td>340.0</td>\n",
       "      <td>587.0</td>\n",
       "      <td>13650.0</td>\n",
       "    </tr>\n",
       "    <tr>\n",
       "      <th>2</th>\n",
       "      <td>17.9</td>\n",
       "      <td>13.626812</td>\n",
       "      <td>37.2</td>\n",
       "      <td>40.931162</td>\n",
       "      <td>21.0</td>\n",
       "      <td>10.0</td>\n",
       "      <td>1133925.0</td>\n",
       "      <td>1.0</td>\n",
       "      <td>9745.0</td>\n",
       "      <td>16.0</td>\n",
       "      <td>65228.0</td>\n",
       "    </tr>\n",
       "    <tr>\n",
       "      <th>3</th>\n",
       "      <td>0.4</td>\n",
       "      <td>0.489898</td>\n",
       "      <td>1.7</td>\n",
       "      <td>3.796051</td>\n",
       "      <td>0.0</td>\n",
       "      <td>0.0</td>\n",
       "      <td>5386.0</td>\n",
       "      <td>3861.0</td>\n",
       "      <td>304.0</td>\n",
       "      <td>15325.0</td>\n",
       "      <td>85493.0</td>\n",
       "    </tr>\n",
       "    <tr>\n",
       "      <th>4</th>\n",
       "      <td>2.3</td>\n",
       "      <td>5.216321</td>\n",
       "      <td>3.4</td>\n",
       "      <td>6.545227</td>\n",
       "      <td>0.0</td>\n",
       "      <td>0.0</td>\n",
       "      <td>1072.0</td>\n",
       "      <td>433.0</td>\n",
       "      <td>101.0</td>\n",
       "      <td>899.0</td>\n",
       "      <td>19893.0</td>\n",
       "    </tr>\n",
       "  </tbody>\n",
       "</table>\n",
       "</div>"
      ],
      "text/plain": [
       "   RT_l10      sd_RT  FC_l10      sd_FC    FC    RT  followers_count  \\\n",
       "0     2.4   3.929377    15.5  32.022648   0.0   0.0          19645.0   \n",
       "1     0.2   0.600000     0.8   0.979796   1.0   0.0           4221.0   \n",
       "2    17.9  13.626812    37.2  40.931162  21.0  10.0        1133925.0   \n",
       "3     0.4   0.489898     1.7   3.796051   0.0   0.0           5386.0   \n",
       "4     2.3   5.216321     3.4   6.545227   0.0   0.0           1072.0   \n",
       "\n",
       "   friends_count  listed_count  favourites_count  statuses_count  \n",
       "0          949.0         662.0           12334.0         55829.0  \n",
       "1          281.0         340.0             587.0         13650.0  \n",
       "2            1.0        9745.0              16.0         65228.0  \n",
       "3         3861.0         304.0           15325.0         85493.0  \n",
       "4          433.0         101.0             899.0         19893.0  "
      ]
     },
     "execution_count": 21,
     "metadata": {},
     "output_type": "execute_result"
    }
   ],
   "source": [
    "file.drop('j_user',axis=1,inplace=True)\n",
    "file.head()"
   ]
  },
  {
   "cell_type": "code",
   "execution_count": 22,
   "metadata": {},
   "outputs": [],
   "source": [
    "file.to_csv('clean_newauthors.csv')"
   ]
  },
  {
   "cell_type": "code",
   "execution_count": null,
   "metadata": {},
   "outputs": [],
   "source": []
  }
 ],
 "metadata": {
  "kernelspec": {
   "display_name": "Python 3",
   "language": "python",
   "name": "python3"
  },
  "language_info": {
   "codemirror_mode": {
    "name": "ipython",
    "version": 3
   },
   "file_extension": ".py",
   "mimetype": "text/x-python",
   "name": "python",
   "nbconvert_exporter": "python",
   "pygments_lexer": "ipython3",
   "version": "3.6.5"
  }
 },
 "nbformat": 4,
 "nbformat_minor": 2
}
