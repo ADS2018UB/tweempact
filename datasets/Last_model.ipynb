{
 "cells": [
  {
   "cell_type": "code",
   "execution_count": 340,
   "metadata": {},
   "outputs": [],
   "source": [
    "reset -f"
   ]
  },
  {
   "cell_type": "code",
   "execution_count": 341,
   "metadata": {},
   "outputs": [],
   "source": [
    "import pandas as pd\n",
    "import numpy as np\n",
    "import ast\n",
    "import matplotlib.pyplot as plt\n",
    "%matplotlib inline"
   ]
  },
  {
   "cell_type": "code",
   "execution_count": 342,
   "metadata": {},
   "outputs": [
    {
     "data": {
      "text/html": [
       "<div>\n",
       "<style scoped>\n",
       "    .dataframe tbody tr th:only-of-type {\n",
       "        vertical-align: middle;\n",
       "    }\n",
       "\n",
       "    .dataframe tbody tr th {\n",
       "        vertical-align: top;\n",
       "    }\n",
       "\n",
       "    .dataframe thead th {\n",
       "        text-align: right;\n",
       "    }\n",
       "</style>\n",
       "<table border=\"1\" class=\"dataframe\">\n",
       "  <thead>\n",
       "    <tr style=\"text-align: right;\">\n",
       "      <th></th>\n",
       "      <th>j_user</th>\n",
       "      <th>RT_l10</th>\n",
       "      <th>sd_RT</th>\n",
       "      <th>FC_l10</th>\n",
       "      <th>sd_FC</th>\n",
       "      <th>FC</th>\n",
       "      <th>RT</th>\n",
       "    </tr>\n",
       "  </thead>\n",
       "  <tbody>\n",
       "    <tr>\n",
       "      <th>0</th>\n",
       "      <td>{'id': 756431, 'id_str': '756431', 'name': 'Ar...</td>\n",
       "      <td>2.4</td>\n",
       "      <td>3.929377</td>\n",
       "      <td>15.5</td>\n",
       "      <td>32.022648</td>\n",
       "      <td>0.0</td>\n",
       "      <td>0.0</td>\n",
       "    </tr>\n",
       "    <tr>\n",
       "      <th>1</th>\n",
       "      <td>{'id': 1622441, 'id_str': '1622441', 'name': '...</td>\n",
       "      <td>0.2</td>\n",
       "      <td>0.600000</td>\n",
       "      <td>0.8</td>\n",
       "      <td>0.979796</td>\n",
       "      <td>1.0</td>\n",
       "      <td>0.0</td>\n",
       "    </tr>\n",
       "    <tr>\n",
       "      <th>2</th>\n",
       "      <td>{'id': 1770311, 'id_str': '1770311', 'name': '...</td>\n",
       "      <td>17.9</td>\n",
       "      <td>13.626812</td>\n",
       "      <td>37.2</td>\n",
       "      <td>40.931162</td>\n",
       "      <td>21.0</td>\n",
       "      <td>10.0</td>\n",
       "    </tr>\n",
       "    <tr>\n",
       "      <th>3</th>\n",
       "      <td>{'id': 2107671, 'id_str': '2107671', 'name': '...</td>\n",
       "      <td>0.4</td>\n",
       "      <td>0.489898</td>\n",
       "      <td>1.7</td>\n",
       "      <td>3.796051</td>\n",
       "      <td>0.0</td>\n",
       "      <td>0.0</td>\n",
       "    </tr>\n",
       "    <tr>\n",
       "      <th>4</th>\n",
       "      <td>{'id': 3127331, 'id_str': '3127331', 'name': '...</td>\n",
       "      <td>2.3</td>\n",
       "      <td>5.216321</td>\n",
       "      <td>3.4</td>\n",
       "      <td>6.545227</td>\n",
       "      <td>0.0</td>\n",
       "      <td>0.0</td>\n",
       "    </tr>\n",
       "  </tbody>\n",
       "</table>\n",
       "</div>"
      ],
      "text/plain": [
       "                                              j_user  RT_l10      sd_RT  \\\n",
       "0  {'id': 756431, 'id_str': '756431', 'name': 'Ar...     2.4   3.929377   \n",
       "1  {'id': 1622441, 'id_str': '1622441', 'name': '...     0.2   0.600000   \n",
       "2  {'id': 1770311, 'id_str': '1770311', 'name': '...    17.9  13.626812   \n",
       "3  {'id': 2107671, 'id_str': '2107671', 'name': '...     0.4   0.489898   \n",
       "4  {'id': 3127331, 'id_str': '3127331', 'name': '...     2.3   5.216321   \n",
       "\n",
       "   FC_l10      sd_FC    FC    RT  \n",
       "0    15.5  32.022648   0.0   0.0  \n",
       "1     0.8   0.979796   1.0   0.0  \n",
       "2    37.2  40.931162  21.0  10.0  \n",
       "3     1.7   3.796051   0.0   0.0  \n",
       "4     3.4   6.545227   0.0   0.0  "
      ]
     },
     "execution_count": 342,
     "metadata": {},
     "output_type": "execute_result"
    }
   ],
   "source": [
    "file_aut = pd.read_csv('author.csv')\n",
    "file_aut.drop('Unnamed: 0',axis=1,inplace=True)\n",
    "file_aut.head()"
   ]
  },
  {
   "cell_type": "code",
   "execution_count": 343,
   "metadata": {},
   "outputs": [],
   "source": [
    "Y_FC = file_aut['FC']\n",
    "Y_RT = file_aut['RT']"
   ]
  },
  {
   "cell_type": "code",
   "execution_count": 344,
   "metadata": {},
   "outputs": [
    {
     "name": "stdout",
     "output_type": "stream",
     "text": [
      "y0 0.7888982338099243\n",
      "y1: 14.171572750210261\n",
      "y2: 6.938603868797308\n",
      "\n",
      " Suma de pesos: 21.899074852817492\n"
     ]
    }
   ],
   "source": [
    "# Separem Y_FC entre 5 grups: aquells que tenen menys de 10, aquells que tenen entre 11- 100, \n",
    "# aquells que tenen entre 101 - 1000, aquells que tenen entre 1000 i 5000 i aquells que tenen mes de 5000\n",
    "\n",
    "y0_fc = Y_FC[np.asarray(Y_FC)<=5]\n",
    "pes0 = (np.asarray(y0_fc).shape[0])/(np.asarray(Y_FC).shape[0])\n",
    "print('y0',pes0)\n",
    "hist, bin_edges = np.histogram(y0_fc)\n",
    "y1_fc = Y_FC[np.asarray(Y_FC)>5]\n",
    "y1_fc = y1_fc[np.asarray(y1_fc)<=50]\n",
    "pes1 = 100*(np.asarray(y1_fc).shape[0])/(np.asarray(Y_FC).shape[0])\n",
    "print('y1:',pes1)\n",
    "hist, bin_edges = np.histogram(y1_fc)\n",
    "y2_fc = Y_FC[np.asarray(Y_FC)>50]\n",
    "#y2_fc = y2_fc[np.asarray(y2_fc)<=1000]\n",
    "pes2 = 100*(np.asarray(y2_fc).shape[0])/(np.asarray(Y_FC).shape[0])\n",
    "print('y2:',pes2)\n",
    "hist, bin_edges = np.histogram(y2_fc)\n",
    "#y3_fc = Y_FC[np.asarray(Y_FC)>1000]\n",
    "#y3_fc = y3_fc[np.asarray(y3_fc)<=5000]\n",
    "#pes3 = 100*(np.asarray(y3_fc).shape[0])/(np.asarray(Y_FC).shape[0])\n",
    "#print('y3:',pes3)\n",
    "#hist, bin_edges = np.histogram(y3_fc)\n",
    "#y4_fc = Y_FC[np.asarray(Y_FC)>5000]\n",
    "#pes4 = 100*(np.asarray(y4_fc).shape[0])/(np.asarray(Y_FC).shape[0])\n",
    "#print('y4:',pes4)\n",
    "#hist, bin_edges = np.histogram(y4_fc)\n",
    "\n",
    "#print('\\n Suma de pesos:', pes0+pes1+pes2+pes3+pes4)\n",
    "print('\\n Suma de pesos:', pes0+pes1+pes2)"
   ]
  },
  {
   "cell_type": "code",
   "execution_count": 345,
   "metadata": {},
   "outputs": [
    {
     "name": "stdout",
     "output_type": "stream",
     "text": [
      "y0 87.17409587888983\n",
      "y1: 6.2657695542472664\n",
      "y2: 3.280067283431455\n",
      "y3: 1.7661900756938604\n",
      "y4: 1.5138772077375946\n",
      "\n",
      " Suma de pesos: 100.0\n"
     ]
    }
   ],
   "source": [
    "# Separem Y_RT entre 5 grups: aquells que tenen menys de 5, aquells que tenen entre 6- 20, \n",
    "# aquells que tenen entre 21 - 100, aquells que tenen entre 100 i 500 i aquells que tenen mes de 500\n",
    "\n",
    "y0_rt = Y_RT[np.asarray(Y_RT)<=5]\n",
    "pes0 = 100*(np.asarray(y0_rt).shape[0])/(np.asarray(Y_RT).shape[0])\n",
    "print('y0',pes0)\n",
    "hist, bin_edges = np.histogram(y0_rt)\n",
    "y1_rt = Y_RT[np.asarray(Y_RT)>5]\n",
    "y1_rt = y1_rt[np.asarray(y1_rt)<=20]\n",
    "pes1 = 100*(np.asarray(y1_rt).shape[0])/(np.asarray(Y_RT).shape[0])\n",
    "print('y1:',pes1)\n",
    "hist, bin_edges = np.histogram(y1_rt)\n",
    "y2_rt = Y_RT[np.asarray(Y_RT)>20]\n",
    "y2_rt = y2_rt[np.asarray(y2_rt)<=100]\n",
    "pes2 = 100*(np.asarray(y2_rt).shape[0])/(np.asarray(Y_RT).shape[0])\n",
    "print('y2:',pes2)\n",
    "hist, bin_edges = np.histogram(y2_rt)\n",
    "y3_rt = Y_RT[np.asarray(Y_RT)>100]\n",
    "y3_rt = y3_rt[np.asarray(y3_rt)<=500]\n",
    "pes3 = 100*(np.asarray(y3_rt).shape[0])/(np.asarray(Y_RT).shape[0])\n",
    "print('y3:',pes3)\n",
    "hist, bin_edges = np.histogram(y3_rt)\n",
    "y4_rt = Y_RT[np.asarray(Y_RT)>500]\n",
    "pes4 = 100*(np.asarray(y4_rt).shape[0])/(np.asarray(Y_RT).shape[0])\n",
    "print('y4:',pes4)\n",
    "hist, bin_edges = np.histogram(y4_rt)\n",
    "\n",
    "print('\\n Suma de pesos:', pes0+pes1+pes2+pes3+pes4)"
   ]
  },
  {
   "cell_type": "code",
   "execution_count": 346,
   "metadata": {},
   "outputs": [
    {
     "name": "stderr",
     "output_type": "stream",
     "text": [
      "/anaconda3/lib/python3.6/site-packages/ipykernel_launcher.py:4: SettingWithCopyWarning: \n",
      "A value is trying to be set on a copy of a slice from a DataFrame\n",
      "\n",
      "See the caveats in the documentation: http://pandas.pydata.org/pandas-docs/stable/indexing.html#indexing-view-versus-copy\n",
      "  after removing the cwd from sys.path.\n",
      "/anaconda3/lib/python3.6/site-packages/ipykernel_launcher.py:5: SettingWithCopyWarning: \n",
      "A value is trying to be set on a copy of a slice from a DataFrame\n",
      "\n",
      "See the caveats in the documentation: http://pandas.pydata.org/pandas-docs/stable/indexing.html#indexing-view-versus-copy\n",
      "  \"\"\"\n",
      "/anaconda3/lib/python3.6/site-packages/ipykernel_launcher.py:9: SettingWithCopyWarning: \n",
      "A value is trying to be set on a copy of a slice from a DataFrame\n",
      "\n",
      "See the caveats in the documentation: http://pandas.pydata.org/pandas-docs/stable/indexing.html#indexing-view-versus-copy\n",
      "  if __name__ == '__main__':\n",
      "/anaconda3/lib/python3.6/site-packages/ipykernel_launcher.py:10: SettingWithCopyWarning: \n",
      "A value is trying to be set on a copy of a slice from a DataFrame\n",
      "\n",
      "See the caveats in the documentation: http://pandas.pydata.org/pandas-docs/stable/indexing.html#indexing-view-versus-copy\n",
      "  # Remove the CWD from sys.path while we load stuff.\n",
      "/anaconda3/lib/python3.6/site-packages/ipykernel_launcher.py:11: SettingWithCopyWarning: \n",
      "A value is trying to be set on a copy of a slice from a DataFrame\n",
      "\n",
      "See the caveats in the documentation: http://pandas.pydata.org/pandas-docs/stable/indexing.html#indexing-view-versus-copy\n",
      "  # This is added back by InteractiveShellApp.init_path()\n",
      "/anaconda3/lib/python3.6/site-packages/ipykernel_launcher.py:12: SettingWithCopyWarning: \n",
      "A value is trying to be set on a copy of a slice from a DataFrame\n",
      "\n",
      "See the caveats in the documentation: http://pandas.pydata.org/pandas-docs/stable/indexing.html#indexing-view-versus-copy\n",
      "  if sys.path[0] == '':\n"
     ]
    }
   ],
   "source": [
    "file_aut['class_fc'] = np.zeros(file_aut.shape[0])\n",
    "file_aut['class_rt'] = np.zeros(file_aut.shape[0])\n",
    "\n",
    "file_aut['class_fc'][y1_fc.index] = 1\n",
    "file_aut['class_fc'][y2_fc.index] = 2\n",
    "#file_aut['class_fc'][y3_fc.index] = 3\n",
    "#file_aut['class_fc'][y4_fc.index] = 4\n",
    "\n",
    "file_aut['class_rt'][y1_rt.index] = 1\n",
    "file_aut['class_rt'][y2_rt.index] = 2\n",
    "file_aut['class_rt'][y3_rt.index] = 3\n",
    "file_aut['class_rt'][y4_rt.index] = 4"
   ]
  },
  {
   "cell_type": "code",
   "execution_count": 347,
   "metadata": {},
   "outputs": [
    {
     "data": {
      "text/html": [
       "<div>\n",
       "<style scoped>\n",
       "    .dataframe tbody tr th:only-of-type {\n",
       "        vertical-align: middle;\n",
       "    }\n",
       "\n",
       "    .dataframe tbody tr th {\n",
       "        vertical-align: top;\n",
       "    }\n",
       "\n",
       "    .dataframe thead th {\n",
       "        text-align: right;\n",
       "    }\n",
       "</style>\n",
       "<table border=\"1\" class=\"dataframe\">\n",
       "  <thead>\n",
       "    <tr style=\"text-align: right;\">\n",
       "      <th></th>\n",
       "      <th>j_user</th>\n",
       "      <th>RT_l10</th>\n",
       "      <th>sd_RT</th>\n",
       "      <th>FC_l10</th>\n",
       "      <th>sd_FC</th>\n",
       "      <th>FC</th>\n",
       "      <th>RT</th>\n",
       "      <th>class_fc</th>\n",
       "      <th>class_rt</th>\n",
       "    </tr>\n",
       "  </thead>\n",
       "  <tbody>\n",
       "    <tr>\n",
       "      <th>0</th>\n",
       "      <td>{'id': 756431, 'id_str': '756431', 'name': 'Ar...</td>\n",
       "      <td>2.4</td>\n",
       "      <td>3.929377</td>\n",
       "      <td>15.5</td>\n",
       "      <td>32.022648</td>\n",
       "      <td>0.0</td>\n",
       "      <td>0.0</td>\n",
       "      <td>0.0</td>\n",
       "      <td>0.0</td>\n",
       "    </tr>\n",
       "    <tr>\n",
       "      <th>1</th>\n",
       "      <td>{'id': 1622441, 'id_str': '1622441', 'name': '...</td>\n",
       "      <td>0.2</td>\n",
       "      <td>0.600000</td>\n",
       "      <td>0.8</td>\n",
       "      <td>0.979796</td>\n",
       "      <td>1.0</td>\n",
       "      <td>0.0</td>\n",
       "      <td>0.0</td>\n",
       "      <td>0.0</td>\n",
       "    </tr>\n",
       "    <tr>\n",
       "      <th>2</th>\n",
       "      <td>{'id': 1770311, 'id_str': '1770311', 'name': '...</td>\n",
       "      <td>17.9</td>\n",
       "      <td>13.626812</td>\n",
       "      <td>37.2</td>\n",
       "      <td>40.931162</td>\n",
       "      <td>21.0</td>\n",
       "      <td>10.0</td>\n",
       "      <td>1.0</td>\n",
       "      <td>1.0</td>\n",
       "    </tr>\n",
       "    <tr>\n",
       "      <th>3</th>\n",
       "      <td>{'id': 2107671, 'id_str': '2107671', 'name': '...</td>\n",
       "      <td>0.4</td>\n",
       "      <td>0.489898</td>\n",
       "      <td>1.7</td>\n",
       "      <td>3.796051</td>\n",
       "      <td>0.0</td>\n",
       "      <td>0.0</td>\n",
       "      <td>0.0</td>\n",
       "      <td>0.0</td>\n",
       "    </tr>\n",
       "    <tr>\n",
       "      <th>4</th>\n",
       "      <td>{'id': 3127331, 'id_str': '3127331', 'name': '...</td>\n",
       "      <td>2.3</td>\n",
       "      <td>5.216321</td>\n",
       "      <td>3.4</td>\n",
       "      <td>6.545227</td>\n",
       "      <td>0.0</td>\n",
       "      <td>0.0</td>\n",
       "      <td>0.0</td>\n",
       "      <td>0.0</td>\n",
       "    </tr>\n",
       "  </tbody>\n",
       "</table>\n",
       "</div>"
      ],
      "text/plain": [
       "                                              j_user  RT_l10      sd_RT  \\\n",
       "0  {'id': 756431, 'id_str': '756431', 'name': 'Ar...     2.4   3.929377   \n",
       "1  {'id': 1622441, 'id_str': '1622441', 'name': '...     0.2   0.600000   \n",
       "2  {'id': 1770311, 'id_str': '1770311', 'name': '...    17.9  13.626812   \n",
       "3  {'id': 2107671, 'id_str': '2107671', 'name': '...     0.4   0.489898   \n",
       "4  {'id': 3127331, 'id_str': '3127331', 'name': '...     2.3   5.216321   \n",
       "\n",
       "   FC_l10      sd_FC    FC    RT  class_fc  class_rt  \n",
       "0    15.5  32.022648   0.0   0.0       0.0       0.0  \n",
       "1     0.8   0.979796   1.0   0.0       0.0       0.0  \n",
       "2    37.2  40.931162  21.0  10.0       1.0       1.0  \n",
       "3     1.7   3.796051   0.0   0.0       0.0       0.0  \n",
       "4     3.4   6.545227   0.0   0.0       0.0       0.0  "
      ]
     },
     "execution_count": 347,
     "metadata": {},
     "output_type": "execute_result"
    }
   ],
   "source": [
    "file_aut.head()"
   ]
  },
  {
   "cell_type": "markdown",
   "metadata": {},
   "source": [
    "## Fins aquí tenim la base de dades d'author i tweet juntes, i s'han afegit dues columnes segons el grup de rt i el grup de fc"
   ]
  },
  {
   "cell_type": "markdown",
   "metadata": {},
   "source": [
    "Ara preparem les dades per aplicar el model que separa en grups a author"
   ]
  },
  {
   "cell_type": "code",
   "execution_count": 349,
   "metadata": {},
   "outputs": [
    {
     "name": "stderr",
     "output_type": "stream",
     "text": [
      "/anaconda3/lib/python3.6/site-packages/ipykernel_launcher.py:11: SettingWithCopyWarning: \n",
      "A value is trying to be set on a copy of a slice from a DataFrame\n",
      "\n",
      "See the caveats in the documentation: http://pandas.pydata.org/pandas-docs/stable/indexing.html#indexing-view-versus-copy\n",
      "  # This is added back by InteractiveShellApp.init_path()\n"
     ]
    }
   ],
   "source": [
    "numl = len(file_aut.index.values)\n",
    "cols = ['followers_count','friends_count','listed_count','favourites_count','statuses_count']\n",
    "\n",
    "X_aut = file_aut.copy() #X que utilitzem pel model d'authors\n",
    "\n",
    "for col in cols:\n",
    "    X_aut[col]=np.zeros(numl)\n",
    "for line in range(numl):\n",
    "    dic = ast.literal_eval(file_aut['j_user'][line])\n",
    "    for col in cols:\n",
    "        X_aut[col][line] = int(dic[col])"
   ]
  },
  {
   "cell_type": "code",
   "execution_count": 350,
   "metadata": {},
   "outputs": [],
   "source": [
    "X_aut.drop('j_user',axis=1,inplace=True)\n",
    "X_aut.drop('FC',axis=1,inplace=True)\n",
    "X_aut.drop('RT',axis=1,inplace=True)\n",
    "X_aut.drop('class_fc',axis=1,inplace=True)\n",
    "X_aut.drop('class_rt',axis=1,inplace=True)"
   ]
  },
  {
   "cell_type": "code",
   "execution_count": 351,
   "metadata": {},
   "outputs": [
    {
     "data": {
      "text/html": [
       "<div>\n",
       "<style scoped>\n",
       "    .dataframe tbody tr th:only-of-type {\n",
       "        vertical-align: middle;\n",
       "    }\n",
       "\n",
       "    .dataframe tbody tr th {\n",
       "        vertical-align: top;\n",
       "    }\n",
       "\n",
       "    .dataframe thead th {\n",
       "        text-align: right;\n",
       "    }\n",
       "</style>\n",
       "<table border=\"1\" class=\"dataframe\">\n",
       "  <thead>\n",
       "    <tr style=\"text-align: right;\">\n",
       "      <th></th>\n",
       "      <th>RT_l10</th>\n",
       "      <th>sd_RT</th>\n",
       "      <th>FC_l10</th>\n",
       "      <th>sd_FC</th>\n",
       "      <th>followers_count</th>\n",
       "      <th>friends_count</th>\n",
       "      <th>listed_count</th>\n",
       "      <th>favourites_count</th>\n",
       "      <th>statuses_count</th>\n",
       "    </tr>\n",
       "  </thead>\n",
       "  <tbody>\n",
       "    <tr>\n",
       "      <th>0</th>\n",
       "      <td>2.4</td>\n",
       "      <td>3.929377</td>\n",
       "      <td>15.5</td>\n",
       "      <td>32.022648</td>\n",
       "      <td>19645.0</td>\n",
       "      <td>949.0</td>\n",
       "      <td>662.0</td>\n",
       "      <td>12334.0</td>\n",
       "      <td>55829.0</td>\n",
       "    </tr>\n",
       "    <tr>\n",
       "      <th>1</th>\n",
       "      <td>0.2</td>\n",
       "      <td>0.600000</td>\n",
       "      <td>0.8</td>\n",
       "      <td>0.979796</td>\n",
       "      <td>4221.0</td>\n",
       "      <td>281.0</td>\n",
       "      <td>340.0</td>\n",
       "      <td>587.0</td>\n",
       "      <td>13650.0</td>\n",
       "    </tr>\n",
       "    <tr>\n",
       "      <th>2</th>\n",
       "      <td>17.9</td>\n",
       "      <td>13.626812</td>\n",
       "      <td>37.2</td>\n",
       "      <td>40.931162</td>\n",
       "      <td>1133925.0</td>\n",
       "      <td>1.0</td>\n",
       "      <td>9745.0</td>\n",
       "      <td>16.0</td>\n",
       "      <td>65228.0</td>\n",
       "    </tr>\n",
       "    <tr>\n",
       "      <th>3</th>\n",
       "      <td>0.4</td>\n",
       "      <td>0.489898</td>\n",
       "      <td>1.7</td>\n",
       "      <td>3.796051</td>\n",
       "      <td>5386.0</td>\n",
       "      <td>3861.0</td>\n",
       "      <td>304.0</td>\n",
       "      <td>15325.0</td>\n",
       "      <td>85493.0</td>\n",
       "    </tr>\n",
       "    <tr>\n",
       "      <th>4</th>\n",
       "      <td>2.3</td>\n",
       "      <td>5.216321</td>\n",
       "      <td>3.4</td>\n",
       "      <td>6.545227</td>\n",
       "      <td>1072.0</td>\n",
       "      <td>433.0</td>\n",
       "      <td>101.0</td>\n",
       "      <td>899.0</td>\n",
       "      <td>19893.0</td>\n",
       "    </tr>\n",
       "  </tbody>\n",
       "</table>\n",
       "</div>"
      ],
      "text/plain": [
       "   RT_l10      sd_RT  FC_l10      sd_FC  followers_count  friends_count  \\\n",
       "0     2.4   3.929377    15.5  32.022648          19645.0          949.0   \n",
       "1     0.2   0.600000     0.8   0.979796           4221.0          281.0   \n",
       "2    17.9  13.626812    37.2  40.931162        1133925.0            1.0   \n",
       "3     0.4   0.489898     1.7   3.796051           5386.0         3861.0   \n",
       "4     2.3   5.216321     3.4   6.545227           1072.0          433.0   \n",
       "\n",
       "   listed_count  favourites_count  statuses_count  \n",
       "0         662.0           12334.0         55829.0  \n",
       "1         340.0             587.0         13650.0  \n",
       "2        9745.0              16.0         65228.0  \n",
       "3         304.0           15325.0         85493.0  \n",
       "4         101.0             899.0         19893.0  "
      ]
     },
     "execution_count": 351,
     "metadata": {},
     "output_type": "execute_result"
    }
   ],
   "source": [
    "X_aut.head() #son les x\n",
    "#file['class_rt'] son les y per RT\n",
    "#file['class_fc'] son les y per FC"
   ]
  },
  {
   "cell_type": "markdown",
   "metadata": {},
   "source": [
    "## Ara fem el model per determinal el grup"
   ]
  },
  {
   "cell_type": "code",
   "execution_count": 352,
   "metadata": {},
   "outputs": [],
   "source": [
    "#model to determine which class\n",
    "\n",
    "#Neural networks\n",
    "from sklearn.neural_network import MLPClassifier\n",
    "from sklearn.preprocessing import StandardScaler\n",
    "from sklearn import model_selection\n",
    "from sklearn import metrics\n",
    "\n",
    "#for FC\n",
    "\n",
    "r_state = [0,1,2,3,4,5,42,43,44,45]\n",
    "\n",
    "acc_fc = np.zeros((len(r_state),1))\n",
    "\n",
    "for i in range(len(r_state)):\n",
    "    X_train, X_test, y_train, y_test = model_selection.train_test_split(X_aut, file_aut['class_fc'], train_size=0.7, random_state=r_state[i])\n",
    "    \n",
    "    #Your code here\n",
    "    scaler = StandardScaler()\n",
    "    scaler = scaler.fit(X_train)\n",
    "    X_train_scaled = scaler.transform(X_train)\n",
    "    X_test_scaled = scaler.transform(X_test) \n",
    "\n",
    "    mlp = MLPClassifier() #MLP\n",
    "    mlp.fit(X_train_scaled,y_train)\n",
    "    yhat_mlp = mlp.predict(X_test_scaled) \n",
    "    \n",
    "    acc_fc[i,0] = metrics.accuracy_score(y_test,yhat_mlp)\n"
   ]
  },
  {
   "cell_type": "code",
   "execution_count": 353,
   "metadata": {},
   "outputs": [
    {
     "data": {
      "text/plain": [
       "{'whiskers': [<matplotlib.lines.Line2D at 0x1a15a93198>,\n",
       "  <matplotlib.lines.Line2D at 0x1a15a93908>],\n",
       " 'caps': [<matplotlib.lines.Line2D at 0x1a15841be0>,\n",
       "  <matplotlib.lines.Line2D at 0x1a158416d8>],\n",
       " 'boxes': [<matplotlib.lines.Line2D at 0x1a15a939e8>],\n",
       " 'medians': [<matplotlib.lines.Line2D at 0x1119cc668>],\n",
       " 'fliers': [<matplotlib.lines.Line2D at 0x1119cc748>],\n",
       " 'means': []}"
      ]
     },
     "execution_count": 353,
     "metadata": {},
     "output_type": "execute_result"
    },
    {
     "data": {
      "image/png": "[encoded data removed]",
      "text/plain": [
       "<Figure size 432x288 with 1 Axes>"
      ]
     },
     "metadata": {
      "needs_background": "light"
     },
     "output_type": "display_data"
    }
   ],
   "source": [
    "fig = plt.figure()\n",
    "plt.boxplot(acc_fc)"
   ]
  },
  {
   "cell_type": "code",
   "execution_count": 355,
   "metadata": {},
   "outputs": [
    {
     "name": "stdout",
     "output_type": "stream",
     "text": [
      "             precision    recall  f1-score   support\n",
      "\n",
      "        0.0       0.84      0.98      0.90       553\n",
      "        1.0       0.33      0.07      0.12       110\n",
      "        2.0       0.86      0.71      0.77        51\n",
      "\n",
      "avg / total       0.76      0.82      0.77       714\n",
      "\n",
      "[[542   9   2]\n",
      " [ 98   8   4]\n",
      " [  8   7  36]]\n"
     ]
    }
   ],
   "source": [
    "X_train, X_test, y_train, y_test = model_selection.train_test_split(X_aut, file_aut['class_fc'], train_size=0.7, random_state=r_state[0])\n",
    "\n",
    "scaler = StandardScaler()\n",
    "scaler = scaler.fit(X_train)\n",
    "X_train_scaled = scaler.transform(X_train)\n",
    "X_test_scaled = scaler.transform(X_test) \n",
    "\n",
    "mlp = MLPClassifier() #MLP\n",
    "mlp.fit(X_train_scaled,y_train)\n",
    "yhat_mlp = mlp.predict(X_test_scaled) \n",
    "\n",
    "print(metrics.classification_report(y_test,yhat_mlp))\n",
    "print(metrics.confusion_matrix(y_test,yhat_mlp))"
   ]
  },
  {
   "cell_type": "code",
   "execution_count": 333,
   "metadata": {},
   "outputs": [
    {
     "name": "stderr",
     "output_type": "stream",
     "text": [
      "/anaconda3/lib/python3.6/site-packages/sklearn/neural_network/multilayer_perceptron.py:564: ConvergenceWarning: Stochastic Optimizer: Maximum iterations (200) reached and the optimization hasn't converged yet.\n",
      "  % self.max_iter, ConvergenceWarning)\n"
     ]
    }
   ],
   "source": [
    "#model to determine which class\n",
    "\n",
    "#Neural networks\n",
    "from sklearn.neural_network import MLPClassifier\n",
    "from sklearn.preprocessing import StandardScaler\n",
    "from sklearn import model_selection\n",
    "from sklearn import metrics\n",
    "\n",
    "#for RT\n",
    "\n",
    "r_state = [0,1,2,3,4,5,42,43,44,45]\n",
    "\n",
    "acc_rt = np.zeros((len(r_state),1))\n",
    "\n",
    "for i in range(len(r_state)):\n",
    "    X_train, X_test, y_train, y_test = model_selection.train_test_split(X_aut, file_aut['class_rt'], train_size=0.7, random_state=r_state[i])\n",
    "    \n",
    "    #Your code here\n",
    "    scaler = StandardScaler()\n",
    "    scaler = scaler.fit(X_train)\n",
    "    X_train_scaled = scaler.transform(X_train)\n",
    "    X_test_scaled = scaler.transform(X_test) \n",
    "\n",
    "    mlp = MLPClassifier() #MLP\n",
    "    mlp.fit(X_train_scaled,y_train)\n",
    "    yhat_mlp = mlp.predict(X_test_scaled) \n",
    "    \n",
    "    acc_rt[i,0] = metrics.accuracy_score(y_test,yhat_mlp)\n",
    "\n",
    "mlp = MLPClassifier()"
   ]
  },
  {
   "cell_type": "code",
   "execution_count": 334,
   "metadata": {},
   "outputs": [
    {
     "data": {
      "text/plain": [
       "{'whiskers': [<matplotlib.lines.Line2D at 0x1119a2e80>,\n",
       "  <matplotlib.lines.Line2D at 0x1a15a6e8d0>],\n",
       " 'caps': [<matplotlib.lines.Line2D at 0x1a15a6edd8>,\n",
       "  <matplotlib.lines.Line2D at 0x1a15a6e400>],\n",
       " 'boxes': [<matplotlib.lines.Line2D at 0x1119a24a8>],\n",
       " 'medians': [<matplotlib.lines.Line2D at 0x1a15a4fda0>],\n",
       " 'fliers': [<matplotlib.lines.Line2D at 0x1a15a4fef0>],\n",
       " 'means': []}"
      ]
     },
     "execution_count": 334,
     "metadata": {},
     "output_type": "execute_result"
    },
    {
     "data": {
      "image/png": "[encoded data removed]",
      "text/plain": [
       "<Figure size 432x288 with 1 Axes>"
      ]
     },
     "metadata": {
      "needs_background": "light"
     },
     "output_type": "display_data"
    }
   ],
   "source": [
    "fig = plt.figure()\n",
    "plt.boxplot(acc_rt)"
   ]
  },
  {
   "cell_type": "markdown",
   "metadata": {},
   "source": [
    "Els models utilitzats són \"sklearn.neural_network.MLPClassifier()\" i tenen una accuracy del 88-89% de mitjana:"
   ]
  },
  {
   "cell_type": "code",
   "execution_count": 354,
   "metadata": {},
   "outputs": [
    {
     "name": "stdout",
     "output_type": "stream",
     "text": [
      "Mean accuracy for FC: 0.8334733893557422\n"
     ]
    },
    {
     "ename": "NameError",
     "evalue": "name 'acc_rt' is not defined",
     "output_type": "error",
     "traceback": [
      "\u001b[0;31m---------------------------------------------------------------------------\u001b[0m",
      "\u001b[0;31mNameError\u001b[0m                                 Traceback (most recent call last)",
      "\u001b[0;32m<ipython-input-354-bae589053577>\u001b[0m in \u001b[0;36m<module>\u001b[0;34m\u001b[0m\n\u001b[1;32m      1\u001b[0m \u001b[0mprint\u001b[0m\u001b[0;34m(\u001b[0m\u001b[0;34m\"Mean accuracy for FC:\"\u001b[0m\u001b[0;34m,\u001b[0m\u001b[0mnp\u001b[0m\u001b[0;34m.\u001b[0m\u001b[0mmean\u001b[0m\u001b[0;34m(\u001b[0m\u001b[0macc_fc\u001b[0m\u001b[0;34m)\u001b[0m\u001b[0;34m)\u001b[0m\u001b[0;34m\u001b[0m\u001b[0m\n\u001b[0;32m----> 2\u001b[0;31m \u001b[0mprint\u001b[0m\u001b[0;34m(\u001b[0m\u001b[0;34m\"Mean accuracy for RT:\"\u001b[0m\u001b[0;34m,\u001b[0m\u001b[0mnp\u001b[0m\u001b[0;34m.\u001b[0m\u001b[0mmean\u001b[0m\u001b[0;34m(\u001b[0m\u001b[0macc_rt\u001b[0m\u001b[0;34m)\u001b[0m\u001b[0;34m)\u001b[0m\u001b[0;34m\u001b[0m\u001b[0m\n\u001b[0m",
      "\u001b[0;31mNameError\u001b[0m: name 'acc_rt' is not defined"
     ]
    }
   ],
   "source": [
    "print(\"Mean accuracy for FC:\",np.mean(acc_fc))\n",
    "print(\"Mean accuracy for RT:\",np.mean(acc_rt))"
   ]
  },
  {
   "cell_type": "code",
   "execution_count": 123,
   "metadata": {},
   "outputs": [],
   "source": [
    "from sklearn.neural_network import MLPClassifier\n",
    "from sklearn.preprocessing import StandardScaler\n",
    "from sklearn import model_selection\n",
    "from sklearn import metrics"
   ]
  },
  {
   "cell_type": "markdown",
   "metadata": {},
   "source": [
    "### Model final per class_FC i class_RT:"
   ]
  },
  {
   "cell_type": "code",
   "execution_count": 126,
   "metadata": {},
   "outputs": [
    {
     "data": {
      "text/plain": [
       "MLPClassifier(activation='relu', alpha=0.0001, batch_size='auto', beta_1=0.9,\n",
       "       beta_2=0.999, early_stopping=False, epsilon=1e-08,\n",
       "       hidden_layer_sizes=(100,), learning_rate='constant',\n",
       "       learning_rate_init=0.001, max_iter=200, momentum=0.9,\n",
       "       nesterovs_momentum=True, power_t=0.5, random_state=None,\n",
       "       shuffle=True, solver='adam', tol=0.0001, validation_fraction=0.1,\n",
       "       verbose=False, warm_start=False)"
      ]
     },
     "execution_count": 126,
     "metadata": {},
     "output_type": "execute_result"
    }
   ],
   "source": [
    "scaler = StandardScaler()\n",
    "scaler = scaler.fit(X_aut)\n",
    "\n",
    "mlp_fc = MLPClassifier()\n",
    "mlp_fc.fit(scaler.transform(X_aut),file_aut['class_fc'])\n",
    "\n",
    "mlp_rt = MLPClassifier()\n",
    "mlp_rt.fit(scaler.transform(X_aut),file_aut['class_rt'])"
   ]
  },
  {
   "cell_type": "code",
   "execution_count": 127,
   "metadata": {},
   "outputs": [
    {
     "data": {
      "text/plain": [
       "(2378, 13)"
      ]
     },
     "execution_count": 127,
     "metadata": {},
     "output_type": "execute_result"
    }
   ],
   "source": [
    "X_aut.shape"
   ]
  },
  {
   "cell_type": "code",
   "execution_count": null,
   "metadata": {},
   "outputs": [],
   "source": []
  },
  {
   "cell_type": "code",
   "execution_count": null,
   "metadata": {},
   "outputs": [],
   "source": []
  },
  {
   "cell_type": "markdown",
   "metadata": {},
   "source": [
    "## Model pel text "
   ]
  },
  {
   "cell_type": "code",
   "execution_count": 60,
   "metadata": {},
   "outputs": [],
   "source": [
    "## Predim les noves columnes class_RT i class_fc"
   ]
  },
  {
   "cell_type": "code",
   "execution_count": 128,
   "metadata": {},
   "outputs": [],
   "source": [
    "class_fc = mlp_fc.predict(scaler.transform(X_aut))\n",
    "class_rt = mlp_fc.predict(scaler.transform(X_aut))"
   ]
  },
  {
   "cell_type": "code",
   "execution_count": 228,
   "metadata": {},
   "outputs": [],
   "source": [
    "import ast\n",
    "import re #regular expressions\n",
    "import unidecode as udc\n",
    "import nltk\n",
    "from sklearn.feature_extraction.text import CountVectorizer\n",
    "from unicodedata import normalize"
   ]
  },
  {
   "cell_type": "code",
   "execution_count": 297,
   "metadata": {},
   "outputs": [
    {
     "data": {
      "text/html": [
       "<div>\n",
       "<style scoped>\n",
       "    .dataframe tbody tr th:only-of-type {\n",
       "        vertical-align: middle;\n",
       "    }\n",
       "\n",
       "    .dataframe tbody tr th {\n",
       "        vertical-align: top;\n",
       "    }\n",
       "\n",
       "    .dataframe thead th {\n",
       "        text-align: right;\n",
       "    }\n",
       "</style>\n",
       "<table border=\"1\" class=\"dataframe\">\n",
       "  <thead>\n",
       "    <tr style=\"text-align: right;\">\n",
       "      <th></th>\n",
       "      <th>id</th>\n",
       "      <th>Tweet</th>\n",
       "      <th>j_user</th>\n",
       "      <th>created_at</th>\n",
       "      <th>entities</th>\n",
       "      <th>followers_user</th>\n",
       "      <th>FC</th>\n",
       "      <th>RT</th>\n",
       "      <th>trending_topic</th>\n",
       "    </tr>\n",
       "  </thead>\n",
       "  <tbody>\n",
       "    <tr>\n",
       "      <th>0</th>\n",
       "      <td>1046429145914384386</td>\n",
       "      <td>Desde el #FCJumilla damos nuestra más sincera ...</td>\n",
       "      <td>{'id': 2664945430, 'id_str': '2664945430', 'na...</td>\n",
       "      <td>2018-09-30 15:58:44</td>\n",
       "      <td>{'hashtags': [{'text': 'FCJumilla', 'indices':...</td>\n",
       "      <td>7162</td>\n",
       "      <td>18</td>\n",
       "      <td>4</td>\n",
       "      <td>0.0</td>\n",
       "    </tr>\n",
       "    <tr>\n",
       "      <th>1</th>\n",
       "      <td>1044060298443919367</td>\n",
       "      <td>Me estoy volviendo loca hasta por cada una de ...</td>\n",
       "      <td>{'id': 713359736, 'id_str': '713359736', 'name...</td>\n",
       "      <td>2018-09-24 03:05:47</td>\n",
       "      <td>{'hashtags': [], 'symbols': [], 'user_mentions...</td>\n",
       "      <td>531</td>\n",
       "      <td>0</td>\n",
       "      <td>0</td>\n",
       "      <td>0.0</td>\n",
       "    </tr>\n",
       "    <tr>\n",
       "      <th>2</th>\n",
       "      <td>1046424001214648320</td>\n",
       "      <td>🏟 | El #FCJumilla ya está en La Condomina   ⚽️...</td>\n",
       "      <td>{'id': 2664945430, 'id_str': '2664945430', 'na...</td>\n",
       "      <td>2018-09-30 15:38:18</td>\n",
       "      <td>{'hashtags': [{'text': 'FCJumilla', 'indices':...</td>\n",
       "      <td>7162</td>\n",
       "      <td>4</td>\n",
       "      <td>2</td>\n",
       "      <td>0.0</td>\n",
       "    </tr>\n",
       "    <tr>\n",
       "      <th>3</th>\n",
       "      <td>1046419267279818752</td>\n",
       "      <td>📹 | El vestuario del #FCJumilla en La Condomin...</td>\n",
       "      <td>{'id': 2664945430, 'id_str': '2664945430', 'na...</td>\n",
       "      <td>2018-09-30 15:19:29</td>\n",
       "      <td>{'hashtags': [{'text': 'FCJumilla', 'indices':...</td>\n",
       "      <td>7162</td>\n",
       "      <td>21</td>\n",
       "      <td>6</td>\n",
       "      <td>0.0</td>\n",
       "    </tr>\n",
       "    <tr>\n",
       "      <th>4</th>\n",
       "      <td>1046417005451128832</td>\n",
       "      <td>📑 Jornada 6 | El colegiado andaluz Guzmán Mans...</td>\n",
       "      <td>{'id': 2664945430, 'id_str': '2664945430', 'na...</td>\n",
       "      <td>2018-09-30 15:10:30</td>\n",
       "      <td>{'hashtags': [{'text': 'UCAMMurciaJumilla', 'i...</td>\n",
       "      <td>7162</td>\n",
       "      <td>0</td>\n",
       "      <td>0</td>\n",
       "      <td>0.0</td>\n",
       "    </tr>\n",
       "  </tbody>\n",
       "</table>\n",
       "</div>"
      ],
      "text/plain": [
       "                    id                                              Tweet  \\\n",
       "0  1046429145914384386  Desde el #FCJumilla damos nuestra más sincera ...   \n",
       "1  1044060298443919367  Me estoy volviendo loca hasta por cada una de ...   \n",
       "2  1046424001214648320  🏟 | El #FCJumilla ya está en La Condomina   ⚽️...   \n",
       "3  1046419267279818752  📹 | El vestuario del #FCJumilla en La Condomin...   \n",
       "4  1046417005451128832  📑 Jornada 6 | El colegiado andaluz Guzmán Mans...   \n",
       "\n",
       "                                              j_user           created_at  \\\n",
       "0  {'id': 2664945430, 'id_str': '2664945430', 'na...  2018-09-30 15:58:44   \n",
       "1  {'id': 713359736, 'id_str': '713359736', 'name...  2018-09-24 03:05:47   \n",
       "2  {'id': 2664945430, 'id_str': '2664945430', 'na...  2018-09-30 15:38:18   \n",
       "3  {'id': 2664945430, 'id_str': '2664945430', 'na...  2018-09-30 15:19:29   \n",
       "4  {'id': 2664945430, 'id_str': '2664945430', 'na...  2018-09-30 15:10:30   \n",
       "\n",
       "                                            entities  followers_user  FC  RT  \\\n",
       "0  {'hashtags': [{'text': 'FCJumilla', 'indices':...            7162  18   4   \n",
       "1  {'hashtags': [], 'symbols': [], 'user_mentions...             531   0   0   \n",
       "2  {'hashtags': [{'text': 'FCJumilla', 'indices':...            7162   4   2   \n",
       "3  {'hashtags': [{'text': 'FCJumilla', 'indices':...            7162  21   6   \n",
       "4  {'hashtags': [{'text': 'UCAMMurciaJumilla', 'i...            7162   0   0   \n",
       "\n",
       "   trending_topic  \n",
       "0             0.0  \n",
       "1             0.0  \n",
       "2             0.0  \n",
       "3             0.0  \n",
       "4             0.0  "
      ]
     },
     "execution_count": 297,
     "metadata": {},
     "output_type": "execute_result"
    }
   ],
   "source": [
    "file_tweet = pd.read_csv('tweet.csv')\n",
    "file_tweet.drop('Unnamed: 0',axis=1,inplace=True)\n",
    "file_tweet.head()"
   ]
  },
  {
   "cell_type": "code",
   "execution_count": 298,
   "metadata": {},
   "outputs": [
    {
     "data": {
      "text/html": [
       "<div>\n",
       "<style scoped>\n",
       "    .dataframe tbody tr th:only-of-type {\n",
       "        vertical-align: middle;\n",
       "    }\n",
       "\n",
       "    .dataframe tbody tr th {\n",
       "        vertical-align: top;\n",
       "    }\n",
       "\n",
       "    .dataframe thead th {\n",
       "        text-align: right;\n",
       "    }\n",
       "</style>\n",
       "<table border=\"1\" class=\"dataframe\">\n",
       "  <thead>\n",
       "    <tr style=\"text-align: right;\">\n",
       "      <th></th>\n",
       "      <th>RT_l10</th>\n",
       "      <th>sd_RT</th>\n",
       "      <th>FC_l10</th>\n",
       "      <th>sd_FC</th>\n",
       "      <th>FC</th>\n",
       "      <th>RT</th>\n",
       "      <th>class_fc</th>\n",
       "      <th>class_rt</th>\n",
       "      <th>followers_count</th>\n",
       "      <th>friends_count</th>\n",
       "      <th>listed_count</th>\n",
       "      <th>favourites_count</th>\n",
       "      <th>statuses_count</th>\n",
       "    </tr>\n",
       "  </thead>\n",
       "  <tbody>\n",
       "    <tr>\n",
       "      <th>0</th>\n",
       "      <td>2.4</td>\n",
       "      <td>3.929377</td>\n",
       "      <td>15.5</td>\n",
       "      <td>32.022648</td>\n",
       "      <td>0.0</td>\n",
       "      <td>0.0</td>\n",
       "      <td>0.0</td>\n",
       "      <td>0.0</td>\n",
       "      <td>19645.0</td>\n",
       "      <td>949.0</td>\n",
       "      <td>662.0</td>\n",
       "      <td>12334.0</td>\n",
       "      <td>55829.0</td>\n",
       "    </tr>\n",
       "    <tr>\n",
       "      <th>1</th>\n",
       "      <td>0.2</td>\n",
       "      <td>0.600000</td>\n",
       "      <td>0.8</td>\n",
       "      <td>0.979796</td>\n",
       "      <td>1.0</td>\n",
       "      <td>0.0</td>\n",
       "      <td>0.0</td>\n",
       "      <td>0.0</td>\n",
       "      <td>4221.0</td>\n",
       "      <td>281.0</td>\n",
       "      <td>340.0</td>\n",
       "      <td>587.0</td>\n",
       "      <td>13650.0</td>\n",
       "    </tr>\n",
       "    <tr>\n",
       "      <th>2</th>\n",
       "      <td>17.9</td>\n",
       "      <td>13.626812</td>\n",
       "      <td>37.2</td>\n",
       "      <td>40.931162</td>\n",
       "      <td>21.0</td>\n",
       "      <td>10.0</td>\n",
       "      <td>1.0</td>\n",
       "      <td>1.0</td>\n",
       "      <td>1133925.0</td>\n",
       "      <td>1.0</td>\n",
       "      <td>9745.0</td>\n",
       "      <td>16.0</td>\n",
       "      <td>65228.0</td>\n",
       "    </tr>\n",
       "    <tr>\n",
       "      <th>3</th>\n",
       "      <td>0.4</td>\n",
       "      <td>0.489898</td>\n",
       "      <td>1.7</td>\n",
       "      <td>3.796051</td>\n",
       "      <td>0.0</td>\n",
       "      <td>0.0</td>\n",
       "      <td>0.0</td>\n",
       "      <td>0.0</td>\n",
       "      <td>5386.0</td>\n",
       "      <td>3861.0</td>\n",
       "      <td>304.0</td>\n",
       "      <td>15325.0</td>\n",
       "      <td>85493.0</td>\n",
       "    </tr>\n",
       "    <tr>\n",
       "      <th>4</th>\n",
       "      <td>2.3</td>\n",
       "      <td>5.216321</td>\n",
       "      <td>3.4</td>\n",
       "      <td>6.545227</td>\n",
       "      <td>0.0</td>\n",
       "      <td>0.0</td>\n",
       "      <td>0.0</td>\n",
       "      <td>0.0</td>\n",
       "      <td>1072.0</td>\n",
       "      <td>433.0</td>\n",
       "      <td>101.0</td>\n",
       "      <td>899.0</td>\n",
       "      <td>19893.0</td>\n",
       "    </tr>\n",
       "  </tbody>\n",
       "</table>\n",
       "</div>"
      ],
      "text/plain": [
       "   RT_l10      sd_RT  FC_l10      sd_FC    FC    RT  class_fc  class_rt  \\\n",
       "0     2.4   3.929377    15.5  32.022648   0.0   0.0       0.0       0.0   \n",
       "1     0.2   0.600000     0.8   0.979796   1.0   0.0       0.0       0.0   \n",
       "2    17.9  13.626812    37.2  40.931162  21.0  10.0       1.0       1.0   \n",
       "3     0.4   0.489898     1.7   3.796051   0.0   0.0       0.0       0.0   \n",
       "4     2.3   5.216321     3.4   6.545227   0.0   0.0       0.0       0.0   \n",
       "\n",
       "   followers_count  friends_count  listed_count  favourites_count  \\\n",
       "0          19645.0          949.0         662.0           12334.0   \n",
       "1           4221.0          281.0         340.0             587.0   \n",
       "2        1133925.0            1.0        9745.0              16.0   \n",
       "3           5386.0         3861.0         304.0           15325.0   \n",
       "4           1072.0          433.0         101.0             899.0   \n",
       "\n",
       "   statuses_count  \n",
       "0         55829.0  \n",
       "1         13650.0  \n",
       "2         65228.0  \n",
       "3         85493.0  \n",
       "4         19893.0  "
      ]
     },
     "execution_count": 298,
     "metadata": {},
     "output_type": "execute_result"
    }
   ],
   "source": [
    "X_aut.head()"
   ]
  },
  {
   "cell_type": "code",
   "execution_count": 299,
   "metadata": {},
   "outputs": [],
   "source": [
    "#falta afegir els IDs a X_aut \n",
    "\n",
    "X_aut_ids = X_aut.copy()\n",
    "numl = len(file_aut.index.values)\n",
    "#cols = ['followers_count','friends_count','listed_count','favourites_count','statuses_count']\n",
    "\n",
    "#X_aut['id'] = np.zeros(numl) #X que utilitzem pel model d'authors\n",
    "ids = np.zeros(numl)\n",
    "\n",
    "for line in range(numl):\n",
    "    dic = ast.literal_eval(file_aut['j_user'][line])\n",
    "    ids[line] = dic['id']"
   ]
  },
  {
   "cell_type": "code",
   "execution_count": 300,
   "metadata": {},
   "outputs": [
    {
     "data": {
      "text/html": [
       "<div>\n",
       "<style scoped>\n",
       "    .dataframe tbody tr th:only-of-type {\n",
       "        vertical-align: middle;\n",
       "    }\n",
       "\n",
       "    .dataframe tbody tr th {\n",
       "        vertical-align: top;\n",
       "    }\n",
       "\n",
       "    .dataframe thead th {\n",
       "        text-align: right;\n",
       "    }\n",
       "</style>\n",
       "<table border=\"1\" class=\"dataframe\">\n",
       "  <thead>\n",
       "    <tr style=\"text-align: right;\">\n",
       "      <th></th>\n",
       "      <th>RT_l10</th>\n",
       "      <th>sd_RT</th>\n",
       "      <th>FC_l10</th>\n",
       "      <th>sd_FC</th>\n",
       "      <th>FC</th>\n",
       "      <th>RT</th>\n",
       "      <th>class_fc</th>\n",
       "      <th>class_rt</th>\n",
       "      <th>followers_count</th>\n",
       "      <th>friends_count</th>\n",
       "      <th>listed_count</th>\n",
       "      <th>favourites_count</th>\n",
       "      <th>statuses_count</th>\n",
       "    </tr>\n",
       "  </thead>\n",
       "  <tbody>\n",
       "    <tr>\n",
       "      <th>0</th>\n",
       "      <td>2.4</td>\n",
       "      <td>3.929377</td>\n",
       "      <td>15.5</td>\n",
       "      <td>32.022648</td>\n",
       "      <td>0.0</td>\n",
       "      <td>0.0</td>\n",
       "      <td>0.0</td>\n",
       "      <td>0.0</td>\n",
       "      <td>19645.0</td>\n",
       "      <td>949.0</td>\n",
       "      <td>662.0</td>\n",
       "      <td>12334.0</td>\n",
       "      <td>55829.0</td>\n",
       "    </tr>\n",
       "    <tr>\n",
       "      <th>1</th>\n",
       "      <td>0.2</td>\n",
       "      <td>0.600000</td>\n",
       "      <td>0.8</td>\n",
       "      <td>0.979796</td>\n",
       "      <td>1.0</td>\n",
       "      <td>0.0</td>\n",
       "      <td>0.0</td>\n",
       "      <td>0.0</td>\n",
       "      <td>4221.0</td>\n",
       "      <td>281.0</td>\n",
       "      <td>340.0</td>\n",
       "      <td>587.0</td>\n",
       "      <td>13650.0</td>\n",
       "    </tr>\n",
       "    <tr>\n",
       "      <th>2</th>\n",
       "      <td>17.9</td>\n",
       "      <td>13.626812</td>\n",
       "      <td>37.2</td>\n",
       "      <td>40.931162</td>\n",
       "      <td>21.0</td>\n",
       "      <td>10.0</td>\n",
       "      <td>1.0</td>\n",
       "      <td>1.0</td>\n",
       "      <td>1133925.0</td>\n",
       "      <td>1.0</td>\n",
       "      <td>9745.0</td>\n",
       "      <td>16.0</td>\n",
       "      <td>65228.0</td>\n",
       "    </tr>\n",
       "    <tr>\n",
       "      <th>3</th>\n",
       "      <td>0.4</td>\n",
       "      <td>0.489898</td>\n",
       "      <td>1.7</td>\n",
       "      <td>3.796051</td>\n",
       "      <td>0.0</td>\n",
       "      <td>0.0</td>\n",
       "      <td>0.0</td>\n",
       "      <td>0.0</td>\n",
       "      <td>5386.0</td>\n",
       "      <td>3861.0</td>\n",
       "      <td>304.0</td>\n",
       "      <td>15325.0</td>\n",
       "      <td>85493.0</td>\n",
       "    </tr>\n",
       "    <tr>\n",
       "      <th>4</th>\n",
       "      <td>2.3</td>\n",
       "      <td>5.216321</td>\n",
       "      <td>3.4</td>\n",
       "      <td>6.545227</td>\n",
       "      <td>0.0</td>\n",
       "      <td>0.0</td>\n",
       "      <td>0.0</td>\n",
       "      <td>0.0</td>\n",
       "      <td>1072.0</td>\n",
       "      <td>433.0</td>\n",
       "      <td>101.0</td>\n",
       "      <td>899.0</td>\n",
       "      <td>19893.0</td>\n",
       "    </tr>\n",
       "  </tbody>\n",
       "</table>\n",
       "</div>"
      ],
      "text/plain": [
       "   RT_l10      sd_RT  FC_l10      sd_FC    FC    RT  class_fc  class_rt  \\\n",
       "0     2.4   3.929377    15.5  32.022648   0.0   0.0       0.0       0.0   \n",
       "1     0.2   0.600000     0.8   0.979796   1.0   0.0       0.0       0.0   \n",
       "2    17.9  13.626812    37.2  40.931162  21.0  10.0       1.0       1.0   \n",
       "3     0.4   0.489898     1.7   3.796051   0.0   0.0       0.0       0.0   \n",
       "4     2.3   5.216321     3.4   6.545227   0.0   0.0       0.0       0.0   \n",
       "\n",
       "   followers_count  friends_count  listed_count  favourites_count  \\\n",
       "0          19645.0          949.0         662.0           12334.0   \n",
       "1           4221.0          281.0         340.0             587.0   \n",
       "2        1133925.0            1.0        9745.0              16.0   \n",
       "3           5386.0         3861.0         304.0           15325.0   \n",
       "4           1072.0          433.0         101.0             899.0   \n",
       "\n",
       "   statuses_count  \n",
       "0         55829.0  \n",
       "1         13650.0  \n",
       "2         65228.0  \n",
       "3         85493.0  \n",
       "4         19893.0  "
      ]
     },
     "execution_count": 300,
     "metadata": {},
     "output_type": "execute_result"
    }
   ],
   "source": [
    "X_aut_ids.head()"
   ]
  },
  {
   "cell_type": "code",
   "execution_count": 301,
   "metadata": {},
   "outputs": [],
   "source": [
    "numl = len(file_tweet.index.values)\n",
    "cols = ['Tweet','RT_l10','sd_RT','FC_l10','sd_FC','FC','RT']\n",
    "\n",
    "X_tweet = pd.DataFrame(columns = cols) #X que utilitzem pel model d'authors\n",
    "\n",
    "cols = cols[1:]\n",
    "\n",
    "for col in cols:\n",
    "    X_tweet[col]=np.zeros(numl)"
   ]
  },
  {
   "cell_type": "code",
   "execution_count": 302,
   "metadata": {},
   "outputs": [
    {
     "data": {
      "text/html": [
       "<div>\n",
       "<style scoped>\n",
       "    .dataframe tbody tr th:only-of-type {\n",
       "        vertical-align: middle;\n",
       "    }\n",
       "\n",
       "    .dataframe tbody tr th {\n",
       "        vertical-align: top;\n",
       "    }\n",
       "\n",
       "    .dataframe thead th {\n",
       "        text-align: right;\n",
       "    }\n",
       "</style>\n",
       "<table border=\"1\" class=\"dataframe\">\n",
       "  <thead>\n",
       "    <tr style=\"text-align: right;\">\n",
       "      <th></th>\n",
       "      <th>Tweet</th>\n",
       "      <th>RT_l10</th>\n",
       "      <th>sd_RT</th>\n",
       "      <th>FC_l10</th>\n",
       "      <th>sd_FC</th>\n",
       "      <th>FC</th>\n",
       "      <th>RT</th>\n",
       "    </tr>\n",
       "  </thead>\n",
       "  <tbody>\n",
       "    <tr>\n",
       "      <th>0</th>\n",
       "      <td>NaN</td>\n",
       "      <td>0.0</td>\n",
       "      <td>0.0</td>\n",
       "      <td>0.0</td>\n",
       "      <td>0.0</td>\n",
       "      <td>0.0</td>\n",
       "      <td>0.0</td>\n",
       "    </tr>\n",
       "    <tr>\n",
       "      <th>1</th>\n",
       "      <td>NaN</td>\n",
       "      <td>0.0</td>\n",
       "      <td>0.0</td>\n",
       "      <td>0.0</td>\n",
       "      <td>0.0</td>\n",
       "      <td>0.0</td>\n",
       "      <td>0.0</td>\n",
       "    </tr>\n",
       "    <tr>\n",
       "      <th>2</th>\n",
       "      <td>NaN</td>\n",
       "      <td>0.0</td>\n",
       "      <td>0.0</td>\n",
       "      <td>0.0</td>\n",
       "      <td>0.0</td>\n",
       "      <td>0.0</td>\n",
       "      <td>0.0</td>\n",
       "    </tr>\n",
       "    <tr>\n",
       "      <th>3</th>\n",
       "      <td>NaN</td>\n",
       "      <td>0.0</td>\n",
       "      <td>0.0</td>\n",
       "      <td>0.0</td>\n",
       "      <td>0.0</td>\n",
       "      <td>0.0</td>\n",
       "      <td>0.0</td>\n",
       "    </tr>\n",
       "    <tr>\n",
       "      <th>4</th>\n",
       "      <td>NaN</td>\n",
       "      <td>0.0</td>\n",
       "      <td>0.0</td>\n",
       "      <td>0.0</td>\n",
       "      <td>0.0</td>\n",
       "      <td>0.0</td>\n",
       "      <td>0.0</td>\n",
       "    </tr>\n",
       "  </tbody>\n",
       "</table>\n",
       "</div>"
      ],
      "text/plain": [
       "  Tweet  RT_l10  sd_RT  FC_l10  sd_FC   FC   RT\n",
       "0   NaN     0.0    0.0     0.0    0.0  0.0  0.0\n",
       "1   NaN     0.0    0.0     0.0    0.0  0.0  0.0\n",
       "2   NaN     0.0    0.0     0.0    0.0  0.0  0.0\n",
       "3   NaN     0.0    0.0     0.0    0.0  0.0  0.0\n",
       "4   NaN     0.0    0.0     0.0    0.0  0.0  0.0"
      ]
     },
     "execution_count": 302,
     "metadata": {},
     "output_type": "execute_result"
    }
   ],
   "source": [
    "X_tweet.head()"
   ]
  },
  {
   "cell_type": "code",
   "execution_count": 303,
   "metadata": {},
   "outputs": [
    {
     "data": {
      "text/plain": [
       "1034744005"
      ]
     },
     "execution_count": 303,
     "metadata": {},
     "output_type": "execute_result"
    }
   ],
   "source": [
    "dic = ast.literal_eval(file_tweet['j_user'][line])\n",
    "id_tweet = dic['id']\n",
    "id_tweet"
   ]
  },
  {
   "cell_type": "code",
   "execution_count": 305,
   "metadata": {},
   "outputs": [
    {
     "name": "stdout",
     "output_type": "stream",
     "text": [
      "0\n"
     ]
    },
    {
     "name": "stderr",
     "output_type": "stream",
     "text": [
      "/anaconda3/lib/python3.6/site-packages/ipykernel_launcher.py:6: SettingWithCopyWarning: \n",
      "A value is trying to be set on a copy of a slice from a DataFrame\n",
      "\n",
      "See the caveats in the documentation: http://pandas.pydata.org/pandas-docs/stable/indexing.html#indexing-view-versus-copy\n",
      "  \n"
     ]
    },
    {
     "ename": "KeyError",
     "evalue": "2664945430",
     "output_type": "error",
     "traceback": [
      "\u001b[0;31m---------------------------------------------------------------------------\u001b[0m",
      "\u001b[0;31mKeyError\u001b[0m                                  Traceback (most recent call last)",
      "\u001b[0;32m<ipython-input-305-1617d2b4e8ce>\u001b[0m in \u001b[0;36m<module>\u001b[0;34m\u001b[0m\n\u001b[1;32m      7\u001b[0m     \u001b[0;32mtry\u001b[0m\u001b[0;34m:\u001b[0m\u001b[0;34m\u001b[0m\u001b[0m\n\u001b[1;32m      8\u001b[0m         \u001b[0;32mfor\u001b[0m \u001b[0mcol\u001b[0m \u001b[0;32min\u001b[0m \u001b[0mcols\u001b[0m\u001b[0;34m:\u001b[0m\u001b[0;34m\u001b[0m\u001b[0m\n\u001b[0;32m----> 9\u001b[0;31m             \u001b[0mX_tweet\u001b[0m\u001b[0;34m[\u001b[0m\u001b[0mcol\u001b[0m\u001b[0;34m]\u001b[0m\u001b[0;34m[\u001b[0m\u001b[0mline\u001b[0m\u001b[0;34m]\u001b[0m \u001b[0;34m=\u001b[0m \u001b[0mX_aut_ids\u001b[0m\u001b[0;34m[\u001b[0m\u001b[0mcol\u001b[0m\u001b[0;34m]\u001b[0m\u001b[0;34m[\u001b[0m\u001b[0mid_tweet\u001b[0m\u001b[0;34m]\u001b[0m\u001b[0;34m\u001b[0m\u001b[0m\n\u001b[0m\u001b[1;32m     10\u001b[0m     \u001b[0;32mexcept\u001b[0m \u001b[0mValueError\u001b[0m\u001b[0;34m:\u001b[0m\u001b[0;34m\u001b[0m\u001b[0m\n\u001b[1;32m     11\u001b[0m         \u001b[0mcompt\u001b[0m \u001b[0;34m+=\u001b[0m \u001b[0;36m1\u001b[0m\u001b[0;34m\u001b[0m\u001b[0m\n",
      "\u001b[0;32m/anaconda3/lib/python3.6/site-packages/pandas/core/series.py\u001b[0m in \u001b[0;36m__getitem__\u001b[0;34m(self, key)\u001b[0m\n\u001b[1;32m    764\u001b[0m         \u001b[0mkey\u001b[0m \u001b[0;34m=\u001b[0m \u001b[0mcom\u001b[0m\u001b[0;34m.\u001b[0m\u001b[0m_apply_if_callable\u001b[0m\u001b[0;34m(\u001b[0m\u001b[0mkey\u001b[0m\u001b[0;34m,\u001b[0m \u001b[0mself\u001b[0m\u001b[0;34m)\u001b[0m\u001b[0;34m\u001b[0m\u001b[0m\n\u001b[1;32m    765\u001b[0m         \u001b[0;32mtry\u001b[0m\u001b[0;34m:\u001b[0m\u001b[0;34m\u001b[0m\u001b[0m\n\u001b[0;32m--> 766\u001b[0;31m             \u001b[0mresult\u001b[0m \u001b[0;34m=\u001b[0m \u001b[0mself\u001b[0m\u001b[0;34m.\u001b[0m\u001b[0mindex\u001b[0m\u001b[0;34m.\u001b[0m\u001b[0mget_value\u001b[0m\u001b[0;34m(\u001b[0m\u001b[0mself\u001b[0m\u001b[0;34m,\u001b[0m \u001b[0mkey\u001b[0m\u001b[0;34m)\u001b[0m\u001b[0;34m\u001b[0m\u001b[0m\n\u001b[0m\u001b[1;32m    767\u001b[0m \u001b[0;34m\u001b[0m\u001b[0m\n\u001b[1;32m    768\u001b[0m             \u001b[0;32mif\u001b[0m \u001b[0;32mnot\u001b[0m \u001b[0mis_scalar\u001b[0m\u001b[0;34m(\u001b[0m\u001b[0mresult\u001b[0m\u001b[0;34m)\u001b[0m\u001b[0;34m:\u001b[0m\u001b[0;34m\u001b[0m\u001b[0m\n",
      "\u001b[0;32m/anaconda3/lib/python3.6/site-packages/pandas/core/indexes/base.py\u001b[0m in \u001b[0;36mget_value\u001b[0;34m(self, series, key)\u001b[0m\n\u001b[1;32m   3101\u001b[0m         \u001b[0;32mtry\u001b[0m\u001b[0;34m:\u001b[0m\u001b[0;34m\u001b[0m\u001b[0m\n\u001b[1;32m   3102\u001b[0m             return self._engine.get_value(s, k,\n\u001b[0;32m-> 3103\u001b[0;31m                                           tz=getattr(series.dtype, 'tz', None))\n\u001b[0m\u001b[1;32m   3104\u001b[0m         \u001b[0;32mexcept\u001b[0m \u001b[0mKeyError\u001b[0m \u001b[0;32mas\u001b[0m \u001b[0me1\u001b[0m\u001b[0;34m:\u001b[0m\u001b[0;34m\u001b[0m\u001b[0m\n\u001b[1;32m   3105\u001b[0m             \u001b[0;32mif\u001b[0m \u001b[0mlen\u001b[0m\u001b[0;34m(\u001b[0m\u001b[0mself\u001b[0m\u001b[0;34m)\u001b[0m \u001b[0;34m>\u001b[0m \u001b[0;36m0\u001b[0m \u001b[0;32mand\u001b[0m \u001b[0mself\u001b[0m\u001b[0;34m.\u001b[0m\u001b[0minferred_type\u001b[0m \u001b[0;32min\u001b[0m \u001b[0;34m[\u001b[0m\u001b[0;34m'integer'\u001b[0m\u001b[0;34m,\u001b[0m \u001b[0;34m'boolean'\u001b[0m\u001b[0;34m]\u001b[0m\u001b[0;34m:\u001b[0m\u001b[0;34m\u001b[0m\u001b[0m\n",
      "\u001b[0;32mpandas/_libs/index.pyx\u001b[0m in \u001b[0;36mpandas._libs.index.IndexEngine.get_value\u001b[0;34m()\u001b[0m\n",
      "\u001b[0;32mpandas/_libs/index.pyx\u001b[0m in \u001b[0;36mpandas._libs.index.IndexEngine.get_value\u001b[0;34m()\u001b[0m\n",
      "\u001b[0;32mpandas/_libs/index.pyx\u001b[0m in \u001b[0;36mpandas._libs.index.IndexEngine.get_loc\u001b[0;34m()\u001b[0m\n",
      "\u001b[0;32mpandas/_libs/hashtable_class_helper.pxi\u001b[0m in \u001b[0;36mpandas._libs.hashtable.Int64HashTable.get_item\u001b[0;34m()\u001b[0m\n",
      "\u001b[0;32mpandas/_libs/hashtable_class_helper.pxi\u001b[0m in \u001b[0;36mpandas._libs.hashtable.Int64HashTable.get_item\u001b[0;34m()\u001b[0m\n",
      "\u001b[0;31mKeyError\u001b[0m: 2664945430"
     ]
    }
   ],
   "source": [
    "compt = 0\n",
    "for line in range(numl):\n",
    "    print(line)\n",
    "    dic = ast.literal_eval(file_tweet['j_user'][line])\n",
    "    id_tweet = dic['id']\n",
    "    X_tweet['Tweet'][line] = file_tweet['Tweet'][line]\n",
    "    try:\n",
    "        for col in cols:\n",
    "            X_tweet[col][line] = X_aut_ids[col][id_tweet]\n",
    "    except ValueError:\n",
    "        compt += 1\n",
    "        pass\n"
   ]
  },
  {
   "cell_type": "code",
   "execution_count": null,
   "metadata": {},
   "outputs": [],
   "source": [
    "X_tweet.head()"
   ]
  },
  {
   "cell_type": "code",
   "execution_count": null,
   "metadata": {},
   "outputs": [],
   "source": [
    "X_tweet.to_csv('tweets_newcolumns.csv')"
   ]
  },
  {
   "cell_type": "code",
   "execution_count": null,
   "metadata": {},
   "outputs": [],
   "source": [
    "from sklearn.externals import joblib\n",
    "\n",
    "def save_model(clf, name):\n",
    "    filename = 'trained_'+name+'.sav'\n",
    "    joblib.dump(clf, filename)\n",
    "    return filename\n",
    "\n"
   ]
  }
 ],
 "metadata": {
  "kernelspec": {
   "display_name": "Python 3",
   "language": "python",
   "name": "python3"
  },
  "language_info": {
   "codemirror_mode": {
    "name": "ipython",
    "version": 3
   },
   "file_extension": ".py",
   "mimetype": "text/x-python",
   "name": "python",
   "nbconvert_exporter": "python",
   "pygments_lexer": "ipython3",
   "version": "3.6.5"
  }
 },
 "nbformat": 4,
 "nbformat_minor": 2
}
