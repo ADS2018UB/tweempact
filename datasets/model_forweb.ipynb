{
 "cells": [
  {
   "cell_type": "code",
   "execution_count": 264,
   "metadata": {},
   "outputs": [],
   "source": [
    "reset -f"
   ]
  },
  {
   "cell_type": "code",
   "execution_count": 265,
   "metadata": {},
   "outputs": [],
   "source": [
    "import pandas as pd\n",
    "import numpy as np\n",
    "import ast\n",
    "import re\n",
    "\n",
    "# Classifiers importation\n",
    "from sklearn.metrics import recall_score\n",
    "from sklearn.neighbors import KNeighborsClassifier\n",
    "from sklearn.svm import SVC, LinearSVC, NuSVC\n",
    "from sklearn.tree import DecisionTreeClassifier\n",
    "from sklearn.ensemble import RandomForestClassifier, AdaBoostClassifier, GradientBoostingClassifier\n",
    "from sklearn.naive_bayes import GaussianNB\n",
    "from sklearn.discriminant_analysis import LinearDiscriminantAnalysis\n",
    "from sklearn.discriminant_analysis import QuadraticDiscriminantAnalysis\n",
    "from sklearn import neural_network\n",
    "from sklearn.naive_bayes import BernoulliNB\n",
    "\n",
    "# Others\n",
    "import seaborn as sns\n",
    "from sklearn import linear_model, metrics, model_selection\n",
    "from sklearn.preprocessing import StandardScaler\n",
    "from sklearn.externals import joblib"
   ]
  },
  {
   "cell_type": "code",
   "execution_count": 266,
   "metadata": {},
   "outputs": [],
   "source": [
    "# Intervals resposta per y_fc y_rt\n",
    "\n",
    "class segmenta():\n",
    "    \n",
    "    def __init__(self):\n",
    "        self.intervals = {}\n",
    "    \n",
    "    def transform(self,y):\n",
    "        k, z = 0, 0\n",
    "        for a, b in [[15,5],\n",
    "                     [25,10],\n",
    "                     [50,25],\n",
    "                     [100,50],\n",
    "                     [1000,900],\n",
    "                     [10000,4500],\n",
    "                     [50000,10000]]: \n",
    "            for i in np.arange(z,a,b):\n",
    "                self.intervals[k] = [i,i+b-1]\n",
    "                k+=1\n",
    "            z = a\n",
    "        self.intervals[k] = [50000,99999999]\n",
    "\n",
    "        C = np.zeros(len(y))\n",
    "        for j in self.intervals:\n",
    "            c = self.intervals[j]\n",
    "            idx = np.where(np.logical_and(y>=c[0],y<=c[1]))[0]\n",
    "            C[idx] = j\n",
    "\n",
    "        return C\n",
    "seg = segmenta()"
   ]
  },
  {
   "cell_type": "markdown",
   "metadata": {},
   "source": [
    "Primer accedim al csv de clean_newauthors per tal d'aplicar un model que separi en 3 classes per FC (0-15-50-inf) i 3 classes per RT (0-5-25-inf).\n",
    "\n",
    "\n",
    "Reproduim aqui el que fa el fitxer read_clean_newauthors"
   ]
  },
  {
   "cell_type": "code",
   "execution_count": 267,
   "metadata": {},
   "outputs": [],
   "source": [
    "# Carreguem les dades d'autor de la persona que posa el tweet.\n",
    "# Informacio necessaria:\n",
    "# j_user \tRT_l10 \tsd_RT \tFC_l10 \tsd_FC \n",
    "file = pd.read_csv('author_prova.csv')\n",
    "file.drop('Unnamed: 0',axis=1,inplace=True)\n",
    "\n",
    "#en aquest cas, ens estem quedant amb la primera fila del fitxer 'author.csv'"
   ]
  },
  {
   "cell_type": "code",
   "execution_count": 268,
   "metadata": {},
   "outputs": [
    {
     "name": "stderr",
     "output_type": "stream",
     "text": [
      "/anaconda3/lib/python3.6/site-packages/ipykernel_launcher.py:7: SettingWithCopyWarning: \n",
      "A value is trying to be set on a copy of a slice from a DataFrame\n",
      "\n",
      "See the caveats in the documentation: http://pandas.pydata.org/pandas-docs/stable/indexing.html#indexing-view-versus-copy\n",
      "  import sys\n",
      "/anaconda3/lib/python3.6/site-packages/ipykernel_launcher.py:9: SettingWithCopyWarning: \n",
      "A value is trying to be set on a copy of a slice from a DataFrame\n",
      "\n",
      "See the caveats in the documentation: http://pandas.pydata.org/pandas-docs/stable/indexing.html#indexing-view-versus-copy\n",
      "  if __name__ == '__main__':\n"
     ]
    }
   ],
   "source": [
    "# Columnes que necessitem\n",
    "cols_num = ['followers_count','friends_count','listed_count','favourites_count','statuses_count']\n",
    "\n",
    "# Creem les columnes definides\n",
    "for col in cols_num:\n",
    "    file[col] = 0\n",
    "file['j_user'][0] = ast.literal_eval(file['j_user'][0])\n",
    "for col in cols_num:\n",
    "    file[col][0] = int(file['j_user'][0][col])\n",
    "    \n",
    "file.drop('j_user',axis=1,inplace=True)\n",
    "# Ara en principi ja hauria de tenir el format de clean_newauthors.csv\n",
    "# S'haura d'aplicar el model per predir la classe de FC i la classe de RT"
   ]
  },
  {
   "cell_type": "markdown",
   "metadata": {},
   "source": [
    "#### Predim classe per FC"
   ]
  },
  {
   "cell_type": "markdown",
   "metadata": {},
   "source": [
    "La variable X utilitzada és:"
   ]
  },
  {
   "cell_type": "code",
   "execution_count": 269,
   "metadata": {},
   "outputs": [],
   "source": [
    "# Asseguremnos que les variables d'entrada son aquestes i les tenim\n",
    "X = file[['RT_l10', 'sd_RT', 'FC_l10', 'sd_FC', 'friends_count', 'followers_count']]\n",
    "from sklearn.externals import joblib\n",
    "def load_model(filename):\n",
    "    return joblib.load(filename)\n",
    "model_class_fc = load_model('trained_groupsFC_Log.sav')\n",
    "class_fc = model_class_fc.predict(X).reshape(-1,1)"
   ]
  },
  {
   "cell_type": "markdown",
   "metadata": {},
   "source": [
    "i la classe de FC a la que pertany s'obté utilizant 'trained_groupsFC_Log.sav' , i pren valors 0, 1 o 2."
   ]
  },
  {
   "cell_type": "code",
   "execution_count": 270,
   "metadata": {},
   "outputs": [],
   "source": [
    "if (class_fc == 0): \n",
    "    y_fc = X['FC_l10']\n",
    "    y_fc = pd.DataFrame(y_fc)\n",
    "    y_fc = seg.transform(y_fc)\n",
    "    y_fc = seg.intervals[y_fc[0]]\n",
    "if (class_fc !=0):\n",
    "    # Carregar les dades del tweet: filename = './tweet.csv'\n",
    "    # Arreglem per aplicar el model\n",
    "    file = pd.read_csv(\"tweet_prova.csv\")\n",
    "    file = file[['Tweet']]\n",
    "    \n",
    "    mu = X[['FC_l10']]# mitjana\n",
    "    sd = X[['sd_FC']]# desviacio\n",
    "    if(class_fc == 1):\n",
    "        vect_FC_C1 = load_model('vect_FC_C1')\n",
    "        x = vect_FC_C1.transform(file).todense()\n",
    "        FC_C1_tweet = load_model('FC_C1_tweet')\n",
    "        y_fc = FC_C1_tweet.predict(x)\n",
    "    elif(class_fc ==2):\n",
    "        vect_FC_C2 = load_model('vect_FC_C2')\n",
    "        x = vect_FC_C2.transform(file).todense()\n",
    "        FC_C2_tweet = load_model('FC_C2_tweet')\n",
    "        y_fc = FC_C2_tweet.predict(x)\n",
    "        \n",
    "    k = seg.transform(pd.DataFrame([mu]))[0]\n",
    "\n",
    "    if (y_fc > mu + sd*1.96) or (y_fc < mu - sd*1.96):\n",
    "        y_fc = seg.intervals[k]\n",
    "    else: \n",
    "        y_fc = seg.intervals[pred]\n"
   ]
  },
  {
   "cell_type": "markdown",
   "metadata": {},
   "source": [
    "#### Predim classe per RT"
   ]
  },
  {
   "cell_type": "markdown",
   "metadata": {},
   "source": [
    "La variable X utilitzada és:"
   ]
  },
  {
   "cell_type": "code",
   "execution_count": 271,
   "metadata": {},
   "outputs": [],
   "source": [
    "X = file[['RT_l10', 'sd_RT', 'FC_l10', 'sd_FC', 'friends_count', 'followers_count', 'listed_count', 'favourites_count', 'statuses_count']]\n",
    "# Carreguem el model que ho prediu: 'groupsRT_Log'\n",
    "model_class_rt = load_model('trained_groupsRT_Log.sav')\n",
    "class_rt = model_class_rt.predict(X).reshape(-1,1)"
   ]
  },
  {
   "cell_type": "markdown",
   "metadata": {},
   "source": [
    "i la classe de FC a la que pertany s'obté utilizant 'trained_groupsRT_Log.sav' , i pren valors 0, 1 o 2."
   ]
  },
  {
   "cell_type": "code",
   "execution_count": 272,
   "metadata": {},
   "outputs": [],
   "source": [
    "if (class_rt == 0):\n",
    "    y_rt = X['RT_l10']\n",
    "    y_rt = pd.DataFrame(y_rt)\n",
    "    y_rt = seg.transform(y_rt)\n",
    "    y_rt = seg.intervals[y_rt[0]]\n",
    "if (class_rt !=0):\n",
    "    # Carregar les dades del tweet: filename = './tweet.csv'\n",
    "    # Arreglem per aplicar el model\n",
    "    # JA esta carregat\n",
    "    #file = pd.read_csv(\"tweet.csv\")\n",
    "    #file = file[['Tweet']]\n",
    "    \n",
    "    mu = X[['RT_l10']]# mitjana\n",
    "    sd = X[['sd_RT']]# desviacio\n",
    "    if(class_rt == 1):\n",
    "        vect_RT_C1 = load_model('vect_RT_C1')\n",
    "        x = vect_RT_C1.transform(file).todense()\n",
    "        RT_C1_tweet = load_model('RT_C1_tweet')\n",
    "        y_rt = FC_C1_tweet.predict(x)\n",
    "    elif(class_rt ==2):\n",
    "        vect_RT_C2 = load_model('vect_RT_C2')\n",
    "        x = vect_RT_C2.transform(file).todense()\n",
    "        FC_RT_tweet = load_model('RT_C2_tweet')\n",
    "        y_rt = FC_RT_tweet.predict(x)\n",
    "        \n",
    "    k = seg.transform(pd.DataFrame([mu]))[0]\n",
    "\n",
    "    if (y_rt > mu + sd*1.96) or (y_rt < mu - sd*1.96):\n",
    "        y_rt = seg.intervals[k]\n",
    "    else: \n",
    "        y_rt = seg.intervals[pred]\n"
   ]
  }
 ],
 "metadata": {
  "kernelspec": {
   "display_name": "Python 3",
   "language": "python",
   "name": "python3"
  },
  "language_info": {
   "codemirror_mode": {
    "name": "ipython",
    "version": 3
   },
   "file_extension": ".py",
   "mimetype": "text/x-python",
   "name": "python",
   "nbconvert_exporter": "python",
   "pygments_lexer": "ipython3",
   "version": "3.6.5"
  }
 },
 "nbformat": 4,
 "nbformat_minor": 2
}
