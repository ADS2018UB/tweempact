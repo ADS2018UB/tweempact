{
 "cells": [
  {
   "cell_type": "code",
   "execution_count": 1,
   "metadata": {},
   "outputs": [],
   "source": [
    "import pandas as pd\n",
    "import numpy as np\n",
    "\n",
    "# Classifiers importation\n",
    "from sklearn.metrics import recall_score\n",
    "from sklearn.neighbors import KNeighborsClassifier\n",
    "from sklearn.svm import SVC, LinearSVC, NuSVC\n",
    "from sklearn.tree import DecisionTreeClassifier\n",
    "from sklearn.ensemble import RandomForestClassifier, AdaBoostClassifier, GradientBoostingClassifier\n",
    "from sklearn.naive_bayes import GaussianNB\n",
    "from sklearn.discriminant_analysis import LinearDiscriminantAnalysis\n",
    "from sklearn.discriminant_analysis import QuadraticDiscriminantAnalysis\n",
    "from sklearn import neural_network\n",
    "from sklearn.naive_bayes import BernoulliNB\n",
    "\n",
    "# Others\n",
    "import seaborn as sns\n",
    "from sklearn import linear_model, metrics, model_selection\n",
    "from sklearn.preprocessing import StandardScaler\n",
    "from sklearn.externals import joblib"
   ]
  },
  {
   "cell_type": "code",
   "execution_count": null,
   "metadata": {},
   "outputs": [],
   "source": [
    "# Intervals resposta per y_fc y_rt\n",
    "\n",
    "class segmenta():\n",
    "    \n",
    "    def __init__(self):\n",
    "        self.intervals = {}\n",
    "    \n",
    "    def transform(self,y):\n",
    "        k, z = 0, 0\n",
    "        for a, b in [[15,5],\n",
    "                     [25,10],\n",
    "                     [50,25],\n",
    "                     [100,50],\n",
    "                     [1000,900],\n",
    "                     [10000,4500],\n",
    "                     [50000,10000]]: \n",
    "            for i in np.arange(z,a,b):\n",
    "                self.intervals[k] = [i,i+b-1]\n",
    "                k+=1\n",
    "            z = a\n",
    "        self.intervals[k] = [50000,99999999]\n",
    "\n",
    "        C = np.zeros(len(y))\n",
    "        for j in self.intervals:\n",
    "            c = self.intervals[j]\n",
    "            idx = np.where(np.logical_and(y>=c[0],y<=c[1]))[0]\n",
    "            C[idx] = j\n",
    "\n",
    "        return C\n",
    "seg = segmenta()"
   ]
  },
  {
   "cell_type": "markdown",
   "metadata": {},
   "source": [
    "Primer accedim al csv de clean_newauthors per tal d'aplicar un model que separi en 3 classes per FC (0-15-50-inf) i 3 classes per RT (0-5-25-inf).\n",
    "\n",
    "\n",
    "Reproduim aqui el que fa el fitxer read_clean_newauthors"
   ]
  },
  {
   "cell_type": "code",
   "execution_count": 3,
   "metadata": {},
   "outputs": [],
   "source": [
    "# Carreguem les dades d'autor de la persona que posa el tweet.\n",
    "# Informacio necessaria:\n",
    "# j_user \tRT_l10 \tsd_RT \tFC_l10 \tsd_FC \n",
    "file = pd.read_csv(\"author.csv\")\n",
    "file.drop('Unnamed: 0',axis=1,inplace=True)\n",
    "\n",
    "# Columnes que necessitem\n",
    "cols_num = ['followers_count','friends_count','listed_count','favourites_count','statuses_count']\n",
    "\n",
    "# Creem les columnes definides\n",
    "for col in cols_num:\n",
    "    file[col] = 0\n",
    "\n",
    "file['j_user'] =ast.literal_eval(file['j_user'])\n",
    "for col in cols_num:\n",
    "    file[col] = int(file['j_user'][col])\n",
    "    \n",
    "file.drop('j_user',axis=1,inplace=True)\n",
    "# Ara en principi ja hauria de tenir el format de clean_newauthors.csv\n",
    "# S'haura d'aplicar el model per predir la classe de FC i la classe de RT"
   ]
  },
  {
   "cell_type": "markdown",
   "metadata": {},
   "source": [
    "#### Predim classe per FC"
   ]
  },
  {
   "cell_type": "markdown",
   "metadata": {},
   "source": [
    "La variable X utilitzada és:"
   ]
  },
  {
   "cell_type": "code",
   "execution_count": 5,
   "metadata": {},
   "outputs": [],
   "source": [
    "# Asseguremnos que les variables d'entrada son aquestes i les tenim\n",
    "X = file[['RT_l10', 'sd_RT', 'FC_l10', 'sd_FC', 'friends_count', 'followers_count']]\n",
    "from sklearn.externals import joblib\n",
    "def load_model(filename):\n",
    "    return joblib.load(filename)\n",
    "model_class_fc = load_model('groupsFC_log')\n",
    "class_fc = model_class_fc.predict(X).reshape(-1,1)"
   ]
  },
  {
   "cell_type": "markdown",
   "metadata": {},
   "source": [
    "i la classe de FC a la que pertany s'obté utilizant 'trained_groupsFC_Log.sav' , i pren valors 0, 1 o 2."
   ]
  },
  {
   "cell_type": "code",
   "execution_count": null,
   "metadata": {},
   "outputs": [],
   "source": [
    "if (class_fc == 0)\n",
    "    y_fc = seg.(X[['FC_l10']])\n",
    "    "
   ]
  },
  {
   "cell_type": "markdown",
   "metadata": {},
   "source": [
    "#### Predim classe per FC"
   ]
  },
  {
   "cell_type": "markdown",
   "metadata": {},
   "source": [
    "La variable X utilitzada és:"
   ]
  },
  {
   "cell_type": "code",
   "execution_count": 7,
   "metadata": {},
   "outputs": [],
   "source": [
    "X = file[['RT_l10', 'sd_RT', 'FC_l10', 'sd_FC', 'friends_count', 'followers_count', 'listed_count', 'favourites_count', 'statuses_count']]\n",
    "# Carreguem el model que ho prediu: 'groupsRT_Log'\n",
    "model_class_rt = load_model('groupsRT_Log')\n",
    "class_rt = model_class_rt.predict(X).reshape(-1,1)"
   ]
  },
  {
   "cell_type": "markdown",
   "metadata": {},
   "source": [
    "i la classe de FC a la que pertany s'obté utilizant 'trained_groupsRT_Log.sav' , i pren valors 0, 1 o 2."
   ]
  },
  {
   "cell_type": "code",
   "execution_count": null,
   "metadata": {},
   "outputs": [],
   "source": []
  },
  {
   "cell_type": "code",
   "execution_count": null,
   "metadata": {},
   "outputs": [],
   "source": []
  }
 ],
 "metadata": {
  "kernelspec": {
   "display_name": "Python 3",
   "language": "python",
   "name": "python3"
  },
  "language_info": {
   "codemirror_mode": {
    "name": "ipython",
    "version": 3
   },
   "file_extension": ".py",
   "mimetype": "text/x-python",
   "name": "python",
   "nbconvert_exporter": "python",
   "pygments_lexer": "ipython3",
   "version": "3.6.5"
  }
 },
 "nbformat": 4,
 "nbformat_minor": 2
}
