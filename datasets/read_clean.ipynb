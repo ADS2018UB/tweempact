{
 "cells": [
  {
   "cell_type": "code",
   "execution_count": 2,
   "metadata": {},
   "outputs": [],
   "source": [
    "import pandas as pd\n",
    "import numpy as np\n",
    "import ast\n",
    "\n",
    "file = pd.read_csv(\"author.csv\")"
   ]
  },
  {
   "cell_type": "code",
   "execution_count": 3,
   "metadata": {},
   "outputs": [
    {
     "data": {
      "text/html": [
       "<div>\n",
       "<style scoped>\n",
       "    .dataframe tbody tr th:only-of-type {\n",
       "        vertical-align: middle;\n",
       "    }\n",
       "\n",
       "    .dataframe tbody tr th {\n",
       "        vertical-align: top;\n",
       "    }\n",
       "\n",
       "    .dataframe thead th {\n",
       "        text-align: right;\n",
       "    }\n",
       "</style>\n",
       "<table border=\"1\" class=\"dataframe\">\n",
       "  <thead>\n",
       "    <tr style=\"text-align: right;\">\n",
       "      <th></th>\n",
       "      <th>Unnamed: 0</th>\n",
       "      <th>j_user</th>\n",
       "      <th>RT_l10</th>\n",
       "      <th>sd_RT</th>\n",
       "      <th>FC_l10</th>\n",
       "      <th>sd_FC</th>\n",
       "    </tr>\n",
       "  </thead>\n",
       "  <tbody>\n",
       "    <tr>\n",
       "      <th>0</th>\n",
       "      <td>0</td>\n",
       "      <td>{'id': 22317044, 'id_str': '22317044', 'name':...</td>\n",
       "      <td>0.8</td>\n",
       "      <td>1.077033</td>\n",
       "      <td>0.3</td>\n",
       "      <td>0.458258</td>\n",
       "    </tr>\n",
       "    <tr>\n",
       "      <th>1</th>\n",
       "      <td>1</td>\n",
       "      <td>{'id': 22935720, 'id_str': '22935720', 'name':...</td>\n",
       "      <td>3.1</td>\n",
       "      <td>6.700000</td>\n",
       "      <td>1.8</td>\n",
       "      <td>4.445222</td>\n",
       "    </tr>\n",
       "    <tr>\n",
       "      <th>2</th>\n",
       "      <td>2</td>\n",
       "      <td>{'id': 32406749, 'id_str': '32406749', 'name':...</td>\n",
       "      <td>350.4</td>\n",
       "      <td>886.438063</td>\n",
       "      <td>0.5</td>\n",
       "      <td>0.806226</td>\n",
       "    </tr>\n",
       "    <tr>\n",
       "      <th>3</th>\n",
       "      <td>3</td>\n",
       "      <td>{'id': 42402745, 'id_str': '42402745', 'name':...</td>\n",
       "      <td>41.3</td>\n",
       "      <td>97.090731</td>\n",
       "      <td>0.4</td>\n",
       "      <td>0.663325</td>\n",
       "    </tr>\n",
       "    <tr>\n",
       "      <th>4</th>\n",
       "      <td>4</td>\n",
       "      <td>{'id': 49673609, 'id_str': '49673609', 'name':...</td>\n",
       "      <td>480.8</td>\n",
       "      <td>1426.075019</td>\n",
       "      <td>3.8</td>\n",
       "      <td>7.180529</td>\n",
       "    </tr>\n",
       "  </tbody>\n",
       "</table>\n",
       "</div>"
      ],
      "text/plain": [
       "   Unnamed: 0                                             j_user  RT_l10  \\\n",
       "0           0  {'id': 22317044, 'id_str': '22317044', 'name':...     0.8   \n",
       "1           1  {'id': 22935720, 'id_str': '22935720', 'name':...     3.1   \n",
       "2           2  {'id': 32406749, 'id_str': '32406749', 'name':...   350.4   \n",
       "3           3  {'id': 42402745, 'id_str': '42402745', 'name':...    41.3   \n",
       "4           4  {'id': 49673609, 'id_str': '49673609', 'name':...   480.8   \n",
       "\n",
       "         sd_RT  FC_l10     sd_FC  \n",
       "0     1.077033     0.3  0.458258  \n",
       "1     6.700000     1.8  4.445222  \n",
       "2   886.438063     0.5  0.806226  \n",
       "3    97.090731     0.4  0.663325  \n",
       "4  1426.075019     3.8  7.180529  "
      ]
     },
     "execution_count": 3,
     "metadata": {},
     "output_type": "execute_result"
    }
   ],
   "source": [
    "file.head()"
   ]
  },
  {
   "cell_type": "code",
   "execution_count": 4,
   "metadata": {},
   "outputs": [],
   "source": [
    "file.drop('Unnamed: 0',axis=1,inplace=True)"
   ]
  },
  {
   "cell_type": "code",
   "execution_count": 5,
   "metadata": {},
   "outputs": [
    {
     "data": {
      "text/html": [
       "<div>\n",
       "<style scoped>\n",
       "    .dataframe tbody tr th:only-of-type {\n",
       "        vertical-align: middle;\n",
       "    }\n",
       "\n",
       "    .dataframe tbody tr th {\n",
       "        vertical-align: top;\n",
       "    }\n",
       "\n",
       "    .dataframe thead th {\n",
       "        text-align: right;\n",
       "    }\n",
       "</style>\n",
       "<table border=\"1\" class=\"dataframe\">\n",
       "  <thead>\n",
       "    <tr style=\"text-align: right;\">\n",
       "      <th></th>\n",
       "      <th>j_user</th>\n",
       "      <th>RT_l10</th>\n",
       "      <th>sd_RT</th>\n",
       "      <th>FC_l10</th>\n",
       "      <th>sd_FC</th>\n",
       "    </tr>\n",
       "  </thead>\n",
       "  <tbody>\n",
       "    <tr>\n",
       "      <th>0</th>\n",
       "      <td>{'id': 22317044, 'id_str': '22317044', 'name':...</td>\n",
       "      <td>0.8</td>\n",
       "      <td>1.077033</td>\n",
       "      <td>0.3</td>\n",
       "      <td>0.458258</td>\n",
       "    </tr>\n",
       "    <tr>\n",
       "      <th>1</th>\n",
       "      <td>{'id': 22935720, 'id_str': '22935720', 'name':...</td>\n",
       "      <td>3.1</td>\n",
       "      <td>6.700000</td>\n",
       "      <td>1.8</td>\n",
       "      <td>4.445222</td>\n",
       "    </tr>\n",
       "    <tr>\n",
       "      <th>2</th>\n",
       "      <td>{'id': 32406749, 'id_str': '32406749', 'name':...</td>\n",
       "      <td>350.4</td>\n",
       "      <td>886.438063</td>\n",
       "      <td>0.5</td>\n",
       "      <td>0.806226</td>\n",
       "    </tr>\n",
       "    <tr>\n",
       "      <th>3</th>\n",
       "      <td>{'id': 42402745, 'id_str': '42402745', 'name':...</td>\n",
       "      <td>41.3</td>\n",
       "      <td>97.090731</td>\n",
       "      <td>0.4</td>\n",
       "      <td>0.663325</td>\n",
       "    </tr>\n",
       "    <tr>\n",
       "      <th>4</th>\n",
       "      <td>{'id': 49673609, 'id_str': '49673609', 'name':...</td>\n",
       "      <td>480.8</td>\n",
       "      <td>1426.075019</td>\n",
       "      <td>3.8</td>\n",
       "      <td>7.180529</td>\n",
       "    </tr>\n",
       "  </tbody>\n",
       "</table>\n",
       "</div>"
      ],
      "text/plain": [
       "                                              j_user  RT_l10        sd_RT  \\\n",
       "0  {'id': 22317044, 'id_str': '22317044', 'name':...     0.8     1.077033   \n",
       "1  {'id': 22935720, 'id_str': '22935720', 'name':...     3.1     6.700000   \n",
       "2  {'id': 32406749, 'id_str': '32406749', 'name':...   350.4   886.438063   \n",
       "3  {'id': 42402745, 'id_str': '42402745', 'name':...    41.3    97.090731   \n",
       "4  {'id': 49673609, 'id_str': '49673609', 'name':...   480.8  1426.075019   \n",
       "\n",
       "   FC_l10     sd_FC  \n",
       "0     0.3  0.458258  \n",
       "1     1.8  4.445222  \n",
       "2     0.5  0.806226  \n",
       "3     0.4  0.663325  \n",
       "4     3.8  7.180529  "
      ]
     },
     "execution_count": 5,
     "metadata": {},
     "output_type": "execute_result"
    }
   ],
   "source": [
    "file.head()"
   ]
  },
  {
   "cell_type": "code",
   "execution_count": 6,
   "metadata": {},
   "outputs": [
    {
     "data": {
      "text/plain": [
       "\"{'id': 22317044, 'id_str': '22317044', 'name': 'Miguel A.', 'screen_name': 'farena', 'location': '38.541883,-0.134323', 'description': '#Alquiler de #apartamentos #vacacionales en #Benidorm . Diplomado en #Turismo. Tambien vendemos propiedades inmobiliarias Presidente de #APTUR.', 'url': 'https://t.co/4N9vqDXQVz', 'entities': {'url': {'urls': [{'url': 'https://t.co/4N9vqDXQVz', 'expanded_url': 'http://www.fincasarena.es', 'display_url': 'fincasarena.es', 'indices': [0, 23]}]}, 'description': {'urls': []}}, 'protected': False, 'followers_count': 557, 'friends_count': 650, 'listed_count': 19, 'created_at': 'Sun Mar 01 01:08:53 +0000 2009', 'favourites_count': 6218, 'utc_offset': None, 'time_zone': None, 'geo_enabled': True, 'verified': False, 'statuses_count': 5983, 'lang': 'es', 'contributors_enabled': False, 'is_translator': False, 'is_translation_enabled': False, 'profile_background_color': 'C0DEED', 'profile_background_image_url': 'http://abs.twimg.com/images/themes/theme1/bg.png', 'profile_background_image_url_https': 'https://abs.twimg.com/images/themes/theme1/bg.png', 'profile_background_tile': False, 'profile_image_url': 'http://pbs.twimg.com/profile_images/1038055580362002432/-8UVjE4P_normal.jpg', 'profile_image_url_https': 'https://pbs.twimg.com/profile_images/1038055580362002432/-8UVjE4P_normal.jpg', 'profile_banner_url': 'https://pbs.twimg.com/profile_banners/22317044/1536326833', 'profile_link_color': '1DA1F2', 'profile_sidebar_border_color': 'C0DEED', 'profile_sidebar_fill_color': 'DDEEF6', 'profile_text_color': '333333', 'profile_use_background_image': True, 'has_extended_profile': False, 'default_profile': True, 'default_profile_image': False, 'following': False, 'follow_request_sent': False, 'notifications': False, 'translator_type': 'none'}\""
      ]
     },
     "execution_count": 6,
     "metadata": {},
     "output_type": "execute_result"
    }
   ],
   "source": [
    "file['j_user'][0] ### aquesta es la info que se'ns proporciona de cada usuari\n",
    "#coses importants pel num de likes (de moment):\n",
    "#protected\n",
    "#followers_count\n",
    "#friends_count\n",
    "#listed_count (contains the number of public lists that this user is a member of.)\n",
    "#favourites_count\n",
    "#statuses_count"
   ]
  },
  {
   "cell_type": "code",
   "execution_count": 7,
   "metadata": {},
   "outputs": [
    {
     "name": "stdout",
     "output_type": "stream",
     "text": [
      "<class 'str'>\n",
      "<class 'dict'>\n"
     ]
    }
   ],
   "source": [
    "print(type(file['j_user'][0])) #es una string, ho convertim a dict per fer-ho més manejable\n",
    "fila0 =ast.literal_eval(file['j_user'][0])\n",
    "print(type(fila0))"
   ]
  },
  {
   "cell_type": "code",
   "execution_count": 8,
   "metadata": {},
   "outputs": [],
   "source": [
    "numl = len(file.index.values)\n",
    "file['protected']=np.zeros(numl)\n",
    "file['followers_count']=np.zeros(numl)\n",
    "file['friends_count']=np.zeros(numl)\n",
    "file['listed_count']=np.zeros(numl)\n",
    "file['favourites_count']=np.zeros(numl)\n",
    "file['statuses_count']=np.zeros(numl)"
   ]
  },
  {
   "cell_type": "code",
   "execution_count": 9,
   "metadata": {},
   "outputs": [
    {
     "name": "stderr",
     "output_type": "stream",
     "text": [
      "/anaconda3/lib/python3.6/site-packages/ipykernel_launcher.py:2: SettingWithCopyWarning: \n",
      "A value is trying to be set on a copy of a slice from a DataFrame\n",
      "\n",
      "See the caveats in the documentation: http://pandas.pydata.org/pandas-docs/stable/indexing.html#indexing-view-versus-copy\n",
      "  \n",
      "/anaconda3/lib/python3.6/site-packages/ipykernel_launcher.py:6: SettingWithCopyWarning: \n",
      "A value is trying to be set on a copy of a slice from a DataFrame\n",
      "\n",
      "See the caveats in the documentation: http://pandas.pydata.org/pandas-docs/stable/indexing.html#indexing-view-versus-copy\n",
      "  \n",
      "/anaconda3/lib/python3.6/site-packages/ipykernel_launcher.py:8: SettingWithCopyWarning: \n",
      "A value is trying to be set on a copy of a slice from a DataFrame\n",
      "\n",
      "See the caveats in the documentation: http://pandas.pydata.org/pandas-docs/stable/indexing.html#indexing-view-versus-copy\n",
      "  \n",
      "/anaconda3/lib/python3.6/site-packages/ipykernel_launcher.py:10: SettingWithCopyWarning: \n",
      "A value is trying to be set on a copy of a slice from a DataFrame\n",
      "\n",
      "See the caveats in the documentation: http://pandas.pydata.org/pandas-docs/stable/indexing.html#indexing-view-versus-copy\n",
      "  # Remove the CWD from sys.path while we load stuff.\n",
      "/anaconda3/lib/python3.6/site-packages/ipykernel_launcher.py:12: SettingWithCopyWarning: \n",
      "A value is trying to be set on a copy of a slice from a DataFrame\n",
      "\n",
      "See the caveats in the documentation: http://pandas.pydata.org/pandas-docs/stable/indexing.html#indexing-view-versus-copy\n",
      "  if sys.path[0] == '':\n",
      "/anaconda3/lib/python3.6/site-packages/ipykernel_launcher.py:14: SettingWithCopyWarning: \n",
      "A value is trying to be set on a copy of a slice from a DataFrame\n",
      "\n",
      "See the caveats in the documentation: http://pandas.pydata.org/pandas-docs/stable/indexing.html#indexing-view-versus-copy\n",
      "  \n",
      "/anaconda3/lib/python3.6/site-packages/ipykernel_launcher.py:16: SettingWithCopyWarning: \n",
      "A value is trying to be set on a copy of a slice from a DataFrame\n",
      "\n",
      "See the caveats in the documentation: http://pandas.pydata.org/pandas-docs/stable/indexing.html#indexing-view-versus-copy\n",
      "  app.launch_new_instance()\n"
     ]
    }
   ],
   "source": [
    "for line in range(numl):\n",
    "    file['j_user'][line] =ast.literal_eval(file['j_user'][line])\n",
    "    if (file['j_user'][line]['protected']=='True'):\n",
    "        file['protected'][line] = 1\n",
    "    else:\n",
    "        file['protected'][line] = 0\n",
    "        \n",
    "    file['followers_count'][line] = int(file['j_user'][line]['followers_count'])\n",
    "    \n",
    "    file['friends_count'][line] = int(file['j_user'][line]['friends_count'])\n",
    "    \n",
    "    file['listed_count'][line] = int(file['j_user'][line]['listed_count'])\n",
    "\n",
    "    file['favourites_count'][line] = int(file['j_user'][line]['favourites_count'])\n",
    "    \n",
    "    file['statuses_count'][line] = int(file['j_user'][line]['statuses_count'])"
   ]
  },
  {
   "cell_type": "code",
   "execution_count": 10,
   "metadata": {},
   "outputs": [],
   "source": [
    "file.drop('j_user',axis=1,inplace=True)"
   ]
  },
  {
   "cell_type": "code",
   "execution_count": 13,
   "metadata": {},
   "outputs": [],
   "source": [
    "file.to_csv('clean_authors.csv')"
   ]
  },
  {
   "cell_type": "code",
   "execution_count": null,
   "metadata": {},
   "outputs": [],
   "source": []
  }
 ],
 "metadata": {
  "kernelspec": {
   "display_name": "Python 3",
   "language": "python",
   "name": "python3"
  },
  "language_info": {
   "codemirror_mode": {
    "name": "ipython",
    "version": 3
   },
   "file_extension": ".py",
   "mimetype": "text/x-python",
   "name": "python",
   "nbconvert_exporter": "python",
   "pygments_lexer": "ipython3",
   "version": "3.6.5"
  }
 },
 "nbformat": 4,
 "nbformat_minor": 2
}
