{
 "cells": [
  {
   "cell_type": "code",
   "execution_count": 1,
   "metadata": {},
   "outputs": [],
   "source": [
    "import pandas as pd\n",
    "import numpy as np"
   ]
  },
  {
   "cell_type": "code",
   "execution_count": 82,
   "metadata": {},
   "outputs": [],
   "source": [
    "# Classifiers importation\n",
    "from sklearn.metrics import recall_score\n",
    "from sklearn.neighbors import KNeighborsClassifier\n",
    "from sklearn.svm import SVC, LinearSVC, NuSVC\n",
    "from sklearn.tree import DecisionTreeClassifier\n",
    "from sklearn.ensemble import RandomForestClassifier, AdaBoostClassifier, GradientBoostingClassifier\n",
    "from sklearn.naive_bayes import GaussianNB\n",
    "from sklearn.discriminant_analysis import LinearDiscriminantAnalysis\n",
    "from sklearn.discriminant_analysis import QuadraticDiscriminantAnalysis\n",
    "from sklearn import neural_network\n",
    "from sklearn.naive_bayes import BernoulliNB\n",
    "\n",
    "# Others\n",
    "import seaborn as sns\n",
    "from sklearn import linear_model, metrics, model_selection\n",
    "from sklearn.preprocessing import StandardScaler\n",
    "from sklearn.externals import joblib"
   ]
  },
  {
   "cell_type": "code",
   "execution_count": 79,
   "metadata": {},
   "outputs": [],
   "source": [
    "#To save the final trained model\n",
    "def save_model(clf, name):\n",
    "    filename = 'trained_'+name+'.sav'\n",
    "    joblib.dump(clf, filename)\n",
    "    return filename"
   ]
  },
  {
   "cell_type": "markdown",
   "metadata": {},
   "source": [
    "## Authors ##"
   ]
  },
  {
   "cell_type": "code",
   "execution_count": 5,
   "metadata": {},
   "outputs": [],
   "source": [
    "filename = './clean_newauthors.csv'\n",
    "df_authors = pd.read_csv(filename, sep=\",\")\n",
    "df_authors.drop('Unnamed: 0',axis=1,inplace=True)"
   ]
  },
  {
   "cell_type": "markdown",
   "metadata": {},
   "source": [
    "Mirem Ratio de zeros que ens donarà una idea de la accuracy que hauriem de treure:"
   ]
  },
  {
   "cell_type": "code",
   "execution_count": 6,
   "metadata": {},
   "outputs": [
    {
     "data": {
      "text/html": [
       "<div>\n",
       "<style scoped>\n",
       "    .dataframe tbody tr th:only-of-type {\n",
       "        vertical-align: middle;\n",
       "    }\n",
       "\n",
       "    .dataframe tbody tr th {\n",
       "        vertical-align: top;\n",
       "    }\n",
       "\n",
       "    .dataframe thead th {\n",
       "        text-align: right;\n",
       "    }\n",
       "</style>\n",
       "<table border=\"1\" class=\"dataframe\">\n",
       "  <thead>\n",
       "    <tr style=\"text-align: right;\">\n",
       "      <th></th>\n",
       "      <th>RT_l10</th>\n",
       "      <th>sd_RT</th>\n",
       "      <th>FC_l10</th>\n",
       "      <th>sd_FC</th>\n",
       "      <th>FC</th>\n",
       "      <th>RT</th>\n",
       "      <th>followers_count</th>\n",
       "      <th>friends_count</th>\n",
       "      <th>listed_count</th>\n",
       "      <th>favourites_count</th>\n",
       "      <th>statuses_count</th>\n",
       "    </tr>\n",
       "  </thead>\n",
       "  <tbody>\n",
       "    <tr>\n",
       "      <th>0</th>\n",
       "      <td>2.4</td>\n",
       "      <td>3.929377</td>\n",
       "      <td>15.5</td>\n",
       "      <td>32.022648</td>\n",
       "      <td>0.0</td>\n",
       "      <td>0.0</td>\n",
       "      <td>19645.0</td>\n",
       "      <td>949.0</td>\n",
       "      <td>662.0</td>\n",
       "      <td>12334.0</td>\n",
       "      <td>55829.0</td>\n",
       "    </tr>\n",
       "    <tr>\n",
       "      <th>1</th>\n",
       "      <td>0.2</td>\n",
       "      <td>0.600000</td>\n",
       "      <td>0.8</td>\n",
       "      <td>0.979796</td>\n",
       "      <td>1.0</td>\n",
       "      <td>0.0</td>\n",
       "      <td>4221.0</td>\n",
       "      <td>281.0</td>\n",
       "      <td>340.0</td>\n",
       "      <td>587.0</td>\n",
       "      <td>13650.0</td>\n",
       "    </tr>\n",
       "    <tr>\n",
       "      <th>2</th>\n",
       "      <td>17.9</td>\n",
       "      <td>13.626812</td>\n",
       "      <td>37.2</td>\n",
       "      <td>40.931162</td>\n",
       "      <td>21.0</td>\n",
       "      <td>10.0</td>\n",
       "      <td>1133925.0</td>\n",
       "      <td>1.0</td>\n",
       "      <td>9745.0</td>\n",
       "      <td>16.0</td>\n",
       "      <td>65228.0</td>\n",
       "    </tr>\n",
       "    <tr>\n",
       "      <th>3</th>\n",
       "      <td>0.4</td>\n",
       "      <td>0.489898</td>\n",
       "      <td>1.7</td>\n",
       "      <td>3.796051</td>\n",
       "      <td>0.0</td>\n",
       "      <td>0.0</td>\n",
       "      <td>5386.0</td>\n",
       "      <td>3861.0</td>\n",
       "      <td>304.0</td>\n",
       "      <td>15325.0</td>\n",
       "      <td>85493.0</td>\n",
       "    </tr>\n",
       "    <tr>\n",
       "      <th>4</th>\n",
       "      <td>2.3</td>\n",
       "      <td>5.216321</td>\n",
       "      <td>3.4</td>\n",
       "      <td>6.545227</td>\n",
       "      <td>0.0</td>\n",
       "      <td>0.0</td>\n",
       "      <td>1072.0</td>\n",
       "      <td>433.0</td>\n",
       "      <td>101.0</td>\n",
       "      <td>899.0</td>\n",
       "      <td>19893.0</td>\n",
       "    </tr>\n",
       "  </tbody>\n",
       "</table>\n",
       "</div>"
      ],
      "text/plain": [
       "   RT_l10      sd_RT  FC_l10      sd_FC    FC    RT  followers_count  \\\n",
       "0     2.4   3.929377    15.5  32.022648   0.0   0.0          19645.0   \n",
       "1     0.2   0.600000     0.8   0.979796   1.0   0.0           4221.0   \n",
       "2    17.9  13.626812    37.2  40.931162  21.0  10.0        1133925.0   \n",
       "3     0.4   0.489898     1.7   3.796051   0.0   0.0           5386.0   \n",
       "4     2.3   5.216321     3.4   6.545227   0.0   0.0           1072.0   \n",
       "\n",
       "   friends_count  listed_count  favourites_count  statuses_count  \n",
       "0          949.0         662.0           12334.0         55829.0  \n",
       "1          281.0         340.0             587.0         13650.0  \n",
       "2            1.0        9745.0              16.0         65228.0  \n",
       "3         3861.0         304.0           15325.0         85493.0  \n",
       "4          433.0         101.0             899.0         19893.0  "
      ]
     },
     "execution_count": 6,
     "metadata": {},
     "output_type": "execute_result"
    }
   ],
   "source": [
    "df_authors.head()"
   ]
  },
  {
   "cell_type": "code",
   "execution_count": 7,
   "metadata": {},
   "outputs": [
    {
     "name": "stdout",
     "output_type": "stream",
     "text": [
      "Una accuarcy semblant a aquest ratios seria dolenta, ha de ser molt més\n",
      "0.3873002523128679 0.6455004205214465\n"
     ]
    }
   ],
   "source": [
    "zero_ratio_FC = df_authors.loc[df_authors.index[df_authors['FC'] > 0]].shape[0]/df_authors.shape[0]\n",
    "zero_ratio_RT = df_authors.loc[df_authors.index[df_authors['RT'] > 0]].shape[0]/df_authors.shape[0]\n",
    "\n",
    "print('Una accuarcy semblant a aquest ratios seria dolenta, ha de ser molt més')\n",
    "print(1-zero_ratio_FC, 1-zero_ratio_RT)"
   ]
  },
  {
   "cell_type": "markdown",
   "metadata": {},
   "source": [
    "Distribució de les dades en porcentatge:"
   ]
  },
  {
   "cell_type": "code",
   "execution_count": 8,
   "metadata": {},
   "outputs": [
    {
     "name": "stdout",
     "output_type": "stream",
     "text": [
      "total sum: 2378\n"
     ]
    },
    {
     "data": {
      "image/png": "[encoded data removed]",
      "text/plain": [
       "<Figure size 432x288 with 1 Axes>"
      ]
     },
     "metadata": {
      "needs_background": "light"
     },
     "output_type": "display_data"
    },
    {
     "data": {
      "image/png": "[encoded data removed]",
      "text/plain": [
       "<Figure size 432x288 with 1 Axes>"
      ]
     },
     "metadata": {
      "needs_background": "light"
     },
     "output_type": "display_data"
    }
   ],
   "source": [
    "%matplotlib inline\n",
    "import matplotlib.pyplot as plt\n",
    "\n",
    "N = 20\n",
    "s1, s2 = 0, 0\n",
    "p1, p2 = [], []\n",
    "x = range(N)\n",
    "tsum = df_authors.shape[0]\n",
    "print('total sum: %s' % tsum)\n",
    "\n",
    "for i in range(N):\n",
    "    s1 = s1 + df_authors[df_authors['FC']==i].shape[0]\n",
    "    s2 = s2 + df_authors[df_authors['RT']==i].shape[0]\n",
    "    p1.append(s1/tsum)\n",
    "    p2.append(s2/tsum)\n",
    "    #print(i,s1,s2)\n",
    "\n",
    "plt.plot(x, p1)\n",
    "plt.show()\n",
    "plt.plot(x, p2)\n",
    "plt.show()"
   ]
  },
  {
   "cell_type": "markdown",
   "metadata": {},
   "source": [
    "    FC -> class'0': [0,15)   class'1': [15,50]   class'2': [50,inf)\n",
    "    RT -> class'0': [0,5)   class'1': [5,25]   class'2': [25,inf)"
   ]
  },
  {
   "cell_type": "code",
   "execution_count": 9,
   "metadata": {},
   "outputs": [
    {
     "name": "stdout",
     "output_type": "stream",
     "text": [
      "(2087,)\n",
      "(126,)\n",
      "(165,)\n",
      "(2039,)\n",
      "(198,)\n",
      "(141,)\n"
     ]
    }
   ],
   "source": [
    "a = np.zeros(df_authors.shape[0])\n",
    "idx = np.where(df_authors['FC'].values < 15)[0]\n",
    "print(idx.shape)\n",
    "a[idx] = 0\n",
    "idx = np.where((df_authors['FC'].values >= 15) & (df_authors['FC'].values <= 50))[0]\n",
    "print(idx.shape)\n",
    "a[idx] = 1\n",
    "idx = np.where(df_authors['FC'].values > 50)[0]\n",
    "print(idx.shape)\n",
    "a[idx] = 2  \n",
    "\n",
    "df_authors['FC_class'] = a\n",
    "\n",
    "b = np.zeros(df_authors.shape[0])\n",
    "idx = np.where(df_authors['RT'].values < 5)[0]\n",
    "print(idx.shape)\n",
    "b[idx] = 0\n",
    "idx = np.where((df_authors['RT'].values >= 5) & (df_authors['RT'].values <= 25))[0]\n",
    "print(idx.shape)\n",
    "b[idx] = 1\n",
    "idx = np.where(df_authors['RT'].values > 25)[0]\n",
    "print(idx.shape)\n",
    "b[idx] = 2  \n",
    "\n",
    "df_authors['RT_class'] = b"
   ]
  },
  {
   "cell_type": "code",
   "execution_count": 10,
   "metadata": {},
   "outputs": [
    {
     "data": {
      "text/html": [
       "<div>\n",
       "<style scoped>\n",
       "    .dataframe tbody tr th:only-of-type {\n",
       "        vertical-align: middle;\n",
       "    }\n",
       "\n",
       "    .dataframe tbody tr th {\n",
       "        vertical-align: top;\n",
       "    }\n",
       "\n",
       "    .dataframe thead th {\n",
       "        text-align: right;\n",
       "    }\n",
       "</style>\n",
       "<table border=\"1\" class=\"dataframe\">\n",
       "  <thead>\n",
       "    <tr style=\"text-align: right;\">\n",
       "      <th></th>\n",
       "      <th>RT_l10</th>\n",
       "      <th>sd_RT</th>\n",
       "      <th>FC_l10</th>\n",
       "      <th>sd_FC</th>\n",
       "      <th>FC</th>\n",
       "      <th>RT</th>\n",
       "      <th>followers_count</th>\n",
       "      <th>friends_count</th>\n",
       "      <th>listed_count</th>\n",
       "      <th>favourites_count</th>\n",
       "      <th>statuses_count</th>\n",
       "      <th>FC_class</th>\n",
       "      <th>RT_class</th>\n",
       "    </tr>\n",
       "  </thead>\n",
       "  <tbody>\n",
       "    <tr>\n",
       "      <th>0</th>\n",
       "      <td>2.4</td>\n",
       "      <td>3.929377</td>\n",
       "      <td>15.5</td>\n",
       "      <td>32.022648</td>\n",
       "      <td>0.0</td>\n",
       "      <td>0.0</td>\n",
       "      <td>19645.0</td>\n",
       "      <td>949.0</td>\n",
       "      <td>662.0</td>\n",
       "      <td>12334.0</td>\n",
       "      <td>55829.0</td>\n",
       "      <td>0.0</td>\n",
       "      <td>0.0</td>\n",
       "    </tr>\n",
       "    <tr>\n",
       "      <th>1</th>\n",
       "      <td>0.2</td>\n",
       "      <td>0.600000</td>\n",
       "      <td>0.8</td>\n",
       "      <td>0.979796</td>\n",
       "      <td>1.0</td>\n",
       "      <td>0.0</td>\n",
       "      <td>4221.0</td>\n",
       "      <td>281.0</td>\n",
       "      <td>340.0</td>\n",
       "      <td>587.0</td>\n",
       "      <td>13650.0</td>\n",
       "      <td>0.0</td>\n",
       "      <td>0.0</td>\n",
       "    </tr>\n",
       "    <tr>\n",
       "      <th>2</th>\n",
       "      <td>17.9</td>\n",
       "      <td>13.626812</td>\n",
       "      <td>37.2</td>\n",
       "      <td>40.931162</td>\n",
       "      <td>21.0</td>\n",
       "      <td>10.0</td>\n",
       "      <td>1133925.0</td>\n",
       "      <td>1.0</td>\n",
       "      <td>9745.0</td>\n",
       "      <td>16.0</td>\n",
       "      <td>65228.0</td>\n",
       "      <td>1.0</td>\n",
       "      <td>1.0</td>\n",
       "    </tr>\n",
       "    <tr>\n",
       "      <th>3</th>\n",
       "      <td>0.4</td>\n",
       "      <td>0.489898</td>\n",
       "      <td>1.7</td>\n",
       "      <td>3.796051</td>\n",
       "      <td>0.0</td>\n",
       "      <td>0.0</td>\n",
       "      <td>5386.0</td>\n",
       "      <td>3861.0</td>\n",
       "      <td>304.0</td>\n",
       "      <td>15325.0</td>\n",
       "      <td>85493.0</td>\n",
       "      <td>0.0</td>\n",
       "      <td>0.0</td>\n",
       "    </tr>\n",
       "    <tr>\n",
       "      <th>4</th>\n",
       "      <td>2.3</td>\n",
       "      <td>5.216321</td>\n",
       "      <td>3.4</td>\n",
       "      <td>6.545227</td>\n",
       "      <td>0.0</td>\n",
       "      <td>0.0</td>\n",
       "      <td>1072.0</td>\n",
       "      <td>433.0</td>\n",
       "      <td>101.0</td>\n",
       "      <td>899.0</td>\n",
       "      <td>19893.0</td>\n",
       "      <td>0.0</td>\n",
       "      <td>0.0</td>\n",
       "    </tr>\n",
       "  </tbody>\n",
       "</table>\n",
       "</div>"
      ],
      "text/plain": [
       "   RT_l10      sd_RT  FC_l10      sd_FC    FC    RT  followers_count  \\\n",
       "0     2.4   3.929377    15.5  32.022648   0.0   0.0          19645.0   \n",
       "1     0.2   0.600000     0.8   0.979796   1.0   0.0           4221.0   \n",
       "2    17.9  13.626812    37.2  40.931162  21.0  10.0        1133925.0   \n",
       "3     0.4   0.489898     1.7   3.796051   0.0   0.0           5386.0   \n",
       "4     2.3   5.216321     3.4   6.545227   0.0   0.0           1072.0   \n",
       "\n",
       "   friends_count  listed_count  favourites_count  statuses_count  FC_class  \\\n",
       "0          949.0         662.0           12334.0         55829.0       0.0   \n",
       "1          281.0         340.0             587.0         13650.0       0.0   \n",
       "2            1.0        9745.0              16.0         65228.0       1.0   \n",
       "3         3861.0         304.0           15325.0         85493.0       0.0   \n",
       "4          433.0         101.0             899.0         19893.0       0.0   \n",
       "\n",
       "   RT_class  \n",
       "0       0.0  \n",
       "1       0.0  \n",
       "2       1.0  \n",
       "3       0.0  \n",
       "4       0.0  "
      ]
     },
     "execution_count": 10,
     "metadata": {},
     "output_type": "execute_result"
    }
   ],
   "source": [
    "df_authors.head()"
   ]
  },
  {
   "cell_type": "markdown",
   "metadata": {},
   "source": [
    "Comprovem que les classes estiguin ben definidies:"
   ]
  },
  {
   "cell_type": "code",
   "execution_count": 31,
   "metadata": {},
   "outputs": [
    {
     "name": "stdout",
     "output_type": "stream",
     "text": [
      "0.0 14.0\n",
      "15.0 50.0\n",
      "53.0 75698.0\n",
      "0.0 4.0\n",
      "5.0 25.0\n",
      "27.0 12661.0\n"
     ]
    }
   ],
   "source": [
    "#FC\n",
    "print(min(df_authors['FC'][df_authors['FC_class']==0]),max(df_authors['FC'][df_authors['FC_class']==0]))\n",
    "print(min(df_authors['FC'][df_authors['FC_class']==1]),max(df_authors['FC'][df_authors['FC_class']==1]))\n",
    "print(min(df_authors['FC'][df_authors['FC_class']==2]),max(df_authors['FC'][df_authors['FC_class']==2]))\n",
    "#RT\n",
    "print(min(df_authors['RT'][df_authors['RT_class']==0]),max(df_authors['RT'][df_authors['RT_class']==0]))\n",
    "print(min(df_authors['RT'][df_authors['RT_class']==1]),max(df_authors['RT'][df_authors['RT_class']==1]))\n",
    "print(min(df_authors['RT'][df_authors['RT_class']==2]),max(df_authors['RT'][df_authors['RT_class']==2]))"
   ]
  },
  {
   "cell_type": "markdown",
   "metadata": {},
   "source": [
    "Classificadors per classe '0', '1' o '2' per FC: "
   ]
  },
  {
   "cell_type": "code",
   "execution_count": 72,
   "metadata": {},
   "outputs": [],
   "source": [
    "classifiers = [ linear_model.LogisticRegression(class_weight={0:1,1:1,2:3}),\n",
    "                neural_network.MLPClassifier(),\n",
    "                KNeighborsClassifier(3),\n",
    "                SVC(kernel=\"rbf\", C=0.01, class_weight={0:1,1:1,2:5}, probability=True),\n",
    "                DecisionTreeClassifier(class_weight={0:1,1:1,2:5}),\n",
    "                RandomForestClassifier(class_weight={0:1,1:1,2:5}),\n",
    "                AdaBoostClassifier(),\n",
    "                GradientBoostingClassifier(),\n",
    "              ]"
   ]
  },
  {
   "cell_type": "code",
   "execution_count": 74,
   "metadata": {
    "scrolled": true
   },
   "outputs": [
    {
     "name": "stdout",
     "output_type": "stream",
     "text": [
      "LogisticRegression 90.61624649859944\n",
      "MLPClassifier 71.84873949579831\n",
      "KNeighborsClassifier 89.35574229691878\n",
      "SVC 86.5546218487395\n",
      "DecisionTreeClassifier 89.35574229691878\n",
      "RandomForestClassifier 92.01680672268907\n",
      "AdaBoostClassifier 91.03641456582633\n",
      "GradientBoostingClassifier 91.87675070028011\n"
     ]
    }
   ],
   "source": [
    "X = df_authors[['RT_l10', 'sd_RT', 'FC_l10', 'sd_FC', 'friends_count', 'followers_count']]\n",
    "Y = df_authors['FC_class']\n",
    "\n",
    "X_train, X_test, y_train, y_test = model_selection.train_test_split(X,Y,test_size=0.3,train_size=0.7,random_state=10)\n",
    "\n",
    "for clf in classifiers:\n",
    "\n",
    "    clf.fit(X_train,y_train)\n",
    "    name = clf.__class__.__name__\n",
    "    yhat = clf.predict(X_test).reshape(-1,1)\n",
    "    acc = metrics.accuracy_score(y_test, yhat)  \n",
    "    print(name, 100*acc)\n",
    "    #print (metrics.confusion_matrix(yhat,y_test))"
   ]
  },
  {
   "cell_type": "markdown",
   "metadata": {},
   "source": [
    "Since the LogisticRegression have the largest accuaracy we will keep the parameters of this model to allocate the users of the application to each class regarding the FC. Now we use the whole Dataset to train the classifier."
   ]
  },
  {
   "cell_type": "code",
   "execution_count": 109,
   "metadata": {},
   "outputs": [
    {
     "data": {
      "text/plain": [
       "LogisticRegression(C=1.0, class_weight={0: 1, 1: 1, 2: 40}, dual=False,\n",
       "          fit_intercept=True, intercept_scaling=1, max_iter=100,\n",
       "          multi_class='ovr', n_jobs=1, penalty='l2', random_state=None,\n",
       "          solver='liblinear', tol=0.0001, verbose=0, warm_start=False)"
      ]
     },
     "execution_count": 109,
     "metadata": {},
     "output_type": "execute_result"
    }
   ],
   "source": [
    "FC_class = linear_model.LogisticRegression(class_weight={0:1,1:1,2:40})\n",
    "FC_class.fit(X,Y)"
   ]
  },
  {
   "cell_type": "code",
   "execution_count": 111,
   "metadata": {},
   "outputs": [
    {
     "data": {
      "text/plain": [
       "'trained_groupsFC_Log.sav'"
      ]
     },
     "execution_count": 111,
     "metadata": {},
     "output_type": "execute_result"
    }
   ],
   "source": [
    "save_model(FC_class, 'groupsFC_Log')"
   ]
  },
  {
   "cell_type": "markdown",
   "metadata": {},
   "source": [
    "Classificadors per classe '0', '1', '2' per RT: "
   ]
  },
  {
   "cell_type": "code",
   "execution_count": 112,
   "metadata": {},
   "outputs": [],
   "source": [
    "classifiers = [ linear_model.LogisticRegression(class_weight={0:1,1:1,2:40}),\n",
    "                neural_network.MLPClassifier(),\n",
    "                KNeighborsClassifier(3),\n",
    "                SVC(kernel=\"rbf\", C=1, class_weight={0:1,1:1,2:40}, probability=True),\n",
    "                DecisionTreeClassifier(class_weight={0:1,1:1,2:40}),\n",
    "                RandomForestClassifier(class_weight={0:1,1:1,2:40}),\n",
    "                AdaBoostClassifier(),\n",
    "                GradientBoostingClassifier(),\n",
    "              ]"
   ]
  },
  {
   "cell_type": "code",
   "execution_count": 113,
   "metadata": {},
   "outputs": [
    {
     "name": "stdout",
     "output_type": "stream",
     "text": [
      "LogisticRegression 0.8753501400560224\n",
      "MLPClassifier 0.8319327731092437\n",
      "KNeighborsClassifier 0.8697478991596639\n",
      "SVC 0.8641456582633054\n",
      "DecisionTreeClassifier 0.8571428571428571\n",
      "RandomForestClassifier 0.8921568627450981\n",
      "AdaBoostClassifier 0.8851540616246498\n",
      "GradientBoostingClassifier 0.8921568627450981\n"
     ]
    }
   ],
   "source": [
    "X = df_authors[['RT_l10', 'sd_RT', 'FC_l10', 'sd_FC', 'friends_count', 'followers_count', 'listed_count', 'favourites_count', 'statuses_count']]\n",
    "Y = df_authors['RT_class']\n",
    "\n",
    "X_train, X_test, y_train, y_test = model_selection.train_test_split(X,Y,test_size=0.3,train_size=0.7,random_state=3)\n",
    "\n",
    "for clf in classifiers:\n",
    "\n",
    "    clf.fit(X_train,y_train)\n",
    "    name = clf.__class__.__name__\n",
    "\n",
    "    yhat = clf.predict(X_test).reshape(-1,1)\n",
    "    acc = metrics.accuracy_score(y_test, yhat)  \n",
    "    print(name, acc)\n",
    "    #print (metrics.confusion_matrix(yhat,y_test))"
   ]
  },
  {
   "cell_type": "markdown",
   "metadata": {},
   "source": [
    "Since the LogisticRegression have the largest accuaracy we will keep the parameters of this model to allocate the users of the application to each class regarding the RT. Now we use the whole Dataset to train the classifier."
   ]
  },
  {
   "cell_type": "code",
   "execution_count": 114,
   "metadata": {},
   "outputs": [
    {
     "data": {
      "text/plain": [
       "LogisticRegression(C=1.0, class_weight={0: 1, 1: 1, 2: 40}, dual=False,\n",
       "          fit_intercept=True, intercept_scaling=1, max_iter=100,\n",
       "          multi_class='ovr', n_jobs=1, penalty='l2', random_state=None,\n",
       "          solver='liblinear', tol=0.0001, verbose=0, warm_start=False)"
      ]
     },
     "execution_count": 114,
     "metadata": {},
     "output_type": "execute_result"
    }
   ],
   "source": [
    "RT_class =  linear_model.LogisticRegression(class_weight={0:1,1:1,2:40})\n",
    "RT_class.fit(X,Y)"
   ]
  },
  {
   "cell_type": "code",
   "execution_count": 115,
   "metadata": {},
   "outputs": [
    {
     "data": {
      "text/plain": [
       "'trained_groupsRT_Log.sav'"
      ]
     },
     "execution_count": 115,
     "metadata": {},
     "output_type": "execute_result"
    }
   ],
   "source": [
    "save_model(FC_class, 'groupsRT_Log')"
   ]
  },
  {
   "cell_type": "markdown",
   "metadata": {},
   "source": [
    "Ara que ja tenim definides les classes de FC i RT farem un model per cada classe, en total 6, 3 per FC i 3 per RT."
   ]
  },
  {
   "cell_type": "markdown",
   "metadata": {},
   "source": [
    "## Tweets Dataset ##"
   ]
  },
  {
   "cell_type": "code",
   "execution_count": 97,
   "metadata": {},
   "outputs": [],
   "source": [
    "import ast\n",
    "import re #regular expressions\n",
    "import unidecode as udc\n",
    "import nltk\n",
    "from sklearn.feature_extraction.text import CountVectorizer\n",
    "from unicodedata import normalize"
   ]
  },
  {
   "cell_type": "code",
   "execution_count": 98,
   "metadata": {},
   "outputs": [],
   "source": [
    "#X['location'] = [ast.literal_eval(data['j_user'][i])['location'] for i in range(X.shape[0])]\n",
    "filename = './tweet.csv'\n",
    "df_tweets = pd.read_csv(filename, sep=\",\")"
   ]
  },
  {
   "cell_type": "code",
   "execution_count": 99,
   "metadata": {},
   "outputs": [
    {
     "data": {
      "text/html": [
       "<div>\n",
       "<style scoped>\n",
       "    .dataframe tbody tr th:only-of-type {\n",
       "        vertical-align: middle;\n",
       "    }\n",
       "\n",
       "    .dataframe tbody tr th {\n",
       "        vertical-align: top;\n",
       "    }\n",
       "\n",
       "    .dataframe thead th {\n",
       "        text-align: right;\n",
       "    }\n",
       "</style>\n",
       "<table border=\"1\" class=\"dataframe\">\n",
       "  <thead>\n",
       "    <tr style=\"text-align: right;\">\n",
       "      <th></th>\n",
       "      <th>Tweet</th>\n",
       "      <th>FC</th>\n",
       "      <th>RT</th>\n",
       "    </tr>\n",
       "  </thead>\n",
       "  <tbody>\n",
       "    <tr>\n",
       "      <th>0</th>\n",
       "      <td>Desde el #FCJumilla damos nuestra más sincera ...</td>\n",
       "      <td>18</td>\n",
       "      <td>4</td>\n",
       "    </tr>\n",
       "    <tr>\n",
       "      <th>1</th>\n",
       "      <td>Me estoy volviendo loca hasta por cada una de ...</td>\n",
       "      <td>0</td>\n",
       "      <td>0</td>\n",
       "    </tr>\n",
       "    <tr>\n",
       "      <th>2</th>\n",
       "      <td>🏟 | El #FCJumilla ya está en La Condomina   ⚽️...</td>\n",
       "      <td>4</td>\n",
       "      <td>2</td>\n",
       "    </tr>\n",
       "    <tr>\n",
       "      <th>3</th>\n",
       "      <td>📹 | El vestuario del #FCJumilla en La Condomin...</td>\n",
       "      <td>21</td>\n",
       "      <td>6</td>\n",
       "    </tr>\n",
       "    <tr>\n",
       "      <th>4</th>\n",
       "      <td>📑 Jornada 6 | El colegiado andaluz Guzmán Mans...</td>\n",
       "      <td>0</td>\n",
       "      <td>0</td>\n",
       "    </tr>\n",
       "  </tbody>\n",
       "</table>\n",
       "</div>"
      ],
      "text/plain": [
       "                                               Tweet  FC  RT\n",
       "0  Desde el #FCJumilla damos nuestra más sincera ...  18   4\n",
       "1  Me estoy volviendo loca hasta por cada una de ...   0   0\n",
       "2  🏟 | El #FCJumilla ya está en La Condomina   ⚽️...   4   2\n",
       "3  📹 | El vestuario del #FCJumilla en La Condomin...  21   6\n",
       "4  📑 Jornada 6 | El colegiado andaluz Guzmán Mans...   0   0"
      ]
     },
     "execution_count": 99,
     "metadata": {},
     "output_type": "execute_result"
    }
   ],
   "source": [
    "df_tweets = df_tweets[['Tweet','FC','RT']]\n",
    "df_tweets.head()"
   ]
  },
  {
   "cell_type": "markdown",
   "metadata": {},
   "source": [
    "Check number of zeros in  'FC' and 'RT' of our sample:"
   ]
  },
  {
   "cell_type": "code",
   "execution_count": 100,
   "metadata": {},
   "outputs": [
    {
     "name": "stdout",
     "output_type": "stream",
     "text": [
      "Una accuarcy semblant a aquest ratios seria dolenta, ha de ser molt més\n",
      "0.40010965246261154 0.6620267430172703\n"
     ]
    }
   ],
   "source": [
    "zero_ratio_FC = df_tweets.loc[df_tweets.index[df_tweets['FC'] > 0]].shape[0]/df_tweets.shape[0]\n",
    "zero_ratio_RT = df_tweets.loc[df_tweets.index[df_tweets['RT'] > 0]].shape[0]/df_tweets.shape[0]\n",
    "\n",
    "print('Una accuarcy semblant a aquest ratios seria dolenta, ha de ser molt més')\n",
    "print(1-zero_ratio_FC, 1-zero_ratio_RT)"
   ]
  },
  {
   "cell_type": "code",
   "execution_count": 101,
   "metadata": {},
   "outputs": [],
   "source": [
    "c = np.zeros(df_tweets.shape[0])\n",
    "idx = np.where(df_tweets['FC'].values < 15)[0]\n",
    "c[idx] = 0\n",
    "idx = np.where((df_tweets['FC'].values >= 15) & (df_tweets['FC'].values <= 50))[0]\n",
    "c[idx] = 1\n",
    "idx = np.where(df_tweets['FC'].values > 50)[0]\n",
    "c[idx] = 2  \n",
    "\n",
    "df_tweets['FC_class'] = c\n",
    "\n",
    "d = np.zeros(df_tweets.shape[0])\n",
    "idx = np.where(df_tweets['RT'].values < 5)[0]\n",
    "d[idx] = 0\n",
    "idx = np.where((df_tweets['RT'].values >= 5) & (df_tweets['RT'].values <= 25))[0]\n",
    "d[idx] = 1\n",
    "idx = np.where(df_tweets['RT'].values > 25)[0]\n",
    "d[idx] = 2  \n",
    "\n",
    "df_tweets['RT_class'] = d"
   ]
  },
  {
   "cell_type": "code",
   "execution_count": 102,
   "metadata": {},
   "outputs": [
    {
     "data": {
      "text/html": [
       "<div>\n",
       "<style scoped>\n",
       "    .dataframe tbody tr th:only-of-type {\n",
       "        vertical-align: middle;\n",
       "    }\n",
       "\n",
       "    .dataframe tbody tr th {\n",
       "        vertical-align: top;\n",
       "    }\n",
       "\n",
       "    .dataframe thead th {\n",
       "        text-align: right;\n",
       "    }\n",
       "</style>\n",
       "<table border=\"1\" class=\"dataframe\">\n",
       "  <thead>\n",
       "    <tr style=\"text-align: right;\">\n",
       "      <th></th>\n",
       "      <th>Tweet</th>\n",
       "      <th>FC</th>\n",
       "      <th>RT</th>\n",
       "      <th>FC_class</th>\n",
       "      <th>RT_class</th>\n",
       "    </tr>\n",
       "  </thead>\n",
       "  <tbody>\n",
       "    <tr>\n",
       "      <th>0</th>\n",
       "      <td>Desde el #FCJumilla damos nuestra más sincera ...</td>\n",
       "      <td>18</td>\n",
       "      <td>4</td>\n",
       "      <td>1.0</td>\n",
       "      <td>0.0</td>\n",
       "    </tr>\n",
       "    <tr>\n",
       "      <th>1</th>\n",
       "      <td>Me estoy volviendo loca hasta por cada una de ...</td>\n",
       "      <td>0</td>\n",
       "      <td>0</td>\n",
       "      <td>0.0</td>\n",
       "      <td>0.0</td>\n",
       "    </tr>\n",
       "    <tr>\n",
       "      <th>2</th>\n",
       "      <td>🏟 | El #FCJumilla ya está en La Condomina   ⚽️...</td>\n",
       "      <td>4</td>\n",
       "      <td>2</td>\n",
       "      <td>0.0</td>\n",
       "      <td>0.0</td>\n",
       "    </tr>\n",
       "    <tr>\n",
       "      <th>3</th>\n",
       "      <td>📹 | El vestuario del #FCJumilla en La Condomin...</td>\n",
       "      <td>21</td>\n",
       "      <td>6</td>\n",
       "      <td>1.0</td>\n",
       "      <td>1.0</td>\n",
       "    </tr>\n",
       "    <tr>\n",
       "      <th>4</th>\n",
       "      <td>📑 Jornada 6 | El colegiado andaluz Guzmán Mans...</td>\n",
       "      <td>0</td>\n",
       "      <td>0</td>\n",
       "      <td>0.0</td>\n",
       "      <td>0.0</td>\n",
       "    </tr>\n",
       "  </tbody>\n",
       "</table>\n",
       "</div>"
      ],
      "text/plain": [
       "                                               Tweet  FC  RT  FC_class  \\\n",
       "0  Desde el #FCJumilla damos nuestra más sincera ...  18   4       1.0   \n",
       "1  Me estoy volviendo loca hasta por cada una de ...   0   0       0.0   \n",
       "2  🏟 | El #FCJumilla ya está en La Condomina   ⚽️...   4   2       0.0   \n",
       "3  📹 | El vestuario del #FCJumilla en La Condomin...  21   6       1.0   \n",
       "4  📑 Jornada 6 | El colegiado andaluz Guzmán Mans...   0   0       0.0   \n",
       "\n",
       "   RT_class  \n",
       "0       0.0  \n",
       "1       0.0  \n",
       "2       0.0  \n",
       "3       1.0  \n",
       "4       0.0  "
      ]
     },
     "execution_count": 102,
     "metadata": {},
     "output_type": "execute_result"
    }
   ],
   "source": [
    "df_tweets.head()"
   ]
  },
  {
   "cell_type": "markdown",
   "metadata": {},
   "source": [
    "Comensem pels models definits com a classe'1' en FC i RT. Primer dividim per intervals peruqè predir exactament un número és imporssible. En total N intervals. A mesura que els FC i els RT augmenten també augmenta l'amplada del interval:"
   ]
  },
  {
   "cell_type": "code",
   "execution_count": 103,
   "metadata": {},
   "outputs": [],
   "source": [
    "class segmenta():\n",
    "    \n",
    "    def __init__(self):\n",
    "        self.intervals = {}\n",
    "    \n",
    "    def transform(self,y):\n",
    "        k, z = 0, 0\n",
    "        for a, b in [[15,5],\n",
    "                     [25,10],\n",
    "                     [50,25],\n",
    "                     [100,50],\n",
    "                     [1000,900],\n",
    "                     [10000,4500],\n",
    "                     [50000,10000]]: \n",
    "            for i in np.arange(z,a,b):\n",
    "                self.intervals[k] = [i,i+b-1]\n",
    "                k+=1\n",
    "            z = a\n",
    "        self.intervals[k] = [50000,99999999]\n",
    "\n",
    "        C = np.zeros(len(y))\n",
    "        for j in self.intervals:\n",
    "            c = self.intervals[j]\n",
    "            idx = np.where(np.logical_and(y>=c[0],y<=c[1]))[0]\n",
    "            C[idx] = j\n",
    "\n",
    "        return C"
   ]
  },
  {
   "cell_type": "code",
   "execution_count": 104,
   "metadata": {},
   "outputs": [
    {
     "name": "stdout",
     "output_type": "stream",
     "text": [
      "{0: [0, 4], 1: [5, 9], 2: [10, 14], 3: [15, 24], 4: [25, 49], 5: [50, 99], 6: [100, 999], 7: [1000, 5499], 8: [5500, 9999], 9: [10000, 19999], 10: [20000, 29999], 11: [30000, 39999], 12: [40000, 49999], 13: [50000, 99999999]}\n"
     ]
    },
    {
     "data": {
      "text/html": [
       "<div>\n",
       "<style scoped>\n",
       "    .dataframe tbody tr th:only-of-type {\n",
       "        vertical-align: middle;\n",
       "    }\n",
       "\n",
       "    .dataframe tbody tr th {\n",
       "        vertical-align: top;\n",
       "    }\n",
       "\n",
       "    .dataframe thead th {\n",
       "        text-align: right;\n",
       "    }\n",
       "</style>\n",
       "<table border=\"1\" class=\"dataframe\">\n",
       "  <thead>\n",
       "    <tr style=\"text-align: right;\">\n",
       "      <th></th>\n",
       "      <th>Tweet</th>\n",
       "      <th>FC</th>\n",
       "      <th>RT</th>\n",
       "      <th>FC_class</th>\n",
       "      <th>RT_class</th>\n",
       "      <th>FC_int</th>\n",
       "      <th>RT_int</th>\n",
       "    </tr>\n",
       "  </thead>\n",
       "  <tbody>\n",
       "    <tr>\n",
       "      <th>0</th>\n",
       "      <td>Desde el #FCJumilla damos nuestra más sincera ...</td>\n",
       "      <td>18</td>\n",
       "      <td>4</td>\n",
       "      <td>1.0</td>\n",
       "      <td>0.0</td>\n",
       "      <td>3.0</td>\n",
       "      <td>0.0</td>\n",
       "    </tr>\n",
       "    <tr>\n",
       "      <th>1</th>\n",
       "      <td>Me estoy volviendo loca hasta por cada una de ...</td>\n",
       "      <td>0</td>\n",
       "      <td>0</td>\n",
       "      <td>0.0</td>\n",
       "      <td>0.0</td>\n",
       "      <td>0.0</td>\n",
       "      <td>0.0</td>\n",
       "    </tr>\n",
       "    <tr>\n",
       "      <th>2</th>\n",
       "      <td>🏟 | El #FCJumilla ya está en La Condomina   ⚽️...</td>\n",
       "      <td>4</td>\n",
       "      <td>2</td>\n",
       "      <td>0.0</td>\n",
       "      <td>0.0</td>\n",
       "      <td>0.0</td>\n",
       "      <td>0.0</td>\n",
       "    </tr>\n",
       "    <tr>\n",
       "      <th>3</th>\n",
       "      <td>📹 | El vestuario del #FCJumilla en La Condomin...</td>\n",
       "      <td>21</td>\n",
       "      <td>6</td>\n",
       "      <td>1.0</td>\n",
       "      <td>1.0</td>\n",
       "      <td>3.0</td>\n",
       "      <td>1.0</td>\n",
       "    </tr>\n",
       "    <tr>\n",
       "      <th>4</th>\n",
       "      <td>📑 Jornada 6 | El colegiado andaluz Guzmán Mans...</td>\n",
       "      <td>0</td>\n",
       "      <td>0</td>\n",
       "      <td>0.0</td>\n",
       "      <td>0.0</td>\n",
       "      <td>0.0</td>\n",
       "      <td>0.0</td>\n",
       "    </tr>\n",
       "  </tbody>\n",
       "</table>\n",
       "</div>"
      ],
      "text/plain": [
       "                                               Tweet  FC  RT  FC_class  \\\n",
       "0  Desde el #FCJumilla damos nuestra más sincera ...  18   4       1.0   \n",
       "1  Me estoy volviendo loca hasta por cada una de ...   0   0       0.0   \n",
       "2  🏟 | El #FCJumilla ya está en La Condomina   ⚽️...   4   2       0.0   \n",
       "3  📹 | El vestuario del #FCJumilla en La Condomin...  21   6       1.0   \n",
       "4  📑 Jornada 6 | El colegiado andaluz Guzmán Mans...   0   0       0.0   \n",
       "\n",
       "   RT_class  FC_int  RT_int  \n",
       "0       0.0     3.0     0.0  \n",
       "1       0.0     0.0     0.0  \n",
       "2       0.0     0.0     0.0  \n",
       "3       1.0     3.0     1.0  \n",
       "4       0.0     0.0     0.0  "
      ]
     },
     "execution_count": 104,
     "metadata": {},
     "output_type": "execute_result"
    }
   ],
   "source": [
    "seg = segmenta()\n",
    "df_tweets['FC_int'] = seg.transform(df_tweets['FC'])\n",
    "df_tweets['RT_int'] = seg.transform(df_tweets['RT'])\n",
    "print(seg.intervals)\n",
    "df_tweets.head()"
   ]
  },
  {
   "cell_type": "markdown",
   "metadata": {},
   "source": [
    "Separem la BBDD en 4 en funció de la classe assignada previament amb els 2 models d'authors (classe '0' i '1' a FC i RT):"
   ]
  },
  {
   "cell_type": "code",
   "execution_count": 105,
   "metadata": {},
   "outputs": [],
   "source": [
    "FC_C0 = df_tweets[df_tweets['FC_class']==0] \n",
    "FC_C1 = df_tweets[df_tweets['FC_class']==1]\n",
    "FC_C2 = df_tweets[df_tweets['FC_class']==2]\n",
    "\n",
    "RT_C0 = df_tweets[df_tweets['RT_class']==0] \n",
    "RT_C1 = df_tweets[df_tweets['RT_class']==1] \n",
    "RT_C2 = df_tweets[df_tweets['RT_class']==2] "
   ]
  },
  {
   "cell_type": "code",
   "execution_count": 106,
   "metadata": {},
   "outputs": [
    {
     "name": "stdout",
     "output_type": "stream",
     "text": [
      "(29089, 7) (1656, 7) (2086, 7) (28475, 7) (2569, 7) (1787, 7)\n"
     ]
    }
   ],
   "source": [
    "print(FC_C0.shape, FC_C1.shape, FC_C2.shape, RT_C0.shape, RT_C1.shape, RT_C2.shape)"
   ]
  },
  {
   "cell_type": "markdown",
   "metadata": {},
   "source": [
    "Token, analyze, ...\n",
    "\n",
    "Script Núria en el que es treuen les paraules que no aporten informació com conectors, articles, ... per utilitzaro com a stop words en el 'CountVectorizer':"
   ]
  },
  {
   "cell_type": "code",
   "execution_count": 107,
   "metadata": {},
   "outputs": [],
   "source": [
    "filename = './eliminar_paraules.xlsx'\n",
    "elim = pd.read_excel(filename, header=None)\n",
    "\n",
    "y=elim[0]\n",
    "for i in range(len(elim)):\n",
    "    y[i] = re.sub(\n",
    "            r\"([^n\\u0300-\\u036f]|n(?!\\u0303(?![\\u0300-\\u036f])))[\\u0300-\\u036f]+\", r\"\\1\", \n",
    "            normalize( \"NFD\", y[i]), 0, re.I)\n",
    "y = y.tolist()"
   ]
  },
  {
   "cell_type": "markdown",
   "metadata": {},
   "source": [
    "### Model FC_C0: ###"
   ]
  },
  {
   "cell_type": "code",
   "execution_count": null,
   "metadata": {},
   "outputs": [],
   "source": []
  },
  {
   "cell_type": "code",
   "execution_count": null,
   "metadata": {},
   "outputs": [],
   "source": []
  },
  {
   "cell_type": "code",
   "execution_count": null,
   "metadata": {},
   "outputs": [],
   "source": []
  },
  {
   "cell_type": "markdown",
   "metadata": {},
   "source": [
    "### Model FC_C1: ###"
   ]
  },
  {
   "cell_type": "code",
   "execution_count": 108,
   "metadata": {},
   "outputs": [
    {
     "name": "stdout",
     "output_type": "stream",
     "text": [
      "0 [0, 4] 0\n",
      "1 [5, 9] 0\n",
      "2 [10, 14] 0\n",
      "3 [15, 24] 885\n",
      "4 [25, 49] 754\n",
      "5 [50, 99] 17\n",
      "6 [100, 999] 0\n",
      "7 [1000, 5499] 0\n",
      "8 [5500, 9999] 0\n",
      "9 [10000, 19999] 0\n",
      "10 [20000, 29999] 0\n",
      "11 [30000, 39999] 0\n",
      "12 [40000, 49999] 0\n",
      "13 [50000, 99999999] 0\n"
     ]
    }
   ],
   "source": [
    "# Com estan distribuides les dades per els intervals creats\n",
    "for i in range(len(seg.intervals)):\n",
    "    idx = np.where(FC_C1['FC_int']==i)[0]\n",
    "    print(i, seg.intervals[i], idx.shape[0])"
   ]
  },
  {
   "cell_type": "code",
   "execution_count": 34,
   "metadata": {},
   "outputs": [],
   "source": [
    "vect_FC_C1 = CountVectorizer(min_df=0.0001, stop_words=y, strip_accents='unicode') # Tweets stop_words=y\n",
    "\n",
    "X = FC_C1['Tweet']\n",
    "Y = FC_C1['FC_int']\n",
    "\n",
    "X_train, X_test, y_train, y_test = model_selection.train_test_split(X,Y,test_size=0.3,train_size=0.7,random_state=42)\n",
    "\n",
    "#Process and convert data \n",
    "X_train = vect_FC_C1.fit_transform(X_train).todense()\n",
    "y_train = y_train.values\n",
    "\n",
    "X_test = vect_FC_C1.transform(X_test).todense()\n",
    "y_test = y_test.values"
   ]
  },
  {
   "cell_type": "code",
   "execution_count": 27,
   "metadata": {},
   "outputs": [
    {
     "name": "stdout",
     "output_type": "stream",
     "text": [
      "(1159, 6478)\n",
      "(497, 6478)\n",
      "0.999137187230371\n",
      "0.9859154929577465\n"
     ]
    }
   ],
   "source": [
    "print(X_train.shape)\n",
    "print(X_test.shape)\n",
    "\n",
    "# Percentatge número de files amb tot zeros despres de natejar la bbdd (X_train i X_test)\n",
    "print(X_train[np.where(X_train.sum(axis=1)>0)].shape[1]/X_train.shape[0])\n",
    "print(X_test[np.where(X_test.sum(axis=1)>0)].shape[1]/X_test.shape[0])"
   ]
  },
  {
   "cell_type": "code",
   "execution_count": 28,
   "metadata": {},
   "outputs": [],
   "source": [
    "classifiers = [ AdaBoostClassifier(),\n",
    "                neural_network.MLPClassifier(),\n",
    "                linear_model.LogisticRegression(),\n",
    "                KNeighborsClassifier(3),\n",
    "                DecisionTreeClassifier(),\n",
    "                RandomForestClassifier(),\n",
    "                GradientBoostingClassifier(),\n",
    "                #SVC(kernel=\"rbf\", C=1, probability=True)\n",
    "              ]"
   ]
  },
  {
   "cell_type": "code",
   "execution_count": 29,
   "metadata": {},
   "outputs": [
    {
     "name": "stdout",
     "output_type": "stream",
     "text": [
      "AdaBoostClassifier 0.5352112676056338\n",
      "MLPClassifier 0.48088531187122735\n",
      "LogisticRegression 0.4969818913480885\n",
      "KNeighborsClassifier 0.5392354124748491\n",
      "DecisionTreeClassifier 0.48490945674044267\n",
      "RandomForestClassifier 0.5331991951710262\n",
      "GradientBoostingClassifier 0.4949698189134809\n"
     ]
    }
   ],
   "source": [
    "for clf in classifiers:\n",
    "\n",
    "    clf.fit(X_train,y_train)\n",
    "    name = clf.__class__.__name__\n",
    "\n",
    "    yhat = clf.predict(X_test).reshape(-1,1)\n",
    "    acc = metrics.accuracy_score(y_test, yhat)  \n",
    "    print(name, acc)\n",
    "    #print (metrics.confusion_matrix(yhat,y_test))"
   ]
  },
  {
   "cell_type": "code",
   "execution_count": 39,
   "metadata": {},
   "outputs": [
    {
     "name": "stdout",
     "output_type": "stream",
     "text": [
      "0.9993961352657005\n",
      "(1656, 8593)\n"
     ]
    },
    {
     "data": {
      "text/plain": [
       "AdaBoostClassifier(algorithm='SAMME.R', base_estimator=None,\n",
       "          learning_rate=1.0, n_estimators=50, random_state=None)"
      ]
     },
     "execution_count": 39,
     "metadata": {},
     "output_type": "execute_result"
    }
   ],
   "source": [
    "vect_FC_C1 = CountVectorizer(min_df=0.0001, stop_words=y, strip_accents='unicode') # Tweets stop_words=y\n",
    "\n",
    "#Process and convert data \n",
    "x = vect_FC_C1.fit_transform(X).todense()\n",
    "\n",
    "# Percentatge número de files amb tot zeros despres de natejar la bbdd (X_train i X_test)\n",
    "print(x[np.where(x.sum(axis=1)>0)].shape[1]/x.shape[0])\n",
    "print(x.shape)\n",
    "\n",
    "FC_C1_tweet = AdaBoostClassifier()\n",
    "FC_C1_tweet.fit(x,Y)"
   ]
  },
  {
   "cell_type": "markdown",
   "metadata": {},
   "source": [
    "For prediction we will do the following:\n",
    "\n",
    "    1) x = vect_FC_C1.transform(X).todense(), where X is the dataframe with the tweet that will be transformed to binary.\n",
    "    \n",
    "    2) FC_C1_tweet.predict(x), where x comes form the above 1) and it will provide the prediction."
   ]
  },
  {
   "cell_type": "markdown",
   "metadata": {},
   "source": [
    "INTERVAL DE CONFIANÇA FC_C1:"
   ]
  },
  {
   "cell_type": "code",
   "execution_count": null,
   "metadata": {},
   "outputs": [],
   "source": [
    "# ITERVAL DE CONFIANÇA\n",
    "mu = ###\n",
    "sd = ###\n",
    "x = vect_FC_C1.transform(X).todense()\n",
    "pred = FC_C1_tweet.predict(x)\n",
    "\n",
    "k = seg.transform(pd.DataFrame([mu]))[0]\n",
    "\n",
    "if (pred > mu + sd*1.96) or (pred < mu - sd*1.96):\n",
    "    pred = seg.intervals[k]"
   ]
  },
  {
   "cell_type": "markdown",
   "metadata": {},
   "source": [
    "### Model FC_C2: ###"
   ]
  },
  {
   "cell_type": "code",
   "execution_count": 40,
   "metadata": {},
   "outputs": [
    {
     "name": "stdout",
     "output_type": "stream",
     "text": [
      "0 [0, 4] 0\n",
      "1 [5, 9] 0\n",
      "2 [10, 14] 0\n",
      "3 [15, 24] 0\n",
      "4 [25, 49] 0\n",
      "5 [50, 99] 419\n",
      "6 [100, 999] 932\n",
      "7 [1000, 5499] 493\n",
      "8 [5500, 9999] 96\n",
      "9 [10000, 19999] 85\n",
      "10 [20000, 29999] 27\n",
      "11 [30000, 39999] 17\n",
      "12 [40000, 49999] 10\n",
      "13 [50000, 99999999] 7\n"
     ]
    }
   ],
   "source": [
    "# Com estan distribuides les dades per els intervals creats\n",
    "for i in range(len(seg.intervals)):\n",
    "    idx = np.where(FC_C2['FC_int']==i)[0]\n",
    "    print(i, seg.intervals[i], idx.shape[0])"
   ]
  },
  {
   "cell_type": "code",
   "execution_count": 41,
   "metadata": {},
   "outputs": [],
   "source": [
    "vect_FC_C2 = CountVectorizer(min_df=0.0005, stop_words=y, strip_accents='unicode') # Tweets stop_words=y\n",
    "\n",
    "X = FC_C2['Tweet']\n",
    "Y = FC_C2['FC_int']\n",
    "\n",
    "X_train, X_test, y_train, y_test = model_selection.train_test_split(X,Y,test_size=0.3,train_size=0.7,random_state=42)\n",
    "\n",
    "#Process and convert data \n",
    "X_train = vect_FC_C2.fit_transform(X_train).todense()\n",
    "y_train = y_train.values\n",
    "\n",
    "X_test = vect_FC_C2.transform(X_test).todense()\n",
    "y_test = y_test.values"
   ]
  },
  {
   "cell_type": "code",
   "execution_count": 42,
   "metadata": {},
   "outputs": [
    {
     "name": "stdout",
     "output_type": "stream",
     "text": [
      "(1460, 6874)\n",
      "(626, 6874)\n",
      "0.9986301369863013\n",
      "0.987220447284345\n"
     ]
    }
   ],
   "source": [
    "print(X_train.shape)\n",
    "print(X_test.shape)\n",
    "\n",
    "# Percentatge número de files amb tot zeros despres de natejar la bbdd (X_train i X_test)\n",
    "print(X_train[np.where(X_train.sum(axis=1)>0)].shape[1]/X_train.shape[0])\n",
    "print(X_test[np.where(X_test.sum(axis=1)>0)].shape[1]/X_test.shape[0])"
   ]
  },
  {
   "cell_type": "code",
   "execution_count": 43,
   "metadata": {},
   "outputs": [],
   "source": [
    "classifiers = [ neural_network.MLPClassifier(),\n",
    "                linear_model.LogisticRegression(),\n",
    "                KNeighborsClassifier(3),\n",
    "                DecisionTreeClassifier(),\n",
    "                RandomForestClassifier(),\n",
    "                AdaBoostClassifier(),\n",
    "                GradientBoostingClassifier(),\n",
    "                #SVC(kernel=\"rbf\", C=1, probability=True)\n",
    "              ]"
   ]
  },
  {
   "cell_type": "code",
   "execution_count": 44,
   "metadata": {},
   "outputs": [
    {
     "name": "stdout",
     "output_type": "stream",
     "text": [
      "MLPClassifier 0.49201277955271566\n",
      "LogisticRegression 0.5031948881789138\n",
      "KNeighborsClassifier 0.3610223642172524\n",
      "DecisionTreeClassifier 0.48083067092651754\n",
      "RandomForestClassifier 0.48562300319488816\n",
      "AdaBoostClassifier 0.4984025559105431\n",
      "GradientBoostingClassifier 0.4936102236421725\n"
     ]
    }
   ],
   "source": [
    "for clf in classifiers:\n",
    "\n",
    "    clf.fit(X_train,y_train)\n",
    "    name = clf.__class__.__name__\n",
    "\n",
    "    yhat = clf.predict(X_test).reshape(-1,1)\n",
    "    acc = metrics.accuracy_score(y_test, yhat)  \n",
    "    print(name, acc)\n",
    "    #print (metrics.confusion_matrix(yhat,y_test))"
   ]
  },
  {
   "cell_type": "code",
   "execution_count": 46,
   "metadata": {},
   "outputs": [
    {
     "name": "stdout",
     "output_type": "stream",
     "text": [
      "0.9990412272291467\n",
      "(2086, 8994)\n"
     ]
    },
    {
     "data": {
      "text/plain": [
       "AdaBoostClassifier(algorithm='SAMME.R', base_estimator=None,\n",
       "          learning_rate=1.0, n_estimators=50, random_state=None)"
      ]
     },
     "execution_count": 46,
     "metadata": {},
     "output_type": "execute_result"
    }
   ],
   "source": [
    "vect_FC_C2 = CountVectorizer(min_df=0.0001, stop_words=y, strip_accents='unicode') # Tweets stop_words=y\n",
    "\n",
    "#Process and convert data \n",
    "x = vect_FC_C2.fit_transform(X).todense()\n",
    "\n",
    "# Percentatge número de files amb tot zeros despres de natejar la bbdd (X_train i X_test)\n",
    "print(x[np.where(x.sum(axis=1)>0)].shape[1]/x.shape[0])\n",
    "print(x.shape)\n",
    "\n",
    "FC_C2_tweet = AdaBoostClassifier()\n",
    "FC_C2_tweet.fit(x,Y)"
   ]
  },
  {
   "cell_type": "markdown",
   "metadata": {},
   "source": [
    "For prediction we will do the following:\n",
    "\n",
    "    1) x = vect_FC_C2.transform(X).todense(), where X is the dataframe with the tweet that will be transformed to binary.\n",
    "    \n",
    "    2) FC_C2_tweet.predict(x), where x comes form the above 1) and it will provide the prediction."
   ]
  },
  {
   "cell_type": "markdown",
   "metadata": {},
   "source": [
    "INTERVAL DE CONFIANÇA FC_C2:"
   ]
  },
  {
   "cell_type": "code",
   "execution_count": null,
   "metadata": {},
   "outputs": [],
   "source": [
    "mu = ###\n",
    "sd = ###\n",
    "x = vect_FC_C2.transform(X).todense()\n",
    "pred = FC_C2_tweet.predict(x)\n",
    "\n",
    "k = seg.transform(pd.DataFrame([mu]))[0]\n",
    "\n",
    "if (pred > mu + sd*1.96) or (pred < mu - sd*1.96):\n",
    "    pred = seg.intervals[k]"
   ]
  },
  {
   "cell_type": "markdown",
   "metadata": {},
   "source": [
    "### Model RT_C0: ###"
   ]
  },
  {
   "cell_type": "code",
   "execution_count": null,
   "metadata": {},
   "outputs": [],
   "source": []
  },
  {
   "cell_type": "code",
   "execution_count": null,
   "metadata": {},
   "outputs": [],
   "source": []
  },
  {
   "cell_type": "code",
   "execution_count": null,
   "metadata": {},
   "outputs": [],
   "source": []
  },
  {
   "cell_type": "markdown",
   "metadata": {},
   "source": [
    "### Model RT_C1: ###"
   ]
  },
  {
   "cell_type": "code",
   "execution_count": 62,
   "metadata": {},
   "outputs": [
    {
     "name": "stdout",
     "output_type": "stream",
     "text": [
      "0 [0, 4] 228\n",
      "1 [5, 9] 460\n",
      "2 [10, 14] 446\n",
      "3 [15, 24] 525\n",
      "4 [25, 49] 475\n",
      "5 [50, 99] 246\n",
      "6 [100, 999] 189\n",
      "7 [1000, 5499] 0\n",
      "8 [5500, 9999] 0\n",
      "9 [10000, 19999] 0\n",
      "10 [20000, 29999] 0\n",
      "11 [30000, 39999] 0\n",
      "12 [40000, 49999] 0\n",
      "13 [50000, 99999999] 0\n"
     ]
    }
   ],
   "source": [
    "# Com estan distribuides les dades per els intervals creats\n",
    "for i in range(len(seg.intervals)):\n",
    "    idx = np.where(RT_C1['FC_int']==i)[0]\n",
    "    print(i, seg.intervals[i], idx.shape[0])"
   ]
  },
  {
   "cell_type": "code",
   "execution_count": 71,
   "metadata": {},
   "outputs": [],
   "source": [
    "vect_RT_C1 = CountVectorizer(min_df=0.0002, stop_words=y, strip_accents='unicode') # Tweets "
   ]
  },
  {
   "cell_type": "code",
   "execution_count": null,
   "metadata": {},
   "outputs": [],
   "source": [
    "X = RT_C1['Tweet']\n",
    "Y = RT_C1['RT_int']\n",
    "\n",
    "X_train, X_test, y_train, y_test = model_selection.train_test_split(X,Y,test_size=0.3,train_size=0.7,random_state=42)\n",
    "\n",
    "#Process and convert data \n",
    "X_train = vect_RT_C1.fit_transform(X_train).todense()\n",
    "y_train = y_train.values\n",
    "\n",
    "X_test = vect_RT_C1.transform(X_test).todense()\n",
    "y_test = y_test.values"
   ]
  },
  {
   "cell_type": "code",
   "execution_count": 65,
   "metadata": {},
   "outputs": [
    {
     "name": "stdout",
     "output_type": "stream",
     "text": [
      "(1798, 9520)\n",
      "(771, 9520)\n",
      "0.9988876529477196\n",
      "0.9987029831387808\n"
     ]
    }
   ],
   "source": [
    "print(X_train.shape)\n",
    "print(X_test.shape)\n",
    "\n",
    "# Percentatge número de files amb tot zeros despres de natejar la bbdd (X_train i X_test)\n",
    "print(X_train[np.where(X_train.sum(axis=1)>0)].shape[1]/X_train.shape[0])\n",
    "print(X_test[np.where(X_test.sum(axis=1)>0)].shape[1]/X_test.shape[0])"
   ]
  },
  {
   "cell_type": "code",
   "execution_count": 68,
   "metadata": {},
   "outputs": [],
   "source": [
    "classifiers = [ neural_network.MLPClassifier(),\n",
    "                linear_model.LogisticRegression(),\n",
    "                KNeighborsClassifier(3),\n",
    "                DecisionTreeClassifier(),\n",
    "                RandomForestClassifier(),\n",
    "                AdaBoostClassifier(),\n",
    "                GradientBoostingClassifier(),\n",
    "                #SVC(kernel=\"rbf\", C=1, probability=True)\n",
    "              ]"
   ]
  },
  {
   "cell_type": "code",
   "execution_count": null,
   "metadata": {},
   "outputs": [],
   "source": [
    "for clf in classifiers:\n",
    "\n",
    "    clf.fit(X_train,y_train)\n",
    "    name = clf.__class__.__name__\n",
    "\n",
    "    yhat = clf.predict(X_test).reshape(-1,1)\n",
    "    acc = metrics.accuracy_score(y_test, yhat)  \n",
    "    print(name, acc)\n",
    "    yhat_prob = clf.predict_proba(X_test)"
   ]
  },
  {
   "cell_type": "code",
   "execution_count": null,
   "metadata": {},
   "outputs": [],
   "source": [
    "vect_RT_C1 = CountVectorizer(min_df=0.0001, stop_words=y, strip_accents='unicode') # Tweets stop_words=y\n",
    "\n",
    "#Process and convert data \n",
    "x = vect_RT_C1.fit_transform(X).todense()\n",
    "\n",
    "# Percentatge número de files amb tot zeros despres de natejar la bbdd (X_train i X_test)\n",
    "print(x[np.where(x.sum(axis=1)>0)].shape[1]/x.shape[0])\n",
    "print(x.shape)\n",
    "\n",
    "RT_C1_tweet = AdaBoostClassifier()\n",
    "RT_C1_tweet.fit(x,Y)"
   ]
  },
  {
   "cell_type": "markdown",
   "metadata": {},
   "source": [
    "For prediction we will do the following:\n",
    "\n",
    "    1) x = vect_RT_C1.transform(X).todense(), where X is the dataframe with the tweet that will be transformed to binary.\n",
    "    \n",
    "    2) RT_C1_tweet.predict(x), where x comes form the above 1) and it will provide the prediction."
   ]
  },
  {
   "cell_type": "markdown",
   "metadata": {},
   "source": [
    "INTERVAL DE CONFIANÇA RT_C1:"
   ]
  },
  {
   "cell_type": "code",
   "execution_count": null,
   "metadata": {},
   "outputs": [],
   "source": [
    "mu = ###\n",
    "sd = ###\n",
    "x = vect_RT_C2.transform(X).todense()\n",
    "pred = RT_C2_tweet.predict(x)\n",
    "\n",
    "k = seg.transform(pd.DataFrame([mu]))[0]\n",
    "\n",
    "if (pred > mu + sd*1.96) or (pred < mu - sd*1.96):\n",
    "    pred = seg.intervals[k]"
   ]
  },
  {
   "cell_type": "markdown",
   "metadata": {},
   "source": [
    "### Model RT_C2: ###"
   ]
  },
  {
   "cell_type": "code",
   "execution_count": 76,
   "metadata": {},
   "outputs": [
    {
     "name": "stdout",
     "output_type": "stream",
     "text": [
      "0 [0, 4] 0\n",
      "1 [5, 9] 2\n",
      "2 [10, 14] 9\n",
      "3 [15, 24] 35\n",
      "4 [25, 49] 125\n",
      "5 [50, 99] 150\n",
      "6 [100, 999] 731\n",
      "7 [1000, 5499] 493\n",
      "8 [5500, 9999] 96\n",
      "9 [10000, 19999] 85\n",
      "10 [20000, 29999] 27\n",
      "11 [30000, 39999] 17\n",
      "12 [40000, 49999] 10\n",
      "13 [50000, 99999999] 7\n"
     ]
    }
   ],
   "source": [
    "# Com estan distribuides les dades per els intervals creats\n",
    "for i in range(len(seg.intervals)):\n",
    "    idx = np.where(RT_C2['FC_int']==i)[0]\n",
    "    print(i, seg.intervals[i], idx.shape[0])"
   ]
  },
  {
   "cell_type": "code",
   "execution_count": 77,
   "metadata": {},
   "outputs": [],
   "source": [
    "vect_RT_C2 = CountVectorizer(min_df=0.0002, stop_words=y, strip_accents='unicode') # Tweets "
   ]
  },
  {
   "cell_type": "code",
   "execution_count": null,
   "metadata": {},
   "outputs": [],
   "source": [
    "x = RT_C2['Tweet']\n",
    "y = RT_C2['RT_int']\n",
    "\n",
    "X_train, X_test, y_train, y_test = model_selection.train_test_split(x,y,test_size=0.3,train_size=0.7,random_state=42)\n",
    "\n",
    "#Process and convert data \n",
    "X_train = vect_RT_C2.fit_transform(X_train).todense()\n",
    "y_train = y_train.values\n",
    "\n",
    "X_test = vect_RT_C2.transform(X_test).todense()\n",
    "y_test = y_test.values"
   ]
  },
  {
   "cell_type": "code",
   "execution_count": null,
   "metadata": {},
   "outputs": [],
   "source": [
    "print(X_train.shape)\n",
    "print(X_test.shape)\n",
    "\n",
    "# Percentatge número de files amb tot zeros despres de natejar la bbdd (X_train i X_test)\n",
    "print(X_train[np.where(X_train.sum(axis=1)>0)].shape[1]/X_train.shape[0])\n",
    "print(X_test[np.where(X_test.sum(axis=1)>0)].shape[1]/X_test.shape[0])"
   ]
  },
  {
   "cell_type": "code",
   "execution_count": null,
   "metadata": {},
   "outputs": [],
   "source": [
    "classifiers = [ neural_network.MLPClassifier(),\n",
    "                linear_model.LogisticRegression(),\n",
    "                KNeighborsClassifier(3),\n",
    "                SVC(kernel=\"rbf\", C=1, probability=True),\n",
    "                DecisionTreeClassifier(),\n",
    "                RandomForestClassifier(),\n",
    "                AdaBoostClassifier(),\n",
    "                GradientBoostingClassifier(),\n",
    "              ]"
   ]
  },
  {
   "cell_type": "code",
   "execution_count": null,
   "metadata": {},
   "outputs": [],
   "source": [
    "for clf in classifiers:\n",
    "\n",
    "    clf.fit(X_train,y_train)\n",
    "    name = clf.__class__.__name__\n",
    "\n",
    "    yhat = clf.predict(X_test).reshape(-1,1)\n",
    "    acc = metrics.accuracy_score(y_test, yhat)  \n",
    "    print(name, acc)\n",
    "    yhat_prob = clf.predict_proba(X_test)"
   ]
  },
  {
   "cell_type": "code",
   "execution_count": null,
   "metadata": {},
   "outputs": [],
   "source": [
    "vect_RT_C2 = CountVectorizer(min_df=0.0001, stop_words=y, strip_accents='unicode') # Tweets stop_words=y\n",
    "\n",
    "#Process and convert data \n",
    "x = vect_RT_C2.fit_transform(X).todense()\n",
    "\n",
    "# Percentatge número de files amb tot zeros despres de natejar la bbdd (X_train i X_test)\n",
    "print(x[np.where(x.sum(axis=1)>0)].shape[1]/x.shape[0])\n",
    "print(x.shape)\n",
    "\n",
    "RT_C2_tweet = AdaBoostClassifier()\n",
    "RT_C2_tweet.fit(x,Y)"
   ]
  },
  {
   "cell_type": "markdown",
   "metadata": {},
   "source": [
    "For prediction we will do the following:\n",
    "\n",
    "    1) x = vect_RT_C2.transform(X).todense(), where X is the dataframe with the tweet that will be transformed to binary.\n",
    "    \n",
    "    2) RT_C2_tweet.predict(x), where x comes form the above 1) and it will provide the prediction."
   ]
  },
  {
   "cell_type": "markdown",
   "metadata": {},
   "source": [
    "INTERVAL DE CONFIANÇA RT_C2:"
   ]
  },
  {
   "cell_type": "code",
   "execution_count": null,
   "metadata": {},
   "outputs": [],
   "source": [
    "mu = ###\n",
    "sd = ###\n",
    "x = vect_RT_C2.transform(X).todense()\n",
    "pred = RT_C2_tweet.predict(x)\n",
    "\n",
    "k = seg.transform(pd.DataFrame([mu]))[0]\n",
    "\n",
    "if (pred > mu + sd*1.96) or (pred < mu - sd*1.96):\n",
    "    pred = seg.intervals[k]"
   ]
  },
  {
   "cell_type": "code",
   "execution_count": null,
   "metadata": {},
   "outputs": [],
   "source": []
  }
 ],
 "metadata": {
  "kernelspec": {
   "display_name": "Python 3",
   "language": "python",
   "name": "python3"
  },
  "language_info": {
   "codemirror_mode": {
    "name": "ipython",
    "version": 3
   },
   "file_extension": ".py",
   "mimetype": "text/x-python",
   "name": "python",
   "nbconvert_exporter": "python",
   "pygments_lexer": "ipython3",
   "version": "3.6.5"
  }
 },
 "nbformat": 4,
 "nbformat_minor": 2
}
