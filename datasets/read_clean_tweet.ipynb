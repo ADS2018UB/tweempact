{
 "cells": [
  {
   "cell_type": "code",
   "execution_count": 32,
   "metadata": {},
   "outputs": [],
   "source": [
    "import pandas as pd\n",
    "import numpy as np\n",
    "import ast\n",
    "import nltk\n",
    "\n",
    "file = pd.read_csv(\"tweet.csv\")\n",
    "file.drop('Unnamed: 0',axis=1,inplace=True)\n",
    "file.drop('id',axis=1,inplace=True)"
   ]
  },
  {
   "cell_type": "code",
   "execution_count": 26,
   "metadata": {},
   "outputs": [
    {
     "data": {
      "text/html": [
       "<div>\n",
       "<style scoped>\n",
       "    .dataframe tbody tr th:only-of-type {\n",
       "        vertical-align: middle;\n",
       "    }\n",
       "\n",
       "    .dataframe tbody tr th {\n",
       "        vertical-align: top;\n",
       "    }\n",
       "\n",
       "    .dataframe thead th {\n",
       "        text-align: right;\n",
       "    }\n",
       "</style>\n",
       "<table border=\"1\" class=\"dataframe\">\n",
       "  <thead>\n",
       "    <tr style=\"text-align: right;\">\n",
       "      <th></th>\n",
       "      <th>Tweet</th>\n",
       "      <th>created_at</th>\n",
       "      <th>entities</th>\n",
       "      <th>FC</th>\n",
       "      <th>RT</th>\n",
       "    </tr>\n",
       "  </thead>\n",
       "  <tbody>\n",
       "    <tr>\n",
       "      <th>0</th>\n",
       "      <td>Desde el #FCJumilla damos nuestra más sincera ...</td>\n",
       "      <td>2018-09-30 15:58:44</td>\n",
       "      <td>{'hashtags': [{'text': 'FCJumilla', 'indices':...</td>\n",
       "      <td>18</td>\n",
       "      <td>4</td>\n",
       "    </tr>\n",
       "    <tr>\n",
       "      <th>1</th>\n",
       "      <td>Me estoy volviendo loca hasta por cada una de ...</td>\n",
       "      <td>2018-09-24 03:05:47</td>\n",
       "      <td>{'hashtags': [], 'symbols': [], 'user_mentions...</td>\n",
       "      <td>0</td>\n",
       "      <td>0</td>\n",
       "    </tr>\n",
       "    <tr>\n",
       "      <th>2</th>\n",
       "      <td>🏟 | El #FCJumilla ya está en La Condomina   ⚽️...</td>\n",
       "      <td>2018-09-30 15:38:18</td>\n",
       "      <td>{'hashtags': [{'text': 'FCJumilla', 'indices':...</td>\n",
       "      <td>4</td>\n",
       "      <td>2</td>\n",
       "    </tr>\n",
       "    <tr>\n",
       "      <th>3</th>\n",
       "      <td>📹 | El vestuario del #FCJumilla en La Condomin...</td>\n",
       "      <td>2018-09-30 15:19:29</td>\n",
       "      <td>{'hashtags': [{'text': 'FCJumilla', 'indices':...</td>\n",
       "      <td>21</td>\n",
       "      <td>6</td>\n",
       "    </tr>\n",
       "    <tr>\n",
       "      <th>4</th>\n",
       "      <td>📑 Jornada 6 | El colegiado andaluz Guzmán Mans...</td>\n",
       "      <td>2018-09-30 15:10:30</td>\n",
       "      <td>{'hashtags': [{'text': 'UCAMMurciaJumilla', 'i...</td>\n",
       "      <td>0</td>\n",
       "      <td>0</td>\n",
       "    </tr>\n",
       "  </tbody>\n",
       "</table>\n",
       "</div>"
      ],
      "text/plain": [
       "                                               Tweet           created_at  \\\n",
       "0  Desde el #FCJumilla damos nuestra más sincera ...  2018-09-30 15:58:44   \n",
       "1  Me estoy volviendo loca hasta por cada una de ...  2018-09-24 03:05:47   \n",
       "2  🏟 | El #FCJumilla ya está en La Condomina   ⚽️...  2018-09-30 15:38:18   \n",
       "3  📹 | El vestuario del #FCJumilla en La Condomin...  2018-09-30 15:19:29   \n",
       "4  📑 Jornada 6 | El colegiado andaluz Guzmán Mans...  2018-09-30 15:10:30   \n",
       "\n",
       "                                            entities  FC  RT  \n",
       "0  {'hashtags': [{'text': 'FCJumilla', 'indices':...  18   4  \n",
       "1  {'hashtags': [], 'symbols': [], 'user_mentions...   0   0  \n",
       "2  {'hashtags': [{'text': 'FCJumilla', 'indices':...   4   2  \n",
       "3  {'hashtags': [{'text': 'FCJumilla', 'indices':...  21   6  \n",
       "4  {'hashtags': [{'text': 'UCAMMurciaJumilla', 'i...   0   0  "
      ]
     },
     "execution_count": 26,
     "metadata": {},
     "output_type": "execute_result"
    }
   ],
   "source": [
    "file.head()"
   ]
  },
  {
   "cell_type": "code",
   "execution_count": 27,
   "metadata": {},
   "outputs": [
    {
     "data": {
      "text/plain": [
       "str"
      ]
     },
     "execution_count": 27,
     "metadata": {},
     "output_type": "execute_result"
    }
   ],
   "source": [
    "type(file['entities'][0])\n",
    "#ens quedem amb:\n",
    "#hashtags\n",
    "#user_mentions"
   ]
  },
  {
   "cell_type": "code",
   "execution_count": 28,
   "metadata": {},
   "outputs": [
    {
     "name": "stderr",
     "output_type": "stream",
     "text": [
      "/anaconda3/lib/python3.6/site-packages/ipykernel_launcher.py:6: SettingWithCopyWarning: \n",
      "A value is trying to be set on a copy of a slice from a DataFrame\n",
      "\n",
      "See the caveats in the documentation: http://pandas.pydata.org/pandas-docs/stable/indexing.html#indexing-view-versus-copy\n",
      "  \n",
      "/anaconda3/lib/python3.6/site-packages/ipykernel_launcher.py:7: SettingWithCopyWarning: \n",
      "A value is trying to be set on a copy of a slice from a DataFrame\n",
      "\n",
      "See the caveats in the documentation: http://pandas.pydata.org/pandas-docs/stable/indexing.html#indexing-view-versus-copy\n",
      "  import sys\n",
      "/anaconda3/lib/python3.6/site-packages/pandas/core/indexing.py:189: SettingWithCopyWarning: \n",
      "A value is trying to be set on a copy of a slice from a DataFrame\n",
      "\n",
      "See the caveats in the documentation: http://pandas.pydata.org/pandas-docs/stable/indexing.html#indexing-view-versus-copy\n",
      "  self._setitem_with_indexer(indexer, value)\n",
      "/anaconda3/lib/python3.6/site-packages/ipykernel_launcher.py:8: SettingWithCopyWarning: \n",
      "A value is trying to be set on a copy of a slice from a DataFrame\n",
      "\n",
      "See the caveats in the documentation: http://pandas.pydata.org/pandas-docs/stable/indexing.html#indexing-view-versus-copy\n",
      "  \n"
     ]
    }
   ],
   "source": [
    "numl = len(file.index.values)\n",
    "file['hashtags']=np.zeros(numl)\n",
    "file['user_mentions']=np.zeros(numl)\n",
    "\n",
    "for line in range(numl):\n",
    "    file['entities'][line] =ast.literal_eval(file['entities'][line])\n",
    "    file['hashtags'][line] = file['entities'][line]['hashtags']  \n",
    "    file['user_mentions'][line] = file['entities'][line]['user_mentions']"
   ]
  },
  {
   "cell_type": "code",
   "execution_count": 30,
   "metadata": {},
   "outputs": [],
   "source": [
    "file.drop('entities',axis=1,inplace=True)"
   ]
  },
  {
   "cell_type": "code",
   "execution_count": 31,
   "metadata": {},
   "outputs": [
    {
     "data": {
      "text/html": [
       "<div>\n",
       "<style scoped>\n",
       "    .dataframe tbody tr th:only-of-type {\n",
       "        vertical-align: middle;\n",
       "    }\n",
       "\n",
       "    .dataframe tbody tr th {\n",
       "        vertical-align: top;\n",
       "    }\n",
       "\n",
       "    .dataframe thead th {\n",
       "        text-align: right;\n",
       "    }\n",
       "</style>\n",
       "<table border=\"1\" class=\"dataframe\">\n",
       "  <thead>\n",
       "    <tr style=\"text-align: right;\">\n",
       "      <th></th>\n",
       "      <th>Tweet</th>\n",
       "      <th>created_at</th>\n",
       "      <th>FC</th>\n",
       "      <th>RT</th>\n",
       "      <th>hashtags</th>\n",
       "      <th>user_mentions</th>\n",
       "    </tr>\n",
       "  </thead>\n",
       "  <tbody>\n",
       "    <tr>\n",
       "      <th>0</th>\n",
       "      <td>Desde el #FCJumilla damos nuestra más sincera ...</td>\n",
       "      <td>2018-09-30 15:58:44</td>\n",
       "      <td>18</td>\n",
       "      <td>4</td>\n",
       "      <td>[{'text': 'FCJumilla', 'indices': [9, 19]}]</td>\n",
       "      <td>[{'screen_name': 'alejanvalverde', 'name': 'al...</td>\n",
       "    </tr>\n",
       "    <tr>\n",
       "      <th>1</th>\n",
       "      <td>Me estoy volviendo loca hasta por cada una de ...</td>\n",
       "      <td>2018-09-24 03:05:47</td>\n",
       "      <td>0</td>\n",
       "      <td>0</td>\n",
       "      <td>[]</td>\n",
       "      <td>[]</td>\n",
       "    </tr>\n",
       "    <tr>\n",
       "      <th>2</th>\n",
       "      <td>🏟 | El #FCJumilla ya está en La Condomina   ⚽️...</td>\n",
       "      <td>2018-09-30 15:38:18</td>\n",
       "      <td>4</td>\n",
       "      <td>2</td>\n",
       "      <td>[{'text': 'FCJumilla', 'indices': [7, 17]}, {'...</td>\n",
       "      <td>[]</td>\n",
       "    </tr>\n",
       "    <tr>\n",
       "      <th>3</th>\n",
       "      <td>📹 | El vestuario del #FCJumilla en La Condomin...</td>\n",
       "      <td>2018-09-30 15:19:29</td>\n",
       "      <td>21</td>\n",
       "      <td>6</td>\n",
       "      <td>[{'text': 'FCJumilla', 'indices': [21, 31]}]</td>\n",
       "      <td>[{'screen_name': 'Pedrocc57C', 'name': 'Utille...</td>\n",
       "    </tr>\n",
       "    <tr>\n",
       "      <th>4</th>\n",
       "      <td>📑 Jornada 6 | El colegiado andaluz Guzmán Mans...</td>\n",
       "      <td>2018-09-30 15:10:30</td>\n",
       "      <td>0</td>\n",
       "      <td>0</td>\n",
       "      <td>[{'text': 'UCAMMurciaJumilla', 'indices': [64,...</td>\n",
       "      <td>[]</td>\n",
       "    </tr>\n",
       "  </tbody>\n",
       "</table>\n",
       "</div>"
      ],
      "text/plain": [
       "                                               Tweet           created_at  FC  \\\n",
       "0  Desde el #FCJumilla damos nuestra más sincera ...  2018-09-30 15:58:44  18   \n",
       "1  Me estoy volviendo loca hasta por cada una de ...  2018-09-24 03:05:47   0   \n",
       "2  🏟 | El #FCJumilla ya está en La Condomina   ⚽️...  2018-09-30 15:38:18   4   \n",
       "3  📹 | El vestuario del #FCJumilla en La Condomin...  2018-09-30 15:19:29  21   \n",
       "4  📑 Jornada 6 | El colegiado andaluz Guzmán Mans...  2018-09-30 15:10:30   0   \n",
       "\n",
       "   RT                                           hashtags  \\\n",
       "0   4        [{'text': 'FCJumilla', 'indices': [9, 19]}]   \n",
       "1   0                                                 []   \n",
       "2   2  [{'text': 'FCJumilla', 'indices': [7, 17]}, {'...   \n",
       "3   6       [{'text': 'FCJumilla', 'indices': [21, 31]}]   \n",
       "4   0  [{'text': 'UCAMMurciaJumilla', 'indices': [64,...   \n",
       "\n",
       "                                       user_mentions  \n",
       "0  [{'screen_name': 'alejanvalverde', 'name': 'al...  \n",
       "1                                                 []  \n",
       "2                                                 []  \n",
       "3  [{'screen_name': 'Pedrocc57C', 'name': 'Utille...  \n",
       "4                                                 []  "
      ]
     },
     "execution_count": 31,
     "metadata": {},
     "output_type": "execute_result"
    }
   ],
   "source": [
    "file.head()"
   ]
  },
  {
   "cell_type": "code",
   "execution_count": 33,
   "metadata": {},
   "outputs": [
    {
     "name": "stdout",
     "output_type": "stream",
     "text": [
      "[nltk_data] Downloading package punkt to\n",
      "[nltk_data]     /Users/eliaficapalvila/nltk_data...\n",
      "[nltk_data]   Package punkt is already up-to-date!\n"
     ]
    },
    {
     "data": {
      "text/plain": [
       "True"
      ]
     },
     "execution_count": 33,
     "metadata": {},
     "output_type": "execute_result"
    }
   ],
   "source": [
    "#####TWEET\n",
    "nltk.download('punkt')"
   ]
  },
  {
   "cell_type": "code",
   "execution_count": 34,
   "metadata": {},
   "outputs": [],
   "source": [
    "#Text preprocessing\n",
    "from nltk.tokenize import word_tokenize\n",
    "from stop_words import get_stop_words"
   ]
  }
 ],
 "metadata": {
  "kernelspec": {
   "display_name": "Python 3",
   "language": "python",
   "name": "python3"
  },
  "language_info": {
   "codemirror_mode": {
    "name": "ipython",
    "version": 3
   },
   "file_extension": ".py",
   "mimetype": "text/x-python",
   "name": "python",
   "nbconvert_exporter": "python",
   "pygments_lexer": "ipython3",
   "version": "3.6.5"
  }
 },
 "nbformat": 4,
 "nbformat_minor": 2
}
