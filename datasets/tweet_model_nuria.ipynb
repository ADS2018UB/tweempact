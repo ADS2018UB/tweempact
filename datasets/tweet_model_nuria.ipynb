{
 "cells": [
  {
   "cell_type": "code",
   "execution_count": 46,
   "metadata": {},
   "outputs": [],
   "source": [
    "import pandas as pd\n",
    "import numpy as np\n",
    "import matplotlib.pyplot as plt\n",
    "\n",
    "from sklearn import model_selection, linear_model, ensemble, svm, tree, metrics, grid_search\n",
    "from sklearn.ensemble import RandomForestClassifier\n",
    "from sklearn.preprocessing import StandardScaler\n",
    "from sklearn.naive_bayes import BernoulliNB\n",
    "from sklearn.naive_bayes import GaussianNB\n",
    "from sklearn import neighbors\n",
    "from sklearn.ensemble import ExtraTreesClassifier\n",
    "from sklearn.ensemble import AdaBoostClassifier\n",
    "from sklearn.ensemble import GradientBoostingClassifier\n",
    "from sklearn.ensemble import GradientBoostingRegressor\n",
    "from sklearn.cluster import KMeans\n",
    "from sklearn.neural_network import MLPClassifier"
   ]
  },
  {
   "cell_type": "code",
   "execution_count": 183,
   "metadata": {},
   "outputs": [],
   "source": [
    "X = pd.read_csv(\"X_tweet_nuria.csv\")\n",
    "y_fc = pd.read_csv(\"y_fc_tweet_nuria.csv\", header = None)\n",
    "y_rt = pd.read_csv(\"y_rt_tweet_nuria.csv\", header = None)"
   ]
  },
  {
   "cell_type": "code",
   "execution_count": 184,
   "metadata": {},
   "outputs": [],
   "source": [
    "y_fc = np.array(y_fc)\n",
    "y_rt = np.array(y_rt)\n",
    "X = np.array(X)"
   ]
  },
  {
   "cell_type": "code",
   "execution_count": 185,
   "metadata": {},
   "outputs": [
    {
     "name": "stdout",
     "output_type": "stream",
     "text": [
      "[18  0  4 ...  6 11  0]\n",
      "[4 0 2 ... 1 1 0]\n"
     ]
    }
   ],
   "source": [
    "y_fc = np.concatenate(y_fc)\n",
    "y_rt = np.concatenate(y_rt)\n",
    "print(y_fc)\n",
    "print(y_rt)"
   ]
  },
  {
   "cell_type": "code",
   "execution_count": 186,
   "metadata": {},
   "outputs": [],
   "source": [
    "class segmenta():\n",
    "    \n",
    "    def __init__(self):\n",
    "        self.intervals = {}\n",
    "    \n",
    "    def transform(self,y):\n",
    "        k, z = 0, 0\n",
    "        for a, b in [[20,1],\n",
    "                     [100,10],\n",
    "                     [500,100],\n",
    "                     [1000,500]]: \n",
    "            for i in np.arange(z,a,b):\n",
    "                self.intervals[k] = [i,i+b-1]\n",
    "                k+=1\n",
    "            z = a\n",
    "        self.intervals[k] = [1000,99999999]\n",
    "\n",
    "        y = np.reshape(y.values, (-1,1))\n",
    "        for j in self.intervals:\n",
    "            c = self.intervals[j]\n",
    "            idx = np.where(np.logical_and(y>=c[0],y<=c[1]))[0]\n",
    "            y[idx] = j\n",
    "        return y"
   ]
  },
  {
   "cell_type": "code",
   "execution_count": 187,
   "metadata": {},
   "outputs": [],
   "source": [
    "seg = segmenta()\n",
    "y_fc = seg.transform(pd.DataFrame(y_fc))\n",
    "y_rt = seg.transform(pd.DataFrame(y_rt))"
   ]
  },
  {
   "cell_type": "code",
   "execution_count": 188,
   "metadata": {},
   "outputs": [
    {
     "name": "stdout",
     "output_type": "stream",
     "text": [
      "18\n"
     ]
    },
    {
     "data": {
      "text/plain": [
       "[18, 18]"
      ]
     },
     "execution_count": 188,
     "metadata": {},
     "output_type": "execute_result"
    }
   ],
   "source": [
    "y_fc = y_fc.T[0]\n",
    "y_rt = y_rt.T[0]\n",
    "print(y_fc[0])\n",
    "seg.intervals[y_fc[0]]"
   ]
  },
  {
   "cell_type": "code",
   "execution_count": 189,
   "metadata": {},
   "outputs": [
    {
     "name": "stdout",
     "output_type": "stream",
     "text": [
      "[0, 0]\n",
      "34\n",
      "{0: [0, 0], 1: [1, 1], 2: [2, 2], 3: [3, 3], 4: [4, 4], 5: [5, 5], 6: [6, 6], 7: [7, 7], 8: [8, 8], 9: [9, 9], 10: [10, 10], 11: [11, 11], 12: [12, 12], 13: [13, 13], 14: [14, 14], 15: [15, 15], 16: [16, 16], 17: [17, 17], 18: [18, 18], 19: [19, 19], 20: [20, 29], 21: [30, 39], 22: [40, 49], 23: [50, 59], 24: [60, 69], 25: [70, 79], 26: [80, 89], 27: [90, 99], 28: [100, 199], 29: [200, 299], 30: [300, 399], 31: [400, 499], 32: [500, 999], 33: [1000, 99999999]}\n",
      "[18  0  4 ...  6 11  0]\n",
      "[2058 1004  397  186  114   79   55   38   31   28   26   21   18   17\n",
      "    9    7   10    9    4    5   37   21   22   14    6    2    5    6\n",
      "   20    9    6    4   11   10]\n"
     ]
    },
    {
     "data": {
      "image/png": "[encoded data removed]",
      "text/plain": [
       "<Figure size 432x288 with 1 Axes>"
      ]
     },
     "metadata": {},
     "output_type": "display_data"
    }
   ],
   "source": [
    "# Calculem els pesos\n",
    "## Necessitem la frequencia de cada interval\n",
    "i = 0\n",
    "print(seg.intervals[i])\n",
    "print(len(seg.intervals))\n",
    "print(seg.intervals)\n",
    "print(y_fc)\n",
    "\n",
    "hist, bin_edges = np.histogram(y_fc, len(seg.intervals))\n",
    "print(hist)\n",
    "plt.hist(y_fc, bins=bin_edges)\n",
    "plt.show()"
   ]
  },
  {
   "cell_type": "code",
   "execution_count": 190,
   "metadata": {},
   "outputs": [
    {
     "name": "stdout",
     "output_type": "stream",
     "text": [
      "[[0.000e+00 0.000e+00 0.000e+00 ... 7.162e+03 0.000e+00 1.000e+00]\n",
      " [1.000e+00 1.000e+00 0.000e+00 ... 5.310e+02 0.000e+00 1.000e+00]\n",
      " [2.000e+00 2.000e+00 0.000e+00 ... 7.162e+03 0.000e+00 1.000e+00]\n",
      " ...\n",
      " [4.286e+03 4.286e+03 0.000e+00 ... 2.040e+02 0.000e+00 1.000e+00]\n",
      " [4.287e+03 4.287e+03 0.000e+00 ... 2.040e+02 0.000e+00 1.000e+00]\n",
      " [4.288e+03 4.288e+03 0.000e+00 ... 1.970e+02 0.000e+00 1.000e+00]]\n"
     ]
    }
   ],
   "source": [
    "X = np.c_[np.arange(0,X.shape[0],1), X, np.ones(X.shape[0])]\n",
    "print(X)"
   ]
  },
  {
   "cell_type": "code",
   "execution_count": 215,
   "metadata": {},
   "outputs": [
    {
     "name": "stdout",
     "output_type": "stream",
     "text": [
      "[[0.000e+00 0.000e+00 0.000e+00 ... 7.162e+03 0.000e+00 1.000e+01]\n",
      " [1.000e+00 1.000e+00 0.000e+00 ... 5.310e+02 0.000e+00 1.000e+00]\n",
      " [2.000e+00 2.000e+00 0.000e+00 ... 7.162e+03 0.000e+00 1.000e+00]\n",
      " ...\n",
      " [4.286e+03 4.286e+03 0.000e+00 ... 2.040e+02 0.000e+00 4.000e+00]\n",
      " [4.287e+03 4.287e+03 0.000e+00 ... 2.040e+02 0.000e+00 4.000e+00]\n",
      " [4.288e+03 4.288e+03 0.000e+00 ... 1.970e+02 0.000e+00 1.000e+00]]\n",
      "[10.  1.  1. ...  4.  4.  1.]\n",
      "(4289, 3973)\n",
      "         0\n",
      "0     10.0\n",
      "1      1.0\n",
      "2      1.0\n",
      "3     10.0\n",
      "4      1.0\n",
      "5      4.0\n",
      "6      1.0\n",
      "7      1.0\n",
      "8      1.0\n",
      "9      1.0\n",
      "10     4.0\n",
      "11     1.0\n",
      "12     1.0\n",
      "13     4.0\n",
      "14     4.0\n",
      "15     1.0\n",
      "16     4.0\n",
      "17     1.0\n",
      "18     1.0\n",
      "19     4.0\n",
      "20     4.0\n",
      "21     1.0\n",
      "22     1.0\n",
      "23     1.0\n",
      "24     1.0\n",
      "25     1.0\n",
      "26     1.0\n",
      "27     1.0\n",
      "28     1.0\n",
      "29     1.0\n",
      "...    ...\n",
      "4259   1.0\n",
      "4260   1.0\n",
      "4261   1.0\n",
      "4262   1.0\n",
      "4263   1.0\n",
      "4264   1.0\n",
      "4265   1.0\n",
      "4266   1.0\n",
      "4267   1.0\n",
      "4268   1.0\n",
      "4269   1.0\n",
      "4270   1.0\n",
      "4271   1.0\n",
      "4272   1.0\n",
      "4273   1.0\n",
      "4274   1.0\n",
      "4275   1.0\n",
      "4276   1.0\n",
      "4277   1.0\n",
      "4278   1.0\n",
      "4279   1.0\n",
      "4280   1.0\n",
      "4281   1.0\n",
      "4282   1.0\n",
      "4283   1.0\n",
      "4284   1.0\n",
      "4285   4.0\n",
      "4286   4.0\n",
      "4287   4.0\n",
      "4288   1.0\n",
      "\n",
      "[4289 rows x 1 columns]\n",
      "                 0\n",
      "count  4289.000000\n",
      "mean      1.619025\n",
      "std       2.051090\n",
      "min       1.000000\n",
      "25%       1.000000\n",
      "50%       1.000000\n",
      "75%       1.000000\n",
      "max      10.000000\n"
     ]
    },
    {
     "data": {
      "text/plain": [
       "(array([   0,    3,   93,  137,  149,  161,  213,  251,  255,  266,  310,\n",
       "         339,  354,  360,  438,  457,  503,  504,  513,  515,  519,  521,\n",
       "         561,  684,  686,  687,  697,  847,  850,  889,  890,  891,  892,\n",
       "         967,  988, 1090, 1091, 1092, 1093, 1094, 1095, 1096, 1097, 1098,\n",
       "        1099, 1100, 1101, 1127, 1189, 1275, 1325, 1343, 1344, 1345, 1346,\n",
       "        1347, 1348, 1349, 1350, 1351, 1352, 1353, 1354, 1355, 1356, 1357,\n",
       "        1358, 1359, 1360, 1361, 1362, 1363, 1364, 1365, 1366, 1379, 1386,\n",
       "        1549, 1584, 1671, 1738, 1831, 2000, 2050, 2051, 2113, 2120, 2194,\n",
       "        2196, 2213, 2245, 2318, 2403, 2404, 2405, 2407, 2408, 2411, 2412,\n",
       "        2413, 2649, 2665, 2669, 2672, 2700, 2822, 2825, 2846, 2883, 2886,\n",
       "        2935, 3164, 3172, 3173, 3177, 3181, 3185, 3186, 3274, 3281, 3285,\n",
       "        3286, 3289, 3290, 3292, 3293, 3294, 3295, 3296, 3298, 3300, 3304,\n",
       "        3310, 3311, 3312, 3313, 3314, 3315, 3316, 3317, 3318, 3319, 3320,\n",
       "        3321, 3322, 3323, 3324, 3325, 3326, 3327, 3328, 3329, 3330, 3332,\n",
       "        3413, 3414, 3415, 3416, 3417, 3418, 3419, 3420, 3421, 3422, 3423,\n",
       "        3424, 3425, 3427, 3428, 3429, 3431, 3432, 3433, 3434, 3435, 3436,\n",
       "        3437, 3569, 3577, 3620, 3630, 3764, 3765, 3766, 3767, 3769, 3770,\n",
       "        3771, 3772, 3778, 3779, 3782, 3783, 3784, 3835, 3942, 3945, 3947,\n",
       "        3987, 3990, 3996, 3999, 4032, 4035, 4060, 4068, 4074, 4081, 4089,\n",
       "        4091, 4097, 4098, 4108, 4126, 4192, 4195, 4230], dtype=int64),)"
      ]
     },
     "execution_count": 215,
     "metadata": {},
     "output_type": "execute_result"
    }
   ],
   "source": [
    "for j in np.arange(14,34,1):\n",
    "    X[:, X.shape[1]-1] = np.where(y_fc == j, 10, X[:, X.shape[1]-1])\n",
    "for j in np.arange(6,14,1):\n",
    "    X[:, X.shape[1]-1] = np.where(y_fc == j, 4, X[:, X.shape[1]-1])\n",
    "#for j in np.arange(0,3,1):\n",
    "    #X[:, X.shape[1]-1] = np.where((y_fc == j), 0, X[:, X.shape[1]-1])\n",
    "    #X[np.where(y_fc == j)][101:X[np.where(y_fc == 0)].shape[0], X.shape[1]-1] = 0\n",
    "print(X)\n",
    "print(X[:, X.shape[1]-1])\n",
    "print(X.shape)\n",
    "print(pd.DataFrame(X[:, X.shape[1]-1]))\n",
    "print((pd.DataFrame(X[:, X.shape[1]-1])).describe())\n",
    "np.where(X[:, X.shape[1]-1] > 5)"
   ]
  },
  {
   "cell_type": "code",
   "execution_count": 218,
   "metadata": {},
   "outputs": [
    {
     "ename": "TypeError",
     "evalue": "cannot convert the series to <class 'int'>",
     "output_type": "error",
     "traceback": [
      "\u001b[1;31m---------------------------------------------------------------------------\u001b[0m",
      "\u001b[1;31mTypeError\u001b[0m                                 Traceback (most recent call last)",
      "\u001b[1;32m<ipython-input-218-f13aa3369cd0>\u001b[0m in \u001b[0;36m<module>\u001b[1;34m()\u001b[0m\n\u001b[0;32m      1\u001b[0m \u001b[0mX\u001b[0m \u001b[1;33m=\u001b[0m \u001b[0mpd\u001b[0m\u001b[1;33m.\u001b[0m\u001b[0mDataFrame\u001b[0m\u001b[1;33m(\u001b[0m\u001b[0mX\u001b[0m\u001b[1;33m)\u001b[0m\u001b[1;33m\u001b[0m\u001b[0m\n\u001b[1;32m----> 2\u001b[1;33m \u001b[0mX\u001b[0m\u001b[1;33m[\u001b[0m\u001b[0mX\u001b[0m\u001b[1;33m.\u001b[0m\u001b[0mshape\u001b[0m\u001b[1;33m[\u001b[0m\u001b[1;36m1\u001b[0m\u001b[1;33m]\u001b[0m\u001b[1;33m-\u001b[0m\u001b[1;36m1\u001b[0m\u001b[1;33m]\u001b[0m \u001b[1;33m=\u001b[0m \u001b[0mint\u001b[0m\u001b[1;33m(\u001b[0m\u001b[0mX\u001b[0m\u001b[1;33m[\u001b[0m\u001b[0mX\u001b[0m\u001b[1;33m.\u001b[0m\u001b[0mshape\u001b[0m\u001b[1;33m[\u001b[0m\u001b[1;36m1\u001b[0m\u001b[1;33m]\u001b[0m\u001b[1;33m-\u001b[0m\u001b[1;36m1\u001b[0m\u001b[1;33m]\u001b[0m\u001b[1;33m)\u001b[0m\u001b[1;33m\u001b[0m\u001b[0m\n\u001b[0m\u001b[0;32m      3\u001b[0m \u001b[1;32mfor\u001b[0m \u001b[0mi\u001b[0m \u001b[1;32min\u001b[0m \u001b[0mrange\u001b[0m\u001b[1;33m(\u001b[0m\u001b[1;36m1\u001b[0m\u001b[1;33m,\u001b[0m\u001b[0mX\u001b[0m\u001b[1;33m.\u001b[0m\u001b[0mshape\u001b[0m\u001b[1;33m[\u001b[0m\u001b[1;36m1\u001b[0m\u001b[1;33m]\u001b[0m\u001b[1;33m)\u001b[0m\u001b[1;33m:\u001b[0m\u001b[1;33m\u001b[0m\u001b[0m\n\u001b[0;32m      4\u001b[0m         \u001b[0mz\u001b[0m \u001b[1;33m=\u001b[0m \u001b[0mX\u001b[0m\u001b[1;33m.\u001b[0m\u001b[0mset_index\u001b[0m\u001b[1;33m(\u001b[0m\u001b[1;33m[\u001b[0m\u001b[1;36m0\u001b[0m\u001b[1;33m]\u001b[0m\u001b[1;33m)\u001b[0m\u001b[1;33m[\u001b[0m\u001b[0mi\u001b[0m\u001b[1;33m]\u001b[0m\u001b[1;33m.\u001b[0m\u001b[0mrepeat\u001b[0m\u001b[1;33m(\u001b[0m\u001b[0mX\u001b[0m\u001b[1;33m[\u001b[0m\u001b[0mX\u001b[0m\u001b[1;33m.\u001b[0m\u001b[0mshape\u001b[0m\u001b[1;33m[\u001b[0m\u001b[1;36m1\u001b[0m\u001b[1;33m]\u001b[0m\u001b[1;33m-\u001b[0m\u001b[1;36m1\u001b[0m\u001b[1;33m]\u001b[0m\u001b[1;33m)\u001b[0m\u001b[1;33m.\u001b[0m\u001b[0mreset_index\u001b[0m\u001b[1;33m(\u001b[0m\u001b[1;33m)\u001b[0m\u001b[1;33m\u001b[0m\u001b[0m\n\u001b[0;32m      5\u001b[0m         \u001b[0mprint\u001b[0m\u001b[1;33m(\u001b[0m\u001b[0mz\u001b[0m\u001b[1;33m.\u001b[0m\u001b[0miloc\u001b[0m\u001b[1;33m[\u001b[0m\u001b[1;33m:\u001b[0m\u001b[1;33m,\u001b[0m\u001b[1;36m1\u001b[0m\u001b[1;33m]\u001b[0m\u001b[1;33m.\u001b[0m\u001b[0mvalues\u001b[0m\u001b[1;33m)\u001b[0m\u001b[1;33m\u001b[0m\u001b[0m\n",
      "\u001b[1;32m~\\Anaconda3\\lib\\site-packages\\pandas\\core\\series.py\u001b[0m in \u001b[0;36mwrapper\u001b[1;34m(self)\u001b[0m\n\u001b[0;32m    115\u001b[0m             \u001b[1;32mreturn\u001b[0m \u001b[0mconverter\u001b[0m\u001b[1;33m(\u001b[0m\u001b[0mself\u001b[0m\u001b[1;33m.\u001b[0m\u001b[0miloc\u001b[0m\u001b[1;33m[\u001b[0m\u001b[1;36m0\u001b[0m\u001b[1;33m]\u001b[0m\u001b[1;33m)\u001b[0m\u001b[1;33m\u001b[0m\u001b[0m\n\u001b[0;32m    116\u001b[0m         raise TypeError(\"cannot convert the series to \"\n\u001b[1;32m--> 117\u001b[1;33m                         \"{0}\".format(str(converter)))\n\u001b[0m\u001b[0;32m    118\u001b[0m \u001b[1;33m\u001b[0m\u001b[0m\n\u001b[0;32m    119\u001b[0m     \u001b[1;32mreturn\u001b[0m \u001b[0mwrapper\u001b[0m\u001b[1;33m\u001b[0m\u001b[0m\n",
      "\u001b[1;31mTypeError\u001b[0m: cannot convert the series to <class 'int'>"
     ]
    }
   ],
   "source": [
    "X = pd.DataFrame(X)\n",
    "#X[X.shape[1]-1] = int(X[X.shape[1]-1])\n",
    "for i in range(1,X.shape[1]):\n",
    "        z = X.set_index([0])[i].repeat(X[X.shape[1]-1].astype(int)).reset_index()\n",
    "        print(z.iloc[:,1].values)\n",
    "        if i == 1:\n",
    "            x_final = z.iloc[:,1].values\n",
    "        else:\n",
    "            x_final = np.c_[x_final, z.iloc[:,1].values]\n",
    "print(x_final)"
   ]
  },
  {
   "cell_type": "code",
   "execution_count": 208,
   "metadata": {},
   "outputs": [
    {
     "name": "stdout",
     "output_type": "stream",
     "text": [
      "[[ 1  1  1]\n",
      " [ 0 -1  1]\n",
      " [ 4  4  4]]\n",
      "(array([0, 2], dtype=int64),)\n",
      "[[ 1  0  1]\n",
      " [ 0 -1  1]\n",
      " [ 4  0  4]]\n"
     ]
    }
   ],
   "source": [
    "x = np.array([[1,1,1], [0,-1,1], [4,4,4]])\n",
    "print(x)\n",
    "print(np.where(x[:,1]>0))\n",
    "x[:, 1] = np.where(x[:,1]>0, 0, x[:,1])\n",
    "print(x)\n",
    "#df['Lista'] = np.where(df['Lista'], 'presente', 'falta')"
   ]
  },
  {
   "cell_type": "code",
   "execution_count": 158,
   "metadata": {},
   "outputs": [
    {
     "name": "stdout",
     "output_type": "stream",
     "text": [
      "x= [[ 0  1  1  1  2]\n",
      " [ 1  0 -1  1  1]\n",
      " [ 2  4  4  4  4]]\n",
      "[1 1 0 4 4 4 4]\n",
      "[ 1  1 -1  4  4  4  4]\n",
      "[1 1 1 4 4 4 4]\n",
      "[2 2 1 4 4 4 4]\n",
      "[[ 1  1  1  2]\n",
      " [ 1  1  1  2]\n",
      " [ 0 -1  1  1]\n",
      " [ 4  4  4  4]\n",
      " [ 4  4  4  4]\n",
      " [ 4  4  4  4]\n",
      " [ 4  4  4  4]]\n"
     ]
    }
   ],
   "source": [
    "# set_index y repeat\n",
    "x = np.array([[1,1,1], [0,-1,1], [4,4,4]])\n",
    "x = np.c_[np.arange(0,x.shape[0],1),x, np.array([2,1,4])]\n",
    "#x = np.c_[np.arange(0,x.shape[0],1), x]\n",
    "print('x=', x)\n",
    "x = pd.DataFrame(x)\n",
    "for i in range(1,x.shape[1]):\n",
    "    z = x.set_index([0])[i].repeat(x[4]).reset_index()\n",
    "    print(z.iloc[:,1].values)\n",
    "    if i == 1:\n",
    "        x_final = z.iloc[:,1].values\n",
    "    else:\n",
    "        x_final = np.c_[x_final, z.iloc[:,1].values]\n",
    "print(x_final)"
   ]
  },
  {
   "cell_type": "code",
   "execution_count": 8,
   "metadata": {},
   "outputs": [],
   "source": [
    "cv = model_selection.KFold(n_splits = 5, shuffle=True, random_state=42)\n",
    "cv.get_n_splits(X)\n",
    "\n",
    "\n",
    "acc_rt = np.zeros((10,6))\n",
    "acc_fc = np.zeros((10,1))\n",
    "\n",
    "# Models que millors resultats donen son els seguents:\n",
    "nn10 = neighbors.KNeighborsClassifier(n_neighbors=10) #rt\n",
    "#nn10 = model_selection.GridSearchCV(nn10, parameters, scoring='precision_macro')\n",
    "nn12 = neighbors.KNeighborsClassifier(n_neighbors=12) #rt\n",
    "#nn12 = model_selection.GridSearchCV(nn12, parameters, scoring='precision_macro')\n",
    "abc100 = AdaBoostClassifier(n_estimators=100)  #rt i fc\n",
    "#abc100 = model_selection.GridSearchCV(abc100, parameters, scoring='precision_macro')\n",
    "\n",
    "#Afegim tambe:\n",
    "nn9 = neighbors.KNeighborsClassifier(n_neighbors=9) #rt\n",
    "#nn9 = model_selection.GridSearchCV(nn9, parameters, scoring='precision_macro')\n",
    "nn11 = neighbors.KNeighborsClassifier(n_neighbors=11) #rt\n",
    "#nn11 = model_selection.GridSearchCV(nn11, parameters, scoring='precision_macro')\n",
    "nn13 = neighbors.KNeighborsClassifier(n_neighbors=13) #rt\n",
    "#nn13 = model_selection.GridSearchCV(nn13, parameters, scoring='precision_macro')"
   ]
  },
  {
   "cell_type": "code",
   "execution_count": 9,
   "metadata": {},
   "outputs": [
    {
     "name": "stdout",
     "output_type": "stream",
     "text": [
      "[[0.5034965  0.5034965 ]\n",
      " [0.46386946 0.46386946]\n",
      " [0.45454545 0.45454545]\n",
      " [0.5011655  0.5011655 ]\n",
      " [0.46853147 0.47086247]\n",
      " [0.45687646 0.45454545]\n",
      " [0.48717949 0.48951049]\n",
      " [0.5011655  0.5011655 ]\n",
      " [0.46153846 0.46153846]\n",
      " [0.49299065 0.49299065]]\n"
     ]
    },
    {
     "data": {
      "image/png": "[encoded data removed]",
      "text/plain": [
       "<Figure size 432x288 with 1 Axes>"
      ]
     },
     "metadata": {},
     "output_type": "display_data"
    }
   ],
   "source": [
    "i = 0\n",
    "for train_idx, test_idx in cv.split(X):\n",
    "    X_train,y_train = X[train_idx,:],y_fc[train_idx]\n",
    "    X_test,y_test = X[test_idx,:],y_fc[test_idx]\n",
    "    \n",
    "    scaler = StandardScaler()\n",
    "    X_train_scaled=scaler.fit_transform(X_train)\n",
    "    X_test_scaled = scaler.transform(X_test)\n",
    "    \n",
    "    #abc100\n",
    "    abc100.fit(X_train_scaled,y_train)\n",
    "    yhat_abc100 = abc100.predict(X_test_scaled).reshape(-1,1)\n",
    "    acc_fc[i,0] = metrics.accuracy_score(y_test,yhat_abc100)\n",
    "\n",
    "\n",
    "    i = i+1\n",
    "    \n",
    "fig = plt.figure()\n",
    "plt.boxplot(acc_fc)\n",
    "print(acc_fc)"
   ]
  },
  {
   "cell_type": "code",
   "execution_count": 11,
   "metadata": {},
   "outputs": [
    {
     "name": "stdout",
     "output_type": "stream",
     "text": [
      "[[0.78787879 0.78787879 0.78787879 0.78787879 0.78787879 0.78787879\n",
      "  0.78321678]\n",
      " [0.78554779 0.78321678 0.78321678 0.78321678 0.78321678 0.78321678\n",
      "  0.78321678]\n",
      " [0.79254079 0.79254079 0.79254079 0.79254079 0.79254079 0.79254079\n",
      "  0.79254079]\n",
      " [0.78088578 0.78088578 0.78088578 0.78088578 0.78088578 0.78088578\n",
      "  0.78088578]\n",
      " [0.76923077 0.76689977 0.76689977 0.76689977 0.76689977 0.76689977\n",
      "  0.76689977]\n",
      " [0.75990676 0.75990676 0.75990676 0.75990676 0.75990676 0.75757576\n",
      "  0.75990676]\n",
      " [0.79254079 0.79254079 0.79254079 0.79254079 0.79254079 0.79487179\n",
      "  0.79254079]\n",
      " [0.7995338  0.7995338  0.7995338  0.7995338  0.7995338  0.7972028\n",
      "  0.7972028 ]\n",
      " [0.79487179 0.79254079 0.79487179 0.79487179 0.79487179 0.79254079\n",
      "  0.79254079]\n",
      " [0.77570093 0.77570093 0.77570093 0.77570093 0.77570093 0.77336449\n",
      "  0.77336449]]\n"
     ]
    },
    {
     "data": {
      "image/png": "[encoded data removed]",
      "text/plain": [
       "<Figure size 432x288 with 1 Axes>"
      ]
     },
     "metadata": {},
     "output_type": "display_data"
    }
   ],
   "source": [
    "i = 0\n",
    "for train_idx, test_idx in cv.split(X):\n",
    "    X_train,y_train = X[train_idx,:],y_rt[train_idx]\n",
    "    X_test,y_test = X[test_idx,:],y_rt[test_idx]\n",
    "    \n",
    "    scaler = StandardScaler()\n",
    "    X_train_scaled=scaler.fit_transform(X_train)\n",
    "    \n",
    "    nn9.fit(X_train_scaled,y_train)\n",
    "    nn10.fit(X_train_scaled,y_train)\n",
    "    nn11.fit(X_train_scaled,y_train)\n",
    "    nn12.fit(X_train_scaled,y_train)\n",
    "    nn13.fit(X_train_scaled,y_train)\n",
    "    abc100.fit(X_train_scaled,y_train)\n",
    "    \n",
    "    X_test_scaled = scaler.transform(X_test)\n",
    "    yhat_nn9 = nn9.predict(X_test_scaled).reshape(-1,1)\n",
    "    yhat_nn10 = nn10.predict(X_test_scaled).reshape(-1,1)\n",
    "    yhat_nn11 = nn11.predict(X_test_scaled).reshape(-1,1)\n",
    "    yhat_nn12 = nn12.predict(X_test_scaled).reshape(-1,1)\n",
    "    yhat_nn13 = nn13.predict(X_test_scaled).reshape(-1,1)\n",
    "    yhat_abc100 = abc100.predict(X_test_scaled).reshape(-1,1)\n",
    "    \n",
    "    \n",
    "    acc_rt[i,0] = metrics.accuracy_score(y_test,yhat_nn9)\n",
    "    acc_rt[i,1] = metrics.accuracy_score(y_test,yhat_nn10)\n",
    "    acc_rt[i,2] = metrics.accuracy_score(y_test,yhat_nn11)\n",
    "    acc_rt[i,3] = metrics.accuracy_score(y_test,yhat_nn12)\n",
    "    acc_rt[i,4] = metrics.accuracy_score(y_test,yhat_nn13)\n",
    "    acc_rt[i,5] = metrics.accuracy_score(y_test,yhat_abc100)\n",
    "    \n",
    "    i = i+1\n",
    "    \n",
    "    \n",
    "fig = plt.figure()\n",
    "plt.boxplot(acc_rt)\n",
    "print(acc_rt)"
   ]
  },
  {
   "cell_type": "code",
   "execution_count": null,
   "metadata": {},
   "outputs": [],
   "source": []
  }
 ],
 "metadata": {
  "kernelspec": {
   "display_name": "Python 3",
   "language": "python",
   "name": "python3"
  },
  "language_info": {
   "codemirror_mode": {
    "name": "ipython",
    "version": 3
   },
   "file_extension": ".py",
   "mimetype": "text/x-python",
   "name": "python",
   "nbconvert_exporter": "python",
   "pygments_lexer": "ipython3",
   "version": "3.6.5"
  }
 },
 "nbformat": 4,
 "nbformat_minor": 2
}
