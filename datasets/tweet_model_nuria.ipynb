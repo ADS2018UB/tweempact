{
 "cells": [
  {
   "cell_type": "code",
   "execution_count": 1,
   "metadata": {},
   "outputs": [
    {
     "name": "stderr",
     "output_type": "stream",
     "text": [
      "C:\\Users\\Nuria\\Anaconda3\\lib\\site-packages\\sklearn\\cross_validation.py:41: DeprecationWarning: This module was deprecated in version 0.18 in favor of the model_selection module into which all the refactored classes and functions are moved. Also note that the interface of the new CV iterators are different from that of this module. This module will be removed in 0.20.\n",
      "  \"This module will be removed in 0.20.\", DeprecationWarning)\n",
      "C:\\Users\\Nuria\\Anaconda3\\lib\\site-packages\\sklearn\\grid_search.py:42: DeprecationWarning: This module was deprecated in version 0.18 in favor of the model_selection module into which all the refactored classes and functions are moved. This module will be removed in 0.20.\n",
      "  DeprecationWarning)\n"
     ]
    }
   ],
   "source": [
    "import pandas as pd\n",
    "import numpy as np\n",
    "import matplotlib.pyplot as plt\n",
    "\n",
    "from sklearn import model_selection, linear_model, ensemble, svm, tree, metrics, grid_search\n",
    "from sklearn.ensemble import RandomForestClassifier\n",
    "from sklearn.preprocessing import StandardScaler\n",
    "from sklearn.naive_bayes import BernoulliNB\n",
    "from sklearn.naive_bayes import GaussianNB\n",
    "from sklearn import neighbors\n",
    "from sklearn.ensemble import ExtraTreesClassifier\n",
    "from sklearn.ensemble import AdaBoostClassifier\n",
    "from sklearn.ensemble import GradientBoostingClassifier\n",
    "from sklearn.ensemble import GradientBoostingRegressor\n",
    "from sklearn.cluster import KMeans\n",
    "from sklearn.neural_network import MLPClassifier"
   ]
  },
  {
   "cell_type": "code",
   "execution_count": 2,
   "metadata": {},
   "outputs": [],
   "source": [
    "X = pd.read_csv(\"X_tweet_nuria.csv\")\n",
    "y_fc = pd.read_csv(\"y_fc_tweet_nuria.csv\", header = None)\n",
    "y_rt = pd.read_csv(\"y_rt_tweet_nuria.csv\", header = None)"
   ]
  },
  {
   "cell_type": "code",
   "execution_count": 3,
   "metadata": {},
   "outputs": [],
   "source": [
    "y_fc = np.array(y_fc)\n",
    "y_rt = np.array(y_rt)\n",
    "X = np.array(X)"
   ]
  },
  {
   "cell_type": "code",
   "execution_count": 4,
   "metadata": {},
   "outputs": [
    {
     "name": "stdout",
     "output_type": "stream",
     "text": [
      "[18  0  4 ...  6 11  0]\n",
      "[4 0 2 ... 1 1 0]\n"
     ]
    }
   ],
   "source": [
    "y_fc = np.concatenate(y_fc)\n",
    "y_rt = np.concatenate(y_rt)\n",
    "print(y_fc)\n",
    "print(y_rt)"
   ]
  },
  {
   "cell_type": "code",
   "execution_count": 5,
   "metadata": {},
   "outputs": [],
   "source": [
    "class segmenta():\n",
    "    \n",
    "    def __init__(self):\n",
    "        self.intervals = {}\n",
    "    \n",
    "    def transform(self,y):\n",
    "        k, z = 0, 0\n",
    "        for a, b in [[20,1],\n",
    "                     [100,10],\n",
    "                     [1000,50],\n",
    "                     [10000,500],\n",
    "                     [50000,5000]]: \n",
    "            for i in np.arange(z,a,b):\n",
    "                self.intervals[k] = [i,i+b-1]\n",
    "                k+=1\n",
    "            z = a\n",
    "        self.intervals[k] = [50000,99999999]\n",
    "\n",
    "        y = np.reshape(y.values, (-1,1))\n",
    "        for j in self.intervals:\n",
    "            c = self.intervals[j]\n",
    "            idx = np.where(np.logical_and(y>=c[0],y<=c[1]))[0]\n",
    "            y[idx] = j\n",
    "        return y"
   ]
  },
  {
   "cell_type": "code",
   "execution_count": 6,
   "metadata": {},
   "outputs": [],
   "source": [
    "seg = segmenta()\n",
    "y_fc = seg.transform(pd.DataFrame(y_fc))\n",
    "y_rt = seg.transform(pd.DataFrame(y_rt))"
   ]
  },
  {
   "cell_type": "code",
   "execution_count": 7,
   "metadata": {},
   "outputs": [
    {
     "name": "stdout",
     "output_type": "stream",
     "text": [
      "18\n"
     ]
    },
    {
     "data": {
      "text/plain": [
       "[18, 18]"
      ]
     },
     "execution_count": 7,
     "metadata": {},
     "output_type": "execute_result"
    }
   ],
   "source": [
    "y_fc = y_fc.T[0]\n",
    "y_rt = y_rt.T[0]\n",
    "print(y_fc[0])\n",
    "seg.intervals[y_fc[0]]"
   ]
  },
  {
   "cell_type": "code",
   "execution_count": 14,
   "metadata": {},
   "outputs": [
    {
     "name": "stdout",
     "output_type": "stream",
     "text": [
      "[0, 0]\n",
      "[2058 1004  397  186    0  114   79   55    0   38   31   28    0   26\n",
      "   21   18   17    0    9    7   10    0    9    4    5    0   37   21\n",
      "   22   14    0    6    2    5    0    6   15    5    0    4    5    2\n",
      "    0    4    1    3    0    0    3    3    2    0    1    0    1    0\n",
      "    1    0    0    6    0    2    0    1    0    0    0    0    0    0\n",
      "    0    0    1]\n"
     ]
    },
    {
     "data": {
      "image/png": "[encoded data removed]",
      "text/plain": [
       "<Figure size 432x288 with 1 Axes>"
      ]
     },
     "metadata": {},
     "output_type": "display_data"
    }
   ],
   "source": [
    "# Calculem els pesos\n",
    "## Necessitem la frequencia de cada interval\n",
    "i = 0\n",
    "print(seg.intervals[i])\n",
    "#np.count(np.where(y_fc==seg.intervals[i]))\n",
    "hist, bin_edges = np.histogram(y_fc, len(seg.intervals))\n",
    "print(hist)\n",
    "plt.hist(y_fc, bins=bin_edges)\n",
    "plt.show()"
   ]
  },
  {
   "cell_type": "code",
   "execution_count": null,
   "metadata": {},
   "outputs": [],
   "source": [
    "#parameters = {'class_weight' : [{1:0.01},{1:0.1},{1:1},{1:10},{1:100}], 'C':[0.01,0.1,1.,10.,100.]}"
   ]
  },
  {
   "cell_type": "code",
   "execution_count": 8,
   "metadata": {},
   "outputs": [],
   "source": [
    "cv = model_selection.KFold(n_splits = 5, shuffle=True, random_state=42)\n",
    "cv.get_n_splits(X)\n",
    "\n",
    "\n",
    "acc_rt = np.zeros((10,6))\n",
    "acc_fc = np.zeros((10,1))\n",
    "\n",
    "# Models que millors resultats donen son els seguents:\n",
    "nn10 = neighbors.KNeighborsClassifier(n_neighbors=10) #rt\n",
    "#nn10 = model_selection.GridSearchCV(nn10, parameters, scoring='precision_macro')\n",
    "nn12 = neighbors.KNeighborsClassifier(n_neighbors=12) #rt\n",
    "#nn12 = model_selection.GridSearchCV(nn12, parameters, scoring='precision_macro')\n",
    "abc100 = AdaBoostClassifier(n_estimators=100)  #rt i fc\n",
    "#abc100 = model_selection.GridSearchCV(abc100, parameters, scoring='precision_macro')\n",
    "\n",
    "#Afegim tambe:\n",
    "nn9 = neighbors.KNeighborsClassifier(n_neighbors=9) #rt\n",
    "#nn9 = model_selection.GridSearchCV(nn9, parameters, scoring='precision_macro')\n",
    "nn11 = neighbors.KNeighborsClassifier(n_neighbors=11) #rt\n",
    "#nn11 = model_selection.GridSearchCV(nn11, parameters, scoring='precision_macro')\n",
    "nn13 = neighbors.KNeighborsClassifier(n_neighbors=13) #rt\n",
    "#nn13 = model_selection.GridSearchCV(nn13, parameters, scoring='precision_macro')"
   ]
  },
  {
   "cell_type": "code",
   "execution_count": 9,
   "metadata": {},
   "outputs": [
    {
     "name": "stdout",
     "output_type": "stream",
     "text": [
      "[[0.5034965  0.5034965 ]\n",
      " [0.46386946 0.46386946]\n",
      " [0.45454545 0.45454545]\n",
      " [0.5011655  0.5011655 ]\n",
      " [0.46853147 0.47086247]\n",
      " [0.45687646 0.45454545]\n",
      " [0.48717949 0.48951049]\n",
      " [0.5011655  0.5011655 ]\n",
      " [0.46153846 0.46153846]\n",
      " [0.49299065 0.49299065]]\n"
     ]
    },
    {
     "data": {
      "image/png": "[encoded data removed]",
      "text/plain": [
       "<Figure size 432x288 with 1 Axes>"
      ]
     },
     "metadata": {},
     "output_type": "display_data"
    }
   ],
   "source": [
    "i = 0\n",
    "for train_idx, test_idx in cv.split(X):\n",
    "    X_train,y_train = X[train_idx,:],y_fc[train_idx]\n",
    "    X_test,y_test = X[test_idx,:],y_fc[test_idx]\n",
    "    \n",
    "    scaler = StandardScaler()\n",
    "    X_train_scaled=scaler.fit_transform(X_train)\n",
    "    X_test_scaled = scaler.transform(X_test)\n",
    "    \n",
    "    #abc100\n",
    "    abc100.fit(X_train_scaled,y_train)\n",
    "    yhat_abc100 = abc100.predict(X_test_scaled).reshape(-1,1)\n",
    "    acc_fc[i,0] = metrics.accuracy_score(y_test,yhat_abc100)\n",
    "\n",
    "\n",
    "    i = i+1\n",
    "    \n",
    "fig = plt.figure()\n",
    "plt.boxplot(acc_fc)\n",
    "print(acc_fc)"
   ]
  },
  {
   "cell_type": "code",
   "execution_count": 11,
   "metadata": {},
   "outputs": [
    {
     "name": "stdout",
     "output_type": "stream",
     "text": [
      "[[0.78787879 0.78787879 0.78787879 0.78787879 0.78787879 0.78787879\n",
      "  0.78321678]\n",
      " [0.78554779 0.78321678 0.78321678 0.78321678 0.78321678 0.78321678\n",
      "  0.78321678]\n",
      " [0.79254079 0.79254079 0.79254079 0.79254079 0.79254079 0.79254079\n",
      "  0.79254079]\n",
      " [0.78088578 0.78088578 0.78088578 0.78088578 0.78088578 0.78088578\n",
      "  0.78088578]\n",
      " [0.76923077 0.76689977 0.76689977 0.76689977 0.76689977 0.76689977\n",
      "  0.76689977]\n",
      " [0.75990676 0.75990676 0.75990676 0.75990676 0.75990676 0.75757576\n",
      "  0.75990676]\n",
      " [0.79254079 0.79254079 0.79254079 0.79254079 0.79254079 0.79487179\n",
      "  0.79254079]\n",
      " [0.7995338  0.7995338  0.7995338  0.7995338  0.7995338  0.7972028\n",
      "  0.7972028 ]\n",
      " [0.79487179 0.79254079 0.79487179 0.79487179 0.79487179 0.79254079\n",
      "  0.79254079]\n",
      " [0.77570093 0.77570093 0.77570093 0.77570093 0.77570093 0.77336449\n",
      "  0.77336449]]\n"
     ]
    },
    {
     "data": {
      "image/png": "[encoded data removed]",
      "text/plain": [
       "<Figure size 432x288 with 1 Axes>"
      ]
     },
     "metadata": {},
     "output_type": "display_data"
    }
   ],
   "source": [
    "i = 0\n",
    "for train_idx, test_idx in cv.split(X):\n",
    "    X_train,y_train = X[train_idx,:],y_rt[train_idx]\n",
    "    X_test,y_test = X[test_idx,:],y_rt[test_idx]\n",
    "    \n",
    "    scaler = StandardScaler()\n",
    "    X_train_scaled=scaler.fit_transform(X_train)\n",
    "    \n",
    "    nn9.fit(X_train_scaled,y_train)\n",
    "    nn10.fit(X_train_scaled,y_train)\n",
    "    nn11.fit(X_train_scaled,y_train)\n",
    "    nn12.fit(X_train_scaled,y_train)\n",
    "    nn13.fit(X_train_scaled,y_train)\n",
    "    abc100.fit(X_train_scaled,y_train)\n",
    "    \n",
    "    X_test_scaled = scaler.transform(X_test)\n",
    "    yhat_nn9 = nn9.predict(X_test_scaled).reshape(-1,1)\n",
    "    yhat_nn10 = nn10.predict(X_test_scaled).reshape(-1,1)\n",
    "    yhat_nn11 = nn11.predict(X_test_scaled).reshape(-1,1)\n",
    "    yhat_nn12 = nn12.predict(X_test_scaled).reshape(-1,1)\n",
    "    yhat_nn13 = nn13.predict(X_test_scaled).reshape(-1,1)\n",
    "    yhat_abc100 = abc100.predict(X_test_scaled).reshape(-1,1)\n",
    "    \n",
    "    \n",
    "    acc_rt[i,0] = metrics.accuracy_score(y_test,yhat_nn9)\n",
    "    acc_rt[i,1] = metrics.accuracy_score(y_test,yhat_nn10)\n",
    "    acc_rt[i,2] = metrics.accuracy_score(y_test,yhat_nn11)\n",
    "    acc_rt[i,3] = metrics.accuracy_score(y_test,yhat_nn12)\n",
    "    acc_rt[i,4] = metrics.accuracy_score(y_test,yhat_nn13)\n",
    "    acc_rt[i,5] = metrics.accuracy_score(y_test,yhat_abc100)\n",
    "    \n",
    "    i = i+1\n",
    "    \n",
    "    \n",
    "fig = plt.figure()\n",
    "plt.boxplot(acc_rt)\n",
    "print(acc_rt)"
   ]
  },
  {
   "cell_type": "code",
   "execution_count": null,
   "metadata": {},
   "outputs": [],
   "source": []
  }
 ],
 "metadata": {
  "kernelspec": {
   "display_name": "Python 3",
   "language": "python",
   "name": "python3"
  },
  "language_info": {
   "codemirror_mode": {
    "name": "ipython",
    "version": 3
   },
   "file_extension": ".py",
   "mimetype": "text/x-python",
   "name": "python",
   "nbconvert_exporter": "python",
   "pygments_lexer": "ipython3",
   "version": "3.6.5"
  }
 },
 "nbformat": 4,
 "nbformat_minor": 2
}
